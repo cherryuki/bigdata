{
 "cells": [
  {
   "cell_type": "markdown",
   "metadata": {},
   "source": [
    "**21-03-23 ML_DL 07_딥러닝기초 mnist(손글씨 데이터) (c)cherryuki (ji)**"
   ]
  },
  {
   "cell_type": "markdown",
   "metadata": {},
   "source": [
    "# 07. 딥러닝 기초 mnist(손글씨 데이터)"
   ]
  },
  {
   "cell_type": "code",
   "execution_count": 2,
   "metadata": {},
   "outputs": [],
   "source": [
    "from tensorflow.keras.datasets import mnist #mnist 데이터셋\n",
    "import tensorflow.keras.utils as utils #원핫인코딩\n",
    "from tensorflow.keras.models import Sequential #모델\n",
    "from tensorflow.keras.layers import Dense, Activation #model.add 시\n",
    "from matplotlib import pyplot as plt\n",
    "import numpy as np"
   ]
  },
  {
   "cell_type": "code",
   "execution_count": 3,
   "metadata": {},
   "outputs": [],
   "source": [
    "#1. 데이터셋 준비하기\n",
    "##훈련셋, 검증셋 분리\n",
    "(X_train, Y_train), (X_test, Y_test) = mnist.load_data()"
   ]
  },
  {
   "cell_type": "code",
   "execution_count": 3,
   "metadata": {},
   "outputs": [
    {
     "data": {
      "text/plain": [
       "((60000, 28, 28), (60000,), (10000, 28, 28), (10000,))"
      ]
     },
     "execution_count": 3,
     "metadata": {},
     "output_type": "execute_result"
    }
   ],
   "source": [
    "X_train.shape, Y_train.shape, X_test.shape, Y_test.shape"
   ]
  },
  {
   "cell_type": "code",
   "execution_count": 4,
   "metadata": {},
   "outputs": [
    {
     "data": {
      "text/plain": [
       "array([[  0,   0,   0,   0,   0,   0,   0,   0,   0,   0,   0,   0,   0,\n",
       "          0,   0,   0,   0,   0,   0,   0,   0,   0,   0,   0,   0,   0,\n",
       "          0,   0],\n",
       "       [  0,   0,   0,   0,   0,   0,   0,   0,   0,   0,   0,   0,   0,\n",
       "          0,   0,   0,   0,   0,   0,   0,   0,   0,   0,   0,   0,   0,\n",
       "          0,   0],\n",
       "       [  0,   0,   0,   0,   0,   0,   0,   0,   0,   0,   0,   0,   0,\n",
       "          0,   0,   0,   0,   0,   0,   0,   0,   0,   0,   0,   0,   0,\n",
       "          0,   0],\n",
       "       [  0,   0,   0,   0,   0,   0,   0,   0,   0,   0,   0,   0,   0,\n",
       "          0,   0,   0,   0,   0,   0,   0,   0,   0,   0,   0,   0,   0,\n",
       "          0,   0],\n",
       "       [  0,   0,   0,   0,   0,   0,   0,   0,   0,   0,   0,   0,   0,\n",
       "          0,   0,   0,   0,   0,   0,   0,   0,   0,   0,   0,   0,   0,\n",
       "          0,   0],\n",
       "       [  0,   0,   0,   0,   0,   0,   0,   0,   0,   0,   0,   0,   3,\n",
       "         18,  18,  18, 126, 136, 175,  26, 166, 255, 247, 127,   0,   0,\n",
       "          0,   0],\n",
       "       [  0,   0,   0,   0,   0,   0,   0,   0,  30,  36,  94, 154, 170,\n",
       "        253, 253, 253, 253, 253, 225, 172, 253, 242, 195,  64,   0,   0,\n",
       "          0,   0],\n",
       "       [  0,   0,   0,   0,   0,   0,   0,  49, 238, 253, 253, 253, 253,\n",
       "        253, 253, 253, 253, 251,  93,  82,  82,  56,  39,   0,   0,   0,\n",
       "          0,   0],\n",
       "       [  0,   0,   0,   0,   0,   0,   0,  18, 219, 253, 253, 253, 253,\n",
       "        253, 198, 182, 247, 241,   0,   0,   0,   0,   0,   0,   0,   0,\n",
       "          0,   0],\n",
       "       [  0,   0,   0,   0,   0,   0,   0,   0,  80, 156, 107, 253, 253,\n",
       "        205,  11,   0,  43, 154,   0,   0,   0,   0,   0,   0,   0,   0,\n",
       "          0,   0],\n",
       "       [  0,   0,   0,   0,   0,   0,   0,   0,   0,  14,   1, 154, 253,\n",
       "         90,   0,   0,   0,   0,   0,   0,   0,   0,   0,   0,   0,   0,\n",
       "          0,   0],\n",
       "       [  0,   0,   0,   0,   0,   0,   0,   0,   0,   0,   0, 139, 253,\n",
       "        190,   2,   0,   0,   0,   0,   0,   0,   0,   0,   0,   0,   0,\n",
       "          0,   0],\n",
       "       [  0,   0,   0,   0,   0,   0,   0,   0,   0,   0,   0,  11, 190,\n",
       "        253,  70,   0,   0,   0,   0,   0,   0,   0,   0,   0,   0,   0,\n",
       "          0,   0],\n",
       "       [  0,   0,   0,   0,   0,   0,   0,   0,   0,   0,   0,   0,  35,\n",
       "        241, 225, 160, 108,   1,   0,   0,   0,   0,   0,   0,   0,   0,\n",
       "          0,   0],\n",
       "       [  0,   0,   0,   0,   0,   0,   0,   0,   0,   0,   0,   0,   0,\n",
       "         81, 240, 253, 253, 119,  25,   0,   0,   0,   0,   0,   0,   0,\n",
       "          0,   0],\n",
       "       [  0,   0,   0,   0,   0,   0,   0,   0,   0,   0,   0,   0,   0,\n",
       "          0,  45, 186, 253, 253, 150,  27,   0,   0,   0,   0,   0,   0,\n",
       "          0,   0],\n",
       "       [  0,   0,   0,   0,   0,   0,   0,   0,   0,   0,   0,   0,   0,\n",
       "          0,   0,  16,  93, 252, 253, 187,   0,   0,   0,   0,   0,   0,\n",
       "          0,   0],\n",
       "       [  0,   0,   0,   0,   0,   0,   0,   0,   0,   0,   0,   0,   0,\n",
       "          0,   0,   0,   0, 249, 253, 249,  64,   0,   0,   0,   0,   0,\n",
       "          0,   0],\n",
       "       [  0,   0,   0,   0,   0,   0,   0,   0,   0,   0,   0,   0,   0,\n",
       "          0,  46, 130, 183, 253, 253, 207,   2,   0,   0,   0,   0,   0,\n",
       "          0,   0],\n",
       "       [  0,   0,   0,   0,   0,   0,   0,   0,   0,   0,   0,   0,  39,\n",
       "        148, 229, 253, 253, 253, 250, 182,   0,   0,   0,   0,   0,   0,\n",
       "          0,   0],\n",
       "       [  0,   0,   0,   0,   0,   0,   0,   0,   0,   0,  24, 114, 221,\n",
       "        253, 253, 253, 253, 201,  78,   0,   0,   0,   0,   0,   0,   0,\n",
       "          0,   0],\n",
       "       [  0,   0,   0,   0,   0,   0,   0,   0,  23,  66, 213, 253, 253,\n",
       "        253, 253, 198,  81,   2,   0,   0,   0,   0,   0,   0,   0,   0,\n",
       "          0,   0],\n",
       "       [  0,   0,   0,   0,   0,   0,  18, 171, 219, 253, 253, 253, 253,\n",
       "        195,  80,   9,   0,   0,   0,   0,   0,   0,   0,   0,   0,   0,\n",
       "          0,   0],\n",
       "       [  0,   0,   0,   0,  55, 172, 226, 253, 253, 253, 253, 244, 133,\n",
       "         11,   0,   0,   0,   0,   0,   0,   0,   0,   0,   0,   0,   0,\n",
       "          0,   0],\n",
       "       [  0,   0,   0,   0, 136, 253, 253, 253, 212, 135, 132,  16,   0,\n",
       "          0,   0,   0,   0,   0,   0,   0,   0,   0,   0,   0,   0,   0,\n",
       "          0,   0],\n",
       "       [  0,   0,   0,   0,   0,   0,   0,   0,   0,   0,   0,   0,   0,\n",
       "          0,   0,   0,   0,   0,   0,   0,   0,   0,   0,   0,   0,   0,\n",
       "          0,   0],\n",
       "       [  0,   0,   0,   0,   0,   0,   0,   0,   0,   0,   0,   0,   0,\n",
       "          0,   0,   0,   0,   0,   0,   0,   0,   0,   0,   0,   0,   0,\n",
       "          0,   0],\n",
       "       [  0,   0,   0,   0,   0,   0,   0,   0,   0,   0,   0,   0,   0,\n",
       "          0,   0,   0,   0,   0,   0,   0,   0,   0,   0,   0,   0,   0,\n",
       "          0,   0]], dtype=uint8)"
      ]
     },
     "execution_count": 4,
     "metadata": {},
     "output_type": "execute_result"
    }
   ],
   "source": [
    "X_train[0]"
   ]
  },
  {
   "cell_type": "code",
   "execution_count": 5,
   "metadata": {},
   "outputs": [
    {
     "data": {
      "text/plain": [
       "<matplotlib.image.AxesImage at 0x15aa3cf1670>"
      ]
     },
     "execution_count": 5,
     "metadata": {},
     "output_type": "execute_result"
    },
    {
     "data": {
      "image/png": "[encoded data removed]",
      "text/plain": [
       "<Figure size 432x288 with 1 Axes>"
      ]
     },
     "metadata": {
      "needs_background": "light"
     },
     "output_type": "display_data"
    }
   ],
   "source": [
    "plt.imshow(X_train[0])"
   ]
  },
  {
   "cell_type": "code",
   "execution_count": 6,
   "metadata": {},
   "outputs": [
    {
     "data": {
      "text/plain": [
       "5"
      ]
     },
     "execution_count": 6,
     "metadata": {},
     "output_type": "execute_result"
    }
   ],
   "source": [
    "Y_train[0]"
   ]
  },
  {
   "cell_type": "code",
   "execution_count": 7,
   "metadata": {},
   "outputs": [],
   "source": [
    "#훈련셋과 검증셋 분리(X_train, Y_train을 검증셋과 훈련셋으로 분리)\n",
    "X_val = X_train[50000:]\n",
    "Y_val = Y_train[50000:]\n",
    "X_train = X_train[:50000]\n",
    "Y_train = Y_train[:50000]"
   ]
  },
  {
   "cell_type": "code",
   "execution_count": 8,
   "metadata": {},
   "outputs": [
    {
     "data": {
      "text/plain": [
       "((50000, 28, 28), (50000,))"
      ]
     },
     "execution_count": 8,
     "metadata": {},
     "output_type": "execute_result"
    }
   ],
   "source": [
    "#훈련셋; model 학습시 사용\n",
    "X_train.shape, Y_train.shape"
   ]
  },
  {
   "cell_type": "code",
   "execution_count": 9,
   "metadata": {},
   "outputs": [
    {
     "data": {
      "text/plain": [
       "(10000, 10000)"
      ]
     },
     "execution_count": 9,
     "metadata": {},
     "output_type": "execute_result"
    }
   ],
   "source": [
    "#검증셋; model 학습시 사용\n",
    "len(X_val), len(Y_val)"
   ]
  },
  {
   "cell_type": "code",
   "execution_count": 10,
   "metadata": {},
   "outputs": [
    {
     "data": {
      "text/plain": [
       "(10000, 10000)"
      ]
     },
     "execution_count": 10,
     "metadata": {},
     "output_type": "execute_result"
    }
   ],
   "source": [
    "#시험셋(test set); model 평가시 사용\n",
    "len(X_test), len(Y_test)"
   ]
  },
  {
   "cell_type": "code",
   "execution_count": 11,
   "metadata": {},
   "outputs": [],
   "source": [
    "#1차원으로 바꾸고, scale 맞춰야 함\n",
    "#normalize하기 위해 색상값(255.0)으로 나눔 #28*28=784\n",
    "X_train = X_train.reshape(50000, 784).astype('float32') / 255.0\n",
    "X_val = X_val.reshape(10000, 28*28).astype('float32') / 255.0\n",
    "X_test = X_test.reshape(10000, 28*28).astype('float32') / 255.0"
   ]
  },
  {
   "cell_type": "code",
   "execution_count": 12,
   "metadata": {},
   "outputs": [
    {
     "data": {
      "text/plain": [
       "((50000, 784), (10000, 784), (10000, 784))"
      ]
     },
     "execution_count": 12,
     "metadata": {},
     "output_type": "execute_result"
    }
   ],
   "source": [
    "X_train.shape, X_val.shape, X_test.shape"
   ]
  },
  {
   "cell_type": "code",
   "execution_count": 13,
   "metadata": {},
   "outputs": [],
   "source": [
    "#훈련셋과 검증셋 700개, 300개씩 가져옴\n",
    "train_rand_idx = np.random.choice(50000, 700)\n",
    "val_rand_idx = np.random.choice(10000, 300)\n",
    "\n",
    "X_train = X_train[train_rand_idx]\n",
    "Y_train = Y_train[train_rand_idx]\n",
    "X_val = X_val[val_rand_idx]\n",
    "Y_val = Y_val[val_rand_idx]"
   ]
  },
  {
   "cell_type": "code",
   "execution_count": 14,
   "metadata": {},
   "outputs": [
    {
     "data": {
      "text/plain": [
       "<matplotlib.image.AxesImage at 0x15aa3569f70>"
      ]
     },
     "execution_count": 14,
     "metadata": {},
     "output_type": "execute_result"
    },
    {
     "data": {
      "image/png": "[encoded data removed]",
      "text/plain": [
       "<Figure size 432x288 with 1 Axes>"
      ]
     },
     "metadata": {
      "needs_background": "light"
     },
     "output_type": "display_data"
    }
   ],
   "source": [
    "plt.imshow(X_train[0].reshape(28,28))"
   ]
  },
  {
   "cell_type": "code",
   "execution_count": 15,
   "metadata": {},
   "outputs": [
    {
     "data": {
      "text/plain": [
       "8"
      ]
     },
     "execution_count": 15,
     "metadata": {},
     "output_type": "execute_result"
    }
   ],
   "source": [
    "Y_train[0]"
   ]
  },
  {
   "cell_type": "code",
   "execution_count": 16,
   "metadata": {},
   "outputs": [
    {
     "data": {
      "text/plain": [
       "((700,), (300,), (10000,))"
      ]
     },
     "execution_count": 16,
     "metadata": {},
     "output_type": "execute_result"
    }
   ],
   "source": [
    "Y_train.shape, Y_val.shape, Y_test.shape"
   ]
  },
  {
   "cell_type": "code",
   "execution_count": 17,
   "metadata": {},
   "outputs": [],
   "source": [
    "#원 핫 인코딩(라벨링 전환)\n",
    "#1 -> 0 1 0 0 0 0 0 0 0 0\n",
    "#9 -> 0 0 0 0 0 0 0 0 0 9\n",
    "Y_train = utils.to_categorical(Y_train)\n",
    "Y_val = utils.to_categorical(Y_val)\n",
    "Y_test = utils.to_categorical(Y_test)"
   ]
  },
  {
   "cell_type": "code",
   "execution_count": 18,
   "metadata": {},
   "outputs": [
    {
     "data": {
      "text/plain": [
       "array([0., 0., 0., 0., 0., 0., 0., 0., 1., 0.], dtype=float32)"
      ]
     },
     "execution_count": 18,
     "metadata": {},
     "output_type": "execute_result"
    }
   ],
   "source": [
    "Y_train[0]\n",
    "#데이터 전처리 완료"
   ]
  },
  {
   "cell_type": "markdown",
   "metadata": {},
   "source": [
    "## 1. 과적합(Overfitting) 발생"
   ]
  },
  {
   "cell_type": "code",
   "execution_count": 21,
   "metadata": {},
   "outputs": [],
   "source": [
    "#2. 모델 구성하기\n",
    "model = Sequential()\n",
    "model.add(Dense(units=2, input_dim=784, activation='relu'))\n",
    "model.add(Dense(units=10, activation='softmax'))\n",
    "\n",
    "#3. 모델 학습과정 설정\n",
    "model.compile(loss='categorical_crossentropy', optimizer='sgd', \n",
    "              metrics=['accuracy'])\n",
    "\n",
    "#4. 모델 학습시키기\n",
    "hist = model.fit(X_train, Y_train, epochs=1000, batch_size=10, validation_data=(X_val,Y_val), verbose=0)"
   ]
  },
  {
   "cell_type": "code",
   "execution_count": 22,
   "metadata": {},
   "outputs": [
    {
     "data": {
      "text/plain": [
       "dict_keys(['loss', 'accuracy', 'val_loss', 'val_accuracy'])"
      ]
     },
     "execution_count": 22,
     "metadata": {},
     "output_type": "execute_result"
    }
   ],
   "source": [
    "#5. 모델 학습과정 표시 및 평가\n",
    "hist.history.keys()"
   ]
  },
  {
   "cell_type": "code",
   "execution_count": 27,
   "metadata": {},
   "outputs": [
    {
     "data": {
      "image/png": "[encoded data removed]",
      "text/plain": [
       "<Figure size 432x288 with 2 Axes>"
      ]
     },
     "metadata": {
      "needs_background": "light"
     },
     "output_type": "display_data"
    }
   ],
   "source": [
    "#학습과정 표시하기\n",
    "fig, loss_ax = plt.subplots()\n",
    "loss_ax.plot(hist.history['loss'], 'y', label='train loss')\n",
    "loss_ax.plot(hist.history['val_loss'], 'g', label='val loss')\n",
    "loss_ax.set_xlabel('epochs')\n",
    "loss_ax.set_ylabel('loss')\n",
    "\n",
    "acc_ax = loss_ax.twinx() #x축을 공유하는 acc_ax\n",
    "acc_ax.plot(hist.history['accuracy'], 'b', label='train accuracy')\n",
    "acc_ax.plot(hist.history['val_accuracy'], 'r', label='val accuracy')\n",
    "acc_ax.set_ylabel('accuracy')\n",
    "\n",
    "loss_ax.legend(loc='upper left')\n",
    "acc_ax.legend(loc='lower left')\n",
    "plt.show()\n",
    "#학습 데이터에서는 어느정도 loss도 줄고 accuracy도 증가하나 \n",
    "##검증 데이터에서는 결과 좋지 못한 편(과적합 발생)"
   ]
  },
  {
   "cell_type": "code",
   "execution_count": 28,
   "metadata": {},
   "outputs": [
    {
     "name": "stdout",
     "output_type": "stream",
     "text": [
      "313/313 [==============================] - 0s 1ms/step - loss: 2.5514 - accuracy: 0.5089\n"
     ]
    }
   ],
   "source": [
    "#모델 평가하기\n",
    "loss_and_metrics = model.evaluate(X_test, Y_test, batch_size=32)"
   ]
  },
  {
   "cell_type": "code",
   "execution_count": 29,
   "metadata": {},
   "outputs": [
    {
     "name": "stdout",
     "output_type": "stream",
     "text": [
      "loss: 2.5513694286346436\n",
      "accuracy: 0.508899986743927\n"
     ]
    }
   ],
   "source": [
    "print(\"loss:\", loss_and_metrics[0])\n",
    "print(\"accuracy:\", loss_and_metrics[1])"
   ]
  },
  {
   "cell_type": "code",
   "execution_count": 33,
   "metadata": {},
   "outputs": [],
   "source": [
    "#6. 모델 저장 및 로드하기\n",
    "model.save('model/mnist.h5')"
   ]
  },
  {
   "cell_type": "code",
   "execution_count": 31,
   "metadata": {},
   "outputs": [
    {
     "name": "stdout",
     "output_type": "stream",
     "text": [
      "Model: \"sequential_1\"\n",
      "_________________________________________________________________\n",
      "Layer (type)                 Output Shape              Param #   \n",
      "=================================================================\n",
      "dense_2 (Dense)              (None, 2)                 1570      \n",
      "_________________________________________________________________\n",
      "dense_3 (Dense)              (None, 10)                30        \n",
      "=================================================================\n",
      "Total params: 1,600\n",
      "Trainable params: 1,600\n",
      "Non-trainable params: 0\n",
      "_________________________________________________________________\n"
     ]
    }
   ],
   "source": [
    "model.summary()"
   ]
  },
  {
   "cell_type": "code",
   "execution_count": 34,
   "metadata": {},
   "outputs": [
    {
     "name": "stdout",
     "output_type": "stream",
     "text": [
      "Model: \"sequential_1\"\n",
      "_________________________________________________________________\n",
      "Layer (type)                 Output Shape              Param #   \n",
      "=================================================================\n",
      "dense_2 (Dense)              (None, 2)                 1570      \n",
      "_________________________________________________________________\n",
      "dense_3 (Dense)              (None, 10)                30        \n",
      "=================================================================\n",
      "Total params: 1,600\n",
      "Trainable params: 1,600\n",
      "Non-trainable params: 0\n",
      "_________________________________________________________________\n"
     ]
    }
   ],
   "source": [
    "#모델 로드\n",
    "from tensorflow.keras.models import load_model\n",
    "model2 = load_model('model/mnist.h5')\n",
    "model2.summary()"
   ]
  },
  {
   "cell_type": "code",
   "execution_count": 36,
   "metadata": {},
   "outputs": [
    {
     "data": {
      "text/plain": [
       "<matplotlib.image.AxesImage at 0x15aa54a1b20>"
      ]
     },
     "execution_count": 36,
     "metadata": {},
     "output_type": "execute_result"
    },
    {
     "data": {
      "image/png": "[encoded data removed]",
      "text/plain": [
       "<Figure size 432x288 with 1 Axes>"
      ]
     },
     "metadata": {
      "needs_background": "light"
     },
     "output_type": "display_data"
    }
   ],
   "source": [
    "plt.imshow(X_train[5].reshape(28,28))"
   ]
  },
  {
   "cell_type": "code",
   "execution_count": 37,
   "metadata": {},
   "outputs": [
    {
     "data": {
      "text/plain": [
       "6"
      ]
     },
     "execution_count": 37,
     "metadata": {},
     "output_type": "execute_result"
    }
   ],
   "source": [
    "model2.predict(X_train[5].reshape(1,28*28)).argmax()"
   ]
  },
  {
   "cell_type": "code",
   "execution_count": 43,
   "metadata": {},
   "outputs": [
    {
     "data": {
      "text/plain": [
       "<matplotlib.image.AxesImage at 0x15aa56ab550>"
      ]
     },
     "execution_count": 43,
     "metadata": {},
     "output_type": "execute_result"
    },
    {
     "data": {
      "image/png": "[encoded data removed]",
      "text/plain": [
       "<Figure size 432x288 with 1 Axes>"
      ]
     },
     "metadata": {
      "needs_background": "light"
     },
     "output_type": "display_data"
    }
   ],
   "source": [
    "plt.imshow(X_val[2].reshape(28,28))"
   ]
  },
  {
   "cell_type": "code",
   "execution_count": 44,
   "metadata": {},
   "outputs": [
    {
     "data": {
      "text/plain": [
       "7"
      ]
     },
     "execution_count": 44,
     "metadata": {},
     "output_type": "execute_result"
    }
   ],
   "source": [
    "model2.predict(X_val[2].reshape(1,784)).argmax()"
   ]
  },
  {
   "cell_type": "code",
   "execution_count": 46,
   "metadata": {},
   "outputs": [
    {
     "data": {
      "text/plain": [
       "array([7], dtype=int64)"
      ]
     },
     "execution_count": 46,
     "metadata": {},
     "output_type": "execute_result"
    }
   ],
   "source": [
    "model2.predict_classes(X_val[2].reshape(1,784))"
   ]
  },
  {
   "cell_type": "markdown",
   "metadata": {},
   "source": [
    "**21-03-24 ML_DL 07_딥러닝기초 mnist(손글씨 데이터) (c)cherryuki (ji)**"
   ]
  },
  {
   "cell_type": "markdown",
   "metadata": {},
   "source": [
    "## 콜백함수\n",
    "- epoch 실행할 때마다 자동으로 실행되는 함수"
   ]
  },
  {
   "cell_type": "code",
   "execution_count": 5,
   "metadata": {},
   "outputs": [
    {
     "name": "stdout",
     "output_type": "stream",
     "text": [
      "epoch:  0, loss:2.3002989292144775, val_loss:2.2961931228637695\n",
      "epoch: 10, loss:1.9269081354141235, val_loss:1.9438157081604004\n",
      "epoch: 20, loss:1.6928579807281494, val_loss:1.7298184633255005\n",
      "epoch: 30, loss:1.5415408611297607, val_loss:1.6021616458892822\n",
      "epoch: 40, loss:1.434111475944519, val_loss:1.524446964263916\n",
      "epoch: 50, loss:1.3631621599197388, val_loss:1.471590518951416\n",
      "epoch: 60, loss:1.3064935207366943, val_loss:1.4377118349075317\n",
      "epoch: 70, loss:1.2617461681365967, val_loss:1.4226945638656616\n",
      "epoch: 80, loss:1.2228072881698608, val_loss:1.3983312845230103\n",
      "epoch: 90, loss:1.1920177936553955, val_loss:1.3886382579803467\n",
      "epoch:100, loss:1.1658549308776855, val_loss:1.3798907995224\n",
      "epoch:110, loss:1.1383455991744995, val_loss:1.381088137626648\n",
      "epoch:120, loss:1.1146395206451416, val_loss:1.3825284242630005\n",
      "epoch:130, loss:1.0922274589538574, val_loss:1.3841112852096558\n",
      "epoch:140, loss:1.072922706604004, val_loss:1.3867363929748535\n",
      "epoch:150, loss:1.0515573024749756, val_loss:1.3883761167526245\n",
      "epoch:160, loss:1.0333631038665771, val_loss:1.3953191041946411\n",
      "epoch:170, loss:1.0156211853027344, val_loss:1.391271710395813\n",
      "epoch:180, loss:0.9988110065460205, val_loss:1.4087333679199219\n",
      "epoch:190, loss:0.9804255962371826, val_loss:1.4157776832580566\n",
      "epoch:200, loss:0.9644131660461426, val_loss:1.4245609045028687\n",
      "epoch:210, loss:0.9508559107780457, val_loss:1.4250171184539795\n",
      "epoch:220, loss:0.938812255859375, val_loss:1.4401775598526\n",
      "epoch:230, loss:0.9246049523353577, val_loss:1.4457846879959106\n",
      "epoch:240, loss:0.9125616550445557, val_loss:1.4714851379394531\n",
      "epoch:250, loss:0.9028586149215698, val_loss:1.467217206954956\n",
      "epoch:260, loss:0.8863174915313721, val_loss:1.466583013534546\n",
      "epoch:270, loss:0.879535973072052, val_loss:1.487738847732544\n",
      "epoch:280, loss:0.8667635917663574, val_loss:1.5191550254821777\n",
      "epoch:290, loss:0.8578560948371887, val_loss:1.5240453481674194\n",
      "epoch:300, loss:0.8485339283943176, val_loss:1.5119117498397827\n",
      "epoch:310, loss:0.8376327753067017, val_loss:1.555177092552185\n",
      "epoch:320, loss:0.8315075039863586, val_loss:1.5491915941238403\n",
      "epoch:330, loss:0.8196620345115662, val_loss:1.5633755922317505\n",
      "epoch:340, loss:0.8117036819458008, val_loss:1.571608304977417\n",
      "epoch:350, loss:0.8011239171028137, val_loss:1.604253888130188\n",
      "epoch:360, loss:0.7978039383888245, val_loss:1.5981014966964722\n",
      "epoch:370, loss:0.786476731300354, val_loss:1.6395026445388794\n",
      "epoch:380, loss:0.7774678468704224, val_loss:1.640785813331604\n",
      "epoch:390, loss:0.7710657715797424, val_loss:1.6550548076629639\n",
      "epoch:400, loss:0.7648404240608215, val_loss:1.6743571758270264\n",
      "epoch:410, loss:0.7585078477859497, val_loss:1.6904399394989014\n",
      "epoch:420, loss:0.7498618960380554, val_loss:1.7265679836273193\n",
      "epoch:430, loss:0.7420859336853027, val_loss:1.721705675125122\n",
      "epoch:440, loss:0.7330864667892456, val_loss:1.7404427528381348\n",
      "epoch:450, loss:0.728175699710846, val_loss:1.7489336729049683\n",
      "epoch:460, loss:0.7184265851974487, val_loss:1.7515525817871094\n",
      "epoch:470, loss:0.7115658521652222, val_loss:1.764386773109436\n",
      "epoch:480, loss:0.7085952162742615, val_loss:1.7849901914596558\n",
      "epoch:490, loss:0.7014984488487244, val_loss:1.811357855796814\n",
      "epoch:500, loss:0.6929532885551453, val_loss:1.8289929628372192\n",
      "epoch:510, loss:0.6874933242797852, val_loss:1.8302724361419678\n",
      "epoch:520, loss:0.6815407872200012, val_loss:1.883704662322998\n",
      "epoch:530, loss:0.676756739616394, val_loss:1.882470726966858\n",
      "epoch:540, loss:0.6714397072792053, val_loss:1.8858994245529175\n",
      "epoch:550, loss:0.6659669876098633, val_loss:1.9213138818740845\n",
      "epoch:560, loss:0.658949613571167, val_loss:1.950016736984253\n",
      "epoch:570, loss:0.6556555032730103, val_loss:1.951941728591919\n",
      "epoch:580, loss:0.6488757133483887, val_loss:1.920755386352539\n",
      "epoch:590, loss:0.6415985226631165, val_loss:1.9762359857559204\n",
      "epoch:600, loss:0.6409742832183838, val_loss:1.9710967540740967\n",
      "epoch:610, loss:0.6324470639228821, val_loss:1.9889811277389526\n",
      "epoch:620, loss:0.6304250955581665, val_loss:2.029050827026367\n",
      "epoch:630, loss:0.6249538064002991, val_loss:2.006035566329956\n",
      "epoch:640, loss:0.6190205812454224, val_loss:2.0464868545532227\n",
      "epoch:650, loss:0.6143612861633301, val_loss:2.091571569442749\n",
      "epoch:660, loss:0.6071866154670715, val_loss:2.1012463569641113\n",
      "epoch:670, loss:0.6043006777763367, val_loss:2.1173126697540283\n",
      "epoch:680, loss:0.599257230758667, val_loss:2.134438991546631\n",
      "epoch:690, loss:0.5955275297164917, val_loss:2.15390682220459\n",
      "epoch:700, loss:0.5893265008926392, val_loss:2.142665386199951\n",
      "epoch:710, loss:0.5857155919075012, val_loss:2.1502187252044678\n",
      "epoch:720, loss:0.5831103324890137, val_loss:2.144575357437134\n",
      "epoch:730, loss:0.5761286020278931, val_loss:2.180924415588379\n",
      "epoch:740, loss:0.5731156468391418, val_loss:2.2148232460021973\n",
      "epoch:750, loss:0.5700647234916687, val_loss:2.2300801277160645\n",
      "epoch:760, loss:0.564970850944519, val_loss:2.2488279342651367\n",
      "epoch:770, loss:0.5595447421073914, val_loss:2.2677154541015625\n",
      "epoch:780, loss:0.5573758482933044, val_loss:2.3086745738983154\n",
      "epoch:790, loss:0.5552987456321716, val_loss:2.3081257343292236\n",
      "epoch:800, loss:0.5504943132400513, val_loss:2.313028573989868\n",
      "epoch:810, loss:0.5447850823402405, val_loss:2.3296256065368652\n",
      "epoch:820, loss:0.5419266819953918, val_loss:2.3703246116638184\n",
      "epoch:830, loss:0.5384477972984314, val_loss:2.3788297176361084\n",
      "epoch:840, loss:0.535970151424408, val_loss:2.35603404045105\n",
      "epoch:850, loss:0.5292121767997742, val_loss:2.382615327835083\n",
      "epoch:860, loss:0.5289496183395386, val_loss:2.4666738510131836\n",
      "epoch:870, loss:0.5227253437042236, val_loss:2.4484596252441406\n",
      "epoch:880, loss:0.5189277529716492, val_loss:2.452906608581543\n",
      "epoch:890, loss:0.515739381313324, val_loss:2.4575021266937256\n",
      "epoch:900, loss:0.5125618577003479, val_loss:2.4934918880462646\n",
      "epoch:910, loss:0.5083824396133423, val_loss:2.4823408126831055\n",
      "epoch:920, loss:0.5050145387649536, val_loss:2.5029547214508057\n",
      "epoch:930, loss:0.5032756924629211, val_loss:2.5326313972473145\n",
      "epoch:940, loss:0.5018212795257568, val_loss:2.533630132675171\n",
      "epoch:950, loss:0.4968661069869995, val_loss:2.554882526397705\n",
      "epoch:960, loss:0.4945060610771179, val_loss:2.5519983768463135\n",
      "epoch:970, loss:0.4905773401260376, val_loss:2.618833065032959\n",
      "epoch:980, loss:0.4850636124610901, val_loss:2.6357593536376953\n",
      "epoch:990, loss:0.4826112985610962, val_loss:2.6050236225128174\n"
     ]
    }
   ],
   "source": [
    "import tensorflow as tf\n",
    "class CustomHistory(tf.keras.callbacks.Callback):\n",
    "    def __init__(self):\n",
    "        self.epoch = 0\n",
    "        self.train_loss=[]\n",
    "        self.val_loss=[]\n",
    "        self.train_acc=[]\n",
    "        self.val_acc=[]\n",
    "    def on_epoch_end(self, batch, logs={}):\n",
    "        self.train_loss.append(logs.get('loss'))\n",
    "        self.val_loss.append(logs.get('val_loss'))\n",
    "        self.train_acc.append(logs.get('accuracy'))\n",
    "        self.val_acc.append(logs.get('val_accuracy'))\n",
    "        if self.epoch%10 == 0:\n",
    "            print(\"epoch:{:3d}, loss:{}, val_loss:{}\".format(self.epoch, \n",
    "                                                          logs.get('loss'), logs.get('val_loss')))\n",
    "        self.epoch +=1\n",
    "            \n",
    "#1. 데이터셋 준비하기\n",
    "(X_train, Y_train), (X_test, Y_test) = mnist.load_data()\n",
    "#훈련셋과 검증셋 분리(X_train, Y_train을 검증셋과 훈련셋으로 분리)\n",
    "X_val = X_train[50000:]\n",
    "Y_val = Y_train[50000:]\n",
    "X_train = X_train[:50000]\n",
    "Y_train = Y_train[:50000]\n",
    "#1차원으로 바꾸고, scale 맞춰야 함\n",
    "#normalize하기 위해 색상값(255.0)으로 나눔 #28*28=784\n",
    "X_train = X_train.reshape(50000, 784).astype('float32') / 255.0 \n",
    "X_val = X_val.reshape(10000, 784).astype('float32') / 255.0\n",
    "X_test = X_test.reshape(10000, 784).astype('float32') / 255.0\n",
    "#훈련셋과 검증셋 700개, 300개씩 가져옴\n",
    "train_rand_idx = np.random.choice(50000, 700)\n",
    "val_rand_idx = np.random.choice(10000, 300)\n",
    "X_train = X_train[train_rand_idx]\n",
    "Y_train = Y_train[train_rand_idx]\n",
    "X_val = X_val[val_rand_idx]\n",
    "Y_val = Y_val[val_rand_idx]\n",
    "#라벨링 처리(원 핫 인코딩)\n",
    "#1 => 0 1 0 0 0 0 0 0 0 0 \n",
    "#9 => 0 0 0 0 0 0 0 0 0 1\n",
    "Y_train = utils.to_categorical(Y_train)\n",
    "Y_val = utils.to_categorical(Y_val)\n",
    "Y_test = utils.to_categorical(Y_test)\n",
    "\n",
    "#2. 모델 구성하기\n",
    "model = Sequential()\n",
    "model.add(Dense(units=2, input_dim=784, activation='relu'))\n",
    "model.add(Dense(units=10, activation='softmax'))\n",
    "\n",
    "#3. 모델학습과정 설정\n",
    "model.compile(loss='categorical_crossentropy', optimizer='sgd', metrics=['accuracy'])\n",
    "\n",
    "#4. 모델 학습시키기\n",
    "custom_hist = CustomHistory()\n",
    "hist = model.fit(X_train, Y_train, epochs=1000, batch_size=10,\n",
    "                 validation_data=(X_val, Y_val), verbose=0,\n",
    "                 callbacks=[custom_hist])"
   ]
  },
  {
   "cell_type": "markdown",
   "metadata": {},
   "source": [
    "## 2. Early Stopping\n",
    "### 2-1. 성급한 조기종료: EarlyStopping()\n",
    "- val_loss값이 늘어나면 epoch를 다 수행하지 않고 조기 종료"
   ]
  },
  {
   "cell_type": "code",
   "execution_count": 7,
   "metadata": {},
   "outputs": [
    {
     "name": "stdout",
     "output_type": "stream",
     "text": [
      "Epoch 1/1000\n",
      "70/70 [==============================] - 0s 3ms/step - loss: 2.1953 - accuracy: 0.1729 - val_loss: 2.1292 - val_accuracy: 0.1833\n",
      "Epoch 2/1000\n",
      "70/70 [==============================] - 0s 1ms/step - loss: 2.0958 - accuracy: 0.2457 - val_loss: 2.0435 - val_accuracy: 0.2233\n",
      "Epoch 3/1000\n",
      "70/70 [==============================] - 0s 1ms/step - loss: 2.0239 - accuracy: 0.2843 - val_loss: 1.9797 - val_accuracy: 0.3300\n",
      "Epoch 4/1000\n",
      "70/70 [==============================] - 0s 997us/step - loss: 1.9673 - accuracy: 0.3114 - val_loss: 1.9255 - val_accuracy: 0.3467\n",
      "Epoch 5/1000\n",
      "70/70 [==============================] - 0s 1ms/step - loss: 1.9214 - accuracy: 0.3200 - val_loss: 1.8831 - val_accuracy: 0.3600\n",
      "Epoch 6/1000\n",
      "70/70 [==============================] - 0s 1ms/step - loss: 1.8814 - accuracy: 0.3286 - val_loss: 1.8480 - val_accuracy: 0.3733\n",
      "Epoch 7/1000\n",
      "70/70 [==============================] - 0s 1ms/step - loss: 1.8469 - accuracy: 0.3400 - val_loss: 1.8175 - val_accuracy: 0.3733\n",
      "Epoch 8/1000\n",
      "70/70 [==============================] - 0s 1ms/step - loss: 1.8168 - accuracy: 0.3557 - val_loss: 1.7937 - val_accuracy: 0.3900\n",
      "Epoch 9/1000\n",
      "70/70 [==============================] - 0s 997us/step - loss: 1.7896 - accuracy: 0.3557 - val_loss: 1.7713 - val_accuracy: 0.4100\n",
      "Epoch 10/1000\n",
      "70/70 [==============================] - 0s 1ms/step - loss: 1.7658 - accuracy: 0.3686 - val_loss: 1.7504 - val_accuracy: 0.4067\n",
      "Epoch 11/1000\n",
      "70/70 [==============================] - 0s 1ms/step - loss: 1.7430 - accuracy: 0.3757 - val_loss: 1.7321 - val_accuracy: 0.4200\n",
      "Epoch 12/1000\n",
      "70/70 [==============================] - 0s 1ms/step - loss: 1.7217 - accuracy: 0.3800 - val_loss: 1.7153 - val_accuracy: 0.4200\n",
      "Epoch 13/1000\n",
      "70/70 [==============================] - 0s 1ms/step - loss: 1.7010 - accuracy: 0.4000 - val_loss: 1.7028 - val_accuracy: 0.4267\n",
      "Epoch 14/1000\n",
      "70/70 [==============================] - 0s 1ms/step - loss: 1.6836 - accuracy: 0.4100 - val_loss: 1.6850 - val_accuracy: 0.4200\n",
      "Epoch 15/1000\n",
      "70/70 [==============================] - 0s 1ms/step - loss: 1.6647 - accuracy: 0.4286 - val_loss: 1.6728 - val_accuracy: 0.4267\n",
      "Epoch 16/1000\n",
      "70/70 [==============================] - 0s 2ms/step - loss: 1.6478 - accuracy: 0.4257 - val_loss: 1.6587 - val_accuracy: 0.4300\n",
      "Epoch 17/1000\n",
      "70/70 [==============================] - 0s 2ms/step - loss: 1.6326 - accuracy: 0.4300 - val_loss: 1.6455 - val_accuracy: 0.4300\n",
      "Epoch 18/1000\n",
      "70/70 [==============================] - 0s 3ms/step - loss: 1.6162 - accuracy: 0.4357 - val_loss: 1.6384 - val_accuracy: 0.4333\n",
      "Epoch 19/1000\n",
      "70/70 [==============================] - 0s 2ms/step - loss: 1.6029 - accuracy: 0.4443 - val_loss: 1.6238 - val_accuracy: 0.4500\n",
      "Epoch 20/1000\n",
      "70/70 [==============================] - 0s 2ms/step - loss: 1.5876 - accuracy: 0.4443 - val_loss: 1.6148 - val_accuracy: 0.4500\n",
      "Epoch 21/1000\n",
      "70/70 [==============================] - 0s 1ms/step - loss: 1.5717 - accuracy: 0.4443 - val_loss: 1.6037 - val_accuracy: 0.4467\n",
      "Epoch 22/1000\n",
      "70/70 [==============================] - 0s 2ms/step - loss: 1.5588 - accuracy: 0.4357 - val_loss: 1.5974 - val_accuracy: 0.4600\n",
      "Epoch 23/1000\n",
      "70/70 [==============================] - 0s 2ms/step - loss: 1.5424 - accuracy: 0.4371 - val_loss: 1.5938 - val_accuracy: 0.4700\n",
      "Epoch 24/1000\n",
      "70/70 [==============================] - 0s 2ms/step - loss: 1.5311 - accuracy: 0.4629 - val_loss: 1.5773 - val_accuracy: 0.4867\n",
      "Epoch 25/1000\n",
      "70/70 [==============================] - 0s 1ms/step - loss: 1.5176 - accuracy: 0.4586 - val_loss: 1.5700 - val_accuracy: 0.4700\n",
      "Epoch 26/1000\n",
      "70/70 [==============================] - 0s 2ms/step - loss: 1.5060 - accuracy: 0.4614 - val_loss: 1.5596 - val_accuracy: 0.4800\n",
      "Epoch 27/1000\n",
      "70/70 [==============================] - 0s 1ms/step - loss: 1.4923 - accuracy: 0.4800 - val_loss: 1.5491 - val_accuracy: 0.4933\n",
      "Epoch 28/1000\n",
      "70/70 [==============================] - 0s 1ms/step - loss: 1.4813 - accuracy: 0.4657 - val_loss: 1.5448 - val_accuracy: 0.4933\n",
      "Epoch 29/1000\n",
      "70/70 [==============================] - 0s 1ms/step - loss: 1.4700 - accuracy: 0.4743 - val_loss: 1.5388 - val_accuracy: 0.5000\n",
      "Epoch 30/1000\n",
      "70/70 [==============================] - 0s 1ms/step - loss: 1.4570 - accuracy: 0.4800 - val_loss: 1.5299 - val_accuracy: 0.4833\n",
      "Epoch 31/1000\n",
      "70/70 [==============================] - 0s 997us/step - loss: 1.4487 - accuracy: 0.4814 - val_loss: 1.5241 - val_accuracy: 0.4833\n",
      "Epoch 32/1000\n",
      "70/70 [==============================] - 0s 1ms/step - loss: 1.4383 - accuracy: 0.4829 - val_loss: 1.5164 - val_accuracy: 0.4900\n",
      "Epoch 33/1000\n",
      "70/70 [==============================] - 0s 1ms/step - loss: 1.4269 - accuracy: 0.4943 - val_loss: 1.5105 - val_accuracy: 0.4900\n",
      "Epoch 34/1000\n",
      "70/70 [==============================] - 0s 1ms/step - loss: 1.4176 - accuracy: 0.4857 - val_loss: 1.5011 - val_accuracy: 0.5100\n",
      "Epoch 35/1000\n",
      "70/70 [==============================] - 0s 1ms/step - loss: 1.4084 - accuracy: 0.4957 - val_loss: 1.4976 - val_accuracy: 0.4933\n",
      "Epoch 36/1000\n",
      "70/70 [==============================] - 0s 1ms/step - loss: 1.3980 - accuracy: 0.5000 - val_loss: 1.5008 - val_accuracy: 0.5133\n"
     ]
    },
    {
     "data": {
      "image/png": "[encoded data removed]",
      "text/plain": [
       "<Figure size 432x288 with 2 Axes>"
      ]
     },
     "metadata": {
      "needs_background": "light"
     },
     "output_type": "display_data"
    }
   ],
   "source": [
    "(X_train, Y_train), (X_test, Y_test) = mnist.load_data()\n",
    "#훈련셋과 검증셋 분리(X_train, Y_train을 검증셋과 훈련셋으로 분리)\n",
    "X_val = X_train[50000:]\n",
    "Y_val = Y_train[50000:]\n",
    "X_train = X_train[:50000]\n",
    "Y_train = Y_train[:50000]\n",
    "#1차원으로 바꾸고, scale 맞춰야 함\n",
    "#normalize하기 위해 색상값(255.0)으로 나눔 #28*28=784\n",
    "X_train = X_train.reshape(50000, 784).astype('float32') / 255.0 \n",
    "X_val = X_val.reshape(10000, 784).astype('float32') / 255.0\n",
    "X_test = X_test.reshape(10000, 784).astype('float32') / 255.0\n",
    "#훈련셋과 검증셋 700개, 300개씩 가져옴\n",
    "train_rand_idx = np.random.choice(50000, 700)\n",
    "val_rand_idx = np.random.choice(10000, 300)\n",
    "X_train = X_train[train_rand_idx]\n",
    "Y_train = Y_train[train_rand_idx]\n",
    "X_val = X_val[val_rand_idx]\n",
    "Y_val = Y_val[val_rand_idx]\n",
    "#라벨링 처리(원 핫 인코딩)\n",
    "#1 => 0 1 0 0 0 0 0 0 0 0 \n",
    "#9 => 0 0 0 0 0 0 0 0 0 1\n",
    "Y_train = utils.to_categorical(Y_train)\n",
    "Y_val = utils.to_categorical(Y_val)\n",
    "Y_test = utils.to_categorical(Y_test)\n",
    "\n",
    "#2. 모델 구성하기\n",
    "model = Sequential()\n",
    "model.add(Dense(units=2, input_dim=784, activation='relu'))\n",
    "model.add(Dense(units=10, activation='softmax'))\n",
    "#3. 모델 학습과정 설정\n",
    "model.compile(loss='categorical_crossentropy', optimizer='sgd', \n",
    "              metrics=['accuracy'])\n",
    "#4. 모델 학습시키기\n",
    "from tensorflow.keras.callbacks import EarlyStopping\n",
    "early_stopping = EarlyStopping()\n",
    "hist = model.fit(X_train, Y_train, epochs=1000, batch_size=10,\n",
    "                validation_data=(X_val, Y_val), verbose=1,\n",
    "                callbacks=[early_stopping]) #val_loss가 늘어나게 되면 학습 조기종료 시킴(성급한 조기종료)\n",
    "\n",
    "#5. 모델학습과정 표시하고 평가하기\n",
    "#학습과정 표시하기\n",
    "fig, loss_ax = plt.subplots()\n",
    "loss_ax.plot(hist.history['loss'], 'y', label='train loss')\n",
    "loss_ax.plot(hist.history['val_loss'], 'g', label='val loss')\n",
    "loss_ax.set_xlabel('epochs')\n",
    "loss_ax.set_ylabel('loss')\n",
    "\n",
    "acc_ax = loss_ax.twinx() #x축을 공유하는 acc_ax\n",
    "acc_ax.plot(hist.history['accuracy'], 'b', label='train accuracy')\n",
    "acc_ax.plot(hist.history['val_accuracy'], 'r', label='val accuracy')\n",
    "acc_ax.set_ylabel('accuracy')\n",
    "\n",
    "loss_ax.legend(loc='upper left')\n",
    "acc_ax.legend(loc='lower left')\n",
    "plt.show()\n",
    "##val_loss가 증가하면 바로 학습이 종료됨(성급한 조기종료)"
   ]
  },
  {
   "cell_type": "markdown",
   "metadata": {},
   "source": [
    "### 2-2. 적절한 조기종료: EarlyStopping(patience = num)\n",
    "- patience: 개선 없다고 바로 종료하지 않고 개선이 없는 에포크를 얼마나 기다려줄 지 지정\n",
    "- 개선이 없는 에포크가 num번째 지속될 경우 학습 종료"
   ]
  },
  {
   "cell_type": "code",
   "execution_count": 9,
   "metadata": {},
   "outputs": [
    {
     "name": "stdout",
     "output_type": "stream",
     "text": [
      "Epoch 1/1000\n",
      "70/70 [==============================] - 0s 3ms/step - loss: 2.2996 - accuracy: 0.1671 - val_loss: 2.2919 - val_accuracy: 0.1333\n",
      "Epoch 2/1000\n",
      "70/70 [==============================] - 0s 1ms/step - loss: 2.2690 - accuracy: 0.1886 - val_loss: 2.2766 - val_accuracy: 0.1400\n",
      "Epoch 3/1000\n",
      "70/70 [==============================] - 0s 1ms/step - loss: 2.2474 - accuracy: 0.1943 - val_loss: 2.2614 - val_accuracy: 0.1400\n",
      "Epoch 4/1000\n",
      "70/70 [==============================] - 0s 1ms/step - loss: 2.2237 - accuracy: 0.1943 - val_loss: 2.2393 - val_accuracy: 0.1600\n",
      "Epoch 5/1000\n",
      "70/70 [==============================] - 0s 983us/step - loss: 2.1960 - accuracy: 0.1971 - val_loss: 2.2158 - val_accuracy: 0.1667\n",
      "Epoch 6/1000\n",
      "70/70 [==============================] - 0s 1ms/step - loss: 2.1673 - accuracy: 0.2171 - val_loss: 2.1956 - val_accuracy: 0.1733\n",
      "Epoch 7/1000\n",
      "70/70 [==============================] - 0s 1ms/step - loss: 2.1382 - accuracy: 0.2271 - val_loss: 2.1691 - val_accuracy: 0.1900\n",
      "Epoch 8/1000\n",
      "70/70 [==============================] - 0s 1ms/step - loss: 2.1100 - accuracy: 0.2271 - val_loss: 2.1445 - val_accuracy: 0.1867\n",
      "Epoch 9/1000\n",
      "70/70 [==============================] - 0s 1ms/step - loss: 2.0813 - accuracy: 0.2329 - val_loss: 2.1190 - val_accuracy: 0.1900\n",
      "Epoch 10/1000\n",
      "70/70 [==============================] - 0s 1ms/step - loss: 2.0523 - accuracy: 0.2457 - val_loss: 2.0969 - val_accuracy: 0.1967\n",
      "Epoch 11/1000\n",
      "70/70 [==============================] - 0s 1ms/step - loss: 2.0238 - accuracy: 0.2471 - val_loss: 2.0672 - val_accuracy: 0.1967\n",
      "Epoch 12/1000\n",
      "70/70 [==============================] - 0s 1ms/step - loss: 1.9948 - accuracy: 0.2929 - val_loss: 2.0380 - val_accuracy: 0.2700\n",
      "Epoch 13/1000\n",
      "70/70 [==============================] - 0s 1ms/step - loss: 1.9653 - accuracy: 0.2986 - val_loss: 2.0066 - val_accuracy: 0.2633\n",
      "Epoch 14/1000\n",
      "70/70 [==============================] - 0s 1ms/step - loss: 1.9378 - accuracy: 0.3000 - val_loss: 1.9805 - val_accuracy: 0.2700\n",
      "Epoch 15/1000\n",
      "70/70 [==============================] - 0s 2ms/step - loss: 1.9100 - accuracy: 0.3029 - val_loss: 1.9555 - val_accuracy: 0.2733\n",
      "Epoch 16/1000\n",
      "70/70 [==============================] - 0s 1ms/step - loss: 1.8841 - accuracy: 0.3057 - val_loss: 1.9312 - val_accuracy: 0.2733\n",
      "Epoch 17/1000\n",
      "70/70 [==============================] - 0s 2ms/step - loss: 1.8622 - accuracy: 0.3086 - val_loss: 1.9104 - val_accuracy: 0.2733\n",
      "Epoch 18/1000\n",
      "70/70 [==============================] - 0s 1ms/step - loss: 1.8413 - accuracy: 0.3100 - val_loss: 1.8896 - val_accuracy: 0.2767\n",
      "Epoch 19/1000\n",
      "70/70 [==============================] - 0s 1ms/step - loss: 1.8215 - accuracy: 0.3143 - val_loss: 1.8689 - val_accuracy: 0.2767\n",
      "Epoch 20/1000\n",
      "70/70 [==============================] - 0s 1ms/step - loss: 1.8023 - accuracy: 0.3243 - val_loss: 1.8550 - val_accuracy: 0.2767\n",
      "Epoch 21/1000\n",
      "70/70 [==============================] - 0s 1ms/step - loss: 1.7835 - accuracy: 0.3271 - val_loss: 1.8385 - val_accuracy: 0.2800\n",
      "Epoch 22/1000\n",
      "70/70 [==============================] - 0s 2ms/step - loss: 1.7662 - accuracy: 0.3343 - val_loss: 1.8262 - val_accuracy: 0.2967\n",
      "Epoch 23/1000\n",
      "70/70 [==============================] - 0s 1ms/step - loss: 1.7489 - accuracy: 0.3471 - val_loss: 1.8083 - val_accuracy: 0.3167\n",
      "Epoch 24/1000\n",
      "70/70 [==============================] - 0s 1ms/step - loss: 1.7320 - accuracy: 0.3614 - val_loss: 1.7907 - val_accuracy: 0.3400\n",
      "Epoch 25/1000\n",
      "70/70 [==============================] - 0s 2ms/step - loss: 1.7157 - accuracy: 0.3643 - val_loss: 1.7750 - val_accuracy: 0.3567\n",
      "Epoch 26/1000\n",
      "70/70 [==============================] - 0s 2ms/step - loss: 1.6996 - accuracy: 0.3743 - val_loss: 1.7623 - val_accuracy: 0.3600\n",
      "Epoch 27/1000\n",
      "70/70 [==============================] - 0s 2ms/step - loss: 1.6839 - accuracy: 0.3800 - val_loss: 1.7589 - val_accuracy: 0.3500\n",
      "Epoch 28/1000\n",
      "70/70 [==============================] - 0s 2ms/step - loss: 1.6687 - accuracy: 0.3843 - val_loss: 1.7408 - val_accuracy: 0.3600\n",
      "Epoch 29/1000\n",
      "70/70 [==============================] - 0s 1ms/step - loss: 1.6555 - accuracy: 0.3943 - val_loss: 1.7308 - val_accuracy: 0.3600\n",
      "Epoch 30/1000\n",
      "70/70 [==============================] - 0s 1ms/step - loss: 1.6408 - accuracy: 0.3900 - val_loss: 1.7190 - val_accuracy: 0.3633\n",
      "Epoch 31/1000\n",
      "70/70 [==============================] - 0s 1ms/step - loss: 1.6287 - accuracy: 0.3957 - val_loss: 1.7085 - val_accuracy: 0.3700\n",
      "Epoch 32/1000\n",
      "70/70 [==============================] - 0s 1ms/step - loss: 1.6166 - accuracy: 0.4071 - val_loss: 1.7016 - val_accuracy: 0.3733\n",
      "Epoch 33/1000\n",
      "70/70 [==============================] - 0s 1ms/step - loss: 1.6048 - accuracy: 0.4071 - val_loss: 1.6929 - val_accuracy: 0.3733\n",
      "Epoch 34/1000\n",
      "70/70 [==============================] - 0s 1ms/step - loss: 1.5947 - accuracy: 0.4157 - val_loss: 1.6873 - val_accuracy: 0.3767\n",
      "Epoch 35/1000\n",
      "70/70 [==============================] - 0s 1ms/step - loss: 1.5831 - accuracy: 0.4129 - val_loss: 1.6816 - val_accuracy: 0.3700\n",
      "Epoch 36/1000\n",
      "70/70 [==============================] - 0s 1ms/step - loss: 1.5732 - accuracy: 0.4214 - val_loss: 1.6724 - val_accuracy: 0.3633\n",
      "Epoch 37/1000\n",
      "70/70 [==============================] - 0s 1ms/step - loss: 1.5627 - accuracy: 0.4229 - val_loss: 1.6700 - val_accuracy: 0.3733\n",
      "Epoch 38/1000\n",
      "70/70 [==============================] - 0s 1ms/step - loss: 1.5553 - accuracy: 0.4214 - val_loss: 1.6615 - val_accuracy: 0.3700\n",
      "Epoch 39/1000\n",
      "70/70 [==============================] - 0s 1ms/step - loss: 1.5456 - accuracy: 0.4243 - val_loss: 1.6505 - val_accuracy: 0.3733\n",
      "Epoch 40/1000\n",
      "70/70 [==============================] - 0s 1ms/step - loss: 1.5377 - accuracy: 0.4229 - val_loss: 1.6428 - val_accuracy: 0.3733\n",
      "Epoch 41/1000\n",
      "70/70 [==============================] - 0s 1ms/step - loss: 1.5305 - accuracy: 0.4357 - val_loss: 1.6414 - val_accuracy: 0.3800\n",
      "Epoch 42/1000\n",
      "70/70 [==============================] - 0s 2ms/step - loss: 1.5226 - accuracy: 0.4371 - val_loss: 1.6416 - val_accuracy: 0.3700\n",
      "Epoch 43/1000\n",
      "70/70 [==============================] - 0s 1ms/step - loss: 1.5162 - accuracy: 0.4371 - val_loss: 1.6353 - val_accuracy: 0.3733\n",
      "Epoch 44/1000\n",
      "70/70 [==============================] - 0s 1ms/step - loss: 1.5087 - accuracy: 0.4371 - val_loss: 1.6365 - val_accuracy: 0.3733\n",
      "Epoch 45/1000\n",
      "70/70 [==============================] - 0s 1ms/step - loss: 1.5018 - accuracy: 0.4357 - val_loss: 1.6211 - val_accuracy: 0.3733\n",
      "Epoch 46/1000\n",
      "70/70 [==============================] - 0s 1ms/step - loss: 1.4961 - accuracy: 0.4429 - val_loss: 1.6183 - val_accuracy: 0.3800\n",
      "Epoch 47/1000\n",
      "70/70 [==============================] - 0s 1ms/step - loss: 1.4898 - accuracy: 0.4414 - val_loss: 1.6146 - val_accuracy: 0.3767\n",
      "Epoch 48/1000\n",
      "70/70 [==============================] - 0s 1ms/step - loss: 1.4829 - accuracy: 0.4429 - val_loss: 1.6135 - val_accuracy: 0.3833\n",
      "Epoch 49/1000\n",
      "70/70 [==============================] - 0s 1ms/step - loss: 1.4790 - accuracy: 0.4429 - val_loss: 1.6124 - val_accuracy: 0.3767\n",
      "Epoch 50/1000\n",
      "70/70 [==============================] - 0s 1ms/step - loss: 1.4732 - accuracy: 0.4429 - val_loss: 1.6125 - val_accuracy: 0.3800\n",
      "Epoch 51/1000\n",
      "70/70 [==============================] - 0s 1ms/step - loss: 1.4678 - accuracy: 0.4471 - val_loss: 1.6056 - val_accuracy: 0.3833\n",
      "Epoch 52/1000\n",
      "70/70 [==============================] - 0s 1ms/step - loss: 1.4625 - accuracy: 0.4471 - val_loss: 1.6035 - val_accuracy: 0.3933\n",
      "Epoch 53/1000\n",
      "70/70 [==============================] - 0s 1ms/step - loss: 1.4574 - accuracy: 0.4529 - val_loss: 1.5946 - val_accuracy: 0.3867\n",
      "Epoch 54/1000\n",
      "70/70 [==============================] - 0s 1ms/step - loss: 1.4525 - accuracy: 0.4500 - val_loss: 1.5961 - val_accuracy: 0.3867\n",
      "Epoch 55/1000\n",
      "70/70 [==============================] - 0s 1ms/step - loss: 1.4467 - accuracy: 0.4514 - val_loss: 1.5874 - val_accuracy: 0.3967\n",
      "Epoch 56/1000\n",
      "70/70 [==============================] - 0s 2ms/step - loss: 1.4432 - accuracy: 0.4543 - val_loss: 1.5870 - val_accuracy: 0.3900\n",
      "Epoch 57/1000\n",
      "70/70 [==============================] - 0s 2ms/step - loss: 1.4384 - accuracy: 0.4600 - val_loss: 1.5875 - val_accuracy: 0.3933\n",
      "Epoch 58/1000\n"
     ]
    },
    {
     "name": "stdout",
     "output_type": "stream",
     "text": [
      "70/70 [==============================] - 0s 2ms/step - loss: 1.4339 - accuracy: 0.4643 - val_loss: 1.5900 - val_accuracy: 0.3967\n",
      "Epoch 59/1000\n",
      "70/70 [==============================] - 0s 2ms/step - loss: 1.4298 - accuracy: 0.4614 - val_loss: 1.5856 - val_accuracy: 0.3967\n",
      "Epoch 60/1000\n",
      "70/70 [==============================] - 0s 2ms/step - loss: 1.4250 - accuracy: 0.4571 - val_loss: 1.5835 - val_accuracy: 0.4000\n",
      "Epoch 61/1000\n",
      "70/70 [==============================] - 0s 1ms/step - loss: 1.4210 - accuracy: 0.4714 - val_loss: 1.5900 - val_accuracy: 0.3900\n",
      "Epoch 62/1000\n",
      "70/70 [==============================] - 0s 1ms/step - loss: 1.4174 - accuracy: 0.4671 - val_loss: 1.5791 - val_accuracy: 0.4033\n",
      "Epoch 63/1000\n",
      "70/70 [==============================] - 0s 1ms/step - loss: 1.4135 - accuracy: 0.4729 - val_loss: 1.5742 - val_accuracy: 0.3967\n",
      "Epoch 64/1000\n",
      "70/70 [==============================] - 0s 1ms/step - loss: 1.4100 - accuracy: 0.4786 - val_loss: 1.5783 - val_accuracy: 0.3900\n",
      "Epoch 65/1000\n",
      "70/70 [==============================] - 0s 1ms/step - loss: 1.4062 - accuracy: 0.4729 - val_loss: 1.5709 - val_accuracy: 0.3967\n",
      "Epoch 66/1000\n",
      "70/70 [==============================] - 0s 1ms/step - loss: 1.4025 - accuracy: 0.4743 - val_loss: 1.5735 - val_accuracy: 0.4000\n",
      "Epoch 67/1000\n",
      "70/70 [==============================] - 0s 1ms/step - loss: 1.3989 - accuracy: 0.4771 - val_loss: 1.5730 - val_accuracy: 0.3933\n",
      "Epoch 68/1000\n",
      "70/70 [==============================] - 0s 1ms/step - loss: 1.3958 - accuracy: 0.4786 - val_loss: 1.5670 - val_accuracy: 0.4000\n",
      "Epoch 69/1000\n",
      "70/70 [==============================] - 0s 1ms/step - loss: 1.3909 - accuracy: 0.4871 - val_loss: 1.5643 - val_accuracy: 0.3967\n",
      "Epoch 70/1000\n",
      "70/70 [==============================] - 0s 1ms/step - loss: 1.3887 - accuracy: 0.4871 - val_loss: 1.5647 - val_accuracy: 0.4067\n",
      "Epoch 71/1000\n",
      "70/70 [==============================] - 0s 955us/step - loss: 1.3854 - accuracy: 0.4900 - val_loss: 1.5578 - val_accuracy: 0.3967\n",
      "Epoch 72/1000\n",
      "70/70 [==============================] - 0s 1ms/step - loss: 1.3833 - accuracy: 0.4871 - val_loss: 1.5635 - val_accuracy: 0.4133\n",
      "Epoch 73/1000\n",
      "70/70 [==============================] - 0s 1ms/step - loss: 1.3786 - accuracy: 0.4900 - val_loss: 1.5595 - val_accuracy: 0.4100\n",
      "Epoch 74/1000\n",
      "70/70 [==============================] - 0s 1ms/step - loss: 1.3757 - accuracy: 0.4957 - val_loss: 1.5586 - val_accuracy: 0.4033\n",
      "Epoch 75/1000\n",
      "70/70 [==============================] - 0s 1ms/step - loss: 1.3735 - accuracy: 0.4886 - val_loss: 1.5530 - val_accuracy: 0.4033\n",
      "Epoch 76/1000\n",
      "70/70 [==============================] - 0s 1ms/step - loss: 1.3703 - accuracy: 0.4943 - val_loss: 1.5553 - val_accuracy: 0.4133\n",
      "Epoch 77/1000\n",
      "70/70 [==============================] - 0s 1ms/step - loss: 1.3667 - accuracy: 0.4871 - val_loss: 1.5597 - val_accuracy: 0.4133\n",
      "Epoch 78/1000\n",
      "70/70 [==============================] - 0s 969us/step - loss: 1.3646 - accuracy: 0.4900 - val_loss: 1.5547 - val_accuracy: 0.4167\n",
      "Epoch 79/1000\n",
      "70/70 [==============================] - 0s 1ms/step - loss: 1.3612 - accuracy: 0.4943 - val_loss: 1.5526 - val_accuracy: 0.4067\n",
      "Epoch 80/1000\n",
      "70/70 [==============================] - 0s 997us/step - loss: 1.3590 - accuracy: 0.4943 - val_loss: 1.5525 - val_accuracy: 0.4100\n",
      "Epoch 81/1000\n",
      "70/70 [==============================] - 0s 1ms/step - loss: 1.3564 - accuracy: 0.4943 - val_loss: 1.5527 - val_accuracy: 0.4100\n",
      "Epoch 82/1000\n",
      "70/70 [==============================] - 0s 1ms/step - loss: 1.3539 - accuracy: 0.4986 - val_loss: 1.5474 - val_accuracy: 0.4100\n",
      "Epoch 83/1000\n",
      "70/70 [==============================] - 0s 1ms/step - loss: 1.3508 - accuracy: 0.4986 - val_loss: 1.5494 - val_accuracy: 0.4100\n",
      "Epoch 84/1000\n",
      "70/70 [==============================] - 0s 1ms/step - loss: 1.3480 - accuracy: 0.5000 - val_loss: 1.5457 - val_accuracy: 0.4067\n",
      "Epoch 85/1000\n",
      "70/70 [==============================] - 0s 1ms/step - loss: 1.3455 - accuracy: 0.4986 - val_loss: 1.5431 - val_accuracy: 0.4033\n",
      "Epoch 86/1000\n",
      "70/70 [==============================] - 0s 1ms/step - loss: 1.3426 - accuracy: 0.5071 - val_loss: 1.5526 - val_accuracy: 0.4200\n",
      "Epoch 87/1000\n",
      "70/70 [==============================] - 0s 1ms/step - loss: 1.3406 - accuracy: 0.5043 - val_loss: 1.5434 - val_accuracy: 0.4100\n",
      "Epoch 88/1000\n",
      "70/70 [==============================] - 0s 1ms/step - loss: 1.3389 - accuracy: 0.5043 - val_loss: 1.5448 - val_accuracy: 0.4133\n",
      "Epoch 89/1000\n",
      "70/70 [==============================] - 0s 1ms/step - loss: 1.3355 - accuracy: 0.5114 - val_loss: 1.5497 - val_accuracy: 0.4133\n",
      "Epoch 90/1000\n",
      "70/70 [==============================] - 0s 1ms/step - loss: 1.3335 - accuracy: 0.5086 - val_loss: 1.5394 - val_accuracy: 0.4133\n",
      "Epoch 91/1000\n",
      "70/70 [==============================] - 0s 1ms/step - loss: 1.3308 - accuracy: 0.5057 - val_loss: 1.5462 - val_accuracy: 0.4133\n",
      "Epoch 92/1000\n",
      "70/70 [==============================] - 0s 1ms/step - loss: 1.3283 - accuracy: 0.5086 - val_loss: 1.5399 - val_accuracy: 0.4167\n",
      "Epoch 93/1000\n",
      "70/70 [==============================] - 0s 1ms/step - loss: 1.3260 - accuracy: 0.5143 - val_loss: 1.5419 - val_accuracy: 0.4233\n",
      "Epoch 94/1000\n",
      "70/70 [==============================] - 0s 1ms/step - loss: 1.3241 - accuracy: 0.5086 - val_loss: 1.5401 - val_accuracy: 0.4133\n",
      "Epoch 95/1000\n",
      "70/70 [==============================] - 0s 1ms/step - loss: 1.3219 - accuracy: 0.5200 - val_loss: 1.5410 - val_accuracy: 0.4233\n",
      "Epoch 96/1000\n",
      "70/70 [==============================] - 0s 2ms/step - loss: 1.3198 - accuracy: 0.5057 - val_loss: 1.5435 - val_accuracy: 0.4167\n",
      "Epoch 97/1000\n",
      "70/70 [==============================] - 0s 1ms/step - loss: 1.3177 - accuracy: 0.5186 - val_loss: 1.5367 - val_accuracy: 0.4133\n",
      "Epoch 98/1000\n",
      "70/70 [==============================] - 0s 1ms/step - loss: 1.3150 - accuracy: 0.5171 - val_loss: 1.5368 - val_accuracy: 0.4133\n",
      "Epoch 99/1000\n",
      "70/70 [==============================] - 0s 1ms/step - loss: 1.3135 - accuracy: 0.5143 - val_loss: 1.5366 - val_accuracy: 0.4200\n",
      "Epoch 100/1000\n",
      "70/70 [==============================] - 0s 1ms/step - loss: 1.3117 - accuracy: 0.5186 - val_loss: 1.5376 - val_accuracy: 0.4133\n",
      "Epoch 101/1000\n",
      "70/70 [==============================] - 0s 1ms/step - loss: 1.3096 - accuracy: 0.5229 - val_loss: 1.5431 - val_accuracy: 0.4233\n",
      "Epoch 102/1000\n",
      "70/70 [==============================] - 0s 1ms/step - loss: 1.3070 - accuracy: 0.5243 - val_loss: 1.5435 - val_accuracy: 0.4267\n",
      "Epoch 103/1000\n",
      "70/70 [==============================] - 0s 1ms/step - loss: 1.3057 - accuracy: 0.5229 - val_loss: 1.5397 - val_accuracy: 0.4200\n",
      "Epoch 104/1000\n",
      "70/70 [==============================] - 0s 1ms/step - loss: 1.3038 - accuracy: 0.5243 - val_loss: 1.5402 - val_accuracy: 0.4200\n",
      "Epoch 105/1000\n",
      "70/70 [==============================] - 0s 997us/step - loss: 1.3013 - accuracy: 0.5257 - val_loss: 1.5372 - val_accuracy: 0.4133\n",
      "Epoch 106/1000\n",
      "70/70 [==============================] - 0s 1ms/step - loss: 1.2989 - accuracy: 0.5243 - val_loss: 1.5449 - val_accuracy: 0.4167\n",
      "Epoch 107/1000\n",
      "70/70 [==============================] - 0s 1ms/step - loss: 1.2980 - accuracy: 0.5257 - val_loss: 1.5437 - val_accuracy: 0.4133\n",
      "Epoch 108/1000\n",
      "70/70 [==============================] - 0s 1ms/step - loss: 1.2954 - accuracy: 0.5257 - val_loss: 1.5414 - val_accuracy: 0.4167\n",
      "Epoch 109/1000\n",
      "70/70 [==============================] - 0s 1ms/step - loss: 1.2935 - accuracy: 0.5314 - val_loss: 1.5391 - val_accuracy: 0.4233\n",
      "Epoch 110/1000\n",
      "70/70 [==============================] - 0s 1ms/step - loss: 1.2913 - accuracy: 0.5229 - val_loss: 1.5396 - val_accuracy: 0.4200\n",
      "Epoch 111/1000\n",
      "70/70 [==============================] - 0s 1ms/step - loss: 1.2896 - accuracy: 0.5286 - val_loss: 1.5407 - val_accuracy: 0.4233\n",
      "Epoch 112/1000\n",
      "70/70 [==============================] - 0s 1ms/step - loss: 1.2877 - accuracy: 0.5271 - val_loss: 1.5407 - val_accuracy: 0.4200\n",
      "Epoch 113/1000\n",
      "70/70 [==============================] - 0s 1ms/step - loss: 1.2858 - accuracy: 0.5257 - val_loss: 1.5408 - val_accuracy: 0.4233\n",
      "Epoch 114/1000\n",
      "70/70 [==============================] - 0s 1ms/step - loss: 1.2838 - accuracy: 0.5300 - val_loss: 1.5436 - val_accuracy: 0.4267\n",
      "Epoch 115/1000\n"
     ]
    },
    {
     "name": "stdout",
     "output_type": "stream",
     "text": [
      "70/70 [==============================] - 0s 1ms/step - loss: 1.2819 - accuracy: 0.5271 - val_loss: 1.5469 - val_accuracy: 0.4167\n",
      "Epoch 116/1000\n",
      "70/70 [==============================] - 0s 1ms/step - loss: 1.2812 - accuracy: 0.5314 - val_loss: 1.5388 - val_accuracy: 0.4167\n",
      "Epoch 117/1000\n",
      "70/70 [==============================] - 0s 1ms/step - loss: 1.2779 - accuracy: 0.5286 - val_loss: 1.5413 - val_accuracy: 0.4233\n",
      "Epoch 118/1000\n",
      "70/70 [==============================] - 0s 1ms/step - loss: 1.2768 - accuracy: 0.5343 - val_loss: 1.5390 - val_accuracy: 0.4133\n",
      "Epoch 119/1000\n",
      "70/70 [==============================] - 0s 983us/step - loss: 1.2750 - accuracy: 0.5329 - val_loss: 1.5409 - val_accuracy: 0.4100\n"
     ]
    },
    {
     "data": {
      "image/png": "[encoded data removed]",
      "text/plain": [
       "<Figure size 432x288 with 2 Axes>"
      ]
     },
     "metadata": {
      "needs_background": "light"
     },
     "output_type": "display_data"
    }
   ],
   "source": [
    "(X_train, Y_train), (X_test, Y_test) = mnist.load_data()\n",
    "#훈련셋과 검증셋 분리(X_train, Y_train을 검증셋과 훈련셋으로 분리)\n",
    "X_val = X_train[50000:]\n",
    "Y_val = Y_train[50000:]\n",
    "X_train = X_train[:50000]\n",
    "Y_train = Y_train[:50000]\n",
    "#1차원으로 바꾸고, scale 맞춰야 함\n",
    "#normalize하기 위해 색상값(255.0)으로 나눔 #28*28=784\n",
    "X_train = X_train.reshape(50000, 784).astype('float32') / 255.0 \n",
    "X_val = X_val.reshape(10000, 784).astype('float32') / 255.0\n",
    "X_test = X_test.reshape(10000, 784).astype('float32') / 255.0\n",
    "#훈련셋과 검증셋 700개, 300개씩 가져옴\n",
    "train_rand_idx = np.random.choice(50000, 700)\n",
    "val_rand_idx = np.random.choice(10000, 300)\n",
    "X_train = X_train[train_rand_idx]\n",
    "Y_train = Y_train[train_rand_idx]\n",
    "X_val = X_val[val_rand_idx]\n",
    "Y_val = Y_val[val_rand_idx]\n",
    "#라벨링 처리(원 핫 인코딩)\n",
    "#1 => 0 1 0 0 0 0 0 0 0 0 \n",
    "#9 => 0 0 0 0 0 0 0 0 0 1\n",
    "Y_train = utils.to_categorical(Y_train)\n",
    "Y_val = utils.to_categorical(Y_val)\n",
    "Y_test = utils.to_categorical(Y_test)\n",
    "\n",
    "#2. 모델 구성하기\n",
    "model = Sequential()\n",
    "model.add(Dense(units=2, input_dim=784, activation='relu'))\n",
    "model.add(Dense(units=10, activation='softmax'))\n",
    "#3. 모델 학습과정 설정\n",
    "model.compile(loss='categorical_crossentropy', optimizer='sgd', \n",
    "              metrics=['accuracy'])\n",
    "#4. 모델 학습시키기\n",
    "from tensorflow.keras.callbacks import EarlyStopping\n",
    "early_stopping = EarlyStopping(patience=20) #patience=수 만큼 val_loss 오를 수 있음\n",
    "hist = model.fit(X_train, Y_train, epochs=1000, batch_size=10,\n",
    "                validation_data=(X_val, Y_val), verbose=1,\n",
    "                callbacks=[early_stopping])\n",
    "\n",
    "#5. 모델학습과정 표시하고 평가하기\n",
    "#학습과정 표시하기\n",
    "fig, loss_ax = plt.subplots()\n",
    "loss_ax.plot(hist.history['loss'], 'y', label='train loss')\n",
    "loss_ax.plot(hist.history['val_loss'], 'g', label='val loss')\n",
    "loss_ax.set_xlabel('epochs')\n",
    "loss_ax.set_ylabel('loss')\n",
    "\n",
    "acc_ax = loss_ax.twinx() #x축을 공유하는 acc_ax\n",
    "acc_ax.plot(hist.history['accuracy'], 'b', label='train accuracy')\n",
    "acc_ax.plot(hist.history['val_accuracy'], 'r', label='val accuracy')\n",
    "acc_ax.set_ylabel('accuracy')\n",
    "\n",
    "loss_ax.legend(loc='upper left')\n",
    "acc_ax.legend(loc='lower left')\n",
    "plt.show()"
   ]
  },
  {
   "cell_type": "code",
   "execution_count": 10,
   "metadata": {},
   "outputs": [
    {
     "name": "stdout",
     "output_type": "stream",
     "text": [
      "313/313 [==============================] - 0s 1ms/step - loss: 1.5589 - accuracy: 0.4191\n",
      "\n",
      "loss_and_metrics: [1.5589042901992798, 0.41909998655319214]\n"
     ]
    }
   ],
   "source": [
    "#6. 모델 평가하기\n",
    "loss_and_matrics = model.evaluate(X_test, Y_test, batch_size=32)\n",
    "print()\n",
    "print('loss_and_metrics:', loss_and_matrics)"
   ]
  },
  {
   "cell_type": "markdown",
   "metadata": {},
   "source": [
    "## 3. 상기 모델(DNN)의 accuracy 늘리기\n",
    "<ol>\n",
    "<li>많은 데이터 확보</li>\n",
    "<li>레이어</li>\n",
    "<li>활성화 함수: 은닉층에는 주로 relu, elu <br>\n",
    "    output layer에는 sigmoid(이진분류), softmax(다중분류)</li>\n",
    "<li>optimizer, epoch 등을 조정</li>\n",
    "</ol>"
   ]
  },
  {
   "cell_type": "code",
   "execution_count": 11,
   "metadata": {},
   "outputs": [
    {
     "name": "stdout",
     "output_type": "stream",
     "text": [
      "Epoch 1/20\n",
      "5000/5000 [==============================] - 42s 8ms/step - loss: 0.2236 - accuracy: 0.9311 - val_loss: 0.1141 - val_accuracy: 0.9686\n",
      "Epoch 2/20\n",
      "5000/5000 [==============================] - 41s 8ms/step - loss: 0.1136 - accuracy: 0.9661 - val_loss: 0.1006 - val_accuracy: 0.9729\n",
      "Epoch 3/20\n",
      "5000/5000 [==============================] - 40s 8ms/step - loss: 0.0846 - accuracy: 0.9752 - val_loss: 0.1058 - val_accuracy: 0.9714\n",
      "Epoch 4/20\n",
      "5000/5000 [==============================] - 41s 8ms/step - loss: 0.0685 - accuracy: 0.9800 - val_loss: 0.1016 - val_accuracy: 0.9727\n",
      "Epoch 5/20\n",
      "5000/5000 [==============================] - 40s 8ms/step - loss: 0.0582 - accuracy: 0.9829 - val_loss: 0.1044 - val_accuracy: 0.9752\n",
      "Epoch 6/20\n",
      "5000/5000 [==============================] - 38s 8ms/step - loss: 0.0485 - accuracy: 0.9855 - val_loss: 0.1157 - val_accuracy: 0.9748\n",
      "Epoch 7/20\n",
      "5000/5000 [==============================] - 38s 8ms/step - loss: 0.0459 - accuracy: 0.9875 - val_loss: 0.1006 - val_accuracy: 0.9782\n",
      "Epoch 8/20\n",
      "5000/5000 [==============================] - 40s 8ms/step - loss: 0.0433 - accuracy: 0.9874 - val_loss: 0.1341 - val_accuracy: 0.9765\n",
      "Epoch 9/20\n",
      "5000/5000 [==============================] - 38s 8ms/step - loss: 0.0338 - accuracy: 0.9903 - val_loss: 0.1527 - val_accuracy: 0.9720\n",
      "Epoch 10/20\n",
      "5000/5000 [==============================] - 38s 8ms/step - loss: 0.0385 - accuracy: 0.9901 - val_loss: 0.1192 - val_accuracy: 0.9758\n",
      "Epoch 11/20\n",
      "5000/5000 [==============================] - 38s 8ms/step - loss: 0.0332 - accuracy: 0.9911 - val_loss: 0.1465 - val_accuracy: 0.9769\n",
      "Epoch 12/20\n",
      "5000/5000 [==============================] - 38s 8ms/step - loss: 0.0322 - accuracy: 0.9916 - val_loss: 0.1695 - val_accuracy: 0.9771\n",
      "Epoch 13/20\n",
      "5000/5000 [==============================] - 38s 8ms/step - loss: 0.0348 - accuracy: 0.9914 - val_loss: 0.1533 - val_accuracy: 0.9765\n",
      "Epoch 14/20\n",
      "5000/5000 [==============================] - 38s 8ms/step - loss: 0.0286 - accuracy: 0.9928 - val_loss: 0.1677 - val_accuracy: 0.9753\n",
      "Epoch 15/20\n",
      "5000/5000 [==============================] - 39s 8ms/step - loss: 0.0321 - accuracy: 0.9927 - val_loss: 0.1456 - val_accuracy: 0.9753\n",
      "Epoch 16/20\n",
      "5000/5000 [==============================] - 38s 8ms/step - loss: 0.0269 - accuracy: 0.9934 - val_loss: 0.1655 - val_accuracy: 0.9773\n",
      "Epoch 17/20\n",
      "5000/5000 [==============================] - 39s 8ms/step - loss: 0.0295 - accuracy: 0.9930 - val_loss: 0.1723 - val_accuracy: 0.9763\n"
     ]
    }
   ],
   "source": [
    "#1. 데이터셋 준비하기\n",
    "(X_train, Y_train), (X_test, Y_test) = mnist.load_data()\n",
    "#훈련셋과 검증셋 분리(X_train, Y_train을 검증셋과 훈련셋으로 분리)\n",
    "X_val = X_train[50000:]\n",
    "Y_val = Y_train[50000:]\n",
    "X_train = X_train[:50000]\n",
    "Y_train = Y_train[:50000]\n",
    "#1차원으로 바꾸고, scale 맞춰야 함\n",
    "#normalize하기 위해 색상값(255.0)으로 나눔 #28*28=784\n",
    "X_train = X_train.reshape(50000, 784).astype('float32') / 255.0 \n",
    "X_val = X_val.reshape(10000, 784).astype('float32') / 255.0\n",
    "X_test = X_test.reshape(10000, 784).astype('float32') / 255.0\n",
    "#훈련셋과 검증셋 700개, 300개씩 가져옴 ###데이터 양 늘리기 위해 주석 처리###\n",
    "# train_rand_idx = np.random.choice(50000, 700)\n",
    "# val_rand_idx = np.random.choice(10000, 300)\n",
    "# X_train = X_train[train_rand_idx]\n",
    "# Y_train = Y_train[train_rand_idx]\n",
    "# X_val = X_val[val_rand_idx]\n",
    "# Y_val = Y_val[val_rand_idx]\n",
    "#라벨링 처리(원 핫 인코딩)\n",
    "#1 => 0 1 0 0 0 0 0 0 0 0 \n",
    "#9 => 0 0 0 0 0 0 0 0 0 1\n",
    "Y_train = utils.to_categorical(Y_train)\n",
    "Y_val = utils.to_categorical(Y_val)\n",
    "Y_test = utils.to_categorical(Y_test)\n",
    "\n",
    "#2. 모델 구성하기\n",
    "model = Sequential()\n",
    "model.add(Dense(units=256, input_dim=784, activation='relu'))\n",
    "model.add(Dense(units=512, activation='relu'))\n",
    "model.add(Dense(units=128, activation='relu'))\n",
    "model.add(Dense(units=10, activation='softmax'))\n",
    "\n",
    "#3. 모델 학습과정 설정\n",
    "model.compile(loss='categorical_crossentropy', optimizer='adam', \n",
    "              metrics=['accuracy'])\n",
    "#4. 모델 학습시키기\n",
    "from tensorflow.keras.callbacks import EarlyStopping\n",
    "#early_stopping = EarlyStopping() #성급한 조기종료\n",
    "early_stopping = EarlyStopping(patience=10) #patience=수 만큼 val_loss 오를 수 있음\n",
    "hist = model.fit(X_train, Y_train, epochs=20, batch_size=10,\n",
    "                validation_data = (X_val, Y_val), verbose=1,\n",
    "                callbacks=[early_stopping])"
   ]
  },
  {
   "cell_type": "code",
   "execution_count": 12,
   "metadata": {},
   "outputs": [
    {
     "data": {
      "image/png": "[encoded data removed]",
      "text/plain": [
       "<Figure size 432x288 with 2 Axes>"
      ]
     },
     "metadata": {
      "needs_background": "light"
     },
     "output_type": "display_data"
    }
   ],
   "source": [
    "#5. 모델학습과정 표시하고 평가하기\n",
    "#학습과정 표시하기\n",
    "fig, loss_ax = plt.subplots()\n",
    "loss_ax.plot(hist.history['loss'], 'y', label='train loss')\n",
    "loss_ax.plot(hist.history['val_loss'], 'g', label='val loss')\n",
    "loss_ax.set_xlabel('epochs')\n",
    "loss_ax.set_ylabel('loss')\n",
    "\n",
    "acc_ax = loss_ax.twinx() #x축을 공유하는 acc_ax\n",
    "acc_ax.plot(hist.history['accuracy'], 'b', label='train accuracy')\n",
    "acc_ax.plot(hist.history['val_accuracy'], 'r', label='val accuracy')\n",
    "acc_ax.set_ylabel('accuracy')\n",
    "\n",
    "loss_ax.legend(loc='upper left')\n",
    "acc_ax.legend(loc='lower left')\n",
    "plt.show()"
   ]
  },
  {
   "cell_type": "code",
   "execution_count": 13,
   "metadata": {},
   "outputs": [
    {
     "name": "stdout",
     "output_type": "stream",
     "text": [
      "313/313 [==============================] - 2s 5ms/step - loss: 0.1924 - accuracy: 0.9750\n",
      "\n",
      "loss_and_metrics: [0.19236430525779724, 0.9750000238418579]\n"
     ]
    }
   ],
   "source": [
    "#6. 모델 평가하기\n",
    "loss_and_matrics = model.evaluate(X_test, Y_test, batch_size=32)\n",
    "print()\n",
    "print('loss_and_metrics:', loss_and_matrics)"
   ]
  },
  {
   "cell_type": "code",
   "execution_count": 15,
   "metadata": {},
   "outputs": [],
   "source": [
    "#7. 모델 사용하기\n",
    "idx = np.random.choice(X_test.shape[0],5)\n",
    "xhat = X_test[idx]\n",
    "yhat = model.predict(xhat)"
   ]
  },
  {
   "cell_type": "code",
   "execution_count": 16,
   "metadata": {},
   "outputs": [
    {
     "data": {
      "text/plain": [
       "array([3, 9, 2, 1, 7], dtype=int64)"
      ]
     },
     "execution_count": 16,
     "metadata": {},
     "output_type": "execute_result"
    }
   ],
   "source": [
    "np.argmax(yhat,axis=1) #예측값"
   ]
  },
  {
   "cell_type": "code",
   "execution_count": 17,
   "metadata": {},
   "outputs": [
    {
     "data": {
      "text/plain": [
       "array([3, 9, 2, 1, 7], dtype=int64)"
      ]
     },
     "execution_count": 17,
     "metadata": {},
     "output_type": "execute_result"
    }
   ],
   "source": [
    "np.argmax(Y_test[idx], axis=1) #실제 값"
   ]
  },
  {
   "cell_type": "code",
   "execution_count": 19,
   "metadata": {},
   "outputs": [
    {
     "name": "stdout",
     "output_type": "stream",
     "text": [
      "0 번째 실제값: 3 \t예측값: 3\n",
      "1 번째 실제값: 9 \t예측값: 9\n",
      "2 번째 실제값: 2 \t예측값: 2\n",
      "3 번째 실제값: 1 \t예측값: 1\n",
      "4 번째 실제값: 7 \t예측값: 7\n"
     ]
    }
   ],
   "source": [
    "for i in range(len(yhat)):\n",
    "    print(i, \"번째 실제값:\", np.argmax(Y_test[idx[i]]), '\\t예측값:', np.argmax(yhat[i]))"
   ]
  },
  {
   "cell_type": "code",
   "execution_count": 20,
   "metadata": {},
   "outputs": [],
   "source": [
    "#8. 모델 저장하기\n",
    "model.save('model/mnist.h5')"
   ]
  },
  {
   "cell_type": "code",
   "execution_count": 21,
   "metadata": {},
   "outputs": [
    {
     "name": "stdout",
     "output_type": "stream",
     "text": [
      "WARNING:tensorflow:From <ipython-input-21-677b7400f7d2>:4: Sequential.predict_classes (from tensorflow.python.keras.engine.sequential) is deprecated and will be removed after 2021-01-01.\n",
      "Instructions for updating:\n",
      "Please use instead:* `np.argmax(model.predict(x), axis=-1)`,   if your model does multi-class classification   (e.g. if it uses a `softmax` last-layer activation).* `(model.predict(x) > 0.5).astype(\"int32\")`,   if your model does binary classification   (e.g. if it uses a `sigmoid` last-layer activation).\n"
     ]
    },
    {
     "data": {
      "text/plain": [
       "array([3, 9, 2, 1, 7], dtype=int64)"
      ]
     },
     "execution_count": 21,
     "metadata": {},
     "output_type": "execute_result"
    }
   ],
   "source": [
    "#9. 모델 재사용하기\n",
    "from tensorflow.keras.models import load_model\n",
    "model2 = load_model('model/mnist.h5')\n",
    "model2.predict_classes(xhat)"
   ]
  },
  {
   "cell_type": "code",
   "execution_count": null,
   "metadata": {},
   "outputs": [],
   "source": []
  }
 ],
 "metadata": {
  "kernelspec": {
   "display_name": "Python 3",
   "language": "python",
   "name": "python3"
  },
  "language_info": {
   "codemirror_mode": {
    "name": "ipython",
    "version": 3
   },
   "file_extension": ".py",
   "mimetype": "text/x-python",
   "name": "python",
   "nbconvert_exporter": "python",
   "pygments_lexer": "ipython3",
   "version": "3.8.5"
  }
 },
 "nbformat": 4,
 "nbformat_minor": 4
}
