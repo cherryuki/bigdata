{
 "cells": [
  {
   "cell_type": "markdown",
   "metadata": {},
   "source": [
    "**21-03-23 ML_DL 06_tensorflow ver2_딥러닝 (c)cherryuki (ji)**"
   ]
  },
  {
   "cell_type": "markdown",
   "metadata": {},
   "source": [
    "# 06. tensorflow_ver2_keras\n",
    "## 1. XOR Problem"
   ]
  },
  {
   "cell_type": "code",
   "execution_count": 1,
   "metadata": {},
   "outputs": [],
   "source": [
    "import numpy as np\n",
    "from tensorflow.keras.models import Sequential #모델 객체 생성시\n",
    "from tensorflow.keras.layers import Dense #layer 쌓을 때 필요한 함수\n",
    "import matplotlib.pyplot as plt"
   ]
  },
  {
   "cell_type": "code",
   "execution_count": 3,
   "metadata": {},
   "outputs": [
    {
     "name": "stdout",
     "output_type": "stream",
     "text": [
      "Model: \"sequential\"\n",
      "_________________________________________________________________\n",
      "Layer (type)                 Output Shape              Param #   \n",
      "=================================================================\n",
      "dense (Dense)                (None, 10)                30        \n",
      "_________________________________________________________________\n",
      "dense_1 (Dense)              (None, 20)                220       \n",
      "_________________________________________________________________\n",
      "dense_2 (Dense)              (None, 10)                210       \n",
      "_________________________________________________________________\n",
      "dense_3 (Dense)              (None, 1)                 11        \n",
      "=================================================================\n",
      "Total params: 471\n",
      "Trainable params: 471\n",
      "Non-trainable params: 0\n",
      "_________________________________________________________________\n",
      "None\n",
      "Epoch 1/100\n",
      "1/1 - 0s - loss: 0.2497 - binary_accuracy: 0.5000\n",
      "Epoch 2/100\n",
      "1/1 - 0s - loss: 0.2483 - binary_accuracy: 0.2500\n",
      "Epoch 3/100\n",
      "1/1 - 0s - loss: 0.2468 - binary_accuracy: 0.2500\n",
      "Epoch 4/100\n",
      "1/1 - 0s - loss: 0.2454 - binary_accuracy: 0.2500\n",
      "Epoch 5/100\n",
      "1/1 - 0s - loss: 0.2440 - binary_accuracy: 0.2500\n",
      "Epoch 6/100\n",
      "1/1 - 0s - loss: 0.2426 - binary_accuracy: 0.2500\n",
      "Epoch 7/100\n",
      "1/1 - 0s - loss: 0.2413 - binary_accuracy: 0.5000\n",
      "Epoch 8/100\n",
      "1/1 - 0s - loss: 0.2399 - binary_accuracy: 0.5000\n",
      "Epoch 9/100\n",
      "1/1 - 0s - loss: 0.2386 - binary_accuracy: 0.5000\n",
      "Epoch 10/100\n",
      "1/1 - 0s - loss: 0.2373 - binary_accuracy: 0.5000\n",
      "Epoch 11/100\n",
      "1/1 - 0s - loss: 0.2359 - binary_accuracy: 0.5000\n",
      "Epoch 12/100\n",
      "1/1 - 0s - loss: 0.2347 - binary_accuracy: 0.5000\n",
      "Epoch 13/100\n",
      "1/1 - 0s - loss: 0.2335 - binary_accuracy: 0.5000\n",
      "Epoch 14/100\n",
      "1/1 - 0s - loss: 0.2325 - binary_accuracy: 0.7500\n",
      "Epoch 15/100\n",
      "1/1 - 0s - loss: 0.2315 - binary_accuracy: 0.7500\n",
      "Epoch 16/100\n",
      "1/1 - 0s - loss: 0.2305 - binary_accuracy: 0.7500\n",
      "Epoch 17/100\n",
      "1/1 - 0s - loss: 0.2295 - binary_accuracy: 0.7500\n",
      "Epoch 18/100\n",
      "1/1 - 0s - loss: 0.2285 - binary_accuracy: 0.7500\n",
      "Epoch 19/100\n",
      "1/1 - 0s - loss: 0.2275 - binary_accuracy: 0.7500\n",
      "Epoch 20/100\n",
      "1/1 - 0s - loss: 0.2263 - binary_accuracy: 0.7500\n",
      "Epoch 21/100\n",
      "1/1 - 0s - loss: 0.2251 - binary_accuracy: 0.7500\n",
      "Epoch 22/100\n",
      "1/1 - 0s - loss: 0.2242 - binary_accuracy: 0.7500\n",
      "Epoch 23/100\n",
      "1/1 - 0s - loss: 0.2232 - binary_accuracy: 0.7500\n",
      "Epoch 24/100\n",
      "1/1 - 0s - loss: 0.2223 - binary_accuracy: 0.7500\n",
      "Epoch 25/100\n",
      "1/1 - 0s - loss: 0.2214 - binary_accuracy: 0.7500\n",
      "Epoch 26/100\n",
      "1/1 - 0s - loss: 0.2205 - binary_accuracy: 0.7500\n",
      "Epoch 27/100\n",
      "1/1 - 0s - loss: 0.2196 - binary_accuracy: 0.7500\n",
      "Epoch 28/100\n",
      "1/1 - 0s - loss: 0.2186 - binary_accuracy: 0.7500\n",
      "Epoch 29/100\n",
      "1/1 - 0s - loss: 0.2175 - binary_accuracy: 0.7500\n",
      "Epoch 30/100\n",
      "1/1 - 0s - loss: 0.2164 - binary_accuracy: 0.7500\n",
      "Epoch 31/100\n",
      "1/1 - 0s - loss: 0.2155 - binary_accuracy: 0.7500\n",
      "Epoch 32/100\n",
      "1/1 - 0s - loss: 0.2146 - binary_accuracy: 0.7500\n",
      "Epoch 33/100\n",
      "1/1 - 0s - loss: 0.2134 - binary_accuracy: 0.7500\n",
      "Epoch 34/100\n",
      "1/1 - 0s - loss: 0.2123 - binary_accuracy: 0.7500\n",
      "Epoch 35/100\n",
      "1/1 - 0s - loss: 0.2111 - binary_accuracy: 0.7500\n",
      "Epoch 36/100\n",
      "1/1 - 0s - loss: 0.2101 - binary_accuracy: 0.7500\n",
      "Epoch 37/100\n",
      "1/1 - 0s - loss: 0.2091 - binary_accuracy: 0.7500\n",
      "Epoch 38/100\n",
      "1/1 - 0s - loss: 0.2082 - binary_accuracy: 0.7500\n",
      "Epoch 39/100\n",
      "1/1 - 0s - loss: 0.2072 - binary_accuracy: 0.7500\n",
      "Epoch 40/100\n",
      "1/1 - 0s - loss: 0.2062 - binary_accuracy: 0.7500\n",
      "Epoch 41/100\n",
      "1/1 - 0s - loss: 0.2051 - binary_accuracy: 0.7500\n",
      "Epoch 42/100\n",
      "1/1 - 0s - loss: 0.2040 - binary_accuracy: 0.7500\n",
      "Epoch 43/100\n",
      "1/1 - 0s - loss: 0.2029 - binary_accuracy: 0.7500\n",
      "Epoch 44/100\n",
      "1/1 - 0s - loss: 0.2019 - binary_accuracy: 0.7500\n",
      "Epoch 45/100\n",
      "1/1 - 0s - loss: 0.2007 - binary_accuracy: 0.7500\n",
      "Epoch 46/100\n",
      "1/1 - 0s - loss: 0.1997 - binary_accuracy: 1.0000\n",
      "Epoch 47/100\n",
      "1/1 - 0s - loss: 0.1988 - binary_accuracy: 1.0000\n",
      "Epoch 48/100\n",
      "1/1 - 0s - loss: 0.1978 - binary_accuracy: 1.0000\n",
      "Epoch 49/100\n",
      "1/1 - 0s - loss: 0.1967 - binary_accuracy: 1.0000\n",
      "Epoch 50/100\n",
      "1/1 - 0s - loss: 0.1955 - binary_accuracy: 1.0000\n",
      "Epoch 51/100\n",
      "1/1 - 0s - loss: 0.1945 - binary_accuracy: 1.0000\n",
      "Epoch 52/100\n",
      "1/1 - 0s - loss: 0.1935 - binary_accuracy: 1.0000\n",
      "Epoch 53/100\n",
      "1/1 - 0s - loss: 0.1926 - binary_accuracy: 1.0000\n",
      "Epoch 54/100\n",
      "1/1 - 0s - loss: 0.1915 - binary_accuracy: 1.0000\n",
      "Epoch 55/100\n",
      "1/1 - 0s - loss: 0.1904 - binary_accuracy: 1.0000\n",
      "Epoch 56/100\n",
      "1/1 - 0s - loss: 0.1894 - binary_accuracy: 1.0000\n",
      "Epoch 57/100\n",
      "1/1 - 0s - loss: 0.1883 - binary_accuracy: 1.0000\n",
      "Epoch 58/100\n",
      "1/1 - 0s - loss: 0.1872 - binary_accuracy: 1.0000\n",
      "Epoch 59/100\n",
      "1/1 - 0s - loss: 0.1861 - binary_accuracy: 1.0000\n",
      "Epoch 60/100\n",
      "1/1 - 0s - loss: 0.1850 - binary_accuracy: 1.0000\n",
      "Epoch 61/100\n",
      "1/1 - 0s - loss: 0.1839 - binary_accuracy: 1.0000\n",
      "Epoch 62/100\n",
      "1/1 - 0s - loss: 0.1829 - binary_accuracy: 1.0000\n",
      "Epoch 63/100\n",
      "1/1 - 0s - loss: 0.1818 - binary_accuracy: 1.0000\n",
      "Epoch 64/100\n",
      "1/1 - 0s - loss: 0.1807 - binary_accuracy: 1.0000\n",
      "Epoch 65/100\n",
      "1/1 - 0s - loss: 0.1797 - binary_accuracy: 1.0000\n",
      "Epoch 66/100\n",
      "1/1 - 0s - loss: 0.1785 - binary_accuracy: 1.0000\n",
      "Epoch 67/100\n",
      "1/1 - 0s - loss: 0.1773 - binary_accuracy: 1.0000\n",
      "Epoch 68/100\n",
      "1/1 - 0s - loss: 0.1762 - binary_accuracy: 1.0000\n",
      "Epoch 69/100\n",
      "1/1 - 0s - loss: 0.1751 - binary_accuracy: 1.0000\n",
      "Epoch 70/100\n",
      "1/1 - 0s - loss: 0.1741 - binary_accuracy: 1.0000\n",
      "Epoch 71/100\n",
      "1/1 - 0s - loss: 0.1730 - binary_accuracy: 1.0000\n",
      "Epoch 72/100\n",
      "1/1 - 0s - loss: 0.1719 - binary_accuracy: 1.0000\n",
      "Epoch 73/100\n",
      "1/1 - 0s - loss: 0.1707 - binary_accuracy: 1.0000\n",
      "Epoch 74/100\n",
      "1/1 - 0s - loss: 0.1697 - binary_accuracy: 1.0000\n",
      "Epoch 75/100\n",
      "1/1 - 0s - loss: 0.1686 - binary_accuracy: 1.0000\n",
      "Epoch 76/100\n",
      "1/1 - 0s - loss: 0.1675 - binary_accuracy: 1.0000\n",
      "Epoch 77/100\n",
      "1/1 - 0s - loss: 0.1664 - binary_accuracy: 1.0000\n",
      "Epoch 78/100\n",
      "1/1 - 0s - loss: 0.1654 - binary_accuracy: 1.0000\n",
      "Epoch 79/100\n",
      "1/1 - 0s - loss: 0.1642 - binary_accuracy: 1.0000\n",
      "Epoch 80/100\n",
      "1/1 - 0s - loss: 0.1631 - binary_accuracy: 1.0000\n",
      "Epoch 81/100\n",
      "1/1 - 0s - loss: 0.1619 - binary_accuracy: 1.0000\n",
      "Epoch 82/100\n",
      "1/1 - 0s - loss: 0.1608 - binary_accuracy: 1.0000\n",
      "Epoch 83/100\n",
      "1/1 - 0s - loss: 0.1597 - binary_accuracy: 1.0000\n",
      "Epoch 84/100\n",
      "1/1 - 0s - loss: 0.1585 - binary_accuracy: 1.0000\n",
      "Epoch 85/100\n",
      "1/1 - 0s - loss: 0.1574 - binary_accuracy: 1.0000\n",
      "Epoch 86/100\n",
      "1/1 - 0s - loss: 0.1563 - binary_accuracy: 1.0000\n",
      "Epoch 87/100\n",
      "1/1 - 0s - loss: 0.1552 - binary_accuracy: 1.0000\n",
      "Epoch 88/100\n",
      "1/1 - 0s - loss: 0.1541 - binary_accuracy: 1.0000\n",
      "Epoch 89/100\n",
      "1/1 - 0s - loss: 0.1529 - binary_accuracy: 1.0000\n",
      "Epoch 90/100\n",
      "1/1 - 0s - loss: 0.1518 - binary_accuracy: 1.0000\n",
      "Epoch 91/100\n",
      "1/1 - 0s - loss: 0.1507 - binary_accuracy: 1.0000\n",
      "Epoch 92/100\n",
      "1/1 - 0s - loss: 0.1496 - binary_accuracy: 1.0000\n",
      "Epoch 93/100\n",
      "1/1 - 0s - loss: 0.1485 - binary_accuracy: 1.0000\n",
      "Epoch 94/100\n",
      "1/1 - 0s - loss: 0.1474 - binary_accuracy: 1.0000\n",
      "Epoch 95/100\n",
      "1/1 - 0s - loss: 0.1462 - binary_accuracy: 1.0000\n",
      "Epoch 96/100\n",
      "1/1 - 0s - loss: 0.1451 - binary_accuracy: 1.0000\n",
      "Epoch 97/100\n",
      "1/1 - 0s - loss: 0.1440 - binary_accuracy: 1.0000\n",
      "Epoch 98/100\n",
      "1/1 - 0s - loss: 0.1429 - binary_accuracy: 1.0000\n",
      "Epoch 99/100\n",
      "1/1 - 0s - loss: 0.1417 - binary_accuracy: 1.0000\n",
      "Epoch 100/100\n",
      "1/1 - 0s - loss: 0.1406 - binary_accuracy: 1.0000\n"
     ]
    }
   ],
   "source": [
    "#1. data set\n",
    "x_data = [[0,0],[0,1],[1,0],[1,1]]\n",
    "y_data = [[0],  [1],  [1],  [0]]\n",
    "\n",
    "#2. 모델 구성\n",
    "model = Sequential()\n",
    "model.add(Dense(10, input_dim=2, activation='relu'))\n",
    "model.add(Dense(20, activation='relu')) #은닉층부터는 input_dim 기재X\n",
    "model.add(Dense(10, activation='relu'))\n",
    "model.add(Dense(1, activation='sigmoid'))\n",
    "#입력2, 출력10: Weight 20(2*10)개, bias: 10개 -> 30(파라미터)\n",
    "#입력10, 출력20: Weight 200(10*20)개, bias:20개 -> 220(파라미터)\n",
    "print(model.summary()) #파라미터의 개수 출력\n",
    "\n",
    "#3. 모델 학습과정\n",
    "model.compile(loss='mse', optimizer='adam', metrics=['binary_accuracy'])\n",
    "#model.compile(loss=\"categorical_crossentropy\", optimizer=\"adam\", metrics=['accuracy']) \n",
    "#model.compile(loss=\"binary_crossentropy\", optimizer=\"adam\", metrics=['accuracy']) \n",
    "#loss: mse, binary_crossentropy, crossentropy\n",
    "\n",
    "#4. 학습하기\n",
    "fit_hist = model.fit(x_data, y_data, epochs=100, verbose=2)"
   ]
  },
  {
   "cell_type": "code",
   "execution_count": 4,
   "metadata": {},
   "outputs": [
    {
     "data": {
      "text/plain": [
       "dict_keys(['loss', 'binary_accuracy'])"
      ]
     },
     "execution_count": 4,
     "metadata": {},
     "output_type": "execute_result"
    }
   ],
   "source": [
    "fit_hist.history.keys()"
   ]
  },
  {
   "cell_type": "code",
   "execution_count": 5,
   "metadata": {},
   "outputs": [
    {
     "name": "stdout",
     "output_type": "stream",
     "text": [
      "0.5\t0.25\t0.25\t0.25\t0.25\t0.25\t0.5\t0.5\t0.5\t0.5\t0.5\t0.5\t0.5\t0.75\t0.75\t0.75\t0.75\t0.75\t0.75\t0.75\t0.75\t0.75\t0.75\t0.75\t0.75\t0.75\t0.75\t0.75\t0.75\t0.75\t0.75\t0.75\t0.75\t0.75\t0.75\t0.75\t0.75\t0.75\t0.75\t0.75\t0.75\t0.75\t0.75\t0.75\t0.75\t1.0\t1.0\t1.0\t1.0\t1.0\t1.0\t1.0\t1.0\t1.0\t1.0\t1.0\t1.0\t1.0\t1.0\t1.0\t1.0\t1.0\t1.0\t1.0\t1.0\t1.0\t1.0\t1.0\t1.0\t1.0\t1.0\t1.0\t1.0\t1.0\t1.0\t1.0\t1.0\t1.0\t1.0\t1.0\t1.0\t1.0\t1.0\t1.0\t1.0\t1.0\t1.0\t1.0\t1.0\t1.0\t1.0\t1.0\t1.0\t1.0\t1.0\t1.0\t1.0\t1.0\t1.0\t1.0\t"
     ]
    }
   ],
   "source": [
    "for acc in fit_hist.history['binary_accuracy']:\n",
    "    print(acc, end='\\t')"
   ]
  },
  {
   "cell_type": "code",
   "execution_count": 7,
   "metadata": {},
   "outputs": [
    {
     "data": {
      "image/png": "[encoded data removed]",
      "text/plain": [
       "<Figure size 432x288 with 1 Axes>"
      ]
     },
     "metadata": {
      "needs_background": "light"
     },
     "output_type": "display_data"
    }
   ],
   "source": [
    "plt.plot(fit_hist.history['loss'])\n",
    "plt.show()"
   ]
  },
  {
   "cell_type": "code",
   "execution_count": 8,
   "metadata": {},
   "outputs": [
    {
     "name": "stdout",
     "output_type": "stream",
     "text": [
      "space로 분리해서 0이나 1을 2개 입력(종료:9)0 0\n",
      "[0, 0]\n",
      "입력값: [[0, 0]]\n",
      "예측값: 0\n",
      "space로 분리해서 0이나 1을 2개 입력(종료:9)1 0\n",
      "[1, 0]\n",
      "입력값: [[1, 0]]\n",
      "예측값: 1\n",
      "space로 분리해서 0이나 1을 2개 입력(종료:9)0 1\n",
      "[0, 1]\n",
      "입력값: [[0, 1]]\n",
      "예측값: 1\n",
      "space로 분리해서 0이나 1을 2개 입력(종료:9)1 1\n",
      "[1, 1]\n",
      "입력값: [[1, 1]]\n",
      "예측값: 0\n",
      "space로 분리해서 0이나 1을 2개 입력(종료:9)9\n",
      "[9]\n"
     ]
    }
   ],
   "source": [
    "#입력 스타일은 [[0, 0]]\n",
    "while True:\n",
    "    input_list = input('space로 분리해서 0이나 1을 2개 입력(종료:9)').strip().split() #space를 기준으로 분리\n",
    "    input_data = list(map(int, input_list))\n",
    "    print(input_data)\n",
    "    if input_data[0] == 9:\n",
    "        break;\n",
    "    input_data = [input_data]\n",
    "    #input_data = np.array(input_data).reshape(1,2)\n",
    "    print(\"입력값:\", input_data)\n",
    "    print(\"예측값:\", int(model.predict(input_data).round()))"
   ]
  },
  {
   "cell_type": "markdown",
   "metadata": {},
   "source": [
    "## 2. AND Problem"
   ]
  },
  {
   "cell_type": "code",
   "execution_count": 9,
   "metadata": {},
   "outputs": [
    {
     "name": "stdout",
     "output_type": "stream",
     "text": [
      "Model: \"sequential_1\"\n",
      "_________________________________________________________________\n",
      "Layer (type)                 Output Shape              Param #   \n",
      "=================================================================\n",
      "dense_4 (Dense)              (None, 32)                96        \n",
      "_________________________________________________________________\n",
      "dense_5 (Dense)              (None, 1)                 33        \n",
      "=================================================================\n",
      "Total params: 129\n",
      "Trainable params: 129\n",
      "Non-trainable params: 0\n",
      "_________________________________________________________________\n",
      "None\n"
     ]
    }
   ],
   "source": [
    "#1. data set\n",
    "x_data = [[0,0],[0,1],[1,0],[1,1]]\n",
    "y_data = [[0],  [0],  [0],  [1]]\n",
    "\n",
    "#2. 모델 구성\n",
    "and_model = Sequential()\n",
    "and_model.add(Dense(32, input_dim=2, activation='relu'))\n",
    "and_model.add(Dense(1, activation='sigmoid'))\n",
    "\n",
    "print(and_model.summary()) #파라미터의 개수 출력\n",
    "\n",
    "#3. 모델 학습과정\n",
    "and_model.compile(loss='mse', optimizer='adam', metrics=['binary_accuracy'])\n",
    "\n",
    "#4. 학습하기\n",
    "and_fit_hist = and_model.fit(x_data, y_data, epochs=300, verbose=0)"
   ]
  },
  {
   "cell_type": "code",
   "execution_count": 10,
   "metadata": {},
   "outputs": [
    {
     "data": {
      "text/plain": [
       "dict_keys(['loss', 'binary_accuracy'])"
      ]
     },
     "execution_count": 10,
     "metadata": {},
     "output_type": "execute_result"
    }
   ],
   "source": [
    "and_fit_hist.history.keys()"
   ]
  },
  {
   "cell_type": "code",
   "execution_count": 12,
   "metadata": {},
   "outputs": [
    {
     "name": "stdout",
     "output_type": "stream",
     "text": [
      "0.75\t0.75\t0.75\t0.75\t0.75\t0.75\t0.75\t0.75\t0.75\t0.75\t0.75\t0.75\t0.75\t0.75\t0.75\t0.75\t0.75\t0.75\t0.75\t0.75\t0.75\t0.75\t0.75\t0.75\t0.75\t0.75\t0.75\t0.75\t0.75\t0.75\t0.75\t0.75\t0.75\t0.75\t0.75\t0.75\t0.75\t0.75\t0.75\t0.75\t0.75\t0.75\t0.75\t0.75\t0.75\t0.75\t0.75\t0.75\t0.75\t0.75\t0.75\t0.75\t0.75\t0.75\t0.75\t0.75\t0.75\t0.75\t0.75\t0.75\t0.75\t0.75\t0.75\t0.75\t0.75\t0.75\t0.75\t0.75\t0.75\t0.75\t0.75\t0.75\t0.75\t0.75\t1.0\t1.0\t1.0\t1.0\t1.0\t1.0\t1.0\t1.0\t1.0\t1.0\t1.0\t1.0\t1.0\t1.0\t1.0\t1.0\t1.0\t1.0\t1.0\t1.0\t1.0\t1.0\t1.0\t1.0\t1.0\t1.0\t1.0\t1.0\t1.0\t1.0\t1.0\t1.0\t1.0\t1.0\t1.0\t1.0\t1.0\t1.0\t1.0\t1.0\t1.0\t1.0\t1.0\t1.0\t1.0\t1.0\t1.0\t1.0\t1.0\t1.0\t1.0\t1.0\t1.0\t1.0\t1.0\t1.0\t1.0\t1.0\t1.0\t1.0\t1.0\t1.0\t1.0\t1.0\t1.0\t1.0\t1.0\t1.0\t1.0\t1.0\t1.0\t1.0\t1.0\t1.0\t1.0\t1.0\t1.0\t1.0\t1.0\t1.0\t1.0\t1.0\t1.0\t1.0\t1.0\t1.0\t1.0\t1.0\t1.0\t1.0\t1.0\t1.0\t1.0\t1.0\t1.0\t1.0\t1.0\t1.0\t1.0\t1.0\t1.0\t1.0\t1.0\t1.0\t1.0\t1.0\t1.0\t1.0\t1.0\t1.0\t1.0\t1.0\t1.0\t1.0\t1.0\t1.0\t1.0\t1.0\t1.0\t1.0\t1.0\t1.0\t1.0\t1.0\t1.0\t1.0\t1.0\t1.0\t1.0\t1.0\t1.0\t1.0\t1.0\t1.0\t1.0\t1.0\t1.0\t1.0\t1.0\t1.0\t1.0\t1.0\t1.0\t1.0\t1.0\t1.0\t1.0\t1.0\t1.0\t1.0\t1.0\t1.0\t1.0\t1.0\t1.0\t1.0\t1.0\t1.0\t1.0\t1.0\t1.0\t1.0\t1.0\t1.0\t1.0\t1.0\t1.0\t1.0\t1.0\t1.0\t1.0\t1.0\t1.0\t1.0\t1.0\t1.0\t1.0\t1.0\t1.0\t1.0\t1.0\t1.0\t1.0\t1.0\t1.0\t1.0\t1.0\t1.0\t1.0\t1.0\t1.0\t1.0\t1.0\t1.0\t1.0\t1.0\t1.0\t1.0\t1.0\t1.0\t1.0\t1.0\t1.0\t1.0\t1.0\t1.0\t1.0\t1.0\t1.0\t1.0\t1.0\t1.0\t1.0\t1.0\t1.0\t1.0\t1.0\t1.0\t1.0\t1.0\t1.0\t1.0\t1.0\t1.0\t1.0\t1.0\t"
     ]
    }
   ],
   "source": [
    "for acc in and_fit_hist.history['binary_accuracy']:\n",
    "    print(acc, end='\\t')"
   ]
  },
  {
   "cell_type": "code",
   "execution_count": 13,
   "metadata": {},
   "outputs": [
    {
     "data": {
      "image/png": "[encoded data removed]",
      "text/plain": [
       "<Figure size 432x288 with 1 Axes>"
      ]
     },
     "metadata": {
      "needs_background": "light"
     },
     "output_type": "display_data"
    }
   ],
   "source": [
    "plt.plot(and_fit_hist.history['loss'])\n",
    "plt.show()"
   ]
  },
  {
   "cell_type": "code",
   "execution_count": 14,
   "metadata": {},
   "outputs": [
    {
     "name": "stdout",
     "output_type": "stream",
     "text": [
      "space로 분리해서 0이나 1을 2개 입력(종료:9)0 0\n",
      "[0, 0]\n",
      "입력값: [[0, 0]]\n",
      "예측값: 0\n",
      "space로 분리해서 0이나 1을 2개 입력(종료:9)0 1\n",
      "[0, 1]\n",
      "입력값: [[0, 1]]\n",
      "예측값: 0\n",
      "space로 분리해서 0이나 1을 2개 입력(종료:9)1 1\n",
      "[1, 1]\n",
      "입력값: [[1, 1]]\n",
      "예측값: 1\n",
      "space로 분리해서 0이나 1을 2개 입력(종료:9)9\n",
      "[9]\n"
     ]
    }
   ],
   "source": [
    "#입력 스타일은 [[0, 0]]\n",
    "while True:\n",
    "    input_list = input('space로 분리해서 0이나 1을 2개 입력(종료:9)').strip().split() #space기준으로 분리\n",
    "    input_data = list(map(int, input_list))\n",
    "    print(input_data)\n",
    "    if input_data[0] ==9:\n",
    "        break;\n",
    "    input_data = [input_data]\n",
    "    #input_data = np.array(input_data).reshape(1,2)\n",
    "    print('입력값:', input_data)\n",
    "    print('예측값:', int(and_model.predict(input_data).round()))"
   ]
  },
  {
   "cell_type": "markdown",
   "metadata": {},
   "source": [
    "## 3. OR Problem"
   ]
  },
  {
   "cell_type": "code",
   "execution_count": 22,
   "metadata": {},
   "outputs": [
    {
     "name": "stdout",
     "output_type": "stream",
     "text": [
      "Model: \"sequential_5\"\n",
      "_________________________________________________________________\n",
      "Layer (type)                 Output Shape              Param #   \n",
      "=================================================================\n",
      "dense_12 (Dense)             (None, 32)                96        \n",
      "_________________________________________________________________\n",
      "dense_13 (Dense)             (None, 1)                 33        \n",
      "=================================================================\n",
      "Total params: 129\n",
      "Trainable params: 129\n",
      "Non-trainable params: 0\n",
      "_________________________________________________________________\n",
      "None\n"
     ]
    }
   ],
   "source": [
    "#1. data set\n",
    "x_data = [[0,0],[0,1],[1,0],[1,1]]\n",
    "y_data = [[0],  [1],  [1],  [1]]\n",
    "\n",
    "#2. 모델 구성\n",
    "or_model = Sequential()\n",
    "or_model.add(Dense(32, input_dim=2, activation='relu'))\n",
    "or_model.add(Dense(1, activation='sigmoid'))\n",
    "print(or_model.summary())\n",
    "\n",
    "#3. 학습과정\n",
    "or_model.compile(loss='mse', optimizer='adam', metrics=['accuracy'])\n",
    "\n",
    "#4. 학습하기\n",
    "or_fit_hist = or_model.fit(x_data, y_data, epochs=300, verbose=0)"
   ]
  },
  {
   "cell_type": "code",
   "execution_count": 23,
   "metadata": {},
   "outputs": [
    {
     "name": "stdout",
     "output_type": "stream",
     "text": [
      "1.0\t0.75\t0.75\t0.75\t0.75\t0.75\t0.75\t0.75\t0.75\t0.75\t0.75\t0.75\t0.75\t0.75\t0.75\t0.75\t0.75\t0.75\t0.75\t0.75\t0.75\t0.75\t0.75\t0.75\t0.75\t0.75\t0.75\t0.75\t0.75\t0.75\t0.75\t0.75\t0.75\t0.75\t0.75\t0.75\t0.75\t0.75\t0.75\t0.75\t0.75\t0.75\t0.75\t0.75\t0.75\t0.75\t0.75\t0.75\t0.75\t0.75\t0.75\t0.75\t0.75\t0.75\t0.75\t0.75\t0.75\t0.75\t0.75\t0.75\t0.75\t0.75\t0.75\t0.75\t0.75\t0.75\t0.75\t0.75\t0.75\t0.75\t0.75\t0.75\t0.75\t0.75\t0.75\t0.75\t0.75\t0.75\t0.75\t0.75\t0.75\t0.75\t0.75\t0.75\t0.75\t0.75\t0.75\t0.75\t0.75\t0.75\t0.75\t0.75\t0.75\t0.75\t0.75\t0.75\t0.75\t0.75\t0.75\t0.75\t0.75\t0.75\t0.75\t0.75\t0.75\t0.75\t0.75\t0.75\t0.75\t0.75\t0.75\t0.75\t0.75\t0.75\t0.75\t0.75\t0.75\t0.75\t0.75\t0.75\t0.75\t0.75\t0.75\t0.75\t0.75\t0.75\t0.75\t0.75\t0.75\t0.75\t0.75\t0.75\t0.75\t0.75\t0.75\t0.75\t0.75\t0.75\t0.75\t0.75\t0.75\t0.75\t0.75\t0.75\t0.75\t0.75\t0.75\t0.75\t0.75\t0.75\t0.75\t0.75\t0.75\t0.75\t0.75\t0.75\t0.75\t0.75\t0.75\t0.75\t0.75\t0.75\t0.75\t0.75\t0.75\t0.75\t0.75\t0.75\t0.75\t0.75\t0.75\t0.75\t0.75\t0.75\t0.75\t0.75\t0.75\t0.75\t0.75\t0.75\t0.75\t0.75\t0.75\t0.75\t0.75\t0.75\t0.75\t0.75\t0.75\t0.75\t0.75\t0.75\t0.75\t0.75\t0.75\t0.75\t0.75\t0.75\t0.75\t0.75\t0.75\t0.75\t0.75\t0.75\t0.75\t0.75\t0.75\t0.75\t0.75\t0.75\t0.75\t0.75\t0.75\t0.75\t0.75\t0.75\t0.75\t0.75\t0.75\t0.75\t0.75\t0.75\t0.75\t0.75\t0.75\t0.75\t0.75\t0.75\t0.75\t0.75\t0.75\t0.75\t0.75\t0.75\t0.75\t0.75\t0.75\t0.75\t0.75\t0.75\t0.75\t0.75\t0.75\t0.75\t0.75\t0.75\t1.0\t1.0\t1.0\t1.0\t1.0\t1.0\t1.0\t1.0\t1.0\t1.0\t1.0\t1.0\t1.0\t1.0\t1.0\t1.0\t1.0\t1.0\t1.0\t1.0\t1.0\t1.0\t1.0\t1.0\t1.0\t1.0\t1.0\t1.0\t1.0\t1.0\t1.0\t1.0\t1.0\t1.0\t1.0\t1.0\t1.0\t1.0\t1.0\t1.0\t1.0\t1.0\t1.0\t1.0\t1.0\t1.0\t1.0\t1.0\t1.0\t1.0\t1.0\t1.0\t1.0\t1.0\t"
     ]
    }
   ],
   "source": [
    "for acc in or_fit_hist.history['accuracy']:\n",
    "    print(acc, end='\\t')"
   ]
  },
  {
   "cell_type": "code",
   "execution_count": 24,
   "metadata": {},
   "outputs": [
    {
     "data": {
      "image/png": "[encoded data removed]",
      "text/plain": [
       "<Figure size 432x288 with 1 Axes>"
      ]
     },
     "metadata": {
      "needs_background": "light"
     },
     "output_type": "display_data"
    }
   ],
   "source": [
    "plt.plot(or_fit_hist.history['loss'])\n",
    "plt.show()"
   ]
  },
  {
   "cell_type": "code",
   "execution_count": 25,
   "metadata": {},
   "outputs": [
    {
     "name": "stdout",
     "output_type": "stream",
     "text": [
      "space로 분리해서 0이나 1을 2개 입력(종료:9)0 0\n",
      "[0, 0]\n",
      "입력값: [[0, 0]]\n",
      "예측값: 0\n",
      "space로 분리해서 0이나 1을 2개 입력(종료:9)1 0\n",
      "[1, 0]\n",
      "입력값: [[1, 0]]\n",
      "예측값: 1\n",
      "space로 분리해서 0이나 1을 2개 입력(종료:9)1 1\n",
      "[1, 1]\n",
      "입력값: [[1, 1]]\n",
      "예측값: 1\n",
      "space로 분리해서 0이나 1을 2개 입력(종료:9)9\n",
      "[9]\n"
     ]
    }
   ],
   "source": [
    "while True:\n",
    "    input_list = input('space로 분리해서 0이나 1을 2개 입력(종료:9)').strip().split() #space기준으로 분리\n",
    "    input_data = list(map(int, input_list))\n",
    "    print(input_data)\n",
    "    if input_data[0] ==9:\n",
    "        break;\n",
    "    input_data = [input_data]\n",
    "    #input_data = np.array(input_data).reshape(1,2)\n",
    "    print('입력값:', input_data)\n",
    "    print('예측값:', int(or_model.predict(input_data).round()))"
   ]
  },
  {
   "cell_type": "code",
   "execution_count": null,
   "metadata": {},
   "outputs": [],
   "source": []
  }
 ],
 "metadata": {
  "kernelspec": {
   "display_name": "Python 3",
   "language": "python",
   "name": "python3"
  },
  "language_info": {
   "codemirror_mode": {
    "name": "ipython",
    "version": 3
   },
   "file_extension": ".py",
   "mimetype": "text/x-python",
   "name": "python",
   "nbconvert_exporter": "python",
   "pygments_lexer": "ipython3",
   "version": "3.8.5"
  }
 },
 "nbformat": 4,
 "nbformat_minor": 4
}
