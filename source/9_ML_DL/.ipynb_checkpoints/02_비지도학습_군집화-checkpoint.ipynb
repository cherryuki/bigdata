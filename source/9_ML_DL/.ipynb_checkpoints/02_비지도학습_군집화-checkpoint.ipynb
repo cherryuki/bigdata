{
 "cells": [
  {
   "cell_type": "markdown",
   "metadata": {},
   "source": [
    "**21-03-19 ML_DL 02_머신러닝_비지도학습 (c)cherryuki (ji)**"
   ]
  },
  {
   "cell_type": "markdown",
   "metadata": {},
   "source": [
    "# 02. 비지도학습_군집(Clustering)"
   ]
  },
  {
   "cell_type": "code",
   "execution_count": 1,
   "metadata": {},
   "outputs": [],
   "source": [
    "import random\n",
    "import numpy as np\n",
    "import matplotlib.pyplot as plt\n",
    "\n",
    "data=[]\n",
    "for i in range(50):\n",
    "    data.append([random.randint(40,70), random.randint(140,180)])\n",
    "    data.append([random.randint(60,90), random.randint(160,200)])"
   ]
  },
  {
   "cell_type": "code",
   "execution_count": 2,
   "metadata": {},
   "outputs": [
    {
     "name": "stdout",
     "output_type": "stream",
     "text": [
      "[46, 179] [45, 168] [65, 160] [41, 173] [52, 145] [57, 146] [42, 151] [54, 146] [44, 143] [43, 169] [60, 141] [52, 153] [66, 149] [62, 157] [43, 141] [51, 180] [42, 179] [68, 177] [70, 169] [51, 177] [52, 163] [64, 151] [41, 178] [48, 155] [59, 174] [56, 166] [56, 166] [65, 148] [65, 143] [65, 176] [52, 140] [61, 157] [59, 157] [46, 159] [64, 171] [43, 166] [41, 165] [62, 176] [48, 160] [65, 168] [62, 155] [54, 172] [64, 164] [53, 168] [53, 152] [60, 173] [44, 172] [70, 144] [49, 166] [67, 168] \n",
      "----------------------------------------------------------------------\n",
      "[87, 167] [75, 177] [78, 178] [71, 192] [88, 169] [61, 178] [71, 172] [65, 170] [76, 180] [71, 170] [76, 180] [79, 182] [64, 199] [70, 180] [67, 188] [63, 195] [80, 198] [89, 172] [74, 172] [87, 161] [82, 193] [89, 186] [83, 161] [62, 173] [70, 190] [87, 176] [90, 188] [62, 183] [81, 162] [81, 196] [87, 177] [86, 182] [60, 198] [79, 164] [85, 184] [87, 172] [88, 188] [81, 178] [75, 199] [68, 172] [74, 196] [78, 175] [61, 162] [84, 168] [71, 189] [73, 189] [61, 191] [60, 191] [88, 160] [83, 196] "
     ]
    }
   ],
   "source": [
    "#group1 data[0:100:2]\n",
    "#group2 data[1:100:2]\n",
    "for i in data[0:100:2]:\n",
    "    print(i, end=' ')\n",
    "print(\"\\n----------------------------------------------------------------------\")\n",
    "for j in data[1:100:2]:\n",
    "    print(j, end=' ')"
   ]
  },
  {
   "cell_type": "code",
   "execution_count": 4,
   "metadata": {},
   "outputs": [
    {
     "data": {
      "text/plain": [
       "[<matplotlib.lines.Line2D at 0x141d7c98df0>]"
      ]
     },
     "execution_count": 4,
     "metadata": {},
     "output_type": "execute_result"
    },
    {
     "data": {
      "image/png": "[encoded data removed]",
      "text/plain": [
       "<Figure size 432x288 with 1 Axes>"
      ]
     },
     "metadata": {
      "needs_background": "light"
     },
     "output_type": "display_data"
    }
   ],
   "source": [
    "[i[0] for i in data[0:100:2]]\n",
    "[i[1] for i in data[0:100:2]]\n",
    "[j[0] for j in data[1:100:2]]\n",
    "[j[1] for j in data[1:100:2]]\n",
    "plt.plot([i[0] for i in data[0:100:2]], [i[1] for i in data[0:100:2]], 'o', color='r')\n",
    "plt.plot([j[0] for j in data[1:100:2]], [j[1] for j in data[1:100:2]], 'o', color='b')"
   ]
  },
  {
   "cell_type": "markdown",
   "metadata": {},
   "source": [
    "**머신러닝으로 군집화 하는 과정**"
   ]
  },
  {
   "cell_type": "code",
   "execution_count": 5,
   "metadata": {},
   "outputs": [
    {
     "data": {
      "image/png": "[encoded data removed]",
      "text/plain": [
       "<Figure size 432x288 with 1 Axes>"
      ]
     },
     "metadata": {
      "needs_background": "light"
     },
     "output_type": "display_data"
    }
   ],
   "source": [
    "for x in data:\n",
    "    plt.plot(x[0], x[1], 'o', color='k')"
   ]
  },
  {
   "cell_type": "code",
   "execution_count": 6,
   "metadata": {},
   "outputs": [
    {
     "name": "stdout",
     "output_type": "stream",
     "text": [
      "초기 기준점: [[89, 192], [76, 157]]\n"
     ]
    }
   ],
   "source": [
    "#초기 랜덤 지점 2개\n",
    "random_points = [[random.randint(40,90), random.randint(140,200)],\n",
    "                [random.randint(40,90), random.randint(140,200)]]\n",
    "print('초기 기준점:', random_points)"
   ]
  },
  {
   "cell_type": "code",
   "execution_count": 8,
   "metadata": {},
   "outputs": [
    {
     "name": "stdout",
     "output_type": "stream",
     "text": [
      "89 192 / 76 157\n"
     ]
    }
   ],
   "source": [
    "#기준점1\n",
    "print(random_points[0][0], random_points[0][1], end = ' / ')\n",
    "#기준점2\n",
    "print(random_points[1][0], random_points[1][1])"
   ]
  },
  {
   "cell_type": "code",
   "execution_count": 9,
   "metadata": {},
   "outputs": [
    {
     "data": {
      "text/plain": [
       "[<matplotlib.lines.Line2D at 0x141d80a1fd0>]"
      ]
     },
     "execution_count": 9,
     "metadata": {},
     "output_type": "execute_result"
    },
    {
     "data": {
      "image/png": "[encoded data removed]",
      "text/plain": [
       "<Figure size 432x288 with 1 Axes>"
      ]
     },
     "metadata": {
      "needs_background": "light"
     },
     "output_type": "display_data"
    }
   ],
   "source": [
    "for x in data:\n",
    "    plt.plot(x[0], x[1], 'o', color='k')\n",
    "plt.plot(random_points[0][0], random_points[0][1], 'x', color='r') #기준점1\n",
    "plt.plot(random_points[1][0], random_points[1][1], 'x', color='b') #기준점2"
   ]
  },
  {
   "cell_type": "code",
   "execution_count": 10,
   "metadata": {},
   "outputs": [],
   "source": [
    "#두 영역으로 나눌 빈 리스트 생성\n",
    "group1 = []\n",
    "group2 = []"
   ]
  },
  {
   "cell_type": "code",
   "execution_count": 11,
   "metadata": {},
   "outputs": [],
   "source": [
    "#영역을 나누기 위해 두 점 사이의 거리를 구하는 함수\n",
    "def dist(a, b):\n",
    "    return np.sqrt((a[0]-b[0])**2 + (a[1]-b[1])**2)"
   ]
  },
  {
   "cell_type": "code",
   "execution_count": 13,
   "metadata": {},
   "outputs": [
    {
     "data": {
      "text/plain": [
       "5.0"
      ]
     },
     "execution_count": 13,
     "metadata": {},
     "output_type": "execute_result"
    }
   ],
   "source": [
    "a=[0,0]; b=[3,4]\n",
    "dist(a,b)"
   ]
  },
  {
   "cell_type": "code",
   "execution_count": 14,
   "metadata": {},
   "outputs": [],
   "source": [
    "for d in data:\n",
    "    if dist(random_points[0], d) < dist(random_points[1], d):\n",
    "        group1.append(d) #빨간x랑 더 가까운 그룹\n",
    "    else:\n",
    "        group2.append(d) #파란x랑 더 가까운 그룹"
   ]
  },
  {
   "cell_type": "code",
   "execution_count": 16,
   "metadata": {},
   "outputs": [
    {
     "data": {
      "text/plain": [
       "[<matplotlib.lines.Line2D at 0x141d8396bb0>]"
      ]
     },
     "execution_count": 16,
     "metadata": {},
     "output_type": "execute_result"
    },
    {
     "data": {
      "image/png": "[encoded data removed]",
      "text/plain": [
       "<Figure size 432x288 with 1 Axes>"
      ]
     },
     "metadata": {
      "needs_background": "light"
     },
     "output_type": "display_data"
    }
   ],
   "source": [
    "#새로운 영역과 랜덤점 그래프\n",
    "for d in group1:\n",
    "    plt.plot(d[0], d[1], 'o', color='r')\n",
    "for d in group2:\n",
    "    plt.plot(d[0], d[1], 'o', color='b')\n",
    "plt.plot(random_points[0][0], random_points[0][1], 'x', color='r')\n",
    "plt.plot(random_points[1][0], random_points[1][1], 'x', color='b')"
   ]
  },
  {
   "cell_type": "code",
   "execution_count": 17,
   "metadata": {},
   "outputs": [
    {
     "name": "stdout",
     "output_type": "stream",
     "text": [
      "기존 기준점: [[89, 192], [76, 157]]\n",
      "새 기준점:  [[75.63333333333334, 188.06666666666666], [61.15714285714286, 163.61428571428573]]\n"
     ]
    }
   ],
   "source": [
    "#기준점 이동\n",
    "sumX=0; sumY=0\n",
    "for g in group1:\n",
    "    sumX += g[0] #x축값들 누적\n",
    "    sumY += g[1]\n",
    "#새로운 기준점\n",
    "new_points=[]\n",
    "new_points.append([sumX/len(group1), sumY/len(group1)])\n",
    "sumX=0; sumY=0\n",
    "for g in group2:\n",
    "    sumX += g[0]\n",
    "    sumY += g[1]\n",
    "new_points.append([sumX/len(group2), sumY/len(group2)])\n",
    "print(\"기존 기준점:\", random_points)\n",
    "print(\"새 기준점: \", new_points)"
   ]
  },
  {
   "cell_type": "code",
   "execution_count": 18,
   "metadata": {},
   "outputs": [
    {
     "data": {
      "text/plain": [
       "[<matplotlib.lines.Line2D at 0x141d8512670>]"
      ]
     },
     "execution_count": 18,
     "metadata": {},
     "output_type": "execute_result"
    },
    {
     "data": {
      "image/png": "[encoded data removed]",
      "text/plain": [
       "<Figure size 432x288 with 1 Axes>"
      ]
     },
     "metadata": {
      "needs_background": "light"
     },
     "output_type": "display_data"
    }
   ],
   "source": [
    "for g in group1:\n",
    "    plt.plot(g[0], g[1], 'o', color='r')\n",
    "for g in group2:\n",
    "    plt.plot(g[0], g[1], 'o', color='b')\n",
    "plt.plot(new_points[0][0], new_points[0][1], 'x', color='r')\n",
    "plt.plot(new_points[1][0], new_points[1][1], 'x', color='b') "
   ]
  },
  {
   "cell_type": "code",
   "execution_count": 19,
   "metadata": {},
   "outputs": [],
   "source": [
    "group1 = []\n",
    "group2 = []\n",
    "for d in data:\n",
    "    if dist(new_points[0], d) < dist(new_points[1], d):\n",
    "        group1.append(d)\n",
    "    else:\n",
    "        group2.append(d)"
   ]
  },
  {
   "cell_type": "code",
   "execution_count": 20,
   "metadata": {},
   "outputs": [
    {
     "data": {
      "text/plain": [
       "[<matplotlib.lines.Line2D at 0x141d7e717f0>]"
      ]
     },
     "execution_count": 20,
     "metadata": {},
     "output_type": "execute_result"
    },
    {
     "data": {
      "image/png": "[encoded data removed]",
      "text/plain": [
       "<Figure size 432x288 with 1 Axes>"
      ]
     },
     "metadata": {
      "needs_background": "light"
     },
     "output_type": "display_data"
    }
   ],
   "source": [
    "for d in group1:\n",
    "    plt.plot(d[0], d[1], 'o', color='r')\n",
    "for d in group2:\n",
    "    plt.plot(d[0], d[1], 'o', color='b')\n",
    "plt.plot(new_points[0][0], new_points[0][1], 'x', color='r')\n",
    "plt.plot(new_points[1][0], new_points[1][1], 'x', color='b')"
   ]
  },
  {
   "cell_type": "markdown",
   "metadata": {},
   "source": [
    "## 전체코드\n",
    "### 머신러닝이 군집화 하는 과정; 위 과정을 반복 군집화\n",
    "1. 랜덤한 2개의 기준점으로 group1 / group2를 나눔(기준점과의 거리를 기준으로 그룹 나눔)\n",
    "2. group1과 group2의 중간지점을 새로운 기준점으로 설정, 새롭게 group1과 group2를 나눔\n",
    "3. 위 과정을 반복해서 2개로 군집을 나눔"
   ]
  },
  {
   "cell_type": "code",
   "execution_count": 24,
   "metadata": {},
   "outputs": [
    {
     "name": "stdout",
     "output_type": "stream",
     "text": [
      "초기 기준점: [[74, 185], [85, 141]]\n",
      "1 번째 기준점: [[66.35443037974683, 176.67088607594937], [52.857142857142854, 149.76190476190476]]\n",
      "2 번째 기준점: [[70.05797101449275, 178.59420289855072], [48.96774193548387, 154.16129032258064]]\n",
      "3 번째 기준점: [[72.77049180327869, 179.45901639344262], [49.05128205128205, 157.82051282051282]]\n",
      "4 번째 기준점: [[73.20338983050847, 179.8135593220339], [49.58536585365854, 158.3658536585366]]\n",
      "5 번째 기준점: [[73.27586206896552, 180.1551724137931], [50.04761904761905, 158.4047619047619]]\n",
      "6 번째 기준점: [[73.27586206896552, 180.1551724137931], [50.04761904761905, 158.4047619047619]]\n",
      "7 번째 기준점: [[73.27586206896552, 180.1551724137931], [50.04761904761905, 158.4047619047619]]\n",
      "8 번째 기준점: [[73.27586206896552, 180.1551724137931], [50.04761904761905, 158.4047619047619]]\n",
      "9 번째 기준점: [[73.27586206896552, 180.1551724137931], [50.04761904761905, 158.4047619047619]]\n",
      "10 번째 기준점: [[73.27586206896552, 180.1551724137931], [50.04761904761905, 158.4047619047619]]\n"
     ]
    }
   ],
   "source": [
    "import random\n",
    "import numpy as np\n",
    "import matplotlib.pyplot as plt\n",
    "\n",
    "#영역을 나누기 위해 두 점 사이의 거리를 구하는 함수\n",
    "def dist(a, b): \n",
    "    return np.sqrt((a[0]-b[0])**2 + (a[1]-b[1])**2)\n",
    "\n",
    "data = []\n",
    "for i in range(50):\n",
    "    data.append([random.randint(40,70), random.randint(140,180)]) \n",
    "    data.append([random.randint(60,90), random.randint(160,200)])\n",
    "\n",
    "new_points = [[random.randint(40,90), random.randint(140,200)],\n",
    "              [random.randint(40,90), random.randint(140,200)]]\n",
    "print(\"초기 기준점:\", new_points)\n",
    "\n",
    "for i in range(1,11):\n",
    "    group1=[]\n",
    "    group2=[]\n",
    "    for d in data:\n",
    "        if dist(new_points[0], d) < dist(new_points[1], d):\n",
    "            group1.append(d)\n",
    "        else:\n",
    "            group2.append(d)\n",
    "        #group1과 group2의 중간지점을 새로운 기준점으로 설정\n",
    "    sumX=0; sumY=0;\n",
    "    for g in group1:\n",
    "        sumX += g[0]\n",
    "        sumY += g[1]\n",
    "    new_points = []\n",
    "    new_points.append([sumX/len(group1), sumY/len(group1)])\n",
    "    sumX=0; sumY=0;\n",
    "    for g in group2:\n",
    "        sumX += g[0]\n",
    "        sumY += g[1]\n",
    "    new_points.append([sumX/len(group2), sumY/len(group2)])\n",
    "    print(i, '번째 기준점:', new_points)"
   ]
  },
  {
   "cell_type": "code",
   "execution_count": 25,
   "metadata": {},
   "outputs": [
    {
     "data": {
      "text/plain": [
       "[<matplotlib.lines.Line2D at 0x141d7e030a0>]"
      ]
     },
     "execution_count": 25,
     "metadata": {},
     "output_type": "execute_result"
    },
    {
     "data": {
      "image/png": "[encoded data removed]",
      "text/plain": [
       "<Figure size 432x288 with 1 Axes>"
      ]
     },
     "metadata": {
      "needs_background": "light"
     },
     "output_type": "display_data"
    }
   ],
   "source": [
    "#컴퓨터가 군집화한 결과\n",
    "for g in group1:\n",
    "    plt.plot(g[0], g[1], 'o', color='r')\n",
    "for g in group2:\n",
    "    plt.plot(g[0], g[1], 'o', color='b')\n",
    "plt.plot(new_points[0][0], new_points[0][1], 'x', color='r')\n",
    "plt.plot(new_points[1][0], new_points[1][1], 'x', color='b')"
   ]
  },
  {
   "cell_type": "code",
   "execution_count": 26,
   "metadata": {},
   "outputs": [
    {
     "data": {
      "text/plain": [
       "[<matplotlib.lines.Line2D at 0x141d81b8ca0>]"
      ]
     },
     "execution_count": 26,
     "metadata": {},
     "output_type": "execute_result"
    },
    {
     "data": {
      "image/png": "[encoded data removed]",
      "text/plain": [
       "<Figure size 432x288 with 1 Axes>"
      ]
     },
     "metadata": {
      "needs_background": "light"
     },
     "output_type": "display_data"
    }
   ],
   "source": [
    "#실제 그룹\n",
    "#그룹1번 x좌표\n",
    "[d[0] for d in data[0:100:2]]\n",
    "#그룹1번 y좌표\n",
    "[d[1] for d in data[0:100:2]]\n",
    "#그룹2번 x좌표\n",
    "[d[0] for d in data[1:100:2]]\n",
    "#그룹2번 y좌표\n",
    "[d[1] for d in data[1:100:2]]\n",
    "plt.plot([d[0] for d in data[0:100:2]], [d[1] for d in data[0:100:2]], 'o', color='r')\n",
    "plt.plot([d[0] for d in data[1:100:2]], [d[1] for d in data[1:100:2]], 'o', color='b')"
   ]
  },
  {
   "cell_type": "code",
   "execution_count": null,
   "metadata": {},
   "outputs": [],
   "source": []
  }
 ],
 "metadata": {
  "kernelspec": {
   "display_name": "Python 3",
   "language": "python",
   "name": "python3"
  },
  "language_info": {
   "codemirror_mode": {
    "name": "ipython",
    "version": 3
   },
   "file_extension": ".py",
   "mimetype": "text/x-python",
   "name": "python",
   "nbconvert_exporter": "python",
   "pygments_lexer": "ipython3",
   "version": "3.8.5"
  }
 },
 "nbformat": 4,
 "nbformat_minor": 4
}
