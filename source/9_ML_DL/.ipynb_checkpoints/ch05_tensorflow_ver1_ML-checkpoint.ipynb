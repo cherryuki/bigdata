{
 "cells": [
  {
   "cell_type": "markdown",
   "metadata": {},
   "source": [
    "**21-03-22 ML_DL 05_tensorflow ver1_머신러닝 (c)cherryuki (ji)**"
   ]
  },
  {
   "cell_type": "markdown",
   "metadata": {},
   "source": [
    "# 05. 머신러닝 with tensorflow\n",
    "## 1. tensroflow ver2.x에서 ver1 사용하기"
   ]
  },
  {
   "cell_type": "code",
   "execution_count": 1,
   "metadata": {},
   "outputs": [
    {
     "name": "stdout",
     "output_type": "stream",
     "text": [
      "WARNING:tensorflow:From C:\\Users\\Home\\anaconda3\\lib\\site-packages\\tensorflow\\python\\compat\\v2_compat.py:96: disable_resource_variables (from tensorflow.python.ops.variable_scope) is deprecated and will be removed in a future version.\n",
      "Instructions for updating:\n",
      "non-resource variables are not supported in the long term\n"
     ]
    }
   ],
   "source": [
    "import tensorflow.compat.v1 as tf\n",
    "tf.disable_v2_behavior()\n",
    "#ver1로 사용하기"
   ]
  },
  {
   "cell_type": "code",
   "execution_count": 2,
   "metadata": {},
   "outputs": [
    {
     "name": "stdout",
     "output_type": "stream",
     "text": [
      "b'Hello, TensorFlow'\n",
      "Hello, TensorFlow\n"
     ]
    }
   ],
   "source": [
    "#tensor=data(상수, 변수) 연산\n",
    "#node1 상수 tensor 선언\n",
    "node1 = tf.constant('Hello, TensorFlow')\n",
    "#graph(computational graph 생성)\n",
    "sess = tf.Session()\n",
    "#print(node1)\n",
    "print(sess.run(node1)) #b가 의미하는 것: byte literals\n",
    "#https://stackoverflow.com/questions/6269765/what-does-the-b-character-do-in-front-of-a-string-literal \n",
    "print(sess.run(node1).decode())"
   ]
  },
  {
   "cell_type": "code",
   "execution_count": 3,
   "metadata": {},
   "outputs": [
    {
     "name": "stdout",
     "output_type": "stream",
     "text": [
      "[10.0, 20.0, 30.0]\n"
     ]
    }
   ],
   "source": [
    "#간단한 수학연산 수행(computation graph)\n",
    "node1 = tf.constant(10, dtype=tf.float32)\n",
    "node2 = tf.constant(20, dtype=tf.float32)\n",
    "#node3 = node1+node2\n",
    "node3 = tf.add(node1, node2)\n",
    "#computational graph실행\n",
    "sess = tf.Session()\n",
    "print(sess.run([node1, node2, node3]))"
   ]
  },
  {
   "cell_type": "markdown",
   "metadata": {},
   "source": [
    "### Tensorflow\n",
    "<ol>\n",
    "    <li>그래프 정의</li>\n",
    "    <li>sess = tf.Session()을 실행</li>\n",
    "    <li>sess.run()을 통해 값을 확인할 수 있음</li>\n",
    "</ol>"
   ]
  },
  {
   "cell_type": "code",
   "execution_count": 4,
   "metadata": {},
   "outputs": [
    {
     "name": "stdout",
     "output_type": "stream",
     "text": [
      "[1 2 3]\n",
      "[1. 2. 3.]\n"
     ]
    }
   ],
   "source": [
    "import numpy as np\n",
    "node1 = tf.constant(np.array([1,2,3]), dtype=tf.int16)\n",
    "node2 = tf.cast(node1, dtype=tf.float32)\n",
    "sess = tf.Session()\n",
    "print(sess.run(node1))\n",
    "print(sess.run(node2))"
   ]
  },
  {
   "cell_type": "code",
   "execution_count": 5,
   "metadata": {},
   "outputs": [
    {
     "name": "stdout",
     "output_type": "stream",
     "text": [
      "2.5\n"
     ]
    }
   ],
   "source": [
    "data = [1., 2., 3., 4.]\n",
    "m = tf.reduce_mean(data) #reduce_mean(); 평균값 연산\n",
    "sess = tf.Session()\n",
    "print(sess.run(m))"
   ]
  },
  {
   "cell_type": "markdown",
   "metadata": {},
   "source": [
    "## 2. tensorflow ver1을 이용한 linear regression을 구현\n",
    "- 독립변수 x가 1개"
   ]
  },
  {
   "cell_type": "code",
   "execution_count": 7,
   "metadata": {},
   "outputs": [
    {
     "name": "stdout",
     "output_type": "stream",
     "text": [
      " 200번째 cost:0.00689883716404438, W:[1.0962362], b:[-0.2187675]\n",
      " 400번째 cost:0.0026343094650655985, W:[1.059468], b:[-0.135185]\n",
      " 600번째 cost:0.0010059115011245012, W:[1.0367477], b:[-0.08353614]\n",
      " 800번째 cost:0.0003841047000605613, W:[1.0227079], b:[-0.05162028]\n",
      "1000번째 cost:0.0001466700923629105, W:[1.014032], b:[-0.03189807]\n",
      "1200번째 cost:5.6005341320997104e-05, W:[1.0086709], b:[-0.01971106]\n",
      "1400번째 cost:2.1385072614066303e-05, W:[1.0053581], b:[-0.01218018]\n",
      "1600번째 cost:8.166013685695361e-06, W:[1.0033109], b:[-0.00752654]\n",
      "1800번째 cost:3.1185693387669744e-06, W:[1.0020461], b:[-0.0046512]\n",
      "2000번째 cost:1.1912467243746505e-06, W:[1.0012646], b:[-0.00287471]\n",
      "2200번째 cost:4.553719463729067e-07, W:[1.000782], b:[-0.00177731]\n",
      "2400번째 cost:1.7423269582650391e-07, W:[1.0004838], b:[-0.00109935]\n",
      "2600번째 cost:6.674971331221968e-08, W:[1.0002997], b:[-0.00068035]\n",
      "2800번째 cost:2.5606516018683578e-08, W:[1.0001854], b:[-0.00042158]\n",
      "3000번째 cost:9.819459023674426e-09, W:[1.000115], b:[-0.00026103]\n",
      "3200번째 cost:3.765073142147912e-09, W:[1.0000712], b:[-0.00016166]\n",
      "3400번째 cost:1.4906937906289386e-09, W:[1.0000447], b:[-0.0001017]\n",
      "3600번째 cost:5.449511397692675e-10, W:[1.0000271], b:[-6.160356e-05]\n",
      "3800번째 cost:2.1529160398880975e-10, W:[1.0000172], b:[-3.8586055e-05]\n",
      "4000번째 cost:9.559672498049565e-11, W:[1.0000114], b:[-2.5471869e-05]\n",
      "4200번째 cost:4.817758345043721e-11, W:[1.0000083], b:[-1.7987739e-05]\n",
      "4400번째 cost:2.858456527032871e-11, W:[1.0000064], b:[-1.3726229e-05]\n",
      "4600번째 cost:2.0180792800750247e-11, W:[1.0000055], b:[-1.1326011e-05]\n",
      "4800번째 cost:1.63497115152067e-11, W:[1.0000049], b:[-9.991549e-06]\n",
      "5000번째 cost:1.372617904754625e-11, W:[1.0000045], b:[-9.269779e-06]\n",
      "5200번째 cost:1.332526710501325e-11, W:[1.0000044], b:[-8.90282e-06]\n",
      "5400번째 cost:1.3323466462045186e-11, W:[1.0000044], b:[-8.861955e-06]\n",
      "5600번째 cost:1.332346472732171e-11, W:[1.0000044], b:[-8.861246e-06]\n",
      "5800번째 cost:1.332346472732171e-11, W:[1.0000044], b:[-8.861246e-06]\n",
      "6000번째 cost:1.332346472732171e-11, W:[1.0000044], b:[-8.861246e-06]\n"
     ]
    }
   ],
   "source": [
    "#tensro graph 정의\n",
    "\n",
    "#train data set\n",
    "#x = np.array([1,2,3])\n",
    "#y = np.array([1,2,3])\n",
    "x = [1,2,3]\n",
    "y = [1,2,3]\n",
    "\n",
    "#Weight & bias(처음에는 랜덤값을 세팅했다가 학습과정에서 변경)\n",
    "W = tf.Variable(tf.random_normal([1]), name='weight')\n",
    "b = tf.Variable(tf.random_normal([1]), name='bias')\n",
    "\n",
    "#Hypothesis(가설)\n",
    "H = W*x+b\n",
    "\n",
    "#Cost function(최소 제곱법)\n",
    "cost = tf.reduce_mean(tf.square(H-y))\n",
    "\n",
    "#cost function minimize(목적: cost함수가 최소가 되는 W와 b를 찾는 것)\n",
    "'''\n",
    "cost함수는 제곱의 평균인 2차 함수이므로 곡선. 곡선 위의 미분값이 줄어드는 방향으로 학습\n",
    "'''\n",
    "optimizer = tf.train.GradientDescentOptimizer(learning_rate=0.01)\n",
    "train = optimizer.minimize(cost)\n",
    "\n",
    "#Session; runnder 생성\n",
    "sess = tf.Session()\n",
    "\n",
    "#Variable 노드 초기화\n",
    "sess.run(tf.global_variables_initializer())\n",
    "\n",
    "#6000번 학습(tensorflow ver2. fit()함수)\n",
    "\"\"\"\n",
    "for step in range(1,6001):\n",
    "    sess.run(train)\n",
    "    if step%300 == 0:\n",
    "        print(\"{:4d}번째 cost:{}, W:{}, b:{}\".format(step, sess.run(cost), \n",
    "                                                sess.run(W), sess.run(b)))\n",
    "\"\"\"\n",
    "for step in range(1, 6001):\n",
    "    _, cost_val, W_val, b_val = sess.run([train, cost, W, b])\n",
    "    if step%200==0:\n",
    "        print(\"{:4d}번째 cost:{}, W:{}, b:{}\".format(step, cost_val, W_val, b_val))"
   ]
  },
  {
   "cell_type": "code",
   "execution_count": 8,
   "metadata": {},
   "outputs": [
    {
     "data": {
      "text/plain": [
       "[array([1.0000044], dtype=float32), array([-8.861246e-06], dtype=float32)]"
      ]
     },
     "execution_count": 8,
     "metadata": {},
     "output_type": "execute_result"
    }
   ],
   "source": [
    "sess.run([W, b])"
   ]
  },
  {
   "cell_type": "code",
   "execution_count": 9,
   "metadata": {},
   "outputs": [],
   "source": [
    "W_, b_ = sess.run([W,b])"
   ]
  },
  {
   "cell_type": "code",
   "execution_count": 10,
   "metadata": {},
   "outputs": [
    {
     "name": "stdout",
     "output_type": "stream",
     "text": [
      "최종적으로 나온 회귀식: H = 1.0000044107437134*x+-8.861245987645816e-06\n"
     ]
    }
   ],
   "source": [
    "print(\"최종적으로 나온 회귀식: H = {}*x+{}\".format(W_[0], b_[0]))"
   ]
  },
  {
   "cell_type": "code",
   "execution_count": 12,
   "metadata": {},
   "outputs": [
    {
     "name": "stdout",
     "output_type": "stream",
     "text": [
      "   1번째 cost:45931.61328125, W:100.0, b:[0.48832226]\n",
      " 201번째 cost:71.30884552001953, W:10.807709693908691, b:[-22.29523]\n",
      " 401번째 cost:27.22920036315918, W:7.0605692863464355, b:[-13.777098]\n",
      " 601번째 cost:10.397439956665039, W:4.745063304901123, b:[-8.51341]\n",
      " 801번째 cost:3.97025203704834, W:3.3142220973968506, b:[-5.2607703]\n",
      "1001번째 cost:1.5160373449325562, W:2.430048942565918, b:[-3.2508373]\n",
      "1201번째 cost:0.5788976550102234, W:1.883683681488037, b:[-2.0088208]\n",
      "1401번째 cost:0.22105109691619873, W:1.5460624694824219, b:[-1.2413282]\n",
      "1601번째 cost:0.08440816402435303, W:1.3374334573745728, b:[-0.7670655]\n",
      "1801번째 cost:0.03223118185997009, W:1.2085134983062744, b:[-0.47400007]\n",
      "2001번째 cost:0.012307435274124146, W:1.1288485527038574, b:[-0.2929032]\n",
      "2201번째 cost:0.004699577111750841, W:1.0796204805374146, b:[-0.18099624]\n",
      "2401번째 cost:0.0017945297295227647, W:1.0492006540298462, b:[-0.11184467]\n",
      "2601번째 cost:0.0006852350197732449, W:1.0304028987884521, b:[-0.06911308]\n",
      "2801번째 cost:0.00026165906456299126, W:1.018787145614624, b:[-0.04270795]\n",
      "3001번째 cost:9.991270053433254e-05, W:1.0116093158721924, b:[-0.02639068]\n",
      "3201번째 cost:3.8150796171976253e-05, W:1.0071738958358765, b:[-0.01630773]\n",
      "3401번째 cost:1.4567569451173767e-05, W:1.0044329166412354, b:[-0.01007706]\n",
      "3601번째 cost:5.562960268434836e-06, W:1.002739429473877, b:[-0.00622718]\n",
      "3801번째 cost:2.1246862615953432e-06, W:1.0016931295394897, b:[-0.00384849]\n"
     ]
    }
   ],
   "source": [
    "x = [1,2,3]\n",
    "y = [1,2,3]\n",
    "\n",
    "#Weight & bias(처음에는 랜덤값을 세팅했다가 학습과정에서 변경)\n",
    "W = tf.Variable(100.0, name='weight')\n",
    "b = tf.Variable(tf.random_normal([1]), name='bias')\n",
    "\n",
    "#Hypothesis(가설)\n",
    "H = W*x+b\n",
    "\n",
    "#Cost function(최소 제곱법)\n",
    "cost = tf.reduce_mean(tf.square(H-y))\n",
    "\n",
    "#cost function minimize(목적: cost함수가 최소가 되는 W와 b를 찾는 것)\n",
    "'''\n",
    "cost함수는 제곱의 평균인 2차 함수이므로 곡선. 곡선 위의 미분값이 줄어드는 방향으로 학습\n",
    "'''\n",
    "optimizer = tf.train.GradientDescentOptimizer(learning_rate=0.01)\n",
    "train = optimizer.minimize(cost)\n",
    "\n",
    "#Session; runnder 생성\n",
    "sess = tf.Session()\n",
    "\n",
    "#Variable 노드 초기화\n",
    "sess.run(tf.global_variables_initializer())\n",
    "\n",
    "#4000번 학습(tensorflow ver2. fit()함수)\n",
    "for step in range(1, 4001):\n",
    "    cost_val, W_val, b_val = sess.run([cost, W, b])\n",
    "    if step%200==1:\n",
    "        print(\"{:4d}번째 cost:{}, W:{}, b:{}\".format(step, cost_val, W_val, b_val))\n",
    "    sess.run(train)"
   ]
  },
  {
   "cell_type": "markdown",
   "metadata": {},
   "source": [
    "## 2.1 predict를 하기 위한 placeholder 노드"
   ]
  },
  {
   "cell_type": "code",
   "execution_count": 13,
   "metadata": {},
   "outputs": [
    {
     "data": {
      "text/plain": [
       "30.0"
      ]
     },
     "execution_count": 13,
     "metadata": {},
     "output_type": "execute_result"
    }
   ],
   "source": [
    "#placeholder 이용\n",
    "a = tf.placeholder(dtype=tf.float32)\n",
    "b = tf.placeholder(tf.float32)\n",
    "#ab = tf.add(a+b)\n",
    "ab = a+b\n",
    "sess = tf.Session()\n",
    "sess.run(ab, feed_dict={a:10, b:20})"
   ]
  },
  {
   "cell_type": "code",
   "execution_count": 14,
   "metadata": {},
   "outputs": [
    {
     "data": {
      "text/plain": [
       "array([11., 12., 13.], dtype=float32)"
      ]
     },
     "execution_count": 14,
     "metadata": {},
     "output_type": "execute_result"
    }
   ],
   "source": [
    "sess.run(ab, feed_dict={a:[1,2,3], b:[10,10,10]})"
   ]
  },
  {
   "cell_type": "code",
   "execution_count": 15,
   "metadata": {},
   "outputs": [
    {
     "data": {
      "text/plain": [
       "array([11., 12., 13.], dtype=float32)"
      ]
     },
     "execution_count": 15,
     "metadata": {},
     "output_type": "execute_result"
    }
   ],
   "source": [
    "sess.run(ab, feed_dict={a:np.array([1,2,3]),\n",
    "                       b:np.array([10,10,10])})"
   ]
  },
  {
   "cell_type": "code",
   "execution_count": 17,
   "metadata": {},
   "outputs": [
    {
     "name": "stdout",
     "output_type": "stream",
     "text": [
      "node1값은? 10\n",
      "node2값은? 20\n",
      "30.0\n"
     ]
    }
   ],
   "source": [
    "#그래프 실행단계에서 값을 던져줌\n",
    "node1 = tf.placeholder(tf.float32)\n",
    "node2 = tf.placeholder(tf.float32)\n",
    "adder_node = node1+node2\n",
    "sess = tf.Session()\n",
    "result = sess.run(adder_node, feed_dict={node1:input(\"node1값은? \"),\n",
    "                                        node2:input(\"node2값은? \")})\n",
    "print(result)"
   ]
  },
  {
   "cell_type": "code",
   "execution_count": 19,
   "metadata": {},
   "outputs": [
    {
     "name": "stdout",
     "output_type": "stream",
     "text": [
      " 200번째 cost:8.157917363860179e-07, W:[2.5854847], b:[1.6690556]\n",
      " 400번째 cost:8.157917363860179e-07, W:[2.3617938], b:[2.1775577]\n",
      " 600번째 cost:8.157917363860179e-07, W:[2.2235663], b:[2.491781]\n",
      " 800번째 cost:8.157917363860179e-07, W:[2.1381505], b:[2.6859517]\n",
      "1000번째 cost:8.157917363860179e-07, W:[2.0853689], b:[2.8059368]\n",
      "1200번째 cost:8.157917363860179e-07, W:[2.0527525], b:[2.8800814]\n",
      "1400번째 cost:8.157917363860179e-07, W:[2.0325973], b:[2.925899]\n",
      "1600번째 cost:8.157917363860179e-07, W:[2.0201433], b:[2.9542093]\n",
      "1800번째 cost:8.157917363860179e-07, W:[2.0124476], b:[2.9717038]\n",
      "2000번째 cost:8.157917363860179e-07, W:[2.0076916], b:[2.9825153]\n",
      "2200번째 cost:8.157917363860179e-07, W:[2.0047529], b:[2.9891956]\n",
      "2400번째 cost:8.157917363860179e-07, W:[2.002937], b:[2.993323]\n",
      "2600번째 cost:8.157917363860179e-07, W:[2.0018158], b:[2.995873]\n",
      "2800번째 cost:8.157917363860179e-07, W:[2.0011234], b:[2.9974473]\n",
      "3000번째 cost:8.157917363860179e-07, W:[2.0006957], b:[2.9984195]\n",
      "3200번째 cost:8.157917363860179e-07, W:[2.000431], b:[2.999021]\n",
      "3400번째 cost:8.157917363860179e-07, W:[2.000268], b:[2.99939]\n",
      "3600번째 cost:8.157917363860179e-07, W:[2.0001671], b:[2.9996192]\n",
      "3800번째 cost:8.157917363860179e-07, W:[2.0001047], b:[2.9997613]\n",
      "4000번째 cost:8.157917363860179e-07, W:[2.000063], b:[2.9998562]\n",
      "4200번째 cost:8.157917363860179e-07, W:[2.000042], b:[2.9999046]\n",
      "4400번째 cost:8.157917363860179e-07, W:[2.000026], b:[2.999942]\n",
      "4600번째 cost:8.157917363860179e-07, W:[2.000026], b:[2.999942]\n",
      "4800번째 cost:8.157917363860179e-07, W:[2.000026], b:[2.999942]\n",
      "5000번째 cost:8.157917363860179e-07, W:[2.000026], b:[2.999942]\n",
      "5200번째 cost:8.157917363860179e-07, W:[2.000026], b:[2.999942]\n",
      "5400번째 cost:8.157917363860179e-07, W:[2.000026], b:[2.999942]\n",
      "5600번째 cost:8.157917363860179e-07, W:[2.000026], b:[2.999942]\n",
      "5800번째 cost:8.157917363860179e-07, W:[2.000026], b:[2.999942]\n",
      "6000번째 cost:8.157917363860179e-07, W:[2.000026], b:[2.999942]\n"
     ]
    }
   ],
   "source": [
    "#training data set(H=2x+3)\n",
    "x_data = [1,2,3]\n",
    "y_data = [5,7,9]\n",
    "\n",
    "#placeholder 설정\n",
    "x = tf.placeholder(dtype=tf.float32)\n",
    "y = tf.placeholder(dtype=tf.float32)\n",
    "\n",
    "#Weight & bias\n",
    "W = tf.Variable(tf.random_normal([1]), name='weight')\n",
    "b = tf.Variable(tf.random_normal([1]), name='bias')\n",
    "\n",
    "#Hypothesis\n",
    "H = W*x+b\n",
    "\n",
    "#cost function\n",
    "cost = tf.reduce_mean(tf.square(H-y))\n",
    "\n",
    "#경사하강법\n",
    "optimizer = tf.train.GradientDescentOptimizer(learning_rate=0.01)\n",
    "train = optimizer.minimize(cost)\n",
    "\n",
    "#Session & Variable 초기화\n",
    "sess = tf.Session()\n",
    "sess.run(tf.global_variables_initializer())\n",
    "\n",
    "#학습\n",
    "for step in range(1,6001):\n",
    "    _, cost_val_, W_val, b_val = sess.run([train, cost, W, b],\n",
    "                                         feed_dict={x:x_data, y:y_data})\n",
    "    if step%200==0:\n",
    "        print(\"{:4d}번째 cost:{}, W:{}, b:{}\".format(step, cost_val, W_val, b_val))"
   ]
  },
  {
   "cell_type": "code",
   "execution_count": 20,
   "metadata": {},
   "outputs": [
    {
     "data": {
      "text/plain": [
       "[array([2.000026], dtype=float32), array([2.999942], dtype=float32)]"
      ]
     },
     "execution_count": 20,
     "metadata": {},
     "output_type": "execute_result"
    }
   ],
   "source": [
    "sess.run([W,b])"
   ]
  },
  {
   "cell_type": "code",
   "execution_count": 21,
   "metadata": {},
   "outputs": [
    {
     "data": {
      "text/plain": [
       "array([13.000072], dtype=float32)"
      ]
     },
     "execution_count": 21,
     "metadata": {},
     "output_type": "execute_result"
    }
   ],
   "source": [
    "#예측해보기(predict)\n",
    "sess.run(H, feed_dict={x:5})"
   ]
  },
  {
   "cell_type": "code",
   "execution_count": 22,
   "metadata": {},
   "outputs": [
    {
     "data": {
      "text/plain": [
       "array([ 4.999968, 23.000202, 43.00046 ], dtype=float32)"
      ]
     },
     "execution_count": 22,
     "metadata": {},
     "output_type": "execute_result"
    }
   ],
   "source": [
    "sess.run(H, feed_dict={x:np.array([1,10,20])})"
   ]
  },
  {
   "cell_type": "markdown",
   "metadata": {},
   "source": [
    "## 2.2 scale이 다른 데이터들의 linear regression을 구현"
   ]
  },
  {
   "cell_type": "code",
   "execution_count": 23,
   "metadata": {},
   "outputs": [
    {
     "name": "stdout",
     "output_type": "stream",
     "text": [
      "200번째 cost:79.17534637451172, W:[10.113657]\n",
      "400번째 cost:79.14275360107422, W:[10.145868]\n",
      "600번째 cost:79.13975524902344, W:[10.155624]\n",
      "800번째 cost:79.13949584960938, W:[10.15858]\n",
      "1000번째 cost:79.13948059082031, W:[10.159474]\n",
      "1200번째 cost:79.13945007324219, W:[10.159746]\n",
      "1400번째 cost:79.13945770263672, W:[10.159828]\n",
      "1600번째 cost:79.13945007324219, W:[10.159853]\n",
      "1800번째 cost:79.13948059082031, W:[10.15986]\n",
      "2000번째 cost:79.13947296142578, W:[10.159862]\n",
      "2200번째 cost:79.13946533203125, W:[10.1598625]\n",
      "2400번째 cost:79.13946533203125, W:[10.1598625]\n",
      "2600번째 cost:79.13946533203125, W:[10.1598625]\n",
      "2800번째 cost:79.13946533203125, W:[10.1598625]\n",
      "3000번째 cost:79.13946533203125, W:[10.1598625]\n",
      "3200번째 cost:79.13946533203125, W:[10.1598625]\n",
      "3400번째 cost:79.13946533203125, W:[10.1598625]\n",
      "3600번째 cost:79.13946533203125, W:[10.1598625]\n",
      "3800번째 cost:79.13946533203125, W:[10.1598625]\n",
      "4000번째 cost:79.13946533203125, W:[10.1598625]\n",
      "4200번째 cost:79.13946533203125, W:[10.1598625]\n",
      "4400번째 cost:79.13946533203125, W:[10.1598625]\n",
      "4600번째 cost:79.13946533203125, W:[10.1598625]\n",
      "4800번째 cost:79.13946533203125, W:[10.1598625]\n",
      "5000번째 cost:79.13946533203125, W:[10.1598625]\n",
      "5200번째 cost:79.13946533203125, W:[10.1598625]\n",
      "5400번째 cost:79.13946533203125, W:[10.1598625]\n",
      "5600번째 cost:79.13946533203125, W:[10.1598625]\n",
      "5800번째 cost:79.13946533203125, W:[10.1598625]\n",
      "6000번째 cost:79.13946533203125, W:[10.1598625]\n"
     ]
    }
   ],
   "source": [
    "#training data set\n",
    "x_data = [1,2,5,8,10]\n",
    "y_data = [5,15,68,80,95]\n",
    "\n",
    "#placeholder를 설정\n",
    "x = tf.placeholder(dtype=tf.float32, shape=None)\n",
    "y = tf.placeholder(dtype=tf.float32, shape=None)\n",
    "\n",
    "#Weight & bias\n",
    "W = tf.Variable(tf.random_normal([1]), name='weight')\n",
    "b = tf.Variable(tf.random_normal([1]), name='bias')\n",
    "\n",
    "#Hypothesis\n",
    "H = W*x+b\n",
    "\n",
    "#cost function\n",
    "cost = tf.reduce_mean(tf.square(H-y))\n",
    "\n",
    "#train\n",
    "train = tf.train.GradientDescentOptimizer(learning_rate=0.01).minimize(cost)\n",
    "#optimizer = tf.train.GradientDescentOptimizer(learning_rate=0.01)\n",
    "#train = optimizer.minimize(cost)\n",
    "\n",
    "#Session & Variable 초기화\n",
    "sess = tf.Session()\n",
    "sess.run(tf.global_variables_initializer())\n",
    "\n",
    "#학습\n",
    "for step in range(1, 6001):\n",
    "    _, cost_val, W_val = sess.run([train, cost, W], feed_dict={x:x_data, y:y_data})\n",
    "    if step%200==0:\n",
    "        print(\"{}번째 cost:{}, W:{}\".format(step, cost_val, W_val))"
   ]
  },
  {
   "cell_type": "code",
   "execution_count": 24,
   "metadata": {},
   "outputs": [
    {
     "data": {
      "text/plain": [
       "[array([10.1598625], dtype=float32), array([-0.23128368], dtype=float32)]"
      ]
     },
     "execution_count": 24,
     "metadata": {},
     "output_type": "execute_result"
    }
   ],
   "source": [
    "sess.run([W,b])"
   ]
  },
  {
   "cell_type": "code",
   "execution_count": 25,
   "metadata": {},
   "outputs": [
    {
     "data": {
      "text/plain": [
       "array([101.36734], dtype=float32)"
      ]
     },
     "execution_count": 25,
     "metadata": {},
     "output_type": "execute_result"
    }
   ],
   "source": [
    "#예측을 할 수는 있으나 cost 너무 큰 값이나 신뢰할 수 없음\n",
    "sess.run(H, feed_dict={x:10})"
   ]
  },
  {
   "cell_type": "code",
   "execution_count": null,
   "metadata": {},
   "outputs": [],
   "source": [
    "\"\"\"\n",
    "예측이 제대로 안되는 이유: GradientDescentOptimizer에서 \n",
    "local 최소값을 만나면 global 최소값이 따로 있어도 멈춤\n",
    "\"\"\""
   ]
  },
  {
   "cell_type": "markdown",
   "metadata": {},
   "source": [
    "## 3. 독립변수 x가 여러개인 linear regression\n",
    "- scale이 다른 x, y값"
   ]
  },
  {
   "cell_type": "code",
   "execution_count": 34,
   "metadata": {},
   "outputs": [
    {
     "name": "stdout",
     "output_type": "stream",
     "text": [
      "3000번째 cost:0.8595651388168335\n",
      "6000번째 cost:0.34749746322631836\n",
      "9000번째 cost:0.24010486900806427\n",
      "12000번째 cost:0.21322080492973328\n",
      "15000번째 cost:0.20295949280261993\n",
      "18000번째 cost:0.19663408398628235\n",
      "21000번째 cost:0.19166818261146545\n",
      "24000번째 cost:0.18747270107269287\n",
      "27000번째 cost:0.1838529407978058\n",
      "30000번째 cost:0.18073228001594543\n"
     ]
    }
   ],
   "source": [
    "#trining data set(np.array나 list로 생성)\n",
    "x_data = np.array([[73,80,75],\n",
    "                   [93,88,93],\n",
    "                   [89,91,90],\n",
    "                   [96,98,100],\n",
    "                   [73,66,70]])\n",
    "y_data = np.array([[152],[185],[180],[196],[142]])\n",
    "#np.c_[x_data, y_data]\n",
    "\n",
    "#placeholder\n",
    "X = tf.placeholder(shape=[None, 3], dtype=tf.float32)\n",
    "Y = tf.placeholder(shape=[None, 1], dtype=tf.float32)\n",
    "\n",
    "#Weight & bias\n",
    "W = tf.Variable(tf.random_normal([3,1]), name='weight')\n",
    "b = tf.Variable(tf.random_normal([1]), name='bias')\n",
    "\n",
    "#Hypothesis\n",
    "#H = X@W+b\n",
    "H = tf.matmul(X, W) + b\n",
    "\n",
    "#cost function\n",
    "cost = tf.reduce_mean(tf.square(H-Y))\n",
    "\n",
    "#train\n",
    "train = tf.train.GradientDescentOptimizer(learning_rate=1e-5).minimize(cost) \n",
    "#learning_rate=0.01=1e-2 -> cost: nan 으로 나와서 1e-5로 조정\n",
    "\n",
    "#session & Variable 초기화\n",
    "sess = tf.Session()\n",
    "sess.run(tf.global_variables_initializer())\n",
    "\n",
    "#학습\n",
    "for step in range(1, 30001):\n",
    "    _, cost_val = sess.run([train, cost], feed_dict={X:x_data, Y:y_data})\n",
    "    if step%3000==0:\n",
    "        print(\"{}번째 cost:{}\".format(step, cost_val))"
   ]
  },
  {
   "cell_type": "markdown",
   "metadata": {},
   "source": [
    "## 4. Ozone량 예측 예제\n",
    "- 독립변수 x가 3 => Multi-variable Linear Regression"
   ]
  },
  {
   "cell_type": "code",
   "execution_count": 35,
   "metadata": {},
   "outputs": [],
   "source": [
    "import tensorflow.compat.v1 as tf\n",
    "tf.disable_v2_behavior()\n",
    "import numpy as np\n",
    "import pandas as pd"
   ]
  },
  {
   "cell_type": "code",
   "execution_count": 47,
   "metadata": {},
   "outputs": [
    {
     "name": "stdout",
     "output_type": "stream",
     "text": [
      " 300번째 cost:775.7948608398438\n",
      " 600번째 cost:715.5421142578125\n",
      " 900번째 cost:666.9257202148438\n",
      "1200번째 cost:627.6930541992188\n",
      "1500번째 cost:596.032958984375\n",
      "1800번째 cost:570.4834594726562\n",
      "2100번째 cost:549.8651733398438\n",
      "2400번째 cost:533.2261352539062\n",
      "2700번째 cost:519.7986450195312\n",
      "3000번째 cost:508.96221923828125\n",
      "3300번째 cost:500.2169189453125\n",
      "3600번째 cost:493.15924072265625\n",
      "3900번째 cost:487.46331787109375\n",
      "4200번째 cost:482.8663330078125\n",
      "4500번째 cost:479.1560974121094\n",
      "4800번째 cost:476.1614990234375\n",
      "5100번째 cost:473.7444152832031\n",
      "5400번째 cost:471.79327392578125\n",
      "5700번째 cost:470.2182922363281\n",
      "6000번째 cost:468.94671630859375\n"
     ]
    }
   ],
   "source": [
    "#training data set 생성\n",
    "#data load -> 결측치 처리 -> 독립변수, 종속변수 분리\n",
    "data = pd.read_csv('./data/ozone.csv', sep=',')\n",
    "\n",
    "#data를 바로 학습할 수 없음. 데이터 정제 작업 필요\n",
    "data = data.dropna(how='any') #결측치가 한 열이라도 있는 행 모두 제거\n",
    "data.isna().sum()\n",
    "\n",
    "#필요한 columns만 추출\n",
    "data = data.iloc[:, 0:4]\n",
    "data.head()\n",
    "\n",
    "#training data set\n",
    "x_data = data.iloc[:, 1:].values #values -> DataFrame을 numpy배열로 바꿔줌\n",
    "y_data = data[['Ozone']].values.reshape(-1, 1)\n",
    "#y_data = data['Ozone'].values.reshape(-1,1) \n",
    "x_data.shape, y_data.shape #(111,3), (111,1)\n",
    "\n",
    "#tensorflow 구현\n",
    "#1. placeholder\n",
    "X = tf.placeholder(shape=[None,3], dtype=tf.float32)\n",
    "Y = tf.placeholder(shape=[None,1], dtype=tf.float32)\n",
    "\n",
    "#2. Weight&bias 설정\n",
    "W = tf.Variable(tf.random_normal([3,1]), name='weight')\n",
    "b = tf.Variable(tf.random_normal([1]), name='bias')\n",
    "\n",
    "#3. Hypothsis\n",
    "# H = X@W+b\n",
    "H = tf.matmul(X,W)+b\n",
    "\n",
    "#4. cost함수\n",
    "cost = tf.reduce_mean(tf.square(H-Y))\n",
    "\n",
    "#5. train\n",
    "train = tf.train.GradientDescentOptimizer(learning_rate=1e-5).minimize(cost)\n",
    "\n",
    "#6. session&variable 초기화\n",
    "sess = tf.Session()\n",
    "sess.run(tf.global_variables_initializer())\n",
    "\n",
    "#7. 학습\n",
    "for step in range(1, 6001):\n",
    "    _, cost_val = sess.run([train, cost], feed_dict={X:x_data, Y:y_data})\n",
    "    if step%300==0:\n",
    "        print(\"{:4d}번째 cost:{}\".format(step, cost_val))"
   ]
  },
  {
   "cell_type": "code",
   "execution_count": 48,
   "metadata": {},
   "outputs": [
    {
     "data": {
      "text/html": [
       "<div>\n",
       "<style scoped>\n",
       "    .dataframe tbody tr th:only-of-type {\n",
       "        vertical-align: middle;\n",
       "    }\n",
       "\n",
       "    .dataframe tbody tr th {\n",
       "        vertical-align: top;\n",
       "    }\n",
       "\n",
       "    .dataframe thead th {\n",
       "        text-align: right;\n",
       "    }\n",
       "</style>\n",
       "<table border=\"1\" class=\"dataframe\">\n",
       "  <thead>\n",
       "    <tr style=\"text-align: right;\">\n",
       "      <th></th>\n",
       "      <th>Ozone</th>\n",
       "      <th>Solar.R</th>\n",
       "      <th>Wind</th>\n",
       "      <th>Temp</th>\n",
       "    </tr>\n",
       "  </thead>\n",
       "  <tbody>\n",
       "    <tr>\n",
       "      <th>1</th>\n",
       "      <td>36.0</td>\n",
       "      <td>118.0</td>\n",
       "      <td>8.0</td>\n",
       "      <td>72</td>\n",
       "    </tr>\n",
       "  </tbody>\n",
       "</table>\n",
       "</div>"
      ],
      "text/plain": [
       "   Ozone  Solar.R  Wind  Temp\n",
       "1   36.0    118.0   8.0    72"
      ]
     },
     "execution_count": 48,
     "metadata": {},
     "output_type": "execute_result"
    }
   ],
   "source": [
    "data[1:2]"
   ]
  },
  {
   "cell_type": "code",
   "execution_count": 49,
   "metadata": {},
   "outputs": [
    {
     "data": {
      "text/plain": [
       "array([[41.030895]], dtype=float32)"
      ]
     },
     "execution_count": 49,
     "metadata": {},
     "output_type": "execute_result"
    }
   ],
   "source": [
    "sess.run(H, feed_dict={X:np.array([[118, 8, 72]])})"
   ]
  },
  {
   "cell_type": "markdown",
   "metadata": {},
   "source": [
    "## scale 맞추는 방법: normalization(많이 사용), standardization(표준화)"
   ]
  },
  {
   "cell_type": "code",
   "execution_count": null,
   "metadata": {},
   "outputs": [],
   "source": [
    "\"\"\"\n",
    "scale 맞추는 방법: normalization, standardization\n",
    "                  X - Xmin\n",
    "normalization = -------------\n",
    "                 Xmax - Xmin\n",
    "\n",
    "상기 식을 사용하거나, sklearn 라이브러리(sklearn.preprocessing.MinMaxScaler) 사용\n",
    "                    X - Xmean(평균)\n",
    "standardization = -------------------\n",
    "                     Xstd(표준편차)\n",
    "상기 식을 사용하거나, sklearn 라이브러리(sklearn.preprocessing.StandardScaler) 사용\n",
    "\"\"\""
   ]
  },
  {
   "cell_type": "code",
   "execution_count": 50,
   "metadata": {},
   "outputs": [
    {
     "name": "stdout",
     "output_type": "stream",
     "text": [
      " 3000번째 cost:6.9066009521484375\n",
      " 6000번째 cost:6.15825080871582\n",
      " 9000번째 cost:5.506045818328857\n",
      "12000번째 cost:4.936384677886963\n",
      "15000번째 cost:4.437758445739746\n",
      "18000번째 cost:4.0003862380981445\n",
      "21000번째 cost:3.6158769130706787\n",
      "24000번째 cost:3.2772152423858643\n",
      "27000번째 cost:2.9783270359039307\n",
      "30000번째 cost:2.7139980792999268\n",
      "33000번째 cost:2.4798130989074707\n",
      "36000번째 cost:2.2719478607177734\n",
      "39000번째 cost:2.0871243476867676\n",
      "42000번째 cost:1.9225045442581177\n",
      "45000번째 cost:1.775651216506958\n",
      "48000번째 cost:1.6444295644760132\n",
      "51000번째 cost:1.526999831199646\n",
      "54000번째 cost:1.4217637777328491\n",
      "57000번째 cost:1.3273147344589233\n",
      "60000번째 cost:1.242444396018982\n"
     ]
    }
   ],
   "source": [
    "#training data set 생성\n",
    "#data load -> 결측치 처리 -> 독립변수, 종속변수 분리\n",
    "data = pd.read_csv('./data/ozone.csv', sep=',')\n",
    "\n",
    "#data를 바로 학습할 수 없음. 데이터 정제 작업 필요\n",
    "data = data.dropna(how='any') #결측치가 한 열이라도 있는 행 모두 제거\n",
    "data.isna().sum()\n",
    "\n",
    "#필요한 columns만 추출\n",
    "data = data[['Ozone', 'Solar.R', 'Wind', 'Temp']]\n",
    "data.head()\n",
    "\n",
    "### scale 조정(standardization) ###\n",
    "#                     X - Xmean(평균)\n",
    "# standardization = -------------------\n",
    "#                      Xstd(표준편차)\n",
    "\n",
    "data['Ozone'] = (data['Ozone']-data['Ozone'].mean()) / data['Ozone'].std()\n",
    "data['Solar.R'] = (data['Solar.R']-data['Solar.R'].mean()) / data['Solar.R'].std()\n",
    "data['Wind'] = (data['Wind']-data['Wind'].mean()) / data['Wind'].std()\n",
    "data['Temp'] = (data['Temp']-data['Temp'].mean()) / data['Temp'].std()\n",
    "\n",
    "#training data set\n",
    "x_data = data.iloc[:,1:].values \n",
    "y_data = data[['Ozone']].values.reshape(-1,1)\n",
    "\n",
    "#tensorflow 구현\n",
    "#1. placeholder\n",
    "X = tf.placeholder(shape=[None, 3], dtype=tf.float32)\n",
    "Y = tf.placeholder(shape=[None, 1], dtype=tf.float32)\n",
    "\n",
    "#2. Weight & bias 설정\n",
    "W = tf.Variable(tf.random_normal([3,1]), name='weight')\n",
    "b = tf.Variable(tf.random_normal([1]), name='bias')\n",
    "\n",
    "#3. Hypothesis\n",
    "# H = X @ W + b\n",
    "H = tf.matmul(X, W) + b\n",
    "\n",
    "#4. cost함수\n",
    "cost = tf.reduce_mean(tf.square(H-Y))\n",
    "\n",
    "#5. train\n",
    "train = tf.train.GradientDescentOptimizer(learning_rate=1e-5).minimize(cost)\n",
    "\n",
    "#6. session & variable 초기화\n",
    "sess = tf.Session()\n",
    "sess.run(tf.global_variables_initializer())\n",
    "\n",
    "#7. 학습\n",
    "for step in range(1, 60001):\n",
    "    _, cost_val = sess.run([train, cost], feed_dict={X:x_data, Y:y_data})\n",
    "    if step%3000==0:\n",
    "        print(\"{:5d}번째 cost:{}\".format(step, cost_val))"
   ]
  },
  {
   "cell_type": "code",
   "execution_count": 51,
   "metadata": {},
   "outputs": [],
   "source": [
    "#predict 하려면 scale이 맞춰진 데이터로 predict를 하고 결과를 다시 scale조정"
   ]
  },
  {
   "cell_type": "code",
   "execution_count": 53,
   "metadata": {},
   "outputs": [
    {
     "name": "stdout",
     "output_type": "stream",
     "text": [
      "scale조정 전 데이터(상위 3행):\n",
      " [[190.    7.4  67.   41. ]\n",
      " [118.    8.   72.   36. ]\n",
      " [149.   12.6  74.   12. ]]\n",
      "scale조정 후 데이터(상위 3행):\n",
      " [[0.55963303 0.27717391 0.25       0.23952096]\n",
      " [0.33944954 0.30978261 0.375      0.20958084]\n",
      " [0.43425076 0.55978261 0.425      0.06586826]]\n",
      " 3000번째 cost:2.814135789871216\n",
      " 6000번째 cost:2.2911946773529053\n",
      " 9000번째 cost:1.8679245710372925\n",
      "12000번째 cost:1.5253195762634277\n",
      "15000번째 cost:1.248000144958496\n",
      "18000번째 cost:1.023505449295044\n",
      "21000번째 cost:0.8417638540267944\n",
      "24000번째 cost:0.6946241855621338\n",
      "27000번째 cost:0.5754843354225159\n",
      "30000번째 cost:0.4790039658546448\n",
      "33000번째 cost:0.40086856484413147\n",
      "36000번째 cost:0.33757203817367554\n",
      "39000번째 cost:0.2862900197505951\n",
      "42000번째 cost:0.24472710490226746\n",
      "45000번째 cost:0.21103188395500183\n",
      "48000번째 cost:0.18370410799980164\n",
      "51000번째 cost:0.161529079079628\n",
      "54000번째 cost:0.14352643489837646\n",
      "57000번째 cost:0.12889403104782104\n",
      "60000번째 cost:0.1170002892613411\n"
     ]
    }
   ],
   "source": [
    "#data load -> 결측치 처리 -> 독립변수, 종속변수 분리\n",
    "data = pd.read_csv('./data/ozone.csv', sep=',')\n",
    "\n",
    "#data를 바로 학습할 수 없음. 데이터 정제 작업 필요\n",
    "data = data.dropna(how='any') #결측치가 한 열이라도 있는 행 모두 제거\n",
    "data.isna().sum()\n",
    "\n",
    "#필요한 columns만 추출\n",
    "data = data[['Ozone', 'Solar.R', 'Wind', 'Temp']]\n",
    "\n",
    "#training data set\n",
    "x_data = data[['Solar.R','Wind','Temp']].values #values -> DataFrame을 numpy배열로 바꿔줌\n",
    "y_data = data[['Ozone']].values.reshape(-1,1)\n",
    "print(\"scale조정 전 데이터(상위 3행):\\n\", np.c_[x_data[:3], y_data[:3]])\n",
    "\n",
    "### scale 조정 (1) sklearn.preprocessing.MinMaxScaler ###\n",
    "from sklearn.preprocessing import MinMaxScaler\n",
    "scale_x = MinMaxScaler() #scale_x: x_data를 scale조정할 객체\n",
    "#x_data에 대한 설정을 잡는 부분; x_data 3개 컬럼에 대한 max, min 설정\n",
    "scale_x.fit(x_data)\n",
    "x_data = scale_x.transform(x_data) #scale 조정된 x_data\n",
    "\n",
    "scale_y = MinMaxScaler()\n",
    "scale_y.fit(y_data)\n",
    "y_data = scale_y.transform(y_data) #scale 조정된 y_data\n",
    "print('scale조정 후 데이터(상위 3행):\\n', np.c_[x_data[:3], y_data[:3]])\n",
    "\n",
    "#tensorflow 구현\n",
    "#1. placeholder\n",
    "X = tf.placeholder(shape=[None, 3], dtype=tf.float32)\n",
    "Y = tf.placeholder(shape=[None, 1], dtype=tf.float32)\n",
    "\n",
    "#2. Weight & bias 설정\n",
    "W = tf.Variable(tf.random_normal([3,1]), name='weight')\n",
    "b = tf.Variable(tf.random_normal([1]), name='bias')\n",
    "\n",
    "#3. Hypothesis\n",
    "# H = X @ W + b\n",
    "H = tf.matmul(X, W) + b\n",
    "\n",
    "#4. cost함수\n",
    "cost = tf.reduce_mean(tf.square(H-Y))\n",
    "\n",
    "#5. train\n",
    "train = tf.train.GradientDescentOptimizer(learning_rate=1e-5).minimize(cost)\n",
    "\n",
    "#6. session & variable 초기화\n",
    "sess = tf.Session()\n",
    "sess.run(tf.global_variables_initializer())\n",
    "\n",
    "#7. 학습\n",
    "for step in range(1, 60001):\n",
    "    _, cost_val = sess.run([train, cost], feed_dict={X:x_data, Y:y_data})\n",
    "    if step%3000==0:\n",
    "        print(\"{:5d}번째 cost:{}\".format(step, cost_val))"
   ]
  },
  {
   "cell_type": "code",
   "execution_count": 56,
   "metadata": {},
   "outputs": [
    {
     "name": "stdout",
     "output_type": "stream",
     "text": [
      "원 데이터 :  [[118.   8.  72.]]\n",
      "scale 조정된 데이터 : [[0.33944954 0.30978261 0.375     ]]\n"
     ]
    }
   ],
   "source": [
    "#8. prediction\n",
    "input_data = np.array([[118., 8.,72.]])\n",
    "scale_input_data = scale_x.transform(input_data)\n",
    "print('원 데이터 : ', input_data)\n",
    "print('scale 조정된 데이터 :', scale_input_data)"
   ]
  },
  {
   "cell_type": "code",
   "execution_count": 57,
   "metadata": {},
   "outputs": [
    {
     "data": {
      "text/plain": [
       "array([[9.537198]], dtype=float32)"
      ]
     },
     "execution_count": 57,
     "metadata": {},
     "output_type": "execute_result"
    }
   ],
   "source": [
    "predict_value = sess.run(H, feed_dict={X:scale_input_data})\n",
    "scale_y.inverse_transform(predict_value)"
   ]
  },
  {
   "cell_type": "code",
   "execution_count": 58,
   "metadata": {},
   "outputs": [
    {
     "name": "stdout",
     "output_type": "stream",
     "text": [
      "조정 전:\n",
      " [[190.    7.4  67.   41. ]\n",
      " [118.    8.   72.   36. ]\n",
      " [149.   12.6  74.   12. ]]\n",
      "조정 후:\n",
      " [[ 0.05728624 -0.71707784 -1.13764691 -0.03317961]\n",
      " [-0.73618283 -0.54766534 -0.61060682 -0.18411965]\n",
      " [-0.39455031  0.75116384 -0.39979078 -0.90863181]]\n",
      " 3000번째 cost:6.022195816040039\n",
      " 6000번째 cost:5.480643272399902\n",
      " 9000번째 cost:4.994199275970459\n",
      "12000번째 cost:4.55690860748291\n",
      "15000번째 cost:4.163577079772949\n",
      "18000번째 cost:3.809532642364502\n",
      "21000번째 cost:3.490656614303589\n",
      "24000번째 cost:3.2032718658447266\n",
      "27000번째 cost:2.9441211223602295\n",
      "30000번째 cost:2.710273027420044\n",
      "33000번째 cost:2.499174118041992\n",
      "36000번째 cost:2.3084702491760254\n",
      "39000번째 cost:2.1360979080200195\n",
      "42000번째 cost:1.9802300930023193\n",
      "45000번째 cost:1.839184284210205\n",
      "48000번째 cost:1.7114977836608887\n",
      "51000번째 cost:1.5958412885665894\n",
      "54000번째 cost:1.4910119771957397\n",
      "57000번째 cost:1.3959652185440063\n",
      "60000번째 cost:1.3097290992736816\n"
     ]
    }
   ],
   "source": [
    "#data load -> 결측치 처리 -> 독립변수, 종속변수 분리\n",
    "data = pd.read_csv('./data/ozone.csv', sep=',')\n",
    "\n",
    "#data를 바로 학습할 수 없음. 데이터 정제 작업 필요\n",
    "data = data.dropna(how='any') #결측치가 한 열이라도 있는 행 모두 제거\n",
    "data.isna().sum()\n",
    "\n",
    "#필요한 columns만 추출\n",
    "data = data[['Ozone', 'Solar.R', 'Wind', 'Temp']]\n",
    "data.head()\n",
    "\n",
    "### scale 조정 (2); data를 한꺼번에 scale조정시 prediction이 어려워짐\n",
    "# from sklearn.preprocessing import StandardScaler\n",
    "# scaler = StandardScaler()\n",
    "# scaler.fit(data)\n",
    "# data = pd.DataFrame(scaler.transform(data), columns=['Ozone', 'Solar.R', 'Wind', 'Temp'])\n",
    "# display(data.head())\n",
    "# type(data)\n",
    "\n",
    "#training data set\n",
    "x_data = data.iloc[:,1:].values #values -> DataFrame을 numpy배열로 바꿔줌\n",
    "y_data = data[['Ozone']].values.reshape(-1,1)\n",
    "\n",
    "print('조정 전:\\n', np.c_[x_data[:3], y_data[:3]])\n",
    "### scale 조정 (2); x_data, y_data scale을 따로따로 - prediction 가능\n",
    "from sklearn.preprocessing import StandardScaler\n",
    "scaler_x = StandardScaler()\n",
    "scaler_x.fit(x_data)\n",
    "x_data = scaler_x.transform(x_data)\n",
    "\n",
    "scaler_y = StandardScaler()\n",
    "scaler_y.fit(y_data)\n",
    "y_data = scaler_y.transform(y_data)\n",
    "print('조정 후:\\n', np.c_[x_data[:3], y_data[:3]])\n",
    "\n",
    "#tensorflow 구현\n",
    "#1. placeholder\n",
    "X = tf.placeholder(shape=[None, 3], dtype=tf.float32)\n",
    "Y = tf.placeholder(shape=[None, 1], dtype=tf.float32)\n",
    "\n",
    "#2. Weight & bias 설정\n",
    "W = tf.Variable(tf.random_normal([3,1]), name='weight')\n",
    "b = tf.Variable(tf.random_normal([1]), name='bias')\n",
    "\n",
    "#3. Hypothesis\n",
    "# H = X @ W + b\n",
    "H = tf.matmul(X, W) + b\n",
    "\n",
    "#4. cost함수\n",
    "cost = tf.reduce_mean(tf.square(H-Y))\n",
    "\n",
    "#5. train\n",
    "train = tf.train.GradientDescentOptimizer(learning_rate=1e-5).minimize(cost)\n",
    "\n",
    "#6. session & variable 초기화\n",
    "sess = tf.Session()\n",
    "sess.run(tf.global_variables_initializer())\n",
    "\n",
    "#7. 학습\n",
    "for step in range(1, 60001):\n",
    "    _, cost_val = sess.run([train, cost], feed_dict={X:x_data, Y:y_data})\n",
    "    if step%3000==0:\n",
    "        print(\"{:5d}번째 cost:{}\".format(step, cost_val))"
   ]
  },
  {
   "cell_type": "code",
   "execution_count": 59,
   "metadata": {},
   "outputs": [
    {
     "data": {
      "text/plain": [
       "array([[43.10341]], dtype=float32)"
      ]
     },
     "execution_count": 59,
     "metadata": {},
     "output_type": "execute_result"
    }
   ],
   "source": [
    "input_data = np.array([[118, 8, 72]])\n",
    "scaled_input_data = scaler_x.transform(input_data)\n",
    "scaler_y.inverse_transform(sess.run(H, feed_dict={X:scaled_input_data}))"
   ]
  },
  {
   "cell_type": "code",
   "execution_count": 61,
   "metadata": {},
   "outputs": [
    {
     "data": {
      "text/plain": [
       "[array([[-0.7266306],\n",
       "        [-0.2626303],\n",
       "        [ 1.2059515]], dtype=float32),\n",
       " array([0.08791379], dtype=float32)]"
      ]
     },
     "execution_count": 61,
     "metadata": {},
     "output_type": "execute_result"
    }
   ],
   "source": [
    "sess.run([W,b])"
   ]
  },
  {
   "cell_type": "markdown",
   "metadata": {},
   "source": [
    "## 5. Logistic Regression = Binary classification(2개 그룹)\n",
    "### Logistic Regression이 필요한 이유(기존의 liner regression으로는 안되는 경우)"
   ]
  },
  {
   "cell_type": "code",
   "execution_count": 63,
   "metadata": {},
   "outputs": [
    {
     "name": "stdout",
     "output_type": "stream",
     "text": [
      "w값: 0.035005834305717624 b값: 0.17327887981330214\n"
     ]
    },
    {
     "data": {
      "text/plain": [
       "[<matplotlib.lines.Line2D at 0x17ecc634fd0>]"
      ]
     },
     "execution_count": 63,
     "metadata": {},
     "output_type": "execute_result"
    },
    {
     "data": {
      "image/png": "[encoded data removed]",
      "text/plain": [
       "<Figure size 432x288 with 1 Axes>"
      ]
     },
     "metadata": {
      "needs_background": "light"
     },
     "output_type": "display_data"
    }
   ],
   "source": [
    "import numpy as np\n",
    "import matplotlib.pyplot as plt\n",
    "from scipy import stats\n",
    "\n",
    "x = np.array([1,2,5,8,10,30])\n",
    "y = np.array([0,0,0,1,1,1])\n",
    "lm = stats.linregress(x,y)\n",
    "print('w값:', lm[0], 'b값:', lm[1])\n",
    "plt.scatter(x,y)\n",
    "plt.plot(x, x*lm[0]+lm[1], 'r')"
   ]
  },
  {
   "cell_type": "code",
   "execution_count": null,
   "metadata": {},
   "outputs": [],
   "source": []
  }
 ],
 "metadata": {
  "kernelspec": {
   "display_name": "Python 3",
   "language": "python",
   "name": "python3"
  },
  "language_info": {
   "codemirror_mode": {
    "name": "ipython",
    "version": 3
   },
   "file_extension": ".py",
   "mimetype": "text/x-python",
   "name": "python",
   "nbconvert_exporter": "python",
   "pygments_lexer": "ipython3",
   "version": "3.8.5"
  }
 },
 "nbformat": 4,
 "nbformat_minor": 4
}
