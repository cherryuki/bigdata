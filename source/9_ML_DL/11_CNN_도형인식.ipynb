{
 "cells": [
  {
   "cell_type": "markdown",
   "metadata": {},
   "source": [
    "**21-03-25 ML_DL 11_CNN 도형인식 (c)cherryuki (ji)**"
   ]
  },
  {
   "cell_type": "markdown",
   "metadata": {},
   "source": [
    "# 11_CNN 도형(삼각형, 사각형, 원) 인식\n",
    "### CNN: Convolutional Neural Network"
   ]
  },
  {
   "cell_type": "code",
   "execution_count": 1,
   "metadata": {},
   "outputs": [
    {
     "name": "stdout",
     "output_type": "stream",
     "text": [
      "(24, 24, 4)\n",
      "<class 'numpy.ndarray'>\n"
     ]
    },
    {
     "data": {
      "image/png": "[encoded data removed]",
      "text/plain": [
       "<Figure size 432x288 with 1 Axes>"
      ]
     },
     "metadata": {
      "needs_background": "light"
     },
     "output_type": "display_data"
    }
   ],
   "source": [
    "import matplotlib.pyplot as plt\n",
    "c0 = plt.imread('data/handwriting_shape/train/circle/circle001.png')\n",
    "plt.imshow(c0)\n",
    "print(c0.shape)\n",
    "print(type(c0))"
   ]
  },
  {
   "cell_type": "code",
   "execution_count": 2,
   "metadata": {},
   "outputs": [],
   "source": [
    "import numpy as np\n",
    "from tensorflow.keras.models import Sequential\n",
    "from tensorflow.keras.layers import Conv2D #필터링(; 패턴 특징 추출)\n",
    "from tensorflow.keras.layers import MaxPool2D #풀링(최대풀링; 데이터(영상) 크기 줄여줌. 사소한 변화 무시)\n",
    "from tensorflow.keras.layers import Flatten #2차원 영상 데이터를 1차원으로\n",
    "from tensorflow.keras.layers import Dense, Dropout\n",
    "from tensorflow.keras.preprocessing.image import ImageDataGenerator"
   ]
  },
  {
   "cell_type": "code",
   "execution_count": 3,
   "metadata": {},
   "outputs": [
    {
     "name": "stdout",
     "output_type": "stream",
     "text": [
      "Found 60 images belonging to 3 classes.\n",
      "Found 30 images belonging to 3 classes.\n"
     ]
    }
   ],
   "source": [
    "#1. 데이터 생성\n",
    "train_datagen = ImageDataGenerator(rescale=1./255) #정규화 작업(scale 맞추기)\n",
    "train_generator = train_datagen.flow_from_directory('data/handwriting_shape/train',\n",
    "                                                   target_size=(24,24), batch_size=3,\n",
    "                                                   class_mode='categorical')\n",
    "#class_mode='categorical'; 다중분류 원핫 인코딩\n",
    "test_datagen = ImageDataGenerator(rescale=1./255)\n",
    "test_generator = test_datagen.flow_from_directory('data/handwriting_shape/test',\n",
    "                                                 target_size=(24,24),\n",
    "                                                 batch_size=3,\n",
    "                                                 class_mode='categorical') #다중분류 원핫 인코딩"
   ]
  },
  {
   "cell_type": "code",
   "execution_count": 4,
   "metadata": {},
   "outputs": [],
   "source": [
    "#2. 모델 구성\n",
    "model = Sequential()\n",
    "model.add(Conv2D(32, kernel_size=(3,3), activation='relu', input_shape=(24,24,3)))\n",
    "#input_shape=(행, 열, 채널 수)\n",
    "model.add(Conv2D(64, (3,3), activation='relu'))\n",
    "model.add(MaxPool2D(pool_size=(2,2))) #2*2에서 제일 큰 값만 뽑아 이미지 축소\n",
    "model.add(Flatten()) #2차원 이미지데이터를 1차원으로\n",
    "model.add(Dense(128, activation='relu'))\n",
    "model.add(Dense(3, activation='softmax'))"
   ]
  },
  {
   "cell_type": "code",
   "execution_count": 5,
   "metadata": {},
   "outputs": [],
   "source": [
    "#3. 모델 학습과정 설정\n",
    "model.compile(loss='categorical_crossentropy', optimizer='adam', metrics=['accuracy'])"
   ]
  },
  {
   "cell_type": "code",
   "execution_count": 6,
   "metadata": {},
   "outputs": [
    {
     "name": "stdout",
     "output_type": "stream",
     "text": [
      "WARNING:tensorflow:From <ipython-input-6-b74befe10688>:2: Model.fit_generator (from tensorflow.python.keras.engine.training) is deprecated and will be removed in a future version.\n",
      "Instructions for updating:\n",
      "Please use Model.fit, which supports generators.\n",
      "Epoch 1/50\n",
      "15/15 [==============================] - 1s 51ms/step - loss: 1.2282 - accuracy: 0.4444 - val_loss: 0.9310 - val_accuracy: 0.8000\n",
      "Epoch 2/50\n",
      "15/15 [==============================] - 1s 34ms/step - loss: 0.4478 - accuracy: 0.9556 - val_loss: 1.1423 - val_accuracy: 0.6000\n",
      "Epoch 3/50\n",
      "15/15 [==============================] - 1s 38ms/step - loss: 0.0925 - accuracy: 0.9778 - val_loss: 2.1456 - val_accuracy: 0.6000\n",
      "Epoch 4/50\n",
      "15/15 [==============================] - 1s 36ms/step - loss: 0.0042 - accuracy: 1.0000 - val_loss: 2.5184 - val_accuracy: 0.6000\n",
      "Epoch 5/50\n",
      "15/15 [==============================] - 1s 36ms/step - loss: 9.7929e-04 - accuracy: 1.0000 - val_loss: 2.1790 - val_accuracy: 0.7333\n",
      "Epoch 6/50\n",
      "15/15 [==============================] - 1s 36ms/step - loss: 4.6193e-04 - accuracy: 1.0000 - val_loss: 2.1480 - val_accuracy: 0.8000\n",
      "Epoch 7/50\n",
      "15/15 [==============================] - 1s 39ms/step - loss: 6.6205e-04 - accuracy: 1.0000 - val_loss: 1.2536 - val_accuracy: 0.8000\n",
      "Epoch 8/50\n",
      "15/15 [==============================] - 1s 49ms/step - loss: 3.3115e-04 - accuracy: 1.0000 - val_loss: 2.6181 - val_accuracy: 0.6000\n",
      "Epoch 9/50\n",
      "15/15 [==============================] - 1s 41ms/step - loss: 2.6359e-04 - accuracy: 1.0000 - val_loss: 2.8940 - val_accuracy: 0.6667\n",
      "Epoch 10/50\n",
      "15/15 [==============================] - 1s 35ms/step - loss: 2.3839e-04 - accuracy: 1.0000 - val_loss: 2.8329 - val_accuracy: 0.6667\n",
      "Epoch 11/50\n",
      "15/15 [==============================] - 1s 39ms/step - loss: 2.6067e-04 - accuracy: 1.0000 - val_loss: 2.6123 - val_accuracy: 0.6667\n",
      "Epoch 12/50\n",
      "15/15 [==============================] - 1s 39ms/step - loss: 1.7579e-04 - accuracy: 1.0000 - val_loss: 2.4734 - val_accuracy: 0.7333\n",
      "Epoch 13/50\n",
      "15/15 [==============================] - 1s 39ms/step - loss: 1.4702e-04 - accuracy: 1.0000 - val_loss: 2.8455 - val_accuracy: 0.7333\n",
      "Epoch 14/50\n",
      "15/15 [==============================] - 1s 36ms/step - loss: 9.4997e-05 - accuracy: 1.0000 - val_loss: 2.7343 - val_accuracy: 0.6667\n",
      "Epoch 15/50\n",
      "15/15 [==============================] - 1s 35ms/step - loss: 5.2009e-05 - accuracy: 1.0000 - val_loss: 2.8572 - val_accuracy: 0.7333\n",
      "Epoch 16/50\n",
      "15/15 [==============================] - 1s 46ms/step - loss: 2.6529e-05 - accuracy: 1.0000 - val_loss: 3.8436 - val_accuracy: 0.6667\n",
      "Epoch 17/50\n",
      "15/15 [==============================] - 1s 37ms/step - loss: 1.1780e-05 - accuracy: 1.0000 - val_loss: 3.4347 - val_accuracy: 0.6667\n",
      "Epoch 18/50\n",
      "15/15 [==============================] - 1s 37ms/step - loss: 1.7812e-05 - accuracy: 1.0000 - val_loss: 2.7092 - val_accuracy: 0.6667\n",
      "Epoch 19/50\n",
      "15/15 [==============================] - 1s 37ms/step - loss: 1.1603e-05 - accuracy: 1.0000 - val_loss: 3.0290 - val_accuracy: 0.6000\n",
      "Epoch 20/50\n",
      "15/15 [==============================] - 1s 36ms/step - loss: 7.6160e-06 - accuracy: 1.0000 - val_loss: 2.6629 - val_accuracy: 0.7333\n",
      "Epoch 21/50\n",
      "15/15 [==============================] - 1s 37ms/step - loss: 5.0597e-06 - accuracy: 1.0000 - val_loss: 2.5502 - val_accuracy: 0.7333\n",
      "Epoch 22/50\n",
      "15/15 [==============================] - 1s 36ms/step - loss: 4.6544e-06 - accuracy: 1.0000 - val_loss: 4.0600 - val_accuracy: 0.6000\n",
      "Epoch 23/50\n",
      "15/15 [==============================] - 1s 38ms/step - loss: 3.9100e-06 - accuracy: 1.0000 - val_loss: 4.1979 - val_accuracy: 0.6667\n",
      "Epoch 24/50\n",
      "15/15 [==============================] - 1s 43ms/step - loss: 2.2252e-06 - accuracy: 1.0000 - val_loss: 4.3655 - val_accuracy: 0.5333\n",
      "Epoch 25/50\n",
      "15/15 [==============================] - 1s 35ms/step - loss: 3.3405e-06 - accuracy: 1.0000 - val_loss: 3.6396 - val_accuracy: 0.7333\n",
      "Epoch 26/50\n",
      "15/15 [==============================] - 1s 36ms/step - loss: 3.2716e-06 - accuracy: 1.0000 - val_loss: 3.8200 - val_accuracy: 0.6667\n",
      "Epoch 27/50\n",
      "15/15 [==============================] - 1s 36ms/step - loss: 2.6067e-06 - accuracy: 1.0000 - val_loss: 1.5953 - val_accuracy: 0.7333\n",
      "Epoch 28/50\n",
      "15/15 [==============================] - 1s 36ms/step - loss: 1.6636e-06 - accuracy: 1.0000 - val_loss: 3.7121 - val_accuracy: 0.5333\n",
      "Epoch 29/50\n",
      "15/15 [==============================] - 1s 39ms/step - loss: 1.8411e-06 - accuracy: 1.0000 - val_loss: 3.7205 - val_accuracy: 0.6667\n",
      "Epoch 30/50\n",
      "15/15 [==============================] - 1s 34ms/step - loss: 1.2053e-06 - accuracy: 1.0000 - val_loss: 3.7638 - val_accuracy: 0.6667\n",
      "Epoch 31/50\n",
      "15/15 [==============================] - 1s 43ms/step - loss: 1.4332e-06 - accuracy: 1.0000 - val_loss: 1.8817 - val_accuracy: 0.8000\n",
      "Epoch 32/50\n",
      "15/15 [==============================] - 1s 35ms/step - loss: 1.0172e-06 - accuracy: 1.0000 - val_loss: 2.3871 - val_accuracy: 0.7333\n",
      "Epoch 33/50\n",
      "15/15 [==============================] - 1s 36ms/step - loss: 8.8480e-07 - accuracy: 1.0000 - val_loss: 2.9988 - val_accuracy: 0.7333\n",
      "Epoch 34/50\n",
      "15/15 [==============================] - 1s 38ms/step - loss: 5.3247e-07 - accuracy: 1.0000 - val_loss: 4.2454 - val_accuracy: 0.6000\n",
      "Epoch 35/50\n",
      "15/15 [==============================] - 1s 35ms/step - loss: 9.3248e-07 - accuracy: 1.0000 - val_loss: 3.7093 - val_accuracy: 0.6667\n",
      "Epoch 36/50\n",
      "15/15 [==============================] - 1s 37ms/step - loss: 7.8943e-07 - accuracy: 1.0000 - val_loss: 5.0758 - val_accuracy: 0.6000\n",
      "Epoch 37/50\n",
      "15/15 [==============================] - 1s 37ms/step - loss: 7.8943e-07 - accuracy: 1.0000 - val_loss: 2.7532 - val_accuracy: 0.8667\n",
      "Epoch 38/50\n",
      "15/15 [==============================] - 1s 39ms/step - loss: 7.3380e-07 - accuracy: 1.0000 - val_loss: 3.1120 - val_accuracy: 0.6667\n",
      "Epoch 39/50\n",
      "15/15 [==============================] - 1s 38ms/step - loss: 5.9869e-07 - accuracy: 1.0000 - val_loss: 2.5051 - val_accuracy: 0.7333\n",
      "Epoch 40/50\n",
      "15/15 [==============================] - 1s 44ms/step - loss: 6.3843e-07 - accuracy: 1.0000 - val_loss: 2.9213 - val_accuracy: 0.6667\n",
      "Epoch 41/50\n",
      "15/15 [==============================] - 1s 40ms/step - loss: 5.9605e-07 - accuracy: 1.0000 - val_loss: 5.3859 - val_accuracy: 0.5333\n",
      "Epoch 42/50\n",
      "15/15 [==============================] - 1s 42ms/step - loss: 3.7352e-07 - accuracy: 1.0000 - val_loss: 6.2554 - val_accuracy: 0.5333\n",
      "Epoch 43/50\n",
      "15/15 [==============================] - 1s 36ms/step - loss: 5.0863e-07 - accuracy: 1.0000 - val_loss: 2.1480 - val_accuracy: 0.8000\n",
      "Epoch 44/50\n",
      "15/15 [==============================] - 1s 38ms/step - loss: 3.6028e-07 - accuracy: 1.0000 - val_loss: 3.5062 - val_accuracy: 0.6667\n",
      "Epoch 45/50\n",
      "15/15 [==============================] - 1s 35ms/step - loss: 3.8412e-07 - accuracy: 1.0000 - val_loss: 2.2976 - val_accuracy: 0.7333\n",
      "Epoch 46/50\n",
      "15/15 [==============================] - 1s 36ms/step - loss: 3.4703e-07 - accuracy: 1.0000 - val_loss: 3.6096 - val_accuracy: 0.6000\n",
      "Epoch 47/50\n",
      "15/15 [==============================] - 1s 40ms/step - loss: 2.9140e-07 - accuracy: 1.0000 - val_loss: 3.3802 - val_accuracy: 0.8000\n",
      "Epoch 48/50\n",
      "15/15 [==============================] - 1s 39ms/step - loss: 2.5431e-07 - accuracy: 1.0000 - val_loss: 3.2909 - val_accuracy: 0.6667\n",
      "Epoch 49/50\n",
      "15/15 [==============================] - 1s 40ms/step - loss: 3.2849e-07 - accuracy: 1.0000 - val_loss: 3.3768 - val_accuracy: 0.5333\n",
      "Epoch 50/50\n",
      "15/15 [==============================] - 1s 38ms/step - loss: 2.9935e-07 - accuracy: 1.0000 - val_loss: 3.3544 - val_accuracy: 0.6667\n"
     ]
    },
    {
     "data": {
      "text/plain": [
       "<tensorflow.python.keras.callbacks.History at 0x2a5334be7c0>"
      ]
     },
     "execution_count": 6,
     "metadata": {},
     "output_type": "execute_result"
    }
   ],
   "source": [
    "#4. 모델 학습 시키기\n",
    "model.fit_generator(train_generator, steps_per_epoch=15,\n",
    "                   epochs=50,\n",
    "                   validation_data=test_generator,\n",
    "                   validation_steps=5)"
   ]
  },
  {
   "cell_type": "code",
   "execution_count": 7,
   "metadata": {},
   "outputs": [
    {
     "name": "stdout",
     "output_type": "stream",
     "text": [
      "WARNING:tensorflow:From <ipython-input-7-4601a21fc849>:2: Model.evaluate_generator (from tensorflow.python.keras.engine.training) is deprecated and will be removed in a future version.\n",
      "Instructions for updating:\n",
      "Please use Model.evaluate, which supports generators.\n",
      "loss: 3.279900550842285\n",
      "accuracy: 0.6666666865348816\n"
     ]
    }
   ],
   "source": [
    "#5. 모델 평가하기\n",
    "score=model.evaluate_generator(test_generator, steps=5)\n",
    "print('loss:', score[0])\n",
    "print('accuracy:', score[1])"
   ]
  },
  {
   "cell_type": "code",
   "execution_count": 8,
   "metadata": {},
   "outputs": [
    {
     "name": "stdout",
     "output_type": "stream",
     "text": [
      "WARNING:tensorflow:From <ipython-input-8-798efae4a984>:2: Model.predict_generator (from tensorflow.python.keras.engine.training) is deprecated and will be removed in a future version.\n",
      "Instructions for updating:\n",
      "Please use Model.predict, which supports generators.\n",
      "{'circle': 0, 'rectangle': 1, 'triangle': 2}\n",
      "[[1.00 0.00 0.00]\n",
      " [0.00 0.00 1.00]\n",
      " [0.00 1.00 0.00]\n",
      " [0.00 1.00 0.00]\n",
      " [0.00 0.00 1.00]\n",
      " [1.00 0.00 0.00]\n",
      " [0.28 0.01 0.70]\n",
      " [0.00 0.00 1.00]\n",
      " [0.00 0.01 0.99]\n",
      " [0.00 0.00 1.00]\n",
      " [0.00 0.00 1.00]\n",
      " [0.01 0.00 0.99]\n",
      " [0.00 0.00 1.00]\n",
      " [0.00 0.01 0.99]\n",
      " [0.00 0.00 1.00]\n",
      " [0.00 1.00 0.00]\n",
      " [0.00 0.00 1.00]\n",
      " [0.00 0.00 1.00]\n",
      " [1.00 0.00 0.00]\n",
      " [0.00 0.00 1.00]\n",
      " [0.02 0.82 0.16]\n",
      " [0.00 0.00 1.00]\n",
      " [0.00 0.00 1.00]\n",
      " [0.00 0.00 1.00]\n",
      " [1.00 0.00 0.00]\n",
      " [0.49 0.00 0.51]\n",
      " [0.00 1.00 0.00]\n",
      " [0.00 0.00 1.00]\n",
      " [0.97 0.00 0.03]\n",
      " [0.00 0.00 1.00]]\n",
      "[0 2 1 1 2 0 2 2 2 2 2 2 2 2 2 1 2 2 0 2 1 2 2 2 0 2 1 2 0 2]\n"
     ]
    }
   ],
   "source": [
    "#6. 예측하기\n",
    "pred = model.predict_generator(test_generator)\n",
    "print(test_generator.class_indices)\n",
    "np.set_printoptions(formatter={'float':lambda x:\"{:0.2f}\".format(x)})\n",
    "print(pred)\n",
    "print(pred.argmax(axis=1))"
   ]
  },
  {
   "cell_type": "markdown",
   "metadata": {},
   "source": [
    "## 상기 예제 accuracy 높이기\n",
    "1. 데이터 확보, 데이터 양 늘리기(ImageDataGenerator)\n",
    "2. 레이어 층"
   ]
  },
  {
   "cell_type": "code",
   "execution_count": 9,
   "metadata": {},
   "outputs": [
    {
     "name": "stdout",
     "output_type": "stream",
     "text": [
      "Found 60 images belonging to 3 classes.\n",
      "Found 30 images belonging to 3 classes.\n"
     ]
    }
   ],
   "source": [
    "#1. 데이터 생성\n",
    "#데이터 부풀리기 - 이미지 회전 등\n",
    "train_datagen = ImageDataGenerator(rescale=1./255,\n",
    "                                   rotation_range=10,\n",
    "                                   width_shift_range=0.2,\n",
    "                                   height_shift_range=0.2,\n",
    "                                   shear_range=0.7, #0.7 라디안 밀림\n",
    "                                   zoom_range=[0.9,2.2], # 0.9배~2.2배\n",
    "                                   horizontal_flip=True, # 수평방향으로 뒤집기\n",
    "                                   vertical_flip=True, # 수직방향으로 뒤집기\n",
    "                                   fill_mode='nearest')#이미지를 회전, #이동하거나 축소할 때 공간을 채우는 방식\n",
    "\n",
    "train_generator = train_datagen.flow_from_directory('data/handwriting_shape/train',\n",
    "                                                   target_size=(24,24), batch_size=3,\n",
    "                                                   class_mode='categorical')\n",
    "test_datagen = ImageDataGenerator(rescale=1./255)\n",
    "test_generator = test_datagen.flow_from_directory('data/handwriting_shape/test',\n",
    "                                                 target_size=(24,24), batch_size=3,\n",
    "                                                 class_mode='categorical')"
   ]
  },
  {
   "cell_type": "code",
   "execution_count": 10,
   "metadata": {},
   "outputs": [],
   "source": [
    "#2. 모델 구성\n",
    "model = Sequential()\n",
    "model.add(Conv2D(32, kernel_size=(3,3), activation='relu', input_shape=(24,24,3)))\n",
    "model.add(Conv2D(32, (3,3), activation='relu'))\n",
    "model.add(MaxPool2D(pool_size=(2,2))) #최대 풀링; 2*2에서 제일 큰 값만 뽑아 이미지 축소\n",
    "model.add(Dropout(0.1)) #과적합 막는 목적\n",
    "model.add(Conv2D(64, (3,3), activation='relu'))\n",
    "model.add(Conv2D(64, (3,3), activation='relu'))\n",
    "model.add(MaxPool2D(pool_size=(2,2)))\n",
    "model.add(Dropout(0.1))\n",
    "model.add(Flatten()) #2차원 이미지데이터를 1차원으로\n",
    "model.add(Dense(128, activation='relu'))\n",
    "model.add(Dropout(0.1))\n",
    "model.add(Dense(32, activation='relu'))\n",
    "model.add(Dropout(0.1))\n",
    "model.add(Dense(3, activation='softmax'))\n",
    "\n",
    "#3. 모델 학습과정 설정\n",
    "model.compile(loss='categorical_crossentropy', optimizer='adam', metrics=['accuracy'])"
   ]
  },
  {
   "cell_type": "code",
   "execution_count": 12,
   "metadata": {},
   "outputs": [
    {
     "name": "stdout",
     "output_type": "stream",
     "text": [
      "Epoch 1/50\n",
      "15/15 [==============================] - 1s 43ms/step - loss: 1.1275 - accuracy: 0.3556 - val_loss: 1.0673 - val_accuracy: 0.4667\n",
      "Epoch 2/50\n",
      "15/15 [==============================] - 0s 30ms/step - loss: 1.1073 - accuracy: 0.2889 - val_loss: 1.0972 - val_accuracy: 0.2667\n",
      "Epoch 3/50\n",
      "15/15 [==============================] - 0s 29ms/step - loss: 1.0999 - accuracy: 0.3333 - val_loss: 1.0870 - val_accuracy: 0.4667\n",
      "Epoch 4/50\n",
      "15/15 [==============================] - 0s 29ms/step - loss: 1.0978 - accuracy: 0.2889 - val_loss: 1.0979 - val_accuracy: 0.2000\n",
      "Epoch 5/50\n",
      "15/15 [==============================] - 0s 26ms/step - loss: 1.0947 - accuracy: 0.3333 - val_loss: 1.0951 - val_accuracy: 0.4000\n",
      "Epoch 6/50\n",
      "15/15 [==============================] - 0s 26ms/step - loss: 1.0951 - accuracy: 0.3556 - val_loss: 1.0887 - val_accuracy: 0.3333\n",
      "Epoch 7/50\n",
      "15/15 [==============================] - 0s 27ms/step - loss: 1.0813 - accuracy: 0.4444 - val_loss: 1.1000 - val_accuracy: 0.5333\n",
      "Epoch 8/50\n",
      "15/15 [==============================] - 0s 31ms/step - loss: 1.0196 - accuracy: 0.4667 - val_loss: 0.9600 - val_accuracy: 0.4000\n",
      "Epoch 9/50\n",
      "15/15 [==============================] - 0s 28ms/step - loss: 1.0386 - accuracy: 0.4667 - val_loss: 1.2790 - val_accuracy: 0.3333\n",
      "Epoch 10/50\n",
      "15/15 [==============================] - 0s 27ms/step - loss: 0.9005 - accuracy: 0.6000 - val_loss: 1.2433 - val_accuracy: 0.6000\n",
      "Epoch 11/50\n",
      "15/15 [==============================] - 0s 28ms/step - loss: 0.9946 - accuracy: 0.5111 - val_loss: 1.0500 - val_accuracy: 0.6000\n",
      "Epoch 12/50\n",
      "15/15 [==============================] - 0s 28ms/step - loss: 0.8990 - accuracy: 0.5556 - val_loss: 1.3906 - val_accuracy: 0.3333\n",
      "Epoch 13/50\n",
      "15/15 [==============================] - 0s 29ms/step - loss: 0.7318 - accuracy: 0.6444 - val_loss: 1.2458 - val_accuracy: 0.6000\n",
      "Epoch 14/50\n",
      "15/15 [==============================] - 0s 30ms/step - loss: 0.7595 - accuracy: 0.6667 - val_loss: 1.5427 - val_accuracy: 0.4667\n",
      "Epoch 15/50\n",
      "15/15 [==============================] - 0s 31ms/step - loss: 1.0294 - accuracy: 0.4222 - val_loss: 0.8749 - val_accuracy: 0.6667\n",
      "Epoch 16/50\n",
      "15/15 [==============================] - 0s 25ms/step - loss: 0.7806 - accuracy: 0.7333 - val_loss: 0.7659 - val_accuracy: 0.7333\n",
      "Epoch 17/50\n",
      "15/15 [==============================] - 0s 26ms/step - loss: 0.7310 - accuracy: 0.7111 - val_loss: 0.5627 - val_accuracy: 0.7333\n",
      "Epoch 18/50\n",
      "15/15 [==============================] - 0s 24ms/step - loss: 0.6849 - accuracy: 0.6889 - val_loss: 0.6840 - val_accuracy: 0.6000\n",
      "Epoch 19/50\n",
      "15/15 [==============================] - 0s 26ms/step - loss: 0.6583 - accuracy: 0.6889 - val_loss: 0.7324 - val_accuracy: 0.6667\n",
      "Epoch 20/50\n",
      "15/15 [==============================] - 0s 28ms/step - loss: 0.6918 - accuracy: 0.7333 - val_loss: 0.8261 - val_accuracy: 0.6000\n",
      "Epoch 21/50\n",
      "15/15 [==============================] - 0s 27ms/step - loss: 0.8665 - accuracy: 0.5556 - val_loss: 0.8911 - val_accuracy: 0.6667\n",
      "Epoch 22/50\n",
      "15/15 [==============================] - 0s 28ms/step - loss: 0.4800 - accuracy: 0.8444 - val_loss: 0.7664 - val_accuracy: 0.7333\n",
      "Epoch 23/50\n",
      "15/15 [==============================] - 0s 31ms/step - loss: 0.5329 - accuracy: 0.8222 - val_loss: 0.7200 - val_accuracy: 0.6000\n",
      "Epoch 24/50\n",
      "15/15 [==============================] - 0s 26ms/step - loss: 0.3209 - accuracy: 0.8889 - val_loss: 0.5114 - val_accuracy: 0.8667\n",
      "Epoch 25/50\n",
      "15/15 [==============================] - 0s 24ms/step - loss: 0.2998 - accuracy: 0.8889 - val_loss: 0.1340 - val_accuracy: 1.0000\n",
      "Epoch 26/50\n",
      "15/15 [==============================] - 0s 25ms/step - loss: 0.3030 - accuracy: 0.8889 - val_loss: 0.4897 - val_accuracy: 0.8000\n",
      "Epoch 27/50\n",
      "15/15 [==============================] - 0s 24ms/step - loss: 0.2640 - accuracy: 0.9333 - val_loss: 0.2104 - val_accuracy: 0.9333\n",
      "Epoch 28/50\n",
      "15/15 [==============================] - 0s 25ms/step - loss: 0.1162 - accuracy: 0.9778 - val_loss: 0.3746 - val_accuracy: 0.9333\n",
      "Epoch 29/50\n",
      "15/15 [==============================] - 0s 30ms/step - loss: 0.5062 - accuracy: 0.8889 - val_loss: 0.6253 - val_accuracy: 0.8000\n",
      "Epoch 30/50\n",
      "15/15 [==============================] - 0s 25ms/step - loss: 0.1961 - accuracy: 0.8889 - val_loss: 0.5453 - val_accuracy: 0.8667\n",
      "Epoch 31/50\n",
      "15/15 [==============================] - 0s 27ms/step - loss: 0.2858 - accuracy: 0.9333 - val_loss: 0.6441 - val_accuracy: 0.6667\n",
      "Epoch 32/50\n",
      "15/15 [==============================] - 0s 26ms/step - loss: 0.1830 - accuracy: 0.9556 - val_loss: 0.1768 - val_accuracy: 0.9333\n",
      "Epoch 33/50\n",
      "15/15 [==============================] - 0s 24ms/step - loss: 0.2083 - accuracy: 0.9333 - val_loss: 0.3967 - val_accuracy: 0.8667\n",
      "Epoch 34/50\n",
      "15/15 [==============================] - 0s 26ms/step - loss: 0.5665 - accuracy: 0.8000 - val_loss: 1.3602 - val_accuracy: 0.6000\n",
      "Epoch 35/50\n",
      "15/15 [==============================] - 0s 24ms/step - loss: 0.2004 - accuracy: 0.9333 - val_loss: 0.7423 - val_accuracy: 0.8667\n",
      "Epoch 36/50\n",
      "15/15 [==============================] - 0s 26ms/step - loss: 0.3587 - accuracy: 0.8222 - val_loss: 0.6258 - val_accuracy: 0.8667\n",
      "Epoch 37/50\n",
      "15/15 [==============================] - 0s 26ms/step - loss: 0.1044 - accuracy: 1.0000 - val_loss: 0.3796 - val_accuracy: 0.8667\n",
      "Epoch 38/50\n",
      "15/15 [==============================] - 0s 24ms/step - loss: 0.0795 - accuracy: 0.9778 - val_loss: 0.5490 - val_accuracy: 0.8667\n",
      "Epoch 39/50\n",
      "15/15 [==============================] - 0s 26ms/step - loss: 0.2435 - accuracy: 0.9333 - val_loss: 0.4225 - val_accuracy: 0.7333\n",
      "Epoch 40/50\n",
      "15/15 [==============================] - 0s 24ms/step - loss: 0.1206 - accuracy: 0.9333 - val_loss: 0.6340 - val_accuracy: 0.7333\n",
      "Epoch 41/50\n",
      "15/15 [==============================] - 0s 25ms/step - loss: 0.0602 - accuracy: 0.9778 - val_loss: 1.1933 - val_accuracy: 0.7333\n",
      "Epoch 42/50\n",
      "15/15 [==============================] - 0s 24ms/step - loss: 0.1198 - accuracy: 0.9333 - val_loss: 0.9378 - val_accuracy: 0.8667\n",
      "Epoch 43/50\n",
      "15/15 [==============================] - 0s 26ms/step - loss: 0.2176 - accuracy: 0.9556 - val_loss: 0.4620 - val_accuracy: 0.8667\n",
      "Epoch 44/50\n",
      "15/15 [==============================] - 0s 29ms/step - loss: 0.1096 - accuracy: 0.9556 - val_loss: 0.5733 - val_accuracy: 0.8667\n",
      "Epoch 45/50\n",
      "15/15 [==============================] - 0s 26ms/step - loss: 0.0511 - accuracy: 0.9778 - val_loss: 0.6797 - val_accuracy: 0.8000\n",
      "Epoch 46/50\n",
      "15/15 [==============================] - 0s 25ms/step - loss: 0.2656 - accuracy: 0.9333 - val_loss: 0.4464 - val_accuracy: 0.8667\n",
      "Epoch 47/50\n",
      "15/15 [==============================] - 0s 25ms/step - loss: 0.1153 - accuracy: 0.9778 - val_loss: 0.1942 - val_accuracy: 0.9333\n",
      "Epoch 48/50\n",
      "15/15 [==============================] - 0s 25ms/step - loss: 0.1181 - accuracy: 0.9333 - val_loss: 0.0985 - val_accuracy: 0.9333\n",
      "Epoch 49/50\n",
      "15/15 [==============================] - 0s 24ms/step - loss: 0.1680 - accuracy: 0.9333 - val_loss: 0.5360 - val_accuracy: 0.8667\n",
      "Epoch 50/50\n",
      "15/15 [==============================] - 0s 24ms/step - loss: 0.2057 - accuracy: 0.9333 - val_loss: 0.0942 - val_accuracy: 0.9333\n"
     ]
    },
    {
     "data": {
      "text/plain": [
       "<tensorflow.python.keras.callbacks.History at 0x2a5334656d0>"
      ]
     },
     "execution_count": 12,
     "metadata": {},
     "output_type": "execute_result"
    }
   ],
   "source": [
    "#4. 모델 학습 시키기\n",
    "model.fit_generator(train_generator, steps_per_epoch=15,\n",
    "                   epochs=50,\n",
    "                   validation_data=test_generator,\n",
    "                   validation_steps=5)"
   ]
  },
  {
   "cell_type": "code",
   "execution_count": 14,
   "metadata": {},
   "outputs": [
    {
     "name": "stdout",
     "output_type": "stream",
     "text": [
      "loss: 0.6944221258163452\n",
      "accuracy: 0.800000011920929\n",
      "{'circle': 0, 'rectangle': 1, 'triangle': 2}\n",
      "[2 1 2 2 0 1 0 2 1 2 2 2 0 2 2 1 0 1 0 1 2 2 0 0 0 0 2 0 1 0]\n",
      "[[0.00 0.00 1.00]\n",
      " [0.19 0.80 0.00]\n",
      " [0.00 0.00 1.00]\n",
      " [0.23 0.02 0.75]\n",
      " [0.99 0.00 0.01]\n",
      " [0.01 0.99 0.00]\n",
      " [1.00 0.00 0.00]\n",
      " [0.12 0.08 0.80]\n",
      " [0.06 0.94 0.00]\n",
      " [0.00 0.00 1.00]\n",
      " [0.09 0.00 0.91]\n",
      " [0.01 0.01 0.98]\n",
      " [0.76 0.02 0.22]\n",
      " [0.00 0.00 1.00]\n",
      " [0.00 0.00 1.00]\n",
      " [0.11 0.89 0.00]\n",
      " [1.00 0.00 0.00]\n",
      " [0.01 0.99 0.00]\n",
      " [1.00 0.00 0.00]\n",
      " [0.02 0.98 0.00]\n",
      " [0.00 0.00 1.00]\n",
      " [0.04 0.00 0.96]\n",
      " [1.00 0.00 0.00]\n",
      " [0.46 0.36 0.18]\n",
      " [0.91 0.00 0.09]\n",
      " [1.00 0.00 0.00]\n",
      " [0.00 0.00 1.00]\n",
      " [1.00 0.00 0.00]\n",
      " [0.02 0.98 0.00]\n",
      " [0.91 0.00 0.09]]\n"
     ]
    }
   ],
   "source": [
    "#5. 모델 평가하기\n",
    "score=model.evaluate_generator(test_generator, steps=5)\n",
    "print('loss:', score[0])\n",
    "print('accuracy:', score[1])\n",
    "\n",
    "#6. 예측하기\n",
    "pred = model.predict_generator(test_generator)\n",
    "print(test_generator.class_indices)\n",
    "np.set_printoptions(formatter={'float':lambda x:\"{:0.2f}\".format(x)})\n",
    "print(pred.argmax(axis=1))\n",
    "print(pred)"
   ]
  },
  {
   "cell_type": "code",
   "execution_count": null,
   "metadata": {},
   "outputs": [],
   "source": []
  }
 ],
 "metadata": {
  "kernelspec": {
   "display_name": "Python 3",
   "language": "python",
   "name": "python3"
  },
  "language_info": {
   "codemirror_mode": {
    "name": "ipython",
    "version": 3
   },
   "file_extension": ".py",
   "mimetype": "text/x-python",
   "name": "python",
   "nbconvert_exporter": "python",
   "pygments_lexer": "ipython3",
   "version": "3.8.5"
  }
 },
 "nbformat": 4,
 "nbformat_minor": 4
}
