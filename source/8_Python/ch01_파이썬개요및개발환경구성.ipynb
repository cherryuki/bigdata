{
 "cells": [
  {
   "cell_type": "markdown",
   "metadata": {},
   "source": [
    "#### 21-02-19 python 01_파이썬 개요 및 개발환경 구성             (c)cherryuki(ji)"
   ]
  },
  {
   "cell_type": "markdown",
   "metadata": {},
   "source": [
    "<b> ch01. 파이썬 개요 및 개발환경 구성 </b>"
   ]
  },
  {
   "cell_type": "code",
   "execution_count": null,
   "metadata": {},
   "outputs": [],
   "source": [
    "# 셀 하나하나 입력\n",
    "# 파이썬 프로그램 실행 방법\n",
    " # Shift + Enter; 포커스 셀이 실행되고 다음셀로 이동\n",
    " # Alt + Enter; 포커스 셀 실행 후, 다음 셀이 생성된 후 다음 셀로 이동\n",
    " # Ctrl + Enter; 포커스 셀 실행 후, 포커스 이동 없음\n",
    "\n",
    "# esc+M; 마크다운 변경"
   ]
  },
  {
   "cell_type": "markdown",
   "metadata": {},
   "source": [
    "print(\"Hello, World!\")"
   ]
  },
  {
   "cell_type": "code",
   "execution_count": null,
   "metadata": {},
   "outputs": [],
   "source": []
  }
 ],
 "metadata": {
  "kernelspec": {
   "display_name": "Python 3",
   "language": "python",
   "name": "python3"
  },
  "language_info": {
   "codemirror_mode": {
    "name": "ipython",
    "version": 3
   },
   "file_extension": ".py",
   "mimetype": "text/x-python",
   "name": "python",
   "nbconvert_exporter": "python",
   "pygments_lexer": "ipython3",
   "version": "3.8.5"
  }
 },
 "nbformat": 4,
 "nbformat_minor": 4
}
