{
 "cells": [
  {
   "cell_type": "markdown",
   "metadata": {},
   "source": [
    "## 1. yes24의 베스트셀러 정보를 제공하는 사이트에서 베스트셀러 정보를 수집해서 파일에 저장하세요.\n",
    "- http://www.yes24.com/24/category/bestseller\n",
    "- 순위, 책이름, 저자 및 출판사, 가격"
   ]
  },
  {
   "cell_type": "code",
   "execution_count": 1,
   "metadata": {},
   "outputs": [],
   "source": [
    "import requests\n",
    "from bs4 import BeautifulSoup\n",
    "url = \"http://www.yes24.com/24/category/bestseller\"\n",
    "html = requests.get(url)\n",
    "soup = BeautifulSoup(html.content, 'html.parser')\n",
    "titles = soup.select(\"p.image > a img\")\n",
    "titles = [title.attrs['alt'] for title in titles]\n",
    "writers = soup.select(\"p.aupu\")\n",
    "writers = [writer.text for writer in writers]\n",
    "price = soup.select(\"p.price > strong\")\n",
    "price = [p.text for p in price]\n",
    "\n",
    "results = \"\"\n",
    "for idx in range(len(titles)):\n",
    "    #print('{:2d}위: {}, {}, \"{}\"'.format(idx+1, titles[idx], writers[idx], price[idx]))\n",
    "    result = '{:2d}위: {}, {}, \"{}\"'.format(idx+1, titles[idx], writers[idx], price[idx])\n",
    "    results += result + '\\n'\n",
    "with open('data/ch14_01_yes24.txt', 'w', encoding='utf-8') as f:\n",
    "    f.write(results)"
   ]
  },
  {
   "cell_type": "code",
   "execution_count": null,
   "metadata": {},
   "outputs": [],
   "source": [
    "# 순위: ol > li class=num1 이면 1위 num2면 2위 식 -> 구할 필요 없음!! 순서대로 1~40위\n",
    "# 책제목: p.image > a img alt \n",
    "# 저자 및 출판사: p.aupu > a \n",
    "# 가격: p.price > strong "
   ]
  },
  {
   "cell_type": "markdown",
   "metadata": {},
   "source": [
    "## 2. 영어번역 자동화 프로그램을 구현하시오. 텍스트 파일을 카카오 번역기를 통해 영어로 번역된 텍스트를 파일로 출력하는 동적 웹크롤링 프로그램을 구현하시오.\n",
    "-  https://translate.kakao.com/"
   ]
  },
  {
   "cell_type": "code",
   "execution_count": 2,
   "metadata": {},
   "outputs": [],
   "source": [
    "from selenium import webdriver\n",
    "from selenium.webdriver.common.keys import Keys\n",
    "from bs4 import BeautifulSoup\n",
    "import time\n",
    "with open('data/ch14_02_한글원본.txt', 'r', encoding='utf-8') as f:\n",
    "    text = f.read()\n",
    "#len(text)\n",
    "ready_list = []\n",
    "while len(text)>5000:\n",
    "    temp_str = text[:5000]\n",
    "    last_dot_index = temp_str.rfind('.')\n",
    "    ready_list.append(text[:last_dot_index+1]) #점 포함시키기 위해 +1\n",
    "    text = text[last_dot_index+1:]\n",
    "ready_list.append(text)\n",
    "\n",
    "driver = webdriver.Chrome('C:/Bigdata_자료/src/Selenium/chromedriver.exe')\n",
    "driver.get('https://translate.kakao.com/')\n",
    "popup_button = driver.find_element_by_css_selector(\"a.btn_close\")\n",
    "popup_button.click()\n",
    "textarea = driver.find_element_by_id(\"query\")\n",
    "results = \"\"\n",
    "for ready in ready_list:\n",
    "    textarea.send_keys(Keys.CONTROL, 'a')\n",
    "    textarea.send_keys(ready)\n",
    "    button = driver.find_element_by_id(\"btnTranslate\")\n",
    "    button.click()\n",
    "    time.sleep(5)\n",
    "    soup = BeautifulSoup(driver.page_source, 'html.parser')\n",
    "    result = soup.select_one(\"p#result\").text\n",
    "    results += result\n",
    "#print(results)\n",
    "with open('data/ch14_02_자동화영어번역본.txt', 'w', encoding='utf-8') as f:\n",
    "    f.write(results)\n",
    "#time.sleep(3)\n",
    "driver.close()\n",
    "#파일은 저작권 문제로 확인 후 삭제완료"
   ]
  },
  {
   "cell_type": "code",
   "execution_count": null,
   "metadata": {},
   "outputs": [],
   "source": [
    "#입력창 id = query\n",
    "#번역하기 버튼 id: btnTranslate\n",
    "#번역결과 id: p의 result"
   ]
  }
 ],
 "metadata": {
  "kernelspec": {
   "display_name": "Python 3",
   "language": "python",
   "name": "python3"
  },
  "language_info": {
   "codemirror_mode": {
    "name": "ipython",
    "version": 3
   },
   "file_extension": ".py",
   "mimetype": "text/x-python",
   "name": "python",
   "nbconvert_exporter": "python",
   "pygments_lexer": "ipython3",
   "version": "3.8.5"
  },
  "toc": {
   "base_numbering": 1,
   "nav_menu": {},
   "number_sections": false,
   "sideBar": true,
   "skip_h1_title": false,
   "title_cell": "Table of Contents",
   "title_sidebar": "Contents",
   "toc_cell": false,
   "toc_position": {},
   "toc_section_display": true,
   "toc_window_display": false
  },
  "varInspector": {
   "cols": {
    "lenName": 16,
    "lenType": 16,
    "lenVar": 40
   },
   "kernels_config": {
    "python": {
     "delete_cmd_postfix": "",
     "delete_cmd_prefix": "del ",
     "library": "var_list.py",
     "varRefreshCmd": "print(var_dic_list())"
    },
    "r": {
     "delete_cmd_postfix": ") ",
     "delete_cmd_prefix": "rm(",
     "library": "var_list.r",
     "varRefreshCmd": "cat(var_dic_list()) "
    }
   },
   "types_to_exclude": [
    "module",
    "function",
    "builtin_function_or_method",
    "instance",
    "_Feature"
   ],
   "window_display": false
  }
 },
 "nbformat": 4,
 "nbformat_minor": 4
}
