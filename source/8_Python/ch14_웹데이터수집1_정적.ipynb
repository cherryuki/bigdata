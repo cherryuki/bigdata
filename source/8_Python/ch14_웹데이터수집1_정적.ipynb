{
 "cells": [
  {
   "cell_type": "markdown",
   "metadata": {},
   "source": [
    "**21-03-17 python 14_웹데이터수집1 - 정적 (c)cherryuki (ji)**"
   ]
  },
  {
   "cell_type": "markdown",
   "metadata": {},
   "source": [
    "# ch14 웹데이터 수집(정적)"
   ]
  },
  {
   "cell_type": "markdown",
   "metadata": {},
   "source": [
    "# 1절. BeautifulSoup과 parser\n",
    "- pip install beautifulsoup4 ; 아나콘다 설치하면 자동 설치되는 패키지 7500개에 포함\n",
    "- pip install requests_file\n",
    "- 공식 사이트: https://www.crummy.com/software/BeautifulSoup/\n",
    "- Doc: https://www.crummy.com/software/BeautifulSoup/bs4/doc/"
   ]
  },
  {
   "cell_type": "code",
   "execution_count": 1,
   "metadata": {},
   "outputs": [],
   "source": [
    "import requests\n",
    "from requests_file import FileAdapter"
   ]
  },
  {
   "cell_type": "code",
   "execution_count": 2,
   "metadata": {},
   "outputs": [
    {
     "data": {
      "text/plain": [
       "<Response [200]>"
      ]
     },
     "execution_count": 2,
     "metadata": {},
     "output_type": "execute_result"
    }
   ],
   "source": [
    "s = requests.Session()\n",
    "s.mount(\"file://\", FileAdapter())\n",
    "response = s.get(\"file:///C:/Bigdata/source/8_Python/data/ch14_sample.html\")\n",
    "response #<Response [200]> 으로 나오면 성공. (cf. [404]: 파일 찾지 못한 것)"
   ]
  },
  {
   "cell_type": "markdown",
   "metadata": {},
   "source": [
    "**<상태 코드>**\n",
    "- 100번 영역: 정보 전송\n",
    "- 200번 영역: 성공\n",
    " - 200: 성공 / 201: POST 요청 처리 / 204: 전송할 데이터 없음\n",
    "- 300번 영역: 리다이렉션\n",
    "- 400번 영역: 클라이언트 측 오류\n",
    " - 401: 사용자 인증 / 403: 접근권한 없음 / 404: 요청한 URL 없음 / 406: not acceptable\n",
    "- 500번 영역: 서버측 오류"
   ]
  },
  {
   "cell_type": "code",
   "execution_count": 3,
   "metadata": {},
   "outputs": [
    {
     "name": "stdout",
     "output_type": "stream",
     "text": [
      "Success\n"
     ]
    }
   ],
   "source": [
    "if response.status_code == 200:\n",
    "    print(\"Success\")\n",
    "elif response.status_code == 404:\n",
    "    print(\"Not Found\")"
   ]
  },
  {
   "cell_type": "code",
   "execution_count": 4,
   "metadata": {},
   "outputs": [
    {
     "name": "stdout",
     "output_type": "stream",
     "text": [
      "Sucess\n"
     ]
    }
   ],
   "source": [
    "if response:\n",
    "    print(\"Sucess\")\n",
    "else:\n",
    "    print(\"Not Found\")"
   ]
  },
  {
   "cell_type": "code",
   "execution_count": 5,
   "metadata": {},
   "outputs": [
    {
     "data": {
      "text/plain": [
       "b'<html>\\r\\n<head>\\r\\n<title>HTML sample</title>\\r\\n<style>\\r\\n\\t\\t\\tspan {color:red;}\\r\\n\\t\\t</style>\\r\\n</head>\\r\\n<body>\\r\\n<h1 class=\"greeting css\">Hello CSS</h1>\\r\\n<h1 class=\"css\">Hi CSS</h1>\\r\\n<div id=\"subject\">\\xec\\x84\\xa0\\xed\\x83\\x9d\\xec\\x9e\\x90</div>\\r\\n<p>CSS \\xec\\x84\\xa0\\xed\\x83\\x9d\\xec\\x9e\\x90\\xeb\\x8a\\x94 \\xeb\\x8b\\xa4\\xec\\x96\\x91\\xed\\x95\\x9c \\xea\\xb3\\xb3\\xec\\x97\\x90 \\xed\\x99\\x9c\\xec\\x9a\\xa9\\xeb\\x90\\xa9\\xeb\\x8b\\x88\\xeb\\x8b\\xa4</p>\\r\\n<div class=\"contents\">\\xec\\x84\\xa0\\xed\\x83\\x9d\\xec\\x9e\\x90\\xeb\\xa5\\xbc \\xec\\x96\\xb4\\xeb\\x96\\xbb\\xea\\xb2\\x8c \\xec\\x9e\\x91\\xec\\x84\\xb1\\xed\\x95\\x98\\xeb\\x8a\\x90\\xeb\\x83\\x90\\xec\\x97\\x90 \\xeb\\x94\\xb0\\xeb\\x9d\\xbc\\r\\n\\t\\t\\t\\t<span>\\xeb\\x8b\\xa4\\xeb\\xa5\\xb8<b>\\xec\\x9a\\x94\\xec\\x86\\x8c\\xea\\xb0\\x80 \\xeb\\xb0\\x98\\xed\\x99\\x98</b></span>\\xeb\\x90\\xa9\\xeb\\x8b\\x88\\xeb\\x8b\\xa4.\\r\\n\\t\\t</div>\\r\\n<div>CSS\\xec\\x84\\xa0\\xed\\x83\\x9d\\xec\\x9e\\x90\\xeb\\x8a\\x94 \\xeb\\x8b\\xa4\\xec\\x96\\x91\\xed\\x95\\x9c \\xea\\xb3\\xb3\\xec\\x97\\x90 <b>\\xed\\x99\\x9c\\xec\\x9a\\xa9</b>\\xeb\\x90\\xa9\\xeb\\x8b\\x88\\xeb\\x8b\\xa4</div>\\r\\n<input id=\"passwd\" name=\"passwd\" type=\"text\"/>\\r\\n</body>\\r\\n</html>'"
      ]
     },
     "execution_count": 5,
     "metadata": {},
     "output_type": "execute_result"
    }
   ],
   "source": [
    "response.content"
   ]
  },
  {
   "cell_type": "code",
   "execution_count": 6,
   "metadata": {},
   "outputs": [
    {
     "data": {
      "text/plain": [
       "<html>\n",
       "<head>\n",
       "<title>HTML sample</title>\n",
       "<style>\n",
       "\t\t\tspan {color:red;}\n",
       "\t\t</style>\n",
       "</head>\n",
       "<body>\n",
       "<h1 class=\"greeting css\">Hello CSS</h1>\n",
       "<h1 class=\"css\">Hi CSS</h1>\n",
       "<div id=\"subject\">선택자</div>\n",
       "<p>CSS 선택자는 다양한 곳에 활용됩니다</p>\n",
       "<div class=\"contents\">선택자를 어떻게 작성하느냐에 따라\n",
       "\t\t\t\t<span>다른<b>요소가 반환</b></span>됩니다.\n",
       "\t\t</div>\n",
       "<div>CSS선택자는 다양한 곳에 <b>활용</b>됩니다</div>\n",
       "<input id=\"passwd\" name=\"passwd\" type=\"text\"/>\n",
       "</body>\n",
       "</html>"
      ]
     },
     "execution_count": 6,
     "metadata": {},
     "output_type": "execute_result"
    }
   ],
   "source": [
    "# html 문서 파싱\n",
    "from bs4 import BeautifulSoup\n",
    "soup = BeautifulSoup(response.content, 'html.parser')\n",
    "soup"
   ]
  },
  {
   "cell_type": "code",
   "execution_count": 7,
   "metadata": {},
   "outputs": [
    {
     "name": "stdout",
     "output_type": "stream",
     "text": [
      "el => <h1 class=\"greeting css\">Hello CSS</h1>\n",
      "el.text => Hello CSS\n",
      "el.string => Hello CSS\n",
      "el.attrs => {'class': ['greeting', 'css']}\n",
      "el의 class속성 => ['greeting', 'css']\n",
      "el.name => h1\n"
     ]
    }
   ],
   "source": [
    "# select_one: 조건에 만족하는 첫번째 것 하나만 가져옴\n",
    "el = soup.select_one(\"h1\")\n",
    "print(\"el =>\", el)\n",
    "print(\"el.text =>\", el.text)\n",
    "print(\"el.string =>\", el.string)\n",
    "print(\"el.attrs =>\", el.attrs)\n",
    "print(\"el의 class속성 =>\", el.attrs['class'])\n",
    "print(\"el.name =>\", el.name)"
   ]
  },
  {
   "cell_type": "code",
   "execution_count": 8,
   "metadata": {},
   "outputs": [
    {
     "data": {
      "text/plain": [
       "[<h1 class=\"greeting css\">Hello CSS</h1>]"
      ]
     },
     "execution_count": 8,
     "metadata": {},
     "output_type": "execute_result"
    }
   ],
   "source": [
    "#select; 조건에 만족하는 것 전부를 리스트로 가져옴\n",
    "el = soup.select(\".greeting\")\n",
    "el"
   ]
  },
  {
   "cell_type": "code",
   "execution_count": 9,
   "metadata": {},
   "outputs": [
    {
     "name": "stdout",
     "output_type": "stream",
     "text": [
      "el => [<h1 class=\"greeting css\">Hello CSS</h1>, <h1 class=\"css\">Hi CSS</h1>]\n",
      "el의 text들 => ['Hello CSS', 'Hi CSS']\n",
      "el의 string들 => ['Hello CSS', 'Hi CSS']\n",
      "el의 속성들 => [{'class': ['greeting', 'css']}, {'class': ['css']}]\n",
      "el의 class들 => [['greeting', 'css'], ['css']]\n",
      "el의 name들 => ['h1', 'h1']\n"
     ]
    }
   ],
   "source": [
    "el = soup.select(\"h1\")\n",
    "print('el =>', el)\n",
    "print('el의 text들 =>', [e.text for e in el])\n",
    "print('el의 string들 =>', [e.string for e in el])\n",
    "print('el의 속성들 =>', [e.attrs for e in el]) \n",
    "print('el의 class들 =>', [e.attrs['class'] for e in el])\n",
    "print('el의 name들 =>', [e.name for e in el])"
   ]
  },
  {
   "cell_type": "code",
   "execution_count": 10,
   "metadata": {},
   "outputs": [
    {
     "data": {
      "text/plain": [
       "[<h1 class=\"greeting css\">Hello CSS</h1>,\n",
       " <h1 class=\"css\">Hi CSS</h1>,\n",
       " <p>CSS 선택자는 다양한 곳에 활용됩니다</p>]"
      ]
     },
     "execution_count": 10,
     "metadata": {},
     "output_type": "execute_result"
    }
   ],
   "source": [
    "soup.select(\"h1, p\")"
   ]
  },
  {
   "cell_type": "code",
   "execution_count": 11,
   "metadata": {},
   "outputs": [
    {
     "data": {
      "text/plain": [
       "[<div id=\"subject\">선택자</div>,\n",
       " <div class=\"contents\">선택자를 어떻게 작성하느냐에 따라\n",
       " \t\t\t\t<span>다른<b>요소가 반환</b></span>됩니다.\n",
       " \t\t</div>,\n",
       " <div>CSS선택자는 다양한 곳에 <b>활용</b>됩니다</div>]"
      ]
     },
     "execution_count": 11,
     "metadata": {},
     "output_type": "execute_result"
    }
   ],
   "source": [
    "soup.select(\"div\")"
   ]
  },
  {
   "cell_type": "code",
   "execution_count": 12,
   "metadata": {},
   "outputs": [
    {
     "data": {
      "text/plain": [
       "[<b>요소가 반환</b>, <b>활용</b>]"
      ]
     },
     "execution_count": 12,
     "metadata": {},
     "output_type": "execute_result"
    }
   ],
   "source": [
    "soup.select(\"div b\") #후손 선택자(div 밑에 있는 b 전부)"
   ]
  },
  {
   "cell_type": "code",
   "execution_count": 13,
   "metadata": {},
   "outputs": [
    {
     "data": {
      "text/plain": [
       "[<b>활용</b>]"
      ]
     },
     "execution_count": 13,
     "metadata": {},
     "output_type": "execute_result"
    }
   ],
   "source": [
    "soup.select(\"div > b\") #자손 선택자(div 바로 밑에 있는 b만)"
   ]
  },
  {
   "cell_type": "code",
   "execution_count": 14,
   "metadata": {},
   "outputs": [
    {
     "data": {
      "text/plain": [
       "[<div class=\"contents\">선택자를 어떻게 작성하느냐에 따라\n",
       " \t\t\t\t<span>다른<b>요소가 반환</b></span>됩니다.\n",
       " \t\t</div>]"
      ]
     },
     "execution_count": 14,
     "metadata": {},
     "output_type": "execute_result"
    }
   ],
   "source": [
    "soup.select(\"div.contents\")"
   ]
  },
  {
   "cell_type": "code",
   "execution_count": 16,
   "metadata": {},
   "outputs": [
    {
     "data": {
      "text/plain": [
       "<h1 class=\"greeting css\">Hello CSS</h1>"
      ]
     },
     "execution_count": 16,
     "metadata": {},
     "output_type": "execute_result"
    }
   ],
   "source": [
    "soup.select(\"h1.greeting.css\")[0]"
   ]
  },
  {
   "cell_type": "code",
   "execution_count": 18,
   "metadata": {},
   "outputs": [
    {
     "data": {
      "text/plain": [
       "<h1 class=\"greeting css\">Hello CSS</h1>"
      ]
     },
     "execution_count": 18,
     "metadata": {},
     "output_type": "execute_result"
    }
   ],
   "source": [
    "soup.select_one(\"h1.greeting.css\")"
   ]
  },
  {
   "cell_type": "code",
   "execution_count": 19,
   "metadata": {},
   "outputs": [
    {
     "data": {
      "text/plain": [
       "[<h1 class=\"greeting css\">Hello CSS</h1>, <h1 class=\"css\">Hi CSS</h1>]"
      ]
     },
     "execution_count": 19,
     "metadata": {},
     "output_type": "execute_result"
    }
   ],
   "source": [
    "soup.select(\"h1.css\")"
   ]
  },
  {
   "cell_type": "markdown",
   "metadata": {},
   "source": [
    "# 2절 정적 웹 데이터 수집(정적 웹크롤링)\n",
    "## 2.1 requests 모듈(GET 요청)"
   ]
  },
  {
   "cell_type": "code",
   "execution_count": 20,
   "metadata": {},
   "outputs": [
    {
     "data": {
      "text/plain": [
       "<Response [200]>"
      ]
     },
     "execution_count": 20,
     "metadata": {},
     "output_type": "execute_result"
    }
   ],
   "source": [
    "import requests\n",
    "response = requests.get(\"http://api.github.com\")\n",
    "response"
   ]
  },
  {
   "cell_type": "code",
   "execution_count": 22,
   "metadata": {},
   "outputs": [
    {
     "name": "stdout",
     "output_type": "stream",
     "text": [
      "sucess\n"
     ]
    }
   ],
   "source": [
    "if response.status_code == 200:\n",
    "    print(\"sucess\")\n",
    "elif response.status_code == 404:\n",
    "    print(\"존재하지 않는 url입니다\")\n",
    "elif response.status_code == 406:\n",
    "    print(\"not acceptable(파이썬 웹크롤링 허용X)\")"
   ]
  },
  {
   "cell_type": "code",
   "execution_count": 23,
   "metadata": {},
   "outputs": [
    {
     "name": "stdout",
     "output_type": "stream",
     "text": [
      "Sucess\n"
     ]
    }
   ],
   "source": [
    "if response:\n",
    "    print(\"Sucess\")\n",
    "else :\n",
    "    print(\"An error has occurred\")"
   ]
  },
  {
   "cell_type": "code",
   "execution_count": 24,
   "metadata": {},
   "outputs": [
    {
     "data": {
      "text/plain": [
       "b'{\\n  \"current_user_url\": \"https://api.github.com/user\",\\n  \"current_user_authorizations_html_url\": \"https://github.com/settings/connections/applications{/client_id}\",\\n  \"authorizations_url\": \"https://api.github.com/authorizations\",\\n  \"code_search_url\": \"https://api.github.com/search/code?q={query}{&page,per_page,sort,order}\",\\n  \"commit_search_url\": \"https://api.github.com/search/commits?q={query}{&page,per_page,sort,order}\",\\n  \"emails_url\": \"https://api.github.com/user/emails\",\\n  \"emojis_url\": \"https://api.github.com/emojis\",\\n  \"events_url\": \"https://api.github.com/events\",\\n  \"feeds_url\": \"https://api.github.com/feeds\",\\n  \"followers_url\": \"https://api.github.com/user/followers\",\\n  \"following_url\": \"https://api.github.com/user/following{/target}\",\\n  \"gists_url\": \"https://api.github.com/gists{/gist_id}\",\\n  \"hub_url\": \"https://api.github.com/hub\",\\n  \"issue_search_url\": \"https://api.github.com/search/issues?q={query}{&page,per_page,sort,order}\",\\n  \"issues_url\": \"https://api.github.com/issues\",\\n  \"keys_url\": \"https://api.github.com/user/keys\",\\n  \"label_search_url\": \"https://api.github.com/search/labels?q={query}&repository_id={repository_id}{&page,per_page}\",\\n  \"notifications_url\": \"https://api.github.com/notifications\",\\n  \"organization_url\": \"https://api.github.com/orgs/{org}\",\\n  \"organization_repositories_url\": \"https://api.github.com/orgs/{org}/repos{?type,page,per_page,sort}\",\\n  \"organization_teams_url\": \"https://api.github.com/orgs/{org}/teams\",\\n  \"public_gists_url\": \"https://api.github.com/gists/public\",\\n  \"rate_limit_url\": \"https://api.github.com/rate_limit\",\\n  \"repository_url\": \"https://api.github.com/repos/{owner}/{repo}\",\\n  \"repository_search_url\": \"https://api.github.com/search/repositories?q={query}{&page,per_page,sort,order}\",\\n  \"current_user_repositories_url\": \"https://api.github.com/user/repos{?type,page,per_page,sort}\",\\n  \"starred_url\": \"https://api.github.com/user/starred{/owner}{/repo}\",\\n  \"starred_gists_url\": \"https://api.github.com/gists/starred\",\\n  \"user_url\": \"https://api.github.com/users/{user}\",\\n  \"user_organizations_url\": \"https://api.github.com/user/orgs\",\\n  \"user_repositories_url\": \"https://api.github.com/users/{user}/repos{?type,page,per_page,sort}\",\\n  \"user_search_url\": \"https://api.github.com/search/users?q={query}{&page,per_page,sort,order}\"\\n}\\n'"
      ]
     },
     "execution_count": 24,
     "metadata": {},
     "output_type": "execute_result"
    }
   ],
   "source": [
    "response.content"
   ]
  },
  {
   "cell_type": "code",
   "execution_count": 25,
   "metadata": {},
   "outputs": [
    {
     "data": {
      "text/plain": [
       "{'current_user_url': 'https://api.github.com/user',\n",
       " 'current_user_authorizations_html_url': 'https://github.com/settings/connections/applications{/client_id}',\n",
       " 'authorizations_url': 'https://api.github.com/authorizations',\n",
       " 'code_search_url': 'https://api.github.com/search/code?q={query}{&page,per_page,sort,order}',\n",
       " 'commit_search_url': 'https://api.github.com/search/commits?q={query}{&page,per_page,sort,order}',\n",
       " 'emails_url': 'https://api.github.com/user/emails',\n",
       " 'emojis_url': 'https://api.github.com/emojis',\n",
       " 'events_url': 'https://api.github.com/events',\n",
       " 'feeds_url': 'https://api.github.com/feeds',\n",
       " 'followers_url': 'https://api.github.com/user/followers',\n",
       " 'following_url': 'https://api.github.com/user/following{/target}',\n",
       " 'gists_url': 'https://api.github.com/gists{/gist_id}',\n",
       " 'hub_url': 'https://api.github.com/hub',\n",
       " 'issue_search_url': 'https://api.github.com/search/issues?q={query}{&page,per_page,sort,order}',\n",
       " 'issues_url': 'https://api.github.com/issues',\n",
       " 'keys_url': 'https://api.github.com/user/keys',\n",
       " 'label_search_url': 'https://api.github.com/search/labels?q={query}&repository_id={repository_id}{&page,per_page}',\n",
       " 'notifications_url': 'https://api.github.com/notifications',\n",
       " 'organization_url': 'https://api.github.com/orgs/{org}',\n",
       " 'organization_repositories_url': 'https://api.github.com/orgs/{org}/repos{?type,page,per_page,sort}',\n",
       " 'organization_teams_url': 'https://api.github.com/orgs/{org}/teams',\n",
       " 'public_gists_url': 'https://api.github.com/gists/public',\n",
       " 'rate_limit_url': 'https://api.github.com/rate_limit',\n",
       " 'repository_url': 'https://api.github.com/repos/{owner}/{repo}',\n",
       " 'repository_search_url': 'https://api.github.com/search/repositories?q={query}{&page,per_page,sort,order}',\n",
       " 'current_user_repositories_url': 'https://api.github.com/user/repos{?type,page,per_page,sort}',\n",
       " 'starred_url': 'https://api.github.com/user/starred{/owner}{/repo}',\n",
       " 'starred_gists_url': 'https://api.github.com/gists/starred',\n",
       " 'user_url': 'https://api.github.com/users/{user}',\n",
       " 'user_organizations_url': 'https://api.github.com/user/orgs',\n",
       " 'user_repositories_url': 'https://api.github.com/users/{user}/repos{?type,page,per_page,sort}',\n",
       " 'user_search_url': 'https://api.github.com/search/users?q={query}{&page,per_page,sort,order}'}"
      ]
     },
     "execution_count": 25,
     "metadata": {},
     "output_type": "execute_result"
    }
   ],
   "source": [
    "response.json()"
   ]
  },
  {
   "cell_type": "markdown",
   "metadata": {},
   "source": [
    "## 2.2 BeautifulSoup 모듈을 활용한 웹데이터 수집\n",
    "- HTML, XML 등 Markup 언어를 crawling하기 위한 대표적인 모듈\n",
    "- https://www.crummy.com/software/BeautifulSoup/\n",
    "\n",
    "**1) 환율정보 가져오기(네이버 금융>시장 지표)** <br>\n",
    "- https://finance.naver.com/marketindex/"
   ]
  },
  {
   "cell_type": "code",
   "execution_count": 27,
   "metadata": {},
   "outputs": [
    {
     "name": "stdout",
     "output_type": "stream",
     "text": [
      "<span class=\"value\">1,129.50</span>\n",
      "1,129.50\n",
      "1129.5\n"
     ]
    }
   ],
   "source": [
    "from bs4 import BeautifulSoup\n",
    "from numpy import round\n",
    "url = \"https://finance.naver.com/marketindex/\"\n",
    "marketindex = requests.get(url)\n",
    "soup = BeautifulSoup(marketindex.content, 'html.parser')\n",
    "price = soup.select_one(\"div.head_info > span.value\")\n",
    "print(price)\n",
    "print(price.text)\n",
    "print(round(float(price.text.replace(',','')),1))"
   ]
  },
  {
   "cell_type": "code",
   "execution_count": 28,
   "metadata": {},
   "outputs": [
    {
     "name": "stdout",
     "output_type": "stream",
     "text": [
      "1,129.50\t1,035.24\t1,345.40\t173.63\t108.8900\t1.1908\t1.3889\t91.8800\t64.8\t1520.36\t1730.6\t62966.7\t\n",
      "1,129.50\t1,035.24\t1,345.40\t173.63\t108.8900\t1.1908\t1.3889\t91.8800\t64.8\t1520.36\t1730.6\t62966.7\t"
     ]
    }
   ],
   "source": [
    "price = soup.select(\"div.head_info > span.value\")\n",
    "for p in price:\n",
    "    print(p.text, end='\\t')\n",
    "print()\n",
    "for i in range(len(price)):\n",
    "    print(price[i].text, end='\\t')"
   ]
  },
  {
   "cell_type": "code",
   "execution_count": 29,
   "metadata": {},
   "outputs": [
    {
     "name": "stdout",
     "output_type": "stream",
     "text": [
      "미국 USD 1,129.50\n",
      "일본 JPY(100엔) 1,035.24\n",
      "유럽연합 EUR 1,345.40\n",
      "중국 CNY 173.63\n",
      "일본 엔/달러 108.8900\n",
      "달러/유로 1.1908\n",
      "달러/영국파운드 1.3889\n",
      "달러인덱스 91.8800\n",
      "WTI 64.8\n",
      "휘발유 1520.36\n",
      "국제 금 1730.6\n",
      "국내 금 62966.7\n"
     ]
    }
   ],
   "source": [
    "title = soup.select(\"h3.h_lst > span.blind\")\n",
    "for i in range(len(price)):\n",
    "    print(\"{} {}\".format(title[i].text, price[i].text))"
   ]
  },
  {
   "cell_type": "code",
   "execution_count": 30,
   "metadata": {},
   "outputs": [
    {
     "data": {
      "text/plain": [
       "['원', '원', '원', '원', '엔', '달러', '달러', '달러', '원', '달러', '원']"
      ]
     },
     "execution_count": 30,
     "metadata": {},
     "output_type": "execute_result"
    }
   ],
   "source": [
    "# price: div.head_info > span.value\n",
    "# 단위(원, 달러): div.head_info > sapn > span.blind\n",
    "# 상승, 하락: div.head_info > span.blind\n",
    "unit = soup.select(\"div.head_info > span > span.blind\")\n",
    "unit = [u.text for u in unit]\n",
    "unit"
   ]
  },
  {
   "cell_type": "code",
   "execution_count": 31,
   "metadata": {},
   "outputs": [
    {
     "data": {
      "text/plain": [
       "['원', '원', '원', '원', '엔', '달러', '달러', '', '달러', '원', '달러', '원']"
      ]
     },
     "execution_count": 31,
     "metadata": {},
     "output_type": "execute_result"
    }
   ],
   "source": [
    "unit.insert(7, '') #7번 인덱스에 ''추가 (단위 없음)\n",
    "unit"
   ]
  },
  {
   "cell_type": "code",
   "execution_count": 32,
   "metadata": {},
   "outputs": [
    {
     "data": {
      "text/plain": [
       "['하락', '하락', '하락', '하락', '하락', '하락', '하락', '상승', '하락', '상승', '상승', '하락']"
      ]
     },
     "execution_count": 32,
     "metadata": {},
     "output_type": "execute_result"
    }
   ],
   "source": [
    "status = soup.select(\"div.head_info > span.blind\")\n",
    "[s.text for s in status]"
   ]
  },
  {
   "cell_type": "code",
   "execution_count": 33,
   "metadata": {},
   "outputs": [
    {
     "name": "stdout",
     "output_type": "stream",
     "text": [
      "미국 USD: 1,129.50원 - 하락\n",
      "일본 JPY(100엔): 1,035.24원 - 하락\n",
      "유럽연합 EUR: 1,345.40원 - 하락\n",
      "중국 CNY: 173.63원 - 하락\n",
      "일본 엔/달러: 108.8900엔 - 하락\n",
      "달러/유로: 1.1908달러 - 하락\n",
      "달러/영국파운드: 1.3889달러 - 하락\n",
      "달러인덱스: 91.8800 - 상승\n",
      "WTI: 64.8달러 - 하락\n",
      "휘발유: 1520.36원 - 상승\n",
      "국제 금: 1730.6달러 - 상승\n",
      "국내 금: 62966.7원 - 하락\n"
     ]
    }
   ],
   "source": [
    "for idx in range(len(price)):\n",
    "    print(\"{}: {}{} - {}\".format(title[idx].text, price[idx].string, unit[idx], status[idx].text))"
   ]
  },
  {
   "cell_type": "markdown",
   "metadata": {},
   "source": [
    "**2) 네이버 영화 랭킹 출력하기** \n",
    "\n",
    "- https://movie.naver.com/movie/sdb/rank/rmovie.nhn\n",
    "- 1위 영화제목 : 영화소개 url\n",
    "- 감독 및 배우\n",
    "- OO 감독 / OO 주연 / OO 주연"
   ]
  },
  {
   "cell_type": "code",
   "execution_count": 34,
   "metadata": {},
   "outputs": [
    {
     "data": {
      "text/plain": [
       "50"
      ]
     },
     "execution_count": 34,
     "metadata": {},
     "output_type": "execute_result"
    }
   ],
   "source": [
    "import requests\n",
    "from bs4 import BeautifulSoup\n",
    "url = \"https://movie.naver.com/movie/sdb/rank/rmovie.nhn\"\n",
    "movie_ranking = requests.get(url)\n",
    "soup = BeautifulSoup(movie_ranking.content, 'html.parser')\n",
    "title_list = soup.select(\"div.tit3 > a\")\n",
    "len(title_list)"
   ]
  },
  {
   "cell_type": "code",
   "execution_count": 35,
   "metadata": {},
   "outputs": [
    {
     "name": "stdout",
     "output_type": "stream",
     "text": [
      " 1위 미나리\n",
      " 2위 극장판 귀멸의 칼날: 무한열차편\n",
      " 3위 라야와 마지막 드래곤\n",
      " 4위 미션 파서블\n",
      " 5위 리스타트\n",
      " 6위 반지의 제왕: 반지 원정대\n",
      " 7위 소울\n",
      " 8위 중경삼림\n",
      " 9위 카오스 워킹\n",
      "10위 아이 씨 유\n",
      "11위 암모나이트\n",
      "12위 웨이 다운\n",
      "13위 포제서\n",
      "14위 톰과 제리\n",
      "15위 고질라 VS. 콩\n",
      "16위 모리타니안\n",
      "17위 더 레이서\n",
      "18위 아수라도\n",
      "19위 퍼펙트 케어\n",
      "20위 허트 로커\n",
      "21위 마리오네트\n",
      "22위 아이\n",
      "23위 파이터\n",
      "24위 유어 아이즈 텔\n",
      "25위 반지의 제왕: 왕의 귀환\n",
      "26위 그녀가 사라졌다\n",
      "27위 러빙 빈센트\n",
      "28위 쁘떼뜨\n",
      "29위 태극기 휘날리며\n",
      "30위 낙원의 밤\n",
      "31위 정말 먼 곳\n",
      "32위 반지의 제왕: 두 개의 탑\n",
      "33위 새해전야\n",
      "34위 아홉수 로맨스\n",
      "35위 스파이의 아내\n",
      "36위 최면\n",
      "37위 아무도 없는 곳\n",
      "38위 어른들은 몰라요\n",
      "39위 모탈 컴뱃\n",
      "40위 빛과 철\n",
      "41위 그린 북\n",
      "42위 너의 얼굴은\n",
      "43위 브레이브 언더 파이어\n",
      "44위 극장판 바이올렛 에버가든\n",
      "45위 승리호\n",
      "46위 세자매\n",
      "47위 검객\n",
      "48위 서복\n",
      "49위 라스트 레터\n",
      "50위 원더 우먼 1984\n"
     ]
    }
   ],
   "source": [
    "for idx in range(len(title_list)):\n",
    "    print(\"{:2d}위 {}\".format(idx+1, title_list[idx].attrs['title']))\n",
    "    #print(\"{:2d}위 {}\".format(idx+1, title_list[idx].text))"
   ]
  },
  {
   "cell_type": "code",
   "execution_count": 37,
   "metadata": {},
   "outputs": [
    {
     "name": "stdout",
     "output_type": "stream",
     "text": [
      " 1위 미나리\n",
      "감독 및 배우\n",
      "감독: 정이삭 / 주연: 스티븐 연(제이콥 역) 주연: 한예리(모니카 역) 주연: 윤여정(순자 역) 주연: 앨런 김(데이빗 역) 주연: 노엘 조(앤 역) \n",
      "\n",
      " 2위 극장판 귀멸의 칼날: 무한열차편\n",
      "감독 및 배우\n",
      "감독: 소토자키 하루오 / 주연: 하나에 나츠키(카마도 탄지로 목소리 역) 주연: 키토 아카리(카마도 네즈코 목소리 역) 조연: 시모노 히로(아가츠마 젠이츠 목소리 ...) 조연: 마츠오카 요시츠구(하시바라 이노스케 목소리 ...) 조연: 히노 사토시(렌고쿠 코쥬로 목소리 역) \n",
      "\n",
      " 3위 라야와 마지막 드래곤\n",
      "감독 및 배우\n",
      "감독: 돈 홀 / 주연: 켈리 마리 트란(라야 목소리 역) 주연: 아콰피나(시수 목소리 역) 주연: 산드라 오(비라나 목소리 역) 주연: 대니얼 대 킴(벤자 족장 목소리 역) 주연: 젬마 찬(나마리 목소리 역) \n",
      "\n",
      " 4위 미션 파서블\n",
      "감독 및 배우\n",
      "감독: 김형주 / 주연: 김영광(우수한 역) 주연: 이선빈(유다희 역) 조연: 오대환(전훈 역) 조연: 서현철(형사반장 역) 조연: 최병모(차오 팀장 역) \n",
      "\n",
      " 5위 리스타트\n",
      "감독 및 배우\n",
      "감독: 조 카나한 / 주연: 프랭크 그릴로(로이 펄버 역) 주연: 멜 깁슨(클라이브 벤터 대령 역) 주연: 나오미 왓츠(젬마 웰스 역) 주연: 양자경(다이 펑 역) 주연: 켄 정(제이크 셰프 역) \n",
      "\n",
      " 6위 반지의 제왕: 반지 원정대\n",
      "감독 및 배우\n",
      "감독: 피터 잭슨 / 주연: 일라이저 우드(프로도 역) 주연: 이안 맥켈런(간달프 역) 주연: 리브 타일러(아르웬 역) 주연: 비고 모텐슨(아라곤 역) 주연: 숀 애스틴(샘 역) \n",
      "\n",
      " 7위 소울\n",
      "감독 및 배우\n",
      "감독: 피트 닥터 / 주연: 제이미 폭스(조 가드너 목소리 역) 주연: 티나 페이(22 목소리 역) 주연: 다비드 딕스(파울 목소리 역) 조연: 필리샤 라샤드(리바 가드너 목소리 역) 조연: 아미어-칼리브 톰슨(컬리 목소리 역) \n",
      "\n",
      " 8위 중경삼림\n",
      "감독 및 배우\n",
      "감독: 왕가위 / 주연: 임청하(노랑머리 마약밀매 중계자 ...) 주연: 양조위(경찰 663 역) 주연: 왕페이(페이 역) 주연: 금성무(경찰 223 역) 조연: 주가령(스튜어디스 역) \n",
      "\n",
      " 9위 카오스 워킹\n",
      "감독 및 배우\n",
      "감독: 더그 라이만 / 주연: 톰 홀랜드(토드 휴이트 역) 주연: 데이지 리들리(바이올라 이드 역) 주연: 매즈 미켈슨(프렌티스 시장 역) 조연: 데이빗 오예로워(아론 역) 조연: 데미안 비쉬어(벤 역) \n",
      "\n",
      "10위 아이 씨 유\n",
      "감독 및 배우\n",
      "감독: 아담 랜달 / 주연: 헬렌 헌트(재키 역) 주연: 존 테니(그렉 역) 주연: 주다 루이스(코너 역) 주연: 오웬 티그(알렉 역) 주연: 리베 바러(민디 역) \n",
      "\n"
     ]
    }
   ],
   "source": [
    "#10위 까지만 (13위, 19위, 21위 등 역할 없는 곳에서 에러 발생)\n",
    "for idx in range(10):\n",
    "    print(\"{:2d}위 {}\".format(idx+1, title_list[idx].text))\n",
    "    link = 'https://movie.naver.com/'+title_list[idx].attrs['href']\n",
    "    soup2 = BeautifulSoup(requests.get(link).content, 'html.parser')\n",
    "    people = soup2.select(\"li a.tx_people\")\n",
    "    staffs = soup2.select(\"dl.staff > dt\")\n",
    "    roles = soup2.select(\"dl.staff > dd\")  #0번째(감독)은 역할X\n",
    "    print(\"감독 및 배우\")\n",
    "    for i in range(len(people)):\n",
    "        if i==0:\n",
    "            print(\"{}: {}\".format(staffs[i].text, people[i].text), end=' / ')\n",
    "        else :\n",
    "            print(\"{}: {}({})\".format(staffs[i].text, people[i].text, roles[i-1].text), end=' ')\n",
    "    print('\\n')"
   ]
  },
  {
   "cell_type": "markdown",
   "metadata": {},
   "source": [
    "**3) 이번주 로또 번호 출력**\n",
    "\n",
    "- 구글에서 로또로 검색 후 첫 사이트(https://dhlottery.co.kr/gameResult.do?method=byWin)\n",
    "- OO회\n",
    "- 당첨번호:\n",
    "- 보너스번호:"
   ]
  },
  {
   "cell_type": "code",
   "execution_count": 38,
   "metadata": {},
   "outputs": [],
   "source": [
    "from urllib.request import urlopen\n",
    "from bs4 import BeautifulSoup\n",
    "url = \"https://dhlottery.co.kr/gameResult.do?method=byWin\"\n",
    "html = urlopen(url)\n",
    "soup = BeautifulSoup(html, \"html.parser\")\n",
    "el_no = soup.select_one(\"div.win_result > h4 > strong\")\n",
    "el_win_nums = soup.select(\"div.win p > span.lrg\")\n",
    "el_bonus = soup.select_one(\"div.bonus p > span.lrg\")"
   ]
  },
  {
   "cell_type": "code",
   "execution_count": 39,
   "metadata": {},
   "outputs": [
    {
     "name": "stdout",
     "output_type": "stream",
     "text": [
      "954회\n",
      "당첨번호: 1 9 26 28 30 41 \n",
      "보너스번호: 32\n"
     ]
    }
   ],
   "source": [
    "print(\"{}\".format(el_no.text))\n",
    "print(\"당첨번호:\", end=' ')\n",
    "for idx in range(len(el_win_nums)):\n",
    "    print(\"{}\".format(el_win_nums[idx].text), end=' ')\n",
    "print()\n",
    "print(\"보너스번호: {}\".format(el_bonus.text))"
   ]
  },
  {
   "cell_type": "code",
   "execution_count": 40,
   "metadata": {},
   "outputs": [
    {
     "name": "stdout",
     "output_type": "stream",
     "text": [
      "954회\n",
      "당첨번호: [1, 9, 26, 28, 30, 41]\n",
      "보너스번호: 32\n"
     ]
    }
   ],
   "source": [
    "print('{}'.format(el_no.text))\n",
    "print(\"당첨번호:\", [int(el.text) for el in el_win_nums])\n",
    "print(\"보너스번호: {}\".format(int(el_bonus.text)))"
   ]
  },
  {
   "cell_type": "markdown",
   "metadata": {},
   "source": [
    "**4) 크롤링 막아놓은 사이트 크롤링**"
   ]
  },
  {
   "cell_type": "code",
   "execution_count": 41,
   "metadata": {},
   "outputs": [
    {
     "ename": "HTTPError",
     "evalue": "HTTP Error 406: Not Acceptable",
     "output_type": "error",
     "traceback": [
      "\u001b[1;31m---------------------------------------------------------------------------\u001b[0m",
      "\u001b[1;31mHTTPError\u001b[0m                                 Traceback (most recent call last)",
      "\u001b[1;32m<ipython-input-41-8c80e2606ca9>\u001b[0m in \u001b[0;36m<module>\u001b[1;34m\u001b[0m\n\u001b[0;32m      2\u001b[0m \u001b[1;32mfrom\u001b[0m \u001b[0mbs4\u001b[0m \u001b[1;32mimport\u001b[0m \u001b[0mBeautifulSoup\u001b[0m\u001b[1;33m\u001b[0m\u001b[1;33m\u001b[0m\u001b[0m\n\u001b[0;32m      3\u001b[0m \u001b[0murl\u001b[0m \u001b[1;33m=\u001b[0m \u001b[1;34m\"https://www.melon.com/chart/index.htm\"\u001b[0m\u001b[1;33m\u001b[0m\u001b[1;33m\u001b[0m\u001b[0m\n\u001b[1;32m----> 4\u001b[1;33m \u001b[0mhtml\u001b[0m \u001b[1;33m=\u001b[0m \u001b[0murlopen\u001b[0m\u001b[1;33m(\u001b[0m\u001b[0murl\u001b[0m\u001b[1;33m)\u001b[0m\u001b[1;33m\u001b[0m\u001b[1;33m\u001b[0m\u001b[0m\n\u001b[0m\u001b[0;32m      5\u001b[0m \u001b[1;31m#HTTP Error 406: Not Acceptable\u001b[0m\u001b[1;33m\u001b[0m\u001b[1;33m\u001b[0m\u001b[1;33m\u001b[0m\u001b[0m\n",
      "\u001b[1;32m~\\anaconda3\\lib\\urllib\\request.py\u001b[0m in \u001b[0;36murlopen\u001b[1;34m(url, data, timeout, cafile, capath, cadefault, context)\u001b[0m\n\u001b[0;32m    220\u001b[0m     \u001b[1;32melse\u001b[0m\u001b[1;33m:\u001b[0m\u001b[1;33m\u001b[0m\u001b[1;33m\u001b[0m\u001b[0m\n\u001b[0;32m    221\u001b[0m         \u001b[0mopener\u001b[0m \u001b[1;33m=\u001b[0m \u001b[0m_opener\u001b[0m\u001b[1;33m\u001b[0m\u001b[1;33m\u001b[0m\u001b[0m\n\u001b[1;32m--> 222\u001b[1;33m     \u001b[1;32mreturn\u001b[0m \u001b[0mopener\u001b[0m\u001b[1;33m.\u001b[0m\u001b[0mopen\u001b[0m\u001b[1;33m(\u001b[0m\u001b[0murl\u001b[0m\u001b[1;33m,\u001b[0m \u001b[0mdata\u001b[0m\u001b[1;33m,\u001b[0m \u001b[0mtimeout\u001b[0m\u001b[1;33m)\u001b[0m\u001b[1;33m\u001b[0m\u001b[1;33m\u001b[0m\u001b[0m\n\u001b[0m\u001b[0;32m    223\u001b[0m \u001b[1;33m\u001b[0m\u001b[0m\n\u001b[0;32m    224\u001b[0m \u001b[1;32mdef\u001b[0m \u001b[0minstall_opener\u001b[0m\u001b[1;33m(\u001b[0m\u001b[0mopener\u001b[0m\u001b[1;33m)\u001b[0m\u001b[1;33m:\u001b[0m\u001b[1;33m\u001b[0m\u001b[1;33m\u001b[0m\u001b[0m\n",
      "\u001b[1;32m~\\anaconda3\\lib\\urllib\\request.py\u001b[0m in \u001b[0;36mopen\u001b[1;34m(self, fullurl, data, timeout)\u001b[0m\n\u001b[0;32m    529\u001b[0m         \u001b[1;32mfor\u001b[0m \u001b[0mprocessor\u001b[0m \u001b[1;32min\u001b[0m \u001b[0mself\u001b[0m\u001b[1;33m.\u001b[0m\u001b[0mprocess_response\u001b[0m\u001b[1;33m.\u001b[0m\u001b[0mget\u001b[0m\u001b[1;33m(\u001b[0m\u001b[0mprotocol\u001b[0m\u001b[1;33m,\u001b[0m \u001b[1;33m[\u001b[0m\u001b[1;33m]\u001b[0m\u001b[1;33m)\u001b[0m\u001b[1;33m:\u001b[0m\u001b[1;33m\u001b[0m\u001b[1;33m\u001b[0m\u001b[0m\n\u001b[0;32m    530\u001b[0m             \u001b[0mmeth\u001b[0m \u001b[1;33m=\u001b[0m \u001b[0mgetattr\u001b[0m\u001b[1;33m(\u001b[0m\u001b[0mprocessor\u001b[0m\u001b[1;33m,\u001b[0m \u001b[0mmeth_name\u001b[0m\u001b[1;33m)\u001b[0m\u001b[1;33m\u001b[0m\u001b[1;33m\u001b[0m\u001b[0m\n\u001b[1;32m--> 531\u001b[1;33m             \u001b[0mresponse\u001b[0m \u001b[1;33m=\u001b[0m \u001b[0mmeth\u001b[0m\u001b[1;33m(\u001b[0m\u001b[0mreq\u001b[0m\u001b[1;33m,\u001b[0m \u001b[0mresponse\u001b[0m\u001b[1;33m)\u001b[0m\u001b[1;33m\u001b[0m\u001b[1;33m\u001b[0m\u001b[0m\n\u001b[0m\u001b[0;32m    532\u001b[0m \u001b[1;33m\u001b[0m\u001b[0m\n\u001b[0;32m    533\u001b[0m         \u001b[1;32mreturn\u001b[0m \u001b[0mresponse\u001b[0m\u001b[1;33m\u001b[0m\u001b[1;33m\u001b[0m\u001b[0m\n",
      "\u001b[1;32m~\\anaconda3\\lib\\urllib\\request.py\u001b[0m in \u001b[0;36mhttp_response\u001b[1;34m(self, request, response)\u001b[0m\n\u001b[0;32m    638\u001b[0m         \u001b[1;31m# request was successfully received, understood, and accepted.\u001b[0m\u001b[1;33m\u001b[0m\u001b[1;33m\u001b[0m\u001b[1;33m\u001b[0m\u001b[0m\n\u001b[0;32m    639\u001b[0m         \u001b[1;32mif\u001b[0m \u001b[1;32mnot\u001b[0m \u001b[1;33m(\u001b[0m\u001b[1;36m200\u001b[0m \u001b[1;33m<=\u001b[0m \u001b[0mcode\u001b[0m \u001b[1;33m<\u001b[0m \u001b[1;36m300\u001b[0m\u001b[1;33m)\u001b[0m\u001b[1;33m:\u001b[0m\u001b[1;33m\u001b[0m\u001b[1;33m\u001b[0m\u001b[0m\n\u001b[1;32m--> 640\u001b[1;33m             response = self.parent.error(\n\u001b[0m\u001b[0;32m    641\u001b[0m                 'http', request, response, code, msg, hdrs)\n\u001b[0;32m    642\u001b[0m \u001b[1;33m\u001b[0m\u001b[0m\n",
      "\u001b[1;32m~\\anaconda3\\lib\\urllib\\request.py\u001b[0m in \u001b[0;36merror\u001b[1;34m(self, proto, *args)\u001b[0m\n\u001b[0;32m    567\u001b[0m         \u001b[1;32mif\u001b[0m \u001b[0mhttp_err\u001b[0m\u001b[1;33m:\u001b[0m\u001b[1;33m\u001b[0m\u001b[1;33m\u001b[0m\u001b[0m\n\u001b[0;32m    568\u001b[0m             \u001b[0margs\u001b[0m \u001b[1;33m=\u001b[0m \u001b[1;33m(\u001b[0m\u001b[0mdict\u001b[0m\u001b[1;33m,\u001b[0m \u001b[1;34m'default'\u001b[0m\u001b[1;33m,\u001b[0m \u001b[1;34m'http_error_default'\u001b[0m\u001b[1;33m)\u001b[0m \u001b[1;33m+\u001b[0m \u001b[0morig_args\u001b[0m\u001b[1;33m\u001b[0m\u001b[1;33m\u001b[0m\u001b[0m\n\u001b[1;32m--> 569\u001b[1;33m             \u001b[1;32mreturn\u001b[0m \u001b[0mself\u001b[0m\u001b[1;33m.\u001b[0m\u001b[0m_call_chain\u001b[0m\u001b[1;33m(\u001b[0m\u001b[1;33m*\u001b[0m\u001b[0margs\u001b[0m\u001b[1;33m)\u001b[0m\u001b[1;33m\u001b[0m\u001b[1;33m\u001b[0m\u001b[0m\n\u001b[0m\u001b[0;32m    570\u001b[0m \u001b[1;33m\u001b[0m\u001b[0m\n\u001b[0;32m    571\u001b[0m \u001b[1;31m# XXX probably also want an abstract factory that knows when it makes\u001b[0m\u001b[1;33m\u001b[0m\u001b[1;33m\u001b[0m\u001b[1;33m\u001b[0m\u001b[0m\n",
      "\u001b[1;32m~\\anaconda3\\lib\\urllib\\request.py\u001b[0m in \u001b[0;36m_call_chain\u001b[1;34m(self, chain, kind, meth_name, *args)\u001b[0m\n\u001b[0;32m    500\u001b[0m         \u001b[1;32mfor\u001b[0m \u001b[0mhandler\u001b[0m \u001b[1;32min\u001b[0m \u001b[0mhandlers\u001b[0m\u001b[1;33m:\u001b[0m\u001b[1;33m\u001b[0m\u001b[1;33m\u001b[0m\u001b[0m\n\u001b[0;32m    501\u001b[0m             \u001b[0mfunc\u001b[0m \u001b[1;33m=\u001b[0m \u001b[0mgetattr\u001b[0m\u001b[1;33m(\u001b[0m\u001b[0mhandler\u001b[0m\u001b[1;33m,\u001b[0m \u001b[0mmeth_name\u001b[0m\u001b[1;33m)\u001b[0m\u001b[1;33m\u001b[0m\u001b[1;33m\u001b[0m\u001b[0m\n\u001b[1;32m--> 502\u001b[1;33m             \u001b[0mresult\u001b[0m \u001b[1;33m=\u001b[0m \u001b[0mfunc\u001b[0m\u001b[1;33m(\u001b[0m\u001b[1;33m*\u001b[0m\u001b[0margs\u001b[0m\u001b[1;33m)\u001b[0m\u001b[1;33m\u001b[0m\u001b[1;33m\u001b[0m\u001b[0m\n\u001b[0m\u001b[0;32m    503\u001b[0m             \u001b[1;32mif\u001b[0m \u001b[0mresult\u001b[0m \u001b[1;32mis\u001b[0m \u001b[1;32mnot\u001b[0m \u001b[1;32mNone\u001b[0m\u001b[1;33m:\u001b[0m\u001b[1;33m\u001b[0m\u001b[1;33m\u001b[0m\u001b[0m\n\u001b[0;32m    504\u001b[0m                 \u001b[1;32mreturn\u001b[0m \u001b[0mresult\u001b[0m\u001b[1;33m\u001b[0m\u001b[1;33m\u001b[0m\u001b[0m\n",
      "\u001b[1;32m~\\anaconda3\\lib\\urllib\\request.py\u001b[0m in \u001b[0;36mhttp_error_default\u001b[1;34m(self, req, fp, code, msg, hdrs)\u001b[0m\n\u001b[0;32m    647\u001b[0m \u001b[1;32mclass\u001b[0m \u001b[0mHTTPDefaultErrorHandler\u001b[0m\u001b[1;33m(\u001b[0m\u001b[0mBaseHandler\u001b[0m\u001b[1;33m)\u001b[0m\u001b[1;33m:\u001b[0m\u001b[1;33m\u001b[0m\u001b[1;33m\u001b[0m\u001b[0m\n\u001b[0;32m    648\u001b[0m     \u001b[1;32mdef\u001b[0m \u001b[0mhttp_error_default\u001b[0m\u001b[1;33m(\u001b[0m\u001b[0mself\u001b[0m\u001b[1;33m,\u001b[0m \u001b[0mreq\u001b[0m\u001b[1;33m,\u001b[0m \u001b[0mfp\u001b[0m\u001b[1;33m,\u001b[0m \u001b[0mcode\u001b[0m\u001b[1;33m,\u001b[0m \u001b[0mmsg\u001b[0m\u001b[1;33m,\u001b[0m \u001b[0mhdrs\u001b[0m\u001b[1;33m)\u001b[0m\u001b[1;33m:\u001b[0m\u001b[1;33m\u001b[0m\u001b[1;33m\u001b[0m\u001b[0m\n\u001b[1;32m--> 649\u001b[1;33m         \u001b[1;32mraise\u001b[0m \u001b[0mHTTPError\u001b[0m\u001b[1;33m(\u001b[0m\u001b[0mreq\u001b[0m\u001b[1;33m.\u001b[0m\u001b[0mfull_url\u001b[0m\u001b[1;33m,\u001b[0m \u001b[0mcode\u001b[0m\u001b[1;33m,\u001b[0m \u001b[0mmsg\u001b[0m\u001b[1;33m,\u001b[0m \u001b[0mhdrs\u001b[0m\u001b[1;33m,\u001b[0m \u001b[0mfp\u001b[0m\u001b[1;33m)\u001b[0m\u001b[1;33m\u001b[0m\u001b[1;33m\u001b[0m\u001b[0m\n\u001b[0m\u001b[0;32m    650\u001b[0m \u001b[1;33m\u001b[0m\u001b[0m\n\u001b[0;32m    651\u001b[0m \u001b[1;32mclass\u001b[0m \u001b[0mHTTPRedirectHandler\u001b[0m\u001b[1;33m(\u001b[0m\u001b[0mBaseHandler\u001b[0m\u001b[1;33m)\u001b[0m\u001b[1;33m:\u001b[0m\u001b[1;33m\u001b[0m\u001b[1;33m\u001b[0m\u001b[0m\n",
      "\u001b[1;31mHTTPError\u001b[0m: HTTP Error 406: Not Acceptable"
     ]
    }
   ],
   "source": [
    "from urllib.request import urlopen\n",
    "from bs4 import BeautifulSoup\n",
    "url = \"https://www.melon.com/chart/index.htm\"\n",
    "html = urlopen(url)\n",
    "#HTTP Error 406: Not Acceptable"
   ]
  },
  {
   "cell_type": "code",
   "execution_count": 46,
   "metadata": {},
   "outputs": [
    {
     "name": "stdout",
     "output_type": "stream",
     "text": [
      "롤린 (Rollin')\n",
      "브레이브걸스\n"
     ]
    },
    {
     "data": {
      "text/plain": [
       "(100, 100)"
      ]
     },
     "execution_count": 46,
     "metadata": {},
     "output_type": "execute_result"
    }
   ],
   "source": [
    "import requests\n",
    "from bs4 import BeautifulSoup\n",
    "url = \"https://www.melon.com/chart/index.htm\" #크롤링 막아놓음\n",
    "#크롤링 막혀있는 경우 headers 시도해보기\n",
    "headers = {'User-agent':'Mozilla/5.0'}\n",
    "html = requests.get(url, headers=headers)\n",
    "soup = BeautifulSoup(html.content, 'html.parser')\n",
    "titles = soup.select(\"div.ellipsis.rank01 > span > a\")\n",
    "print(titles[0].text)\n",
    "singers = soup.select(\"div.ellipsis.rank02 > span\") #가수 2명 있는 것 주의!\n",
    "print(singers[0].text)\n",
    "len(titles), len(singers)"
   ]
  },
  {
   "cell_type": "code",
   "execution_count": 47,
   "metadata": {},
   "outputs": [
    {
     "name": "stdout",
     "output_type": "stream",
     "text": [
      "  1위 | 롤린 (Rollin') | 브레이브걸스\n",
      "  2위 | Celebrity | 아이유\n",
      "  3위 | On The Ground | 로제 (ROSÉ)\n",
      "  4위 | LOVE DAY (2021) (바른연애 길잡이 X 양요섭, 정은지) | None\n",
      "  5위 | Dynamite | 방탄소년단\n",
      "  6위 | 밤하늘의 별을(2020) | 경서\n",
      "  7위 | Gone | 로제 (ROSÉ)\n",
      "  8위 | 밝게 빛나는 별이 되어 비춰줄게 | 송이한\n",
      "  9위 | 내 손을 잡아 | 아이유\n",
      " 10위 | VVS (Feat. JUSTHIS) (Prod. GroovyRoom) | None\n",
      " 11위 | 잠이 오질 않네요 | 장범준\n",
      " 12위 | Lovesick Girls | BLACKPINK\n",
      " 13위 | 취기를 빌려 (취향저격 그녀 X 산들) | 산들\n",
      " 14위 | 이 밤을 빌려 말해요 (바른연애 길잡이 X 10CM) | 10CM\n",
      " 15위 | 나랑 같이 걸을래 (바른연애 길잡이 X 적재) | 적재\n",
      " 16위 | 에잇(Prod.&Feat. SUGA of BTS) | 아이유\n",
      " 17위 | Blueming | 아이유\n",
      " 18위 | 흔들리는 꽃들 속에서 네 샴푸향이 느껴진거야 | 장범준\n",
      " 19위 | 그날에 나는 맘이 편했을까 | 이예준\n",
      " 20위 | 오래된 노래 | 스탠딩 에그\n",
      " 21위 | 힘든 건 사랑이 아니다 | 임창정\n",
      " 22위 | 그 한마디 (바른연애 길잡이 X 이하이) | 이하이\n",
      " 23위 | 어떻게 이별까지 사랑하겠어, 널 사랑하는 거지 | AKMU (악동뮤지션)\n",
      " 24위 | 고백 (바른연애 길잡이 X 허각) | 허각\n",
      " 25위 | 사실 나는 (Feat.전건호) | 경서예지\n",
      " 26위 | Savage Love (Laxed - Siren Beat) (BTS Remix) | None\n",
      " 27위 | 모든 날, 모든 순간 (Every day, Every Moment) | 폴킴\n",
      " 28위 | Life Goes On | 방탄소년단\n",
      " 29위 | METEOR | 창모 (CHANGMO)\n",
      " 30위 | 내 마음이 움찔했던 순간 (취향저격 그녀 X 규현) | 규현 (KYUHYUN)\n",
      " 31위 | Dolphin | 오마이걸 (OH MY GIRL)\n",
      " 32위 | I'm Not Cool | 현아\n",
      " 33위 | 어떻게 지내 (Prod. By VAN.C) | 오반 (OVAN)\n",
      " 34위 | 2002 | Anne-Marie\n",
      " 35위 | How You Like That | BLACKPINK\n",
      " 36위 | 늦은 밤 너의 집 앞 골목길에서 | 노을\n",
      " 37위 | 아로하 | 조정석\n",
      " 38위 | 함께 했는데 이별은 나 혼자인 거야 | 소정 (레이디스 코드)\n",
      " 39위 | 오늘도 빛나는 너에게 (To You My Light) (Feat.이라온) | 마크툽 (MAKTUB)\n",
      " 40위 | 혼술하고 싶은 밤 | 벤\n",
      " 41위 | 봄날 | 방탄소년단\n",
      " 42위 | 너의 번호를 누르고 (Prod. 영화처럼) | #안녕\n",
      " 43위 | 내일이 오면 (Feat. 기리보이, BIG Naughty (서동현)) | 릴보이 (lIlBOI)\n",
      " 44위 | 마음을 드려요 | 아이유\n",
      " 45위 | When We Disco (Duet with 선미) | 박진영\n",
      " 46위 | 작은 것들을 위한 시 (Boy With Luv) (Feat. Halsey) | 방탄소년단\n",
      " 47위 | 추억은 만남보다 이별에 남아 | 정동하\n",
      " 48위 | Memories | Maroon 5\n",
      " 49위 | 꼬리 (TAIL) | 선미\n",
      " 50위 | 되풀이 | 임창정\n",
      " 51위 | 서면역에서 | 순순희\n",
      " 52위 | 너를 만나 | 폴킴\n",
      " 53위 | 술 한잔 해요 | None\n",
      " 54위 | 살짝 설렜어 (Nonstop) | 오마이걸 (OH MY GIRL)\n",
      " 55위 | 시작 | 가호 (Gaho)\n",
      " 56위 | Don't Call Me | SHINee (샤이니)\n",
      " 57위 | 12:45 (Stripped) | Etham\n",
      " 58위 | 이제 나만 믿어요 | 임영웅\n",
      " 59위 | 우리 왜 헤어져야 해 | 신예영\n",
      " 60위 | Dance Monkey | Tones And I\n",
      " 61위 | 거짓말이라도 해서 널 보고싶어 | 백지영\n",
      " 62위 | 좋은 이별이 있을 리가 없잖아 (Feat. 조현아 Of 어반자카파) | MC몽\n",
      " 63위 | Love poem | 아이유\n",
      " 64위 | 우린 어쩌다 헤어진 걸까 | 허각\n",
      " 65위 | 안녕 | 폴킴\n",
      " 66위 | 이렇게 좋아해 본 적이 없어요 | CHEEZE (치즈)\n",
      " 67위 | Downtown Baby | 블루 (BLOO)\n",
      " 68위 | 딩가딩가 (Dingga) | 마마무 (Mamamoo)\n",
      " 69위 | 마리아 (Maria) | 화사 (Hwa Sa)\n",
      " 70위 | 사랑하는 당신께 | 폴킴\n",
      " 71위 | 사랑은 지날수록 더욱 선명하게 남아 | 전상근\n",
      " 72위 | 화(火花) | (여자)아이들\n",
      " 73위 | Paris In The Rain | Lauv\n",
      " 74위 | Panorama | IZ*ONE (아이즈원)\n",
      " 75위 | Don't Start Now | Dua Lipa\n",
      " 76위 | I CAN’T STOP ME | TWICE (트와이스)\n",
      " 77위 | 홀로 | 이하이\n",
      " 78위 | CREDIT (Feat. 염따, 기리보이, Zion.T) | 릴보이 (lIlBOI)\n",
      " 79위 | 서른 밤째 (바른연애 길잡이 X 윤하 (YOUNHA)) | 윤하 (YOUNHA)\n",
      " 80위 | 다시 만날까 봐 (Prod.V.O.S) | 이예준\n",
      " 81위 | 소확행 | 임창정\n",
      " 82위 | 아무노래 | 지코 (ZICO)\n",
      " 83위 | 사랑 못해, 남들 쉽게 다 하는 거 | 먼데이 키즈 (Monday Kiz)\n",
      " 84위 | DON'T TOUCH ME | 환불원정대\n",
      " 85위 | 처음처럼 | 엠씨더맥스 (M.C the MAX)\n",
      " 86위 | Maniac | Conan Gray\n",
      " 87위 | 눈누난나 (NUNU NANA) | 제시 (Jessi)\n",
      " 88위 | Bad Boy | None\n",
      " 89위 | 비로소 너에게 도착했다 (Full Bloom) | 마크툽 (MAKTUB)\n",
      " 90위 | 사랑하게 될 줄 알았어 | 전미도\n",
      " 91위 | 별빛 같은 나의 사랑아 | 임영웅\n",
      " 92위 | 멜로디 | ASH ISLAND\n",
      " 93위 | FLYING HIGH WITH U | 빈첸\n",
      " 94위 | 별을 담은 시 (Ode To The Stars) | None\n",
      " 95위 | What Do I Call You | 태연 (TAEYEON)\n",
      " 96위 | Achoo (Feat. pH-1, HAON) (Prod. GroovyRoom) | 미란이 (Mirani)\n",
      " 97위 | 가을밤에 든 생각 | 잔나비\n",
      " 98위 | 한잔이면 지워질까 | 황인욱\n",
      " 99위 | Freak (Prod. Slom) | None\n",
      "100위 | 뿌리 (Feat. JUSTHIS) (Prod. GroovyRoom) | Khundi Panda\n"
     ]
    }
   ],
   "source": [
    "for idx in range(len(titles)):\n",
    "    print(\"{:3d}위 | {} | {}\".format(idx+1, titles[idx].text, singers[idx].string))"
   ]
  },
  {
   "cell_type": "markdown",
   "metadata": {},
   "source": [
    "## 2.3 정규표현식을 활용한 웹데이터 수집\n",
    "### 정규표현식 참조\n",
    "- https://ko.wikipedia.org/wiki/%EC%A0%95%EA%B7%9C_%ED%91%9C%ED%98%84%EC%8B%9D\n",
    "- https://www.nextree.co.kr/p4327/\n",
    "- 정규표현식 연습장: https://regexr.com/\n",
    "### 간략문법\n",
    "- \\d ; 숫자. [0-9]와 동일\n",
    "- \\D ; 숫자가 아닌 것\n",
    "- \\s ; 공백(white space)\n",
    "- \\w ; 영문자나 숫자\n",
    "- \\W ; 영문자나 숫자가 아닌 문자\n",
    "- . ; 문자 하나\n",
    "<pre>\n",
    " + ; 1번 이상 반복\n",
    " * ; 0번 이상 반복\n",
    " {n, m} ; n~m회 반복\n",
    " ? ; {0, 1} 의미\n",
    "</pre>\n",
    "### 정규표현식 예\n",
    "- 메일 패턴: \\w+@\\w+[\\\\.\\w]+\\w+\n",
    "- 전화번호 패턴: .?\\d{2,3}.?\\d{3,4}.?\\d{4}\n",
    "- ip주소 정규표현식: [0-9]{1,3}.[0-9]{1,3}.[0-9]{1,3}.[0-9]{1,3}\n",
    "- 주민번호 정규표현식: [0-9]{6}-[0-4]\\d{6}"
   ]
  },
  {
   "cell_type": "code",
   "execution_count": 48,
   "metadata": {},
   "outputs": [
    {
     "name": "stdout",
     "output_type": "stream",
     "text": [
      "hello\\nWorld\n"
     ]
    }
   ],
   "source": [
    "print(r\"hello\\nWorld\") #정규표현식 앞에 r을 붙이면 \\그대로 출력"
   ]
  },
  {
   "cell_type": "code",
   "execution_count": 49,
   "metadata": {},
   "outputs": [
    {
     "name": "stdout",
     "output_type": "stream",
     "text": [
      "hello\n",
      "World\n"
     ]
    }
   ],
   "source": [
    "print(\"hello\\nWorld\")"
   ]
  },
  {
   "cell_type": "code",
   "execution_count": 50,
   "metadata": {},
   "outputs": [],
   "source": [
    "import re\n",
    "parsing_string = \"\"\"010-9999-9999\n",
    "01-65478\n",
    "(02)716-1004\n",
    "sp@naver.com\n",
    "ko@abc.co.kr\n",
    "<html>\n",
    "    <tag>abe</tag>\n",
    "</html>\n",
    "\"\"\""
   ]
  },
  {
   "cell_type": "code",
   "execution_count": 52,
   "metadata": {},
   "outputs": [
    {
     "data": {
      "text/plain": [
       "['sp@naver.com', 'ko@abc.co.kr']"
      ]
     },
     "execution_count": 52,
     "metadata": {},
     "output_type": "execute_result"
    }
   ],
   "source": [
    "mail_result = re.findall(r'\\w+@\\w+[\\.\\w]+\\w+', parsing_string)\n",
    "mail_result"
   ]
  },
  {
   "cell_type": "code",
   "execution_count": 53,
   "metadata": {},
   "outputs": [
    {
     "data": {
      "text/plain": [
       "['010-9999-9999', '(02)716-1004']"
      ]
     },
     "execution_count": 53,
     "metadata": {},
     "output_type": "execute_result"
    }
   ],
   "source": [
    "tel_result = re.findall(r'.?\\d{2,3}.?\\d{3,4}.?\\d{4}', parsing_string)\n",
    "tel_result"
   ]
  },
  {
   "cell_type": "code",
   "execution_count": 56,
   "metadata": {},
   "outputs": [
    {
     "data": {
      "text/plain": [
       "'abe'"
      ]
     },
     "execution_count": 56,
     "metadata": {},
     "output_type": "execute_result"
    }
   ],
   "source": [
    "tag_text = re.search(r'<tag>(.+)</tag>', parsing_string)\n",
    "tag_text.group(1)"
   ]
  },
  {
   "cell_type": "markdown",
   "metadata": {},
   "source": [
    "**예제) 전국날씨 RSS 데이터 가져오기**\n",
    "- https://www.weather.go.kr/weather/forecast/mid-term-rss3.jsp?stnId=108"
   ]
  },
  {
   "cell_type": "code",
   "execution_count": 59,
   "metadata": {},
   "outputs": [
    {
     "name": "stdout",
     "output_type": "stream",
     "text": [
      "서울ㆍ인천ㆍ경기도 지역의  서울\n",
      "\t날짜 시간:2021-03-20 00:00, 날씨:흐림, 최저:8도, 최고:14도\n",
      "\t날짜 시간:2021-03-20 12:00, 날씨:흐리고 비, 최저:8도, 최고:14도\n",
      "\t날짜 시간:2021-03-21 00:00, 날씨:구름많음, 최저:5도, 최고:10도\n",
      "\t날짜 시간:2021-03-21 12:00, 날씨:맑음, 최저:5도, 최고:10도\n",
      "\t날짜 시간:2021-03-22 00:00, 날씨:맑음, 최저:1도, 최고:10도\n",
      "\t날짜 시간:2021-03-22 12:00, 날씨:맑음, 최저:1도, 최고:10도\n",
      "\t날짜 시간:2021-03-23 00:00, 날씨:맑음, 최저:4도, 최고:14도\n",
      "\t날짜 시간:2021-03-23 12:00, 날씨:맑음, 최저:4도, 최고:14도\n",
      "\t날짜 시간:2021-03-24 00:00, 날씨:맑음, 최저:5도, 최고:15도\n",
      "\t날짜 시간:2021-03-24 12:00, 날씨:맑음, 최저:5도, 최고:15도\n",
      "\t날짜 시간:2021-03-25 00:00, 날씨:구름많음, 최저:6도, 최고:16도\n",
      "\t날짜 시간:2021-03-26 00:00, 날씨:구름많음, 최저:6도, 최고:15도\n",
      "\t날짜 시간:2021-03-27 00:00, 날씨:구름많음, 최저:7도, 최고:16도\n",
      "서울ㆍ인천ㆍ경기도 지역의  인천\n",
      "\t날짜 시간:2021-03-20 00:00, 날씨:흐림, 최저:8도, 최고:12도\n",
      "\t날짜 시간:2021-03-20 12:00, 날씨:흐리고 비, 최저:8도, 최고:12도\n",
      "\t날짜 시간:2021-03-21 00:00, 날씨:구름많음, 최저:5도, 최고:8도\n",
      "\t날짜 시간:2021-03-21 12:00, 날씨:맑음, 최저:5도, 최고:8도\n",
      "\t날짜 시간:2021-03-22 00:00, 날씨:맑음, 최저:3도, 최고:9도\n",
      "\t날짜 시간:2021-03-22 12:00, 날씨:맑음, 최저:3도, 최고:9도\n",
      "\t날짜 시간:2021-03-23 00:00, 날씨:맑음, 최저:4도, 최고:12도\n",
      "\t날짜 시간:2021-03-23 12:00, 날씨:맑음, 최저:4도, 최고:12도\n",
      "\t날짜 시간:2021-03-24 00:00, 날씨:맑음, 최저:6도, 최고:13도\n",
      "\t날짜 시간:2021-03-24 12:00, 날씨:맑음, 최저:6도, 최고:13도\n",
      "\t날짜 시간:2021-03-25 00:00, 날씨:구름많음, 최저:6도, 최고:13도\n",
      "\t날짜 시간:2021-03-26 00:00, 날씨:구름많음, 최저:6도, 최고:14도\n",
      "\t날짜 시간:2021-03-27 00:00, 날씨:구름많음, 최저:7도, 최고:14도\n",
      "서울ㆍ인천ㆍ경기도 지역의  수원\n",
      "\t날짜 시간:2021-03-20 00:00, 날씨:흐림, 최저:7도, 최고:14도\n",
      "\t날짜 시간:2021-03-20 12:00, 날씨:흐리고 비, 최저:7도, 최고:14도\n",
      "\t날짜 시간:2021-03-21 00:00, 날씨:구름많음, 최저:5도, 최고:10도\n",
      "\t날짜 시간:2021-03-21 12:00, 날씨:맑음, 최저:5도, 최고:10도\n",
      "\t날짜 시간:2021-03-22 00:00, 날씨:맑음, 최저:1도, 최고:10도\n",
      "\t날짜 시간:2021-03-22 12:00, 날씨:맑음, 최저:1도, 최고:10도\n",
      "\t날짜 시간:2021-03-23 00:00, 날씨:맑음, 최저:2도, 최고:15도\n",
      "\t날짜 시간:2021-03-23 12:00, 날씨:맑음, 최저:2도, 최고:15도\n",
      "\t날짜 시간:2021-03-24 00:00, 날씨:맑음, 최저:3도, 최고:16도\n",
      "\t날짜 시간:2021-03-24 12:00, 날씨:맑음, 최저:3도, 최고:16도\n",
      "\t날짜 시간:2021-03-25 00:00, 날씨:구름많음, 최저:4도, 최고:15도\n",
      "\t날짜 시간:2021-03-26 00:00, 날씨:구름많음, 최저:4도, 최고:15도\n",
      "\t날짜 시간:2021-03-27 00:00, 날씨:구름많음, 최저:5도, 최고:16도\n",
      "서울ㆍ인천ㆍ경기도 지역의  파주\n",
      "\t날짜 시간:2021-03-20 00:00, 날씨:흐림, 최저:5도, 최고:13도\n",
      "\t날짜 시간:2021-03-20 12:00, 날씨:흐리고 비, 최저:5도, 최고:13도\n",
      "\t날짜 시간:2021-03-21 00:00, 날씨:구름많음, 최저:4도, 최고:11도\n",
      "\t날짜 시간:2021-03-21 12:00, 날씨:맑음, 최저:4도, 최고:11도\n",
      "\t날짜 시간:2021-03-22 00:00, 날씨:맑음, 최저:-2도, 최고:12도\n",
      "\t날짜 시간:2021-03-22 12:00, 날씨:맑음, 최저:-2도, 최고:12도\n",
      "\t날짜 시간:2021-03-23 00:00, 날씨:맑음, 최저:-1도, 최고:14도\n",
      "\t날짜 시간:2021-03-23 12:00, 날씨:맑음, 최저:-1도, 최고:14도\n",
      "\t날짜 시간:2021-03-24 00:00, 날씨:맑음, 최저:2도, 최고:15도\n",
      "\t날짜 시간:2021-03-24 12:00, 날씨:맑음, 최저:2도, 최고:15도\n",
      "\t날짜 시간:2021-03-25 00:00, 날씨:구름많음, 최저:3도, 최고:15도\n",
      "\t날짜 시간:2021-03-26 00:00, 날씨:구름많음, 최저:3도, 최고:15도\n",
      "\t날짜 시간:2021-03-27 00:00, 날씨:구름많음, 최저:3도, 최고:16도\n",
      "서울ㆍ인천ㆍ경기도 지역의  이천\n",
      "\t날짜 시간:2021-03-20 00:00, 날씨:흐림, 최저:4도, 최고:13도\n",
      "\t날짜 시간:2021-03-20 12:00, 날씨:흐리고 비, 최저:4도, 최고:13도\n",
      "\t날짜 시간:2021-03-21 00:00, 날씨:구름많음, 최저:5도, 최고:12도\n",
      "\t날짜 시간:2021-03-21 12:00, 날씨:맑음, 최저:5도, 최고:12도\n",
      "\t날짜 시간:2021-03-22 00:00, 날씨:맑음, 최저:0도, 최고:12도\n",
      "\t날짜 시간:2021-03-22 12:00, 날씨:맑음, 최저:0도, 최고:12도\n",
      "\t날짜 시간:2021-03-23 00:00, 날씨:맑음, 최저:0도, 최고:15도\n",
      "\t날짜 시간:2021-03-23 12:00, 날씨:맑음, 최저:0도, 최고:15도\n",
      "\t날짜 시간:2021-03-24 00:00, 날씨:맑음, 최저:1도, 최고:17도\n",
      "\t날짜 시간:2021-03-24 12:00, 날씨:맑음, 최저:1도, 최고:17도\n",
      "\t날짜 시간:2021-03-25 00:00, 날씨:구름많음, 최저:3도, 최고:16도\n",
      "\t날짜 시간:2021-03-26 00:00, 날씨:구름많음, 최저:3도, 최고:16도\n",
      "\t날짜 시간:2021-03-27 00:00, 날씨:구름많음, 최저:3도, 최고:16도\n",
      "서울ㆍ인천ㆍ경기도 지역의  평택\n",
      "\t날짜 시간:2021-03-20 00:00, 날씨:흐림, 최저:6도, 최고:14도\n",
      "\t날짜 시간:2021-03-20 12:00, 날씨:흐리고 비, 최저:6도, 최고:14도\n",
      "\t날짜 시간:2021-03-21 00:00, 날씨:구름많음, 최저:5도, 최고:10도\n",
      "\t날짜 시간:2021-03-21 12:00, 날씨:맑음, 최저:5도, 최고:10도\n",
      "\t날짜 시간:2021-03-22 00:00, 날씨:맑음, 최저:2도, 최고:12도\n",
      "\t날짜 시간:2021-03-22 12:00, 날씨:맑음, 최저:2도, 최고:12도\n",
      "\t날짜 시간:2021-03-23 00:00, 날씨:맑음, 최저:2도, 최고:15도\n",
      "\t날짜 시간:2021-03-23 12:00, 날씨:맑음, 최저:2도, 최고:15도\n",
      "\t날짜 시간:2021-03-24 00:00, 날씨:맑음, 최저:4도, 최고:16도\n",
      "\t날짜 시간:2021-03-24 12:00, 날씨:맑음, 최저:4도, 최고:16도\n",
      "\t날짜 시간:2021-03-25 00:00, 날씨:구름많음, 최저:4도, 최고:16도\n",
      "\t날짜 시간:2021-03-26 00:00, 날씨:구름많음, 최저:4도, 최고:16도\n",
      "\t날짜 시간:2021-03-27 00:00, 날씨:구름많음, 최저:5도, 최고:16도\n",
      "강원도영서 지역의  춘천\n",
      "\t날짜 시간:2021-03-20 00:00, 날씨:흐림, 최저:4도, 최고:13도\n",
      "\t날짜 시간:2021-03-20 12:00, 날씨:흐리고 비, 최저:4도, 최고:13도\n",
      "\t날짜 시간:2021-03-21 00:00, 날씨:흐림, 최저:5도, 최고:12도\n",
      "\t날짜 시간:2021-03-21 12:00, 날씨:맑음, 최저:5도, 최고:12도\n",
      "\t날짜 시간:2021-03-22 00:00, 날씨:맑음, 최저:-2도, 최고:11도\n",
      "\t날짜 시간:2021-03-22 12:00, 날씨:맑음, 최저:-2도, 최고:11도\n",
      "\t날짜 시간:2021-03-23 00:00, 날씨:맑음, 최저:-1도, 최고:15도\n",
      "\t날짜 시간:2021-03-23 12:00, 날씨:맑음, 최저:-1도, 최고:15도\n",
      "\t날짜 시간:2021-03-24 00:00, 날씨:맑음, 최저:1도, 최고:16도\n",
      "\t날짜 시간:2021-03-24 12:00, 날씨:구름많음, 최저:1도, 최고:16도\n",
      "\t날짜 시간:2021-03-25 00:00, 날씨:흐림, 최저:4도, 최고:16도\n",
      "\t날짜 시간:2021-03-26 00:00, 날씨:구름많음, 최저:4도, 최고:16도\n",
      "\t날짜 시간:2021-03-27 00:00, 날씨:구름많음, 최저:4도, 최고:16도\n",
      "강원도영서 지역의  원주\n",
      "\t날짜 시간:2021-03-20 00:00, 날씨:흐림, 최저:6도, 최고:15도\n",
      "\t날짜 시간:2021-03-20 12:00, 날씨:흐리고 비, 최저:6도, 최고:15도\n",
      "\t날짜 시간:2021-03-21 00:00, 날씨:흐림, 최저:7도, 최고:12도\n",
      "\t날짜 시간:2021-03-21 12:00, 날씨:맑음, 최저:7도, 최고:12도\n",
      "\t날짜 시간:2021-03-22 00:00, 날씨:맑음, 최저:-1도, 최고:10도\n",
      "\t날짜 시간:2021-03-22 12:00, 날씨:맑음, 최저:-1도, 최고:10도\n",
      "\t날짜 시간:2021-03-23 00:00, 날씨:맑음, 최저:0도, 최고:15도\n",
      "\t날짜 시간:2021-03-23 12:00, 날씨:맑음, 최저:0도, 최고:15도\n",
      "\t날짜 시간:2021-03-24 00:00, 날씨:맑음, 최저:2도, 최고:16도\n",
      "\t날짜 시간:2021-03-24 12:00, 날씨:구름많음, 최저:2도, 최고:16도\n",
      "\t날짜 시간:2021-03-25 00:00, 날씨:흐림, 최저:4도, 최고:16도\n",
      "\t날짜 시간:2021-03-26 00:00, 날씨:구름많음, 최저:5도, 최고:15도\n",
      "\t날짜 시간:2021-03-27 00:00, 날씨:구름많음, 최저:5도, 최고:16도\n",
      "강원도영동 지역의  강릉\n",
      "\t날짜 시간:2021-03-20 00:00, 날씨:흐림, 최저:6도, 최고:12도\n",
      "\t날짜 시간:2021-03-20 12:00, 날씨:흐리고 비, 최저:6도, 최고:12도\n",
      "\t날짜 시간:2021-03-21 00:00, 날씨:흐리고 비, 최저:7도, 최고:15도\n",
      "\t날짜 시간:2021-03-21 12:00, 날씨:맑음, 최저:7도, 최고:15도\n",
      "\t날짜 시간:2021-03-22 00:00, 날씨:맑음, 최저:4도, 최고:12도\n",
      "\t날짜 시간:2021-03-22 12:00, 날씨:맑음, 최저:4도, 최고:12도\n",
      "\t날짜 시간:2021-03-23 00:00, 날씨:맑음, 최저:6도, 최고:17도\n",
      "\t날짜 시간:2021-03-23 12:00, 날씨:맑음, 최저:6도, 최고:17도\n",
      "\t날짜 시간:2021-03-24 00:00, 날씨:맑음, 최저:8도, 최고:17도\n",
      "\t날짜 시간:2021-03-24 12:00, 날씨:맑음, 최저:8도, 최고:17도\n",
      "\t날짜 시간:2021-03-25 00:00, 날씨:구름많음, 최저:7도, 최고:16도\n",
      "\t날짜 시간:2021-03-26 00:00, 날씨:맑음, 최저:7도, 최고:15도\n",
      "\t날짜 시간:2021-03-27 00:00, 날씨:구름많음, 최저:7도, 최고:15도\n",
      "대전ㆍ세종ㆍ충청남도 지역의  대전\n",
      "\t날짜 시간:2021-03-20 00:00, 날씨:흐림, 최저:8도, 최고:11도\n",
      "\t날짜 시간:2021-03-20 12:00, 날씨:흐리고 비, 최저:8도, 최고:11도\n",
      "\t날짜 시간:2021-03-21 00:00, 날씨:흐림, 최저:7도, 최고:13도\n",
      "\t날짜 시간:2021-03-21 12:00, 날씨:구름많음, 최저:7도, 최고:13도\n",
      "\t날짜 시간:2021-03-22 00:00, 날씨:맑음, 최저:1도, 최고:12도\n",
      "\t날짜 시간:2021-03-22 12:00, 날씨:맑음, 최저:1도, 최고:12도\n",
      "\t날짜 시간:2021-03-23 00:00, 날씨:맑음, 최저:2도, 최고:16도\n",
      "\t날짜 시간:2021-03-23 12:00, 날씨:맑음, 최저:2도, 최고:16도\n",
      "\t날짜 시간:2021-03-24 00:00, 날씨:맑음, 최저:4도, 최고:17도\n",
      "\t날짜 시간:2021-03-24 12:00, 날씨:맑음, 최저:4도, 최고:17도\n",
      "\t날짜 시간:2021-03-25 00:00, 날씨:구름많음, 최저:5도, 최고:17도\n",
      "\t날짜 시간:2021-03-26 00:00, 날씨:구름많음, 최저:5도, 최고:17도\n",
      "\t날짜 시간:2021-03-27 00:00, 날씨:구름많음, 최저:5도, 최고:17도\n",
      "대전ㆍ세종ㆍ충청남도 지역의  세종\n",
      "\t날짜 시간:2021-03-20 00:00, 날씨:흐림, 최저:7도, 최고:11도\n",
      "\t날짜 시간:2021-03-20 12:00, 날씨:흐리고 비, 최저:7도, 최고:11도\n",
      "\t날짜 시간:2021-03-21 00:00, 날씨:흐림, 최저:7도, 최고:12도\n",
      "\t날짜 시간:2021-03-21 12:00, 날씨:구름많음, 최저:7도, 최고:12도\n",
      "\t날짜 시간:2021-03-22 00:00, 날씨:맑음, 최저:1도, 최고:12도\n",
      "\t날짜 시간:2021-03-22 12:00, 날씨:맑음, 최저:1도, 최고:12도\n",
      "\t날짜 시간:2021-03-23 00:00, 날씨:맑음, 최저:2도, 최고:16도\n",
      "\t날짜 시간:2021-03-23 12:00, 날씨:맑음, 최저:2도, 최고:16도\n",
      "\t날짜 시간:2021-03-24 00:00, 날씨:맑음, 최저:3도, 최고:16도\n",
      "\t날짜 시간:2021-03-24 12:00, 날씨:맑음, 최저:3도, 최고:16도\n",
      "\t날짜 시간:2021-03-25 00:00, 날씨:구름많음, 최저:4도, 최고:16도\n",
      "\t날짜 시간:2021-03-26 00:00, 날씨:구름많음, 최저:5도, 최고:17도\n",
      "\t날짜 시간:2021-03-27 00:00, 날씨:구름많음, 최저:4도, 최고:17도\n",
      "대전ㆍ세종ㆍ충청남도 지역의  홍성\n",
      "\t날짜 시간:2021-03-20 00:00, 날씨:흐림, 최저:6도, 최고:12도\n",
      "\t날짜 시간:2021-03-20 12:00, 날씨:흐리고 비, 최저:6도, 최고:12도\n",
      "\t날짜 시간:2021-03-21 00:00, 날씨:흐림, 최저:6도, 최고:12도\n",
      "\t날짜 시간:2021-03-21 12:00, 날씨:구름많음, 최저:6도, 최고:12도\n",
      "\t날짜 시간:2021-03-22 00:00, 날씨:맑음, 최저:1도, 최고:12도\n",
      "\t날짜 시간:2021-03-22 12:00, 날씨:맑음, 최저:1도, 최고:12도\n",
      "\t날짜 시간:2021-03-23 00:00, 날씨:맑음, 최저:1도, 최고:15도\n",
      "\t날짜 시간:2021-03-23 12:00, 날씨:맑음, 최저:1도, 최고:15도\n",
      "\t날짜 시간:2021-03-24 00:00, 날씨:맑음, 최저:4도, 최고:15도\n",
      "\t날짜 시간:2021-03-24 12:00, 날씨:맑음, 최저:4도, 최고:15도\n",
      "\t날짜 시간:2021-03-25 00:00, 날씨:구름많음, 최저:5도, 최고:16도\n",
      "\t날짜 시간:2021-03-26 00:00, 날씨:구름많음, 최저:5도, 최고:16도\n",
      "\t날짜 시간:2021-03-27 00:00, 날씨:구름많음, 최저:5도, 최고:16도\n",
      "충청북도 지역의  청주\n",
      "\t날짜 시간:2021-03-20 00:00, 날씨:흐림, 최저:7도, 최고:12도\n",
      "\t날짜 시간:2021-03-20 12:00, 날씨:흐리고 비, 최저:7도, 최고:12도\n",
      "\t날짜 시간:2021-03-21 00:00, 날씨:흐림, 최저:7도, 최고:12도\n",
      "\t날짜 시간:2021-03-21 12:00, 날씨:맑음, 최저:7도, 최고:12도\n",
      "\t날짜 시간:2021-03-22 00:00, 날씨:맑음, 최저:2도, 최고:12도\n",
      "\t날짜 시간:2021-03-22 12:00, 날씨:맑음, 최저:2도, 최고:12도\n",
      "\t날짜 시간:2021-03-23 00:00, 날씨:맑음, 최저:3도, 최고:16도\n",
      "\t날짜 시간:2021-03-23 12:00, 날씨:맑음, 최저:3도, 최고:16도\n",
      "\t날짜 시간:2021-03-24 00:00, 날씨:맑음, 최저:4도, 최고:17도\n",
      "\t날짜 시간:2021-03-24 12:00, 날씨:구름많음, 최저:4도, 최고:17도\n",
      "\t날짜 시간:2021-03-25 00:00, 날씨:구름많음, 최저:5도, 최고:17도\n",
      "\t날짜 시간:2021-03-26 00:00, 날씨:구름많음, 최저:5도, 최고:17도\n",
      "\t날짜 시간:2021-03-27 00:00, 날씨:구름많음, 최저:5도, 최고:17도\n",
      "충청북도 지역의  충주\n",
      "\t날짜 시간:2021-03-20 00:00, 날씨:흐림, 최저:5도, 최고:13도\n",
      "\t날짜 시간:2021-03-20 12:00, 날씨:흐리고 비, 최저:5도, 최고:13도\n",
      "\t날짜 시간:2021-03-21 00:00, 날씨:흐림, 최저:6도, 최고:12도\n",
      "\t날짜 시간:2021-03-21 12:00, 날씨:맑음, 최저:6도, 최고:12도\n",
      "\t날짜 시간:2021-03-22 00:00, 날씨:맑음, 최저:0도, 최고:11도\n",
      "\t날짜 시간:2021-03-22 12:00, 날씨:맑음, 최저:0도, 최고:11도\n",
      "\t날짜 시간:2021-03-23 00:00, 날씨:맑음, 최저:-1도, 최고:15도\n",
      "\t날짜 시간:2021-03-23 12:00, 날씨:맑음, 최저:-1도, 최고:15도\n",
      "\t날짜 시간:2021-03-24 00:00, 날씨:맑음, 최저:2도, 최고:16도\n",
      "\t날짜 시간:2021-03-24 12:00, 날씨:구름많음, 최저:2도, 최고:16도\n",
      "\t날짜 시간:2021-03-25 00:00, 날씨:구름많음, 최저:3도, 최고:16도\n",
      "\t날짜 시간:2021-03-26 00:00, 날씨:구름많음, 최저:4도, 최고:16도\n",
      "\t날짜 시간:2021-03-27 00:00, 날씨:구름많음, 최저:4도, 최고:16도\n",
      "충청북도 지역의  영동\n",
      "\t날짜 시간:2021-03-20 00:00, 날씨:흐림, 최저:6도, 최고:12도\n",
      "\t날짜 시간:2021-03-20 12:00, 날씨:흐리고 비, 최저:6도, 최고:12도\n",
      "\t날짜 시간:2021-03-21 00:00, 날씨:흐림, 최저:7도, 최고:13도\n",
      "\t날짜 시간:2021-03-21 12:00, 날씨:맑음, 최저:7도, 최고:13도\n",
      "\t날짜 시간:2021-03-22 00:00, 날씨:맑음, 최저:0도, 최고:12도\n",
      "\t날짜 시간:2021-03-22 12:00, 날씨:맑음, 최저:0도, 최고:12도\n",
      "\t날짜 시간:2021-03-23 00:00, 날씨:맑음, 최저:1도, 최고:16도\n",
      "\t날짜 시간:2021-03-23 12:00, 날씨:맑음, 최저:1도, 최고:16도\n",
      "\t날짜 시간:2021-03-24 00:00, 날씨:맑음, 최저:2도, 최고:17도\n",
      "\t날짜 시간:2021-03-24 12:00, 날씨:구름많음, 최저:2도, 최고:17도\n",
      "\t날짜 시간:2021-03-25 00:00, 날씨:구름많음, 최저:3도, 최고:17도\n",
      "\t날짜 시간:2021-03-26 00:00, 날씨:구름많음, 최저:3도, 최고:17도\n",
      "\t날짜 시간:2021-03-27 00:00, 날씨:구름많음, 최저:4도, 최고:17도\n",
      "광주ㆍ전라남도 지역의  광주\n",
      "\t날짜 시간:2021-03-20 00:00, 날씨:흐리고 비, 최저:9도, 최고:14도\n",
      "\t날짜 시간:2021-03-20 12:00, 날씨:흐리고 비, 최저:9도, 최고:14도\n",
      "\t날짜 시간:2021-03-21 00:00, 날씨:구름많음, 최저:8도, 최고:12도\n",
      "\t날짜 시간:2021-03-21 12:00, 날씨:구름많음, 최저:8도, 최고:12도\n",
      "\t날짜 시간:2021-03-22 00:00, 날씨:맑음, 최저:3도, 최고:12도\n",
      "\t날짜 시간:2021-03-22 12:00, 날씨:맑음, 최저:3도, 최고:12도\n",
      "\t날짜 시간:2021-03-23 00:00, 날씨:맑음, 최저:4도, 최고:16도\n",
      "\t날짜 시간:2021-03-23 12:00, 날씨:맑음, 최저:4도, 최고:16도\n",
      "\t날짜 시간:2021-03-24 00:00, 날씨:맑음, 최저:5도, 최고:17도\n",
      "\t날짜 시간:2021-03-24 12:00, 날씨:맑음, 최저:5도, 최고:17도\n",
      "\t날짜 시간:2021-03-25 00:00, 날씨:구름많음, 최저:6도, 최고:18도\n",
      "\t날짜 시간:2021-03-26 00:00, 날씨:구름많음, 최저:6도, 최고:17도\n",
      "\t날짜 시간:2021-03-27 00:00, 날씨:흐림, 최저:7도, 최고:18도\n",
      "광주ㆍ전라남도 지역의  목포\n",
      "\t날짜 시간:2021-03-20 00:00, 날씨:흐리고 비, 최저:9도, 최고:13도\n",
      "\t날짜 시간:2021-03-20 12:00, 날씨:흐리고 비, 최저:9도, 최고:13도\n",
      "\t날짜 시간:2021-03-21 00:00, 날씨:구름많음, 최저:7도, 최고:10도\n",
      "\t날짜 시간:2021-03-21 12:00, 날씨:구름많음, 최저:7도, 최고:10도\n",
      "\t날짜 시간:2021-03-22 00:00, 날씨:맑음, 최저:4도, 최고:11도\n",
      "\t날짜 시간:2021-03-22 12:00, 날씨:맑음, 최저:4도, 최고:11도\n",
      "\t날짜 시간:2021-03-23 00:00, 날씨:맑음, 최저:6도, 최고:14도\n",
      "\t날짜 시간:2021-03-23 12:00, 날씨:맑음, 최저:6도, 최고:14도\n",
      "\t날짜 시간:2021-03-24 00:00, 날씨:맑음, 최저:7도, 최고:14도\n",
      "\t날짜 시간:2021-03-24 12:00, 날씨:맑음, 최저:7도, 최고:14도\n",
      "\t날짜 시간:2021-03-25 00:00, 날씨:구름많음, 최저:7도, 최고:15도\n",
      "\t날짜 시간:2021-03-26 00:00, 날씨:구름많음, 최저:7도, 최고:15도\n",
      "\t날짜 시간:2021-03-27 00:00, 날씨:흐림, 최저:7도, 최고:15도\n",
      "광주ㆍ전라남도 지역의  여수\n",
      "\t날짜 시간:2021-03-20 00:00, 날씨:흐리고 비, 최저:9도, 최고:12도\n",
      "\t날짜 시간:2021-03-20 12:00, 날씨:흐리고 비, 최저:9도, 최고:12도\n",
      "\t날짜 시간:2021-03-21 00:00, 날씨:구름많음, 최저:10도, 최고:14도\n",
      "\t날짜 시간:2021-03-21 12:00, 날씨:구름많음, 최저:10도, 최고:14도\n",
      "\t날짜 시간:2021-03-22 00:00, 날씨:맑음, 최저:4도, 최고:12도\n",
      "\t날짜 시간:2021-03-22 12:00, 날씨:맑음, 최저:4도, 최고:12도\n",
      "\t날짜 시간:2021-03-23 00:00, 날씨:맑음, 최저:5도, 최고:15도\n",
      "\t날짜 시간:2021-03-23 12:00, 날씨:맑음, 최저:5도, 최고:15도\n",
      "\t날짜 시간:2021-03-24 00:00, 날씨:맑음, 최저:7도, 최고:14도\n",
      "\t날짜 시간:2021-03-24 12:00, 날씨:맑음, 최저:7도, 최고:14도\n",
      "\t날짜 시간:2021-03-25 00:00, 날씨:구름많음, 최저:8도, 최고:15도\n",
      "\t날짜 시간:2021-03-26 00:00, 날씨:구름많음, 최저:8도, 최고:15도\n",
      "\t날짜 시간:2021-03-27 00:00, 날씨:흐림, 최저:9도, 최고:15도\n",
      "광주ㆍ전라남도 지역의  순천\n",
      "\t날짜 시간:2021-03-20 00:00, 날씨:흐리고 비, 최저:9도, 최고:13도\n",
      "\t날짜 시간:2021-03-20 12:00, 날씨:흐리고 비, 최저:9도, 최고:13도\n",
      "\t날짜 시간:2021-03-21 00:00, 날씨:구름많음, 최저:10도, 최고:15도\n",
      "\t날짜 시간:2021-03-21 12:00, 날씨:구름많음, 최저:10도, 최고:15도\n",
      "\t날짜 시간:2021-03-22 00:00, 날씨:맑음, 최저:3도, 최고:13도\n",
      "\t날짜 시간:2021-03-22 12:00, 날씨:맑음, 최저:3도, 최고:13도\n",
      "\t날짜 시간:2021-03-23 00:00, 날씨:맑음, 최저:4도, 최고:17도\n",
      "\t날짜 시간:2021-03-23 12:00, 날씨:맑음, 최저:4도, 최고:17도\n",
      "\t날짜 시간:2021-03-24 00:00, 날씨:맑음, 최저:5도, 최고:16도\n",
      "\t날짜 시간:2021-03-24 12:00, 날씨:맑음, 최저:5도, 최고:16도\n",
      "\t날짜 시간:2021-03-25 00:00, 날씨:구름많음, 최저:6도, 최고:17도\n",
      "\t날짜 시간:2021-03-26 00:00, 날씨:구름많음, 최저:6도, 최고:18도\n",
      "\t날짜 시간:2021-03-27 00:00, 날씨:흐림, 최저:7도, 최고:17도\n",
      "광주ㆍ전라남도 지역의  광양\n",
      "\t날짜 시간:2021-03-20 00:00, 날씨:흐리고 비, 최저:9도, 최고:12도\n",
      "\t날짜 시간:2021-03-20 12:00, 날씨:흐리고 비, 최저:9도, 최고:12도\n",
      "\t날짜 시간:2021-03-21 00:00, 날씨:구름많음, 최저:10도, 최고:15도\n",
      "\t날짜 시간:2021-03-21 12:00, 날씨:구름많음, 최저:10도, 최고:15도\n",
      "\t날짜 시간:2021-03-22 00:00, 날씨:맑음, 최저:3도, 최고:13도\n",
      "\t날짜 시간:2021-03-22 12:00, 날씨:맑음, 최저:3도, 최고:13도\n",
      "\t날짜 시간:2021-03-23 00:00, 날씨:맑음, 최저:4도, 최고:17도\n",
      "\t날짜 시간:2021-03-23 12:00, 날씨:맑음, 최저:4도, 최고:17도\n",
      "\t날짜 시간:2021-03-24 00:00, 날씨:맑음, 최저:6도, 최고:16도\n",
      "\t날짜 시간:2021-03-24 12:00, 날씨:맑음, 최저:6도, 최고:16도\n",
      "\t날짜 시간:2021-03-25 00:00, 날씨:구름많음, 최저:7도, 최고:18도\n",
      "\t날짜 시간:2021-03-26 00:00, 날씨:구름많음, 최저:7도, 최고:17도\n",
      "\t날짜 시간:2021-03-27 00:00, 날씨:흐림, 최저:8도, 최고:17도\n",
      "광주ㆍ전라남도 지역의  나주\n",
      "\t날짜 시간:2021-03-20 00:00, 날씨:흐리고 비, 최저:8도, 최고:13도\n",
      "\t날짜 시간:2021-03-20 12:00, 날씨:흐리고 비, 최저:8도, 최고:13도\n",
      "\t날짜 시간:2021-03-21 00:00, 날씨:구름많음, 최저:7도, 최고:12도\n",
      "\t날짜 시간:2021-03-21 12:00, 날씨:구름많음, 최저:7도, 최고:12도\n",
      "\t날짜 시간:2021-03-22 00:00, 날씨:맑음, 최저:2도, 최고:12도\n",
      "\t날짜 시간:2021-03-22 12:00, 날씨:맑음, 최저:2도, 최고:12도\n",
      "\t날짜 시간:2021-03-23 00:00, 날씨:맑음, 최저:2도, 최고:16도\n",
      "\t날짜 시간:2021-03-23 12:00, 날씨:맑음, 최저:2도, 최고:16도\n",
      "\t날짜 시간:2021-03-24 00:00, 날씨:맑음, 최저:3도, 최고:17도\n",
      "\t날짜 시간:2021-03-24 12:00, 날씨:맑음, 최저:3도, 최고:17도\n",
      "\t날짜 시간:2021-03-25 00:00, 날씨:구름많음, 최저:4도, 최고:18도\n",
      "\t날짜 시간:2021-03-26 00:00, 날씨:구름많음, 최저:4도, 최고:18도\n",
      "\t날짜 시간:2021-03-27 00:00, 날씨:흐림, 최저:5도, 최고:18도\n",
      "전라북도 지역의  전주\n",
      "\t날짜 시간:2021-03-20 00:00, 날씨:흐림, 최저:8도, 최고:15도\n",
      "\t날짜 시간:2021-03-20 12:00, 날씨:흐리고 비, 최저:8도, 최고:15도\n",
      "\t날짜 시간:2021-03-21 00:00, 날씨:흐림, 최저:8도, 최고:12도\n",
      "\t날짜 시간:2021-03-21 12:00, 날씨:구름많음, 최저:8도, 최고:12도\n",
      "\t날짜 시간:2021-03-22 00:00, 날씨:맑음, 최저:2도, 최고:12도\n",
      "\t날짜 시간:2021-03-22 12:00, 날씨:맑음, 최저:2도, 최고:12도\n",
      "\t날짜 시간:2021-03-23 00:00, 날씨:맑음, 최저:2도, 최고:16도\n",
      "\t날짜 시간:2021-03-23 12:00, 날씨:맑음, 최저:2도, 최고:16도\n",
      "\t날짜 시간:2021-03-24 00:00, 날씨:맑음, 최저:5도, 최고:17도\n",
      "\t날짜 시간:2021-03-24 12:00, 날씨:맑음, 최저:5도, 최고:17도\n",
      "\t날짜 시간:2021-03-25 00:00, 날씨:구름많음, 최저:5도, 최고:18도\n",
      "\t날짜 시간:2021-03-26 00:00, 날씨:구름많음, 최저:6도, 최고:17도\n",
      "\t날짜 시간:2021-03-27 00:00, 날씨:구름많음, 최저:6도, 최고:17도\n",
      "전라북도 지역의  군산\n",
      "\t날짜 시간:2021-03-20 00:00, 날씨:흐림, 최저:8도, 최고:13도\n",
      "\t날짜 시간:2021-03-20 12:00, 날씨:흐리고 비, 최저:8도, 최고:13도\n",
      "\t날짜 시간:2021-03-21 00:00, 날씨:흐림, 최저:7도, 최고:10도\n",
      "\t날짜 시간:2021-03-21 12:00, 날씨:구름많음, 최저:7도, 최고:10도\n",
      "\t날짜 시간:2021-03-22 00:00, 날씨:맑음, 최저:3도, 최고:11도\n",
      "\t날짜 시간:2021-03-22 12:00, 날씨:맑음, 최저:3도, 최고:11도\n",
      "\t날짜 시간:2021-03-23 00:00, 날씨:맑음, 최저:3도, 최고:14도\n",
      "\t날짜 시간:2021-03-23 12:00, 날씨:맑음, 최저:3도, 최고:14도\n",
      "\t날짜 시간:2021-03-24 00:00, 날씨:맑음, 최저:4도, 최고:15도\n",
      "\t날짜 시간:2021-03-24 12:00, 날씨:맑음, 최저:4도, 최고:15도\n",
      "\t날짜 시간:2021-03-25 00:00, 날씨:구름많음, 최저:5도, 최고:15도\n",
      "\t날짜 시간:2021-03-26 00:00, 날씨:구름많음, 최저:5도, 최고:16도\n",
      "\t날짜 시간:2021-03-27 00:00, 날씨:구름많음, 최저:5도, 최고:17도\n",
      "전라북도 지역의  정읍\n",
      "\t날짜 시간:2021-03-20 00:00, 날씨:흐림, 최저:7도, 최고:14도\n",
      "\t날짜 시간:2021-03-20 12:00, 날씨:흐리고 비, 최저:7도, 최고:14도\n",
      "\t날짜 시간:2021-03-21 00:00, 날씨:흐림, 최저:6도, 최고:11도\n",
      "\t날짜 시간:2021-03-21 12:00, 날씨:구름많음, 최저:6도, 최고:11도\n",
      "\t날짜 시간:2021-03-22 00:00, 날씨:맑음, 최저:1도, 최고:11도\n",
      "\t날짜 시간:2021-03-22 12:00, 날씨:맑음, 최저:1도, 최고:11도\n",
      "\t날짜 시간:2021-03-23 00:00, 날씨:맑음, 최저:2도, 최고:15도\n",
      "\t날짜 시간:2021-03-23 12:00, 날씨:맑음, 최저:2도, 최고:15도\n",
      "\t날짜 시간:2021-03-24 00:00, 날씨:맑음, 최저:3도, 최고:16도\n",
      "\t날짜 시간:2021-03-24 12:00, 날씨:맑음, 최저:3도, 최고:16도\n",
      "\t날짜 시간:2021-03-25 00:00, 날씨:구름많음, 최저:4도, 최고:17도\n",
      "\t날짜 시간:2021-03-26 00:00, 날씨:구름많음, 최저:5도, 최고:17도\n",
      "\t날짜 시간:2021-03-27 00:00, 날씨:구름많음, 최저:5도, 최고:17도\n",
      "전라북도 지역의  남원\n",
      "\t날짜 시간:2021-03-20 00:00, 날씨:흐림, 최저:7도, 최고:14도\n",
      "\t날짜 시간:2021-03-20 12:00, 날씨:흐리고 비, 최저:7도, 최고:14도\n",
      "\t날짜 시간:2021-03-21 00:00, 날씨:흐림, 최저:8도, 최고:12도\n",
      "\t날짜 시간:2021-03-21 12:00, 날씨:구름많음, 최저:8도, 최고:12도\n",
      "\t날짜 시간:2021-03-22 00:00, 날씨:맑음, 최저:1도, 최고:11도\n",
      "\t날짜 시간:2021-03-22 12:00, 날씨:맑음, 최저:1도, 최고:11도\n",
      "\t날짜 시간:2021-03-23 00:00, 날씨:맑음, 최저:1도, 최고:16도\n",
      "\t날짜 시간:2021-03-23 12:00, 날씨:맑음, 최저:1도, 최고:16도\n",
      "\t날짜 시간:2021-03-24 00:00, 날씨:맑음, 최저:3도, 최고:17도\n",
      "\t날짜 시간:2021-03-24 12:00, 날씨:맑음, 최저:3도, 최고:17도\n",
      "\t날짜 시간:2021-03-25 00:00, 날씨:구름많음, 최저:4도, 최고:18도\n",
      "\t날짜 시간:2021-03-26 00:00, 날씨:구름많음, 최저:5도, 최고:17도\n",
      "\t날짜 시간:2021-03-27 00:00, 날씨:구름많음, 최저:5도, 최고:17도\n",
      "전라북도 지역의  고창\n",
      "\t날짜 시간:2021-03-20 00:00, 날씨:흐림, 최저:7도, 최고:13도\n",
      "\t날짜 시간:2021-03-20 12:00, 날씨:흐리고 비, 최저:7도, 최고:13도\n",
      "\t날짜 시간:2021-03-21 00:00, 날씨:흐림, 최저:6도, 최고:11도\n",
      "\t날짜 시간:2021-03-21 12:00, 날씨:구름많음, 최저:6도, 최고:11도\n",
      "\t날짜 시간:2021-03-22 00:00, 날씨:맑음, 최저:2도, 최고:11도\n",
      "\t날짜 시간:2021-03-22 12:00, 날씨:맑음, 최저:2도, 최고:11도\n",
      "\t날짜 시간:2021-03-23 00:00, 날씨:맑음, 최저:2도, 최고:15도\n",
      "\t날짜 시간:2021-03-23 12:00, 날씨:맑음, 최저:2도, 최고:15도\n",
      "\t날짜 시간:2021-03-24 00:00, 날씨:맑음, 최저:4도, 최고:15도\n",
      "\t날짜 시간:2021-03-24 12:00, 날씨:맑음, 최저:4도, 최고:15도\n",
      "\t날짜 시간:2021-03-25 00:00, 날씨:구름많음, 최저:5도, 최고:16도\n",
      "\t날짜 시간:2021-03-26 00:00, 날씨:구름많음, 최저:5도, 최고:16도\n",
      "\t날짜 시간:2021-03-27 00:00, 날씨:구름많음, 최저:5도, 최고:17도\n",
      "전라북도 지역의  무주\n",
      "\t날짜 시간:2021-03-20 00:00, 날씨:흐림, 최저:6도, 최고:12도\n",
      "\t날짜 시간:2021-03-20 12:00, 날씨:흐리고 비, 최저:6도, 최고:12도\n",
      "\t날짜 시간:2021-03-21 00:00, 날씨:흐림, 최저:7도, 최고:12도\n",
      "\t날짜 시간:2021-03-21 12:00, 날씨:구름많음, 최저:7도, 최고:12도\n",
      "\t날짜 시간:2021-03-22 00:00, 날씨:맑음, 최저:0도, 최고:11도\n",
      "\t날짜 시간:2021-03-22 12:00, 날씨:맑음, 최저:0도, 최고:11도\n",
      "\t날짜 시간:2021-03-23 00:00, 날씨:맑음, 최저:1도, 최고:15도\n",
      "\t날짜 시간:2021-03-23 12:00, 날씨:맑음, 최저:1도, 최고:15도\n",
      "\t날짜 시간:2021-03-24 00:00, 날씨:맑음, 최저:2도, 최고:16도\n",
      "\t날짜 시간:2021-03-24 12:00, 날씨:맑음, 최저:2도, 최고:16도\n",
      "\t날짜 시간:2021-03-25 00:00, 날씨:구름많음, 최저:3도, 최고:17도\n",
      "\t날짜 시간:2021-03-26 00:00, 날씨:구름많음, 최저:3도, 최고:16도\n",
      "\t날짜 시간:2021-03-27 00:00, 날씨:구름많음, 최저:4도, 최고:16도\n",
      "부산ㆍ울산ㆍ경상남도 지역의  부산\n",
      "\t날짜 시간:2021-03-20 00:00, 날씨:흐리고 비, 최저:10도, 최고:14도\n",
      "\t날짜 시간:2021-03-20 12:00, 날씨:흐리고 비, 최저:10도, 최고:14도\n",
      "\t날짜 시간:2021-03-21 00:00, 날씨:흐리고 비, 최저:11도, 최고:17도\n",
      "\t날짜 시간:2021-03-21 12:00, 날씨:구름많음, 최저:11도, 최고:17도\n",
      "\t날짜 시간:2021-03-22 00:00, 날씨:맑음, 최저:4도, 최고:14도\n",
      "\t날짜 시간:2021-03-22 12:00, 날씨:맑음, 최저:4도, 최고:14도\n",
      "\t날짜 시간:2021-03-23 00:00, 날씨:맑음, 최저:6도, 최고:16도\n",
      "\t날짜 시간:2021-03-23 12:00, 날씨:맑음, 최저:6도, 최고:16도\n",
      "\t날짜 시간:2021-03-24 00:00, 날씨:맑음, 최저:8도, 최고:16도\n",
      "\t날짜 시간:2021-03-24 12:00, 날씨:맑음, 최저:8도, 최고:16도\n",
      "\t날짜 시간:2021-03-25 00:00, 날씨:맑음, 최저:9도, 최고:17도\n",
      "\t날짜 시간:2021-03-26 00:00, 날씨:구름많음, 최저:9도, 최고:17도\n",
      "\t날짜 시간:2021-03-27 00:00, 날씨:흐림, 최저:9도, 최고:17도\n",
      "부산ㆍ울산ㆍ경상남도 지역의  울산\n",
      "\t날짜 시간:2021-03-20 00:00, 날씨:흐리고 비, 최저:8도, 최고:13도\n",
      "\t날짜 시간:2021-03-20 12:00, 날씨:흐리고 비, 최저:8도, 최고:13도\n",
      "\t날짜 시간:2021-03-21 00:00, 날씨:흐리고 비, 최저:9도, 최고:16도\n",
      "\t날짜 시간:2021-03-21 12:00, 날씨:구름많음, 최저:9도, 최고:16도\n",
      "\t날짜 시간:2021-03-22 00:00, 날씨:맑음, 최저:3도, 최고:14도\n",
      "\t날짜 시간:2021-03-22 12:00, 날씨:맑음, 최저:3도, 최고:14도\n",
      "\t날짜 시간:2021-03-23 00:00, 날씨:맑음, 최저:3도, 최고:17도\n",
      "\t날짜 시간:2021-03-23 12:00, 날씨:맑음, 최저:3도, 최고:17도\n",
      "\t날짜 시간:2021-03-24 00:00, 날씨:맑음, 최저:6도, 최고:17도\n",
      "\t날짜 시간:2021-03-24 12:00, 날씨:맑음, 최저:6도, 최고:17도\n",
      "\t날짜 시간:2021-03-25 00:00, 날씨:맑음, 최저:6도, 최고:18도\n",
      "\t날짜 시간:2021-03-26 00:00, 날씨:구름많음, 최저:7도, 최고:18도\n",
      "\t날짜 시간:2021-03-27 00:00, 날씨:흐림, 최저:7도, 최고:17도\n",
      "부산ㆍ울산ㆍ경상남도 지역의  창원\n",
      "\t날짜 시간:2021-03-20 00:00, 날씨:흐리고 비, 최저:8도, 최고:13도\n",
      "\t날짜 시간:2021-03-20 12:00, 날씨:흐리고 비, 최저:8도, 최고:13도\n",
      "\t날짜 시간:2021-03-21 00:00, 날씨:흐리고 비, 최저:10도, 최고:16도\n",
      "\t날짜 시간:2021-03-21 12:00, 날씨:구름많음, 최저:10도, 최고:16도\n",
      "\t날짜 시간:2021-03-22 00:00, 날씨:맑음, 최저:3도, 최고:13도\n",
      "\t날짜 시간:2021-03-22 12:00, 날씨:맑음, 최저:3도, 최고:13도\n",
      "\t날짜 시간:2021-03-23 00:00, 날씨:맑음, 최저:4도, 최고:16도\n",
      "\t날짜 시간:2021-03-23 12:00, 날씨:맑음, 최저:4도, 최고:16도\n",
      "\t날짜 시간:2021-03-24 00:00, 날씨:맑음, 최저:6도, 최고:16도\n",
      "\t날짜 시간:2021-03-24 12:00, 날씨:맑음, 최저:6도, 최고:16도\n",
      "\t날짜 시간:2021-03-25 00:00, 날씨:맑음, 최저:7도, 최고:17도\n",
      "\t날짜 시간:2021-03-26 00:00, 날씨:구름많음, 최저:7도, 최고:17도\n",
      "\t날짜 시간:2021-03-27 00:00, 날씨:흐림, 최저:8도, 최고:16도\n",
      "부산ㆍ울산ㆍ경상남도 지역의  진주\n",
      "\t날짜 시간:2021-03-20 00:00, 날씨:흐리고 비, 최저:7도, 최고:12도\n",
      "\t날짜 시간:2021-03-20 12:00, 날씨:흐리고 비, 최저:7도, 최고:12도\n",
      "\t날짜 시간:2021-03-21 00:00, 날씨:흐리고 비, 최저:9도, 최고:16도\n",
      "\t날짜 시간:2021-03-21 12:00, 날씨:구름많음, 최저:9도, 최고:16도\n",
      "\t날짜 시간:2021-03-22 00:00, 날씨:맑음, 최저:1도, 최고:13도\n",
      "\t날짜 시간:2021-03-22 12:00, 날씨:맑음, 최저:1도, 최고:13도\n",
      "\t날짜 시간:2021-03-23 00:00, 날씨:맑음, 최저:1도, 최고:17도\n",
      "\t날짜 시간:2021-03-23 12:00, 날씨:맑음, 최저:1도, 최고:17도\n",
      "\t날짜 시간:2021-03-24 00:00, 날씨:맑음, 최저:2도, 최고:17도\n",
      "\t날짜 시간:2021-03-24 12:00, 날씨:맑음, 최저:2도, 최고:17도\n",
      "\t날짜 시간:2021-03-25 00:00, 날씨:맑음, 최저:4도, 최고:18도\n",
      "\t날짜 시간:2021-03-26 00:00, 날씨:구름많음, 최저:4도, 최고:18도\n",
      "\t날짜 시간:2021-03-27 00:00, 날씨:흐림, 최저:5도, 최고:17도\n",
      "부산ㆍ울산ㆍ경상남도 지역의  거창\n",
      "\t날짜 시간:2021-03-20 00:00, 날씨:흐리고 비, 최저:4도, 최고:11도\n",
      "\t날짜 시간:2021-03-20 12:00, 날씨:흐리고 비, 최저:4도, 최고:11도\n",
      "\t날짜 시간:2021-03-21 00:00, 날씨:흐리고 비, 최저:7도, 최고:13도\n",
      "\t날짜 시간:2021-03-21 12:00, 날씨:구름많음, 최저:7도, 최고:13도\n",
      "\t날짜 시간:2021-03-22 00:00, 날씨:맑음, 최저:0도, 최고:11도\n",
      "\t날짜 시간:2021-03-22 12:00, 날씨:맑음, 최저:0도, 최고:11도\n",
      "\t날짜 시간:2021-03-23 00:00, 날씨:맑음, 최저:0도, 최고:16도\n",
      "\t날짜 시간:2021-03-23 12:00, 날씨:맑음, 최저:0도, 최고:16도\n",
      "\t날짜 시간:2021-03-24 00:00, 날씨:맑음, 최저:1도, 최고:17도\n",
      "\t날짜 시간:2021-03-24 12:00, 날씨:맑음, 최저:1도, 최고:17도\n",
      "\t날짜 시간:2021-03-25 00:00, 날씨:맑음, 최저:2도, 최고:17도\n",
      "\t날짜 시간:2021-03-26 00:00, 날씨:구름많음, 최저:3도, 최고:17도\n",
      "\t날짜 시간:2021-03-27 00:00, 날씨:흐림, 최저:4도, 최고:17도\n",
      "부산ㆍ울산ㆍ경상남도 지역의  통영\n",
      "\t날짜 시간:2021-03-20 00:00, 날씨:흐리고 비, 최저:9도, 최고:14도\n",
      "\t날짜 시간:2021-03-20 12:00, 날씨:흐리고 비, 최저:9도, 최고:14도\n",
      "\t날짜 시간:2021-03-21 00:00, 날씨:흐리고 비, 최저:10도, 최고:16도\n",
      "\t날짜 시간:2021-03-21 12:00, 날씨:구름많음, 최저:10도, 최고:16도\n",
      "\t날짜 시간:2021-03-22 00:00, 날씨:맑음, 최저:4도, 최고:13도\n",
      "\t날짜 시간:2021-03-22 12:00, 날씨:맑음, 최저:4도, 최고:13도\n",
      "\t날짜 시간:2021-03-23 00:00, 날씨:맑음, 최저:5도, 최고:15도\n",
      "\t날짜 시간:2021-03-23 12:00, 날씨:맑음, 최저:5도, 최고:15도\n",
      "\t날짜 시간:2021-03-24 00:00, 날씨:맑음, 최저:8도, 최고:15도\n",
      "\t날짜 시간:2021-03-24 12:00, 날씨:맑음, 최저:8도, 최고:15도\n",
      "\t날짜 시간:2021-03-25 00:00, 날씨:맑음, 최저:8도, 최고:16도\n",
      "\t날짜 시간:2021-03-26 00:00, 날씨:구름많음, 최저:8도, 최고:16도\n",
      "\t날짜 시간:2021-03-27 00:00, 날씨:흐림, 최저:8도, 최고:15도\n",
      "대구ㆍ경상북도 지역의  대구\n",
      "\t날짜 시간:2021-03-20 00:00, 날씨:흐림, 최저:7도, 최고:14도\n",
      "\t날짜 시간:2021-03-20 12:00, 날씨:흐리고 비, 최저:7도, 최고:14도\n",
      "\t날짜 시간:2021-03-21 00:00, 날씨:흐리고 비, 최저:9도, 최고:15도\n",
      "\t날짜 시간:2021-03-21 12:00, 날씨:구름많음, 최저:9도, 최고:15도\n",
      "\t날짜 시간:2021-03-22 00:00, 날씨:맑음, 최저:2도, 최고:13도\n",
      "\t날짜 시간:2021-03-22 12:00, 날씨:맑음, 최저:2도, 최고:13도\n",
      "\t날짜 시간:2021-03-23 00:00, 날씨:맑음, 최저:2도, 최고:18도\n",
      "\t날짜 시간:2021-03-23 12:00, 날씨:맑음, 최저:2도, 최고:18도\n",
      "\t날짜 시간:2021-03-24 00:00, 날씨:맑음, 최저:5도, 최고:18도\n",
      "\t날짜 시간:2021-03-24 12:00, 날씨:맑음, 최저:5도, 최고:18도\n",
      "\t날짜 시간:2021-03-25 00:00, 날씨:구름많음, 최저:6도, 최고:18도\n",
      "\t날짜 시간:2021-03-26 00:00, 날씨:구름많음, 최저:6도, 최고:18도\n",
      "\t날짜 시간:2021-03-27 00:00, 날씨:구름많음, 최저:5도, 최고:18도\n",
      "대구ㆍ경상북도 지역의  안동\n",
      "\t날짜 시간:2021-03-20 00:00, 날씨:흐림, 최저:5도, 최고:13도\n",
      "\t날짜 시간:2021-03-20 12:00, 날씨:흐리고 비, 최저:5도, 최고:13도\n",
      "\t날짜 시간:2021-03-21 00:00, 날씨:흐리고 비, 최저:6도, 최고:14도\n",
      "\t날짜 시간:2021-03-21 12:00, 날씨:구름많음, 최저:6도, 최고:14도\n",
      "\t날짜 시간:2021-03-22 00:00, 날씨:맑음, 최저:0도, 최고:11도\n",
      "\t날짜 시간:2021-03-22 12:00, 날씨:맑음, 최저:0도, 최고:11도\n",
      "\t날짜 시간:2021-03-23 00:00, 날씨:맑음, 최저:0도, 최고:16도\n",
      "\t날짜 시간:2021-03-23 12:00, 날씨:맑음, 최저:0도, 최고:16도\n",
      "\t날짜 시간:2021-03-24 00:00, 날씨:맑음, 최저:2도, 최고:17도\n",
      "\t날짜 시간:2021-03-24 12:00, 날씨:맑음, 최저:2도, 최고:17도\n",
      "\t날짜 시간:2021-03-25 00:00, 날씨:구름많음, 최저:4도, 최고:17도\n",
      "\t날짜 시간:2021-03-26 00:00, 날씨:구름많음, 최저:3도, 최고:17도\n",
      "\t날짜 시간:2021-03-27 00:00, 날씨:구름많음, 최저:3도, 최고:17도\n",
      "대구ㆍ경상북도 지역의  포항\n",
      "\t날짜 시간:2021-03-20 00:00, 날씨:흐림, 최저:9도, 최고:14도\n",
      "\t날짜 시간:2021-03-20 12:00, 날씨:흐리고 비, 최저:9도, 최고:14도\n",
      "\t날짜 시간:2021-03-21 00:00, 날씨:흐리고 비, 최저:9도, 최고:16도\n",
      "\t날짜 시간:2021-03-21 12:00, 날씨:구름많음, 최저:9도, 최고:16도\n",
      "\t날짜 시간:2021-03-22 00:00, 날씨:맑음, 최저:3도, 최고:13도\n",
      "\t날짜 시간:2021-03-22 12:00, 날씨:맑음, 최저:3도, 최고:13도\n",
      "\t날짜 시간:2021-03-23 00:00, 날씨:맑음, 최저:4도, 최고:18도\n",
      "\t날짜 시간:2021-03-23 12:00, 날씨:맑음, 최저:4도, 최고:18도\n",
      "\t날짜 시간:2021-03-24 00:00, 날씨:맑음, 최저:7도, 최고:18도\n",
      "\t날짜 시간:2021-03-24 12:00, 날씨:맑음, 최저:7도, 최고:18도\n",
      "\t날짜 시간:2021-03-25 00:00, 날씨:구름많음, 최저:8도, 최고:17도\n",
      "\t날짜 시간:2021-03-26 00:00, 날씨:구름많음, 최저:7도, 최고:17도\n",
      "\t날짜 시간:2021-03-27 00:00, 날씨:구름많음, 최저:7도, 최고:16도\n",
      "대구ㆍ경상북도 지역의  경주\n",
      "\t날짜 시간:2021-03-20 00:00, 날씨:흐림, 최저:6도, 최고:13도\n",
      "\t날짜 시간:2021-03-20 12:00, 날씨:흐리고 비, 최저:6도, 최고:13도\n",
      "\t날짜 시간:2021-03-21 00:00, 날씨:흐리고 비, 최저:8도, 최고:15도\n",
      "\t날짜 시간:2021-03-21 12:00, 날씨:구름많음, 최저:8도, 최고:15도\n",
      "\t날짜 시간:2021-03-22 00:00, 날씨:맑음, 최저:1도, 최고:13도\n",
      "\t날짜 시간:2021-03-22 12:00, 날씨:맑음, 최저:1도, 최고:13도\n",
      "\t날짜 시간:2021-03-23 00:00, 날씨:맑음, 최저:1도, 최고:18도\n",
      "\t날짜 시간:2021-03-23 12:00, 날씨:맑음, 최저:1도, 최고:18도\n",
      "\t날짜 시간:2021-03-24 00:00, 날씨:맑음, 최저:3도, 최고:18도\n",
      "\t날짜 시간:2021-03-24 12:00, 날씨:맑음, 최저:3도, 최고:18도\n",
      "\t날짜 시간:2021-03-25 00:00, 날씨:구름많음, 최저:4도, 최고:18도\n",
      "\t날짜 시간:2021-03-26 00:00, 날씨:구름많음, 최저:4도, 최고:17도\n",
      "\t날짜 시간:2021-03-27 00:00, 날씨:구름많음, 최저:4도, 최고:18도\n",
      "대구ㆍ경상북도 지역의  울진\n",
      "\t날짜 시간:2021-03-20 00:00, 날씨:흐림, 최저:6도, 최고:10도\n",
      "\t날짜 시간:2021-03-20 12:00, 날씨:흐리고 비, 최저:6도, 최고:10도\n",
      "\t날짜 시간:2021-03-21 00:00, 날씨:흐리고 비, 최저:7도, 최고:14도\n",
      "\t날짜 시간:2021-03-21 12:00, 날씨:구름많음, 최저:7도, 최고:14도\n",
      "\t날짜 시간:2021-03-22 00:00, 날씨:맑음, 최저:2도, 최고:12도\n",
      "\t날짜 시간:2021-03-22 12:00, 날씨:맑음, 최저:2도, 최고:12도\n",
      "\t날짜 시간:2021-03-23 00:00, 날씨:맑음, 최저:3도, 최고:16도\n",
      "\t날짜 시간:2021-03-23 12:00, 날씨:맑음, 최저:3도, 최고:16도\n",
      "\t날짜 시간:2021-03-24 00:00, 날씨:맑음, 최저:7도, 최고:16도\n",
      "\t날짜 시간:2021-03-24 12:00, 날씨:맑음, 최저:7도, 최고:16도\n",
      "\t날짜 시간:2021-03-25 00:00, 날씨:구름많음, 최저:6도, 최고:16도\n",
      "\t날짜 시간:2021-03-26 00:00, 날씨:구름많음, 최저:6도, 최고:15도\n",
      "\t날짜 시간:2021-03-27 00:00, 날씨:구름많음, 최저:6도, 최고:14도\n",
      "대구ㆍ경상북도 지역의  울릉도\n",
      "\t날짜 시간:2021-03-20 00:00, 날씨:흐림, 최저:6도, 최고:10도\n",
      "\t날짜 시간:2021-03-20 12:00, 날씨:흐리고 비, 최저:6도, 최고:10도\n",
      "\t날짜 시간:2021-03-21 00:00, 날씨:흐리고 비, 최저:7도, 최고:11도\n",
      "\t날짜 시간:2021-03-21 12:00, 날씨:구름많음, 최저:7도, 최고:11도\n",
      "\t날짜 시간:2021-03-22 00:00, 날씨:맑음, 최저:4도, 최고:9도\n",
      "\t날짜 시간:2021-03-22 12:00, 날씨:맑음, 최저:4도, 최고:9도\n",
      "\t날짜 시간:2021-03-23 00:00, 날씨:맑음, 최저:6도, 최고:12도\n",
      "\t날짜 시간:2021-03-23 12:00, 날씨:맑음, 최저:6도, 최고:12도\n",
      "\t날짜 시간:2021-03-24 00:00, 날씨:맑음, 최저:8도, 최고:13도\n",
      "\t날짜 시간:2021-03-24 12:00, 날씨:맑음, 최저:8도, 최고:13도\n",
      "\t날짜 시간:2021-03-25 00:00, 날씨:구름많음, 최저:8도, 최고:13도\n",
      "\t날짜 시간:2021-03-26 00:00, 날씨:구름많음, 최저:8도, 최고:12도\n",
      "\t날짜 시간:2021-03-27 00:00, 날씨:구름많음, 최저:7도, 최고:11도\n",
      "제주도 지역의  제주\n",
      "\t날짜 시간:2021-03-20 00:00, 날씨:흐리고 비, 최저:13도, 최고:19도\n",
      "\t날짜 시간:2021-03-20 12:00, 날씨:흐리고 비, 최저:13도, 최고:19도\n",
      "\t날짜 시간:2021-03-21 00:00, 날씨:흐리고 비, 최저:10도, 최고:12도\n",
      "\t날짜 시간:2021-03-21 12:00, 날씨:구름많음, 최저:10도, 최고:12도\n",
      "\t날짜 시간:2021-03-22 00:00, 날씨:맑음, 최저:7도, 최고:12도\n",
      "\t날짜 시간:2021-03-22 12:00, 날씨:맑음, 최저:7도, 최고:12도\n",
      "\t날짜 시간:2021-03-23 00:00, 날씨:맑음, 최저:8도, 최고:16도\n",
      "\t날짜 시간:2021-03-23 12:00, 날씨:맑음, 최저:8도, 최고:16도\n",
      "\t날짜 시간:2021-03-24 00:00, 날씨:맑음, 최저:9도, 최고:17도\n",
      "\t날짜 시간:2021-03-24 12:00, 날씨:맑음, 최저:9도, 최고:17도\n",
      "\t날짜 시간:2021-03-25 00:00, 날씨:맑음, 최저:10도, 최고:17도\n",
      "\t날짜 시간:2021-03-26 00:00, 날씨:구름많음, 최저:10도, 최고:16도\n",
      "\t날짜 시간:2021-03-27 00:00, 날씨:흐림, 최저:10도, 최고:17도\n",
      "제주도 지역의  서귀포\n",
      "\t날짜 시간:2021-03-20 00:00, 날씨:흐리고 비, 최저:13도, 최고:17도\n",
      "\t날짜 시간:2021-03-20 12:00, 날씨:흐리고 비, 최저:13도, 최고:17도\n",
      "\t날짜 시간:2021-03-21 00:00, 날씨:흐리고 비, 최저:11도, 최고:15도\n",
      "\t날짜 시간:2021-03-21 12:00, 날씨:구름많음, 최저:11도, 최고:15도\n",
      "\t날짜 시간:2021-03-22 00:00, 날씨:맑음, 최저:6도, 최고:13도\n",
      "\t날짜 시간:2021-03-22 12:00, 날씨:맑음, 최저:6도, 최고:13도\n",
      "\t날짜 시간:2021-03-23 00:00, 날씨:맑음, 최저:8도, 최고:16도\n",
      "\t날짜 시간:2021-03-23 12:00, 날씨:맑음, 최저:8도, 최고:16도\n",
      "\t날짜 시간:2021-03-24 00:00, 날씨:맑음, 최저:10도, 최고:16도\n",
      "\t날짜 시간:2021-03-24 12:00, 날씨:맑음, 최저:10도, 최고:16도\n",
      "\t날짜 시간:2021-03-25 00:00, 날씨:맑음, 최저:11도, 최고:17도\n",
      "\t날짜 시간:2021-03-26 00:00, 날씨:구름많음, 최저:11도, 최고:17도\n",
      "\t날짜 시간:2021-03-27 00:00, 날씨:흐림, 최저:12도, 최고:17도\n"
     ]
    }
   ],
   "source": [
    "import re, urllib.request\n",
    "url = \"https://www.weather.go.kr/weather/forecast/mid-term-rss3.jsp?stnId=108\"\n",
    "target = urllib.request.urlopen(url)\n",
    "contents = target.read().decode('utf-8')\n",
    "# re.DOTALL; 정규표현식의 .이 줄바꿈 문자를 포함하게 함\n",
    "locations = re.findall(r'<location wl_ver=\"3\">.+?</location>', contents, re.DOTALL) #여러줄일 경우 ?, re.DOTALL 필요\n",
    "for loc in locations:\n",
    "    province = re.search(r'<province>(.+)</province>', loc)\n",
    "    city = re.search(r'<city>(.+)</city>', loc)\n",
    "    print(province.group(1), '지역의 ', city.group(1))\n",
    "    data = re.findall(r'<data>.+?</data>', loc, re.DOTALL) #여러줄일 경우 ?, re.DOTALL 필요\n",
    "    for item in data:\n",
    "        tmEf = re.search('<tmEf>(.+)</tmEf>', item).group(1)\n",
    "        wf = re.search('<wf>(.+)</wf>', item).group(1)\n",
    "        tmn = re.search('<tmn>(.+)</tmn>', item).group(1)\n",
    "        tmx = re.search('<tmx>(.+)</tmx>', item).group(1)\n",
    "        print(\"\\t날짜 시간:{}, 날씨:{}, 최저:{}도, 최고:{}도\".format(tmEf, wf, tmn, tmx))"
   ]
  },
  {
   "cell_type": "code",
   "execution_count": 60,
   "metadata": {},
   "outputs": [
    {
     "name": "stdout",
     "output_type": "stream",
     "text": [
      "서울ㆍ인천ㆍ경기도 지역의 서울\n",
      "\t날짜:2021-03-20 오전, 날씨:흐림, 기온:8~14도\n",
      "\t날짜:2021-03-20 오후, 날씨:흐리고 비, 기온:8~14도\n",
      "\t날짜:2021-03-21 오전, 날씨:구름많음, 기온:5~10도\n",
      "\t날짜:2021-03-21 오후, 날씨:맑음, 기온:5~10도\n",
      "\t날짜:2021-03-22 오전, 날씨:맑음, 기온:1~10도\n",
      "\t날짜:2021-03-22 오후, 날씨:맑음, 기온:1~10도\n",
      "\t날짜:2021-03-23 오전, 날씨:맑음, 기온:4~14도\n",
      "\t날짜:2021-03-23 오후, 날씨:맑음, 기온:4~14도\n",
      "\t날짜:2021-03-24 오전, 날씨:맑음, 기온:5~15도\n",
      "\t날짜:2021-03-24 오후, 날씨:맑음, 기온:5~15도\n",
      "\t날짜:2021-03-25 오전, 날씨:구름많음, 기온:6~16도\n",
      "\t날짜:2021-03-26 오후, 날씨:구름많음, 기온:6~15도\n",
      "\t날짜:2021-03-27 오전, 날씨:구름많음, 기온:7~16도\n",
      "서울ㆍ인천ㆍ경기도 지역의 인천\n",
      "\t날짜:2021-03-20 오전, 날씨:흐림, 기온:8~12도\n",
      "\t날짜:2021-03-20 오후, 날씨:흐리고 비, 기온:8~12도\n",
      "\t날짜:2021-03-21 오전, 날씨:구름많음, 기온:5~8도\n",
      "\t날짜:2021-03-21 오후, 날씨:맑음, 기온:5~8도\n",
      "\t날짜:2021-03-22 오전, 날씨:맑음, 기온:3~9도\n",
      "\t날짜:2021-03-22 오후, 날씨:맑음, 기온:3~9도\n",
      "\t날짜:2021-03-23 오전, 날씨:맑음, 기온:4~12도\n",
      "\t날짜:2021-03-23 오후, 날씨:맑음, 기온:4~12도\n",
      "\t날짜:2021-03-24 오전, 날씨:맑음, 기온:6~13도\n",
      "\t날짜:2021-03-24 오후, 날씨:맑음, 기온:6~13도\n",
      "\t날짜:2021-03-25 오전, 날씨:구름많음, 기온:6~13도\n",
      "\t날짜:2021-03-26 오후, 날씨:구름많음, 기온:6~14도\n",
      "\t날짜:2021-03-27 오전, 날씨:구름많음, 기온:7~14도\n",
      "서울ㆍ인천ㆍ경기도 지역의 수원\n",
      "\t날짜:2021-03-20 오전, 날씨:흐림, 기온:7~14도\n",
      "\t날짜:2021-03-20 오후, 날씨:흐리고 비, 기온:7~14도\n",
      "\t날짜:2021-03-21 오전, 날씨:구름많음, 기온:5~10도\n",
      "\t날짜:2021-03-21 오후, 날씨:맑음, 기온:5~10도\n",
      "\t날짜:2021-03-22 오전, 날씨:맑음, 기온:1~10도\n",
      "\t날짜:2021-03-22 오후, 날씨:맑음, 기온:1~10도\n",
      "\t날짜:2021-03-23 오전, 날씨:맑음, 기온:2~15도\n",
      "\t날짜:2021-03-23 오후, 날씨:맑음, 기온:2~15도\n",
      "\t날짜:2021-03-24 오전, 날씨:맑음, 기온:3~16도\n",
      "\t날짜:2021-03-24 오후, 날씨:맑음, 기온:3~16도\n",
      "\t날짜:2021-03-25 오전, 날씨:구름많음, 기온:4~15도\n",
      "\t날짜:2021-03-26 오후, 날씨:구름많음, 기온:4~15도\n",
      "\t날짜:2021-03-27 오전, 날씨:구름많음, 기온:5~16도\n",
      "서울ㆍ인천ㆍ경기도 지역의 파주\n",
      "\t날짜:2021-03-20 오전, 날씨:흐림, 기온:5~13도\n",
      "\t날짜:2021-03-20 오후, 날씨:흐리고 비, 기온:5~13도\n",
      "\t날짜:2021-03-21 오전, 날씨:구름많음, 기온:4~11도\n",
      "\t날짜:2021-03-21 오후, 날씨:맑음, 기온:4~11도\n",
      "\t날짜:2021-03-22 오전, 날씨:맑음, 기온:-2~12도\n",
      "\t날짜:2021-03-22 오후, 날씨:맑음, 기온:-2~12도\n",
      "\t날짜:2021-03-23 오전, 날씨:맑음, 기온:-1~14도\n",
      "\t날짜:2021-03-23 오후, 날씨:맑음, 기온:-1~14도\n",
      "\t날짜:2021-03-24 오전, 날씨:맑음, 기온:2~15도\n",
      "\t날짜:2021-03-24 오후, 날씨:맑음, 기온:2~15도\n",
      "\t날짜:2021-03-25 오전, 날씨:구름많음, 기온:3~15도\n",
      "\t날짜:2021-03-26 오후, 날씨:구름많음, 기온:3~15도\n",
      "\t날짜:2021-03-27 오전, 날씨:구름많음, 기온:3~16도\n",
      "서울ㆍ인천ㆍ경기도 지역의 이천\n",
      "\t날짜:2021-03-20 오전, 날씨:흐림, 기온:4~13도\n",
      "\t날짜:2021-03-20 오후, 날씨:흐리고 비, 기온:4~13도\n",
      "\t날짜:2021-03-21 오전, 날씨:구름많음, 기온:5~12도\n",
      "\t날짜:2021-03-21 오후, 날씨:맑음, 기온:5~12도\n",
      "\t날짜:2021-03-22 오전, 날씨:맑음, 기온:0~12도\n",
      "\t날짜:2021-03-22 오후, 날씨:맑음, 기온:0~12도\n",
      "\t날짜:2021-03-23 오전, 날씨:맑음, 기온:0~15도\n",
      "\t날짜:2021-03-23 오후, 날씨:맑음, 기온:0~15도\n",
      "\t날짜:2021-03-24 오전, 날씨:맑음, 기온:1~17도\n",
      "\t날짜:2021-03-24 오후, 날씨:맑음, 기온:1~17도\n",
      "\t날짜:2021-03-25 오전, 날씨:구름많음, 기온:3~16도\n",
      "\t날짜:2021-03-26 오후, 날씨:구름많음, 기온:3~16도\n",
      "\t날짜:2021-03-27 오전, 날씨:구름많음, 기온:3~16도\n",
      "서울ㆍ인천ㆍ경기도 지역의 평택\n",
      "\t날짜:2021-03-20 오전, 날씨:흐림, 기온:6~14도\n",
      "\t날짜:2021-03-20 오후, 날씨:흐리고 비, 기온:6~14도\n",
      "\t날짜:2021-03-21 오전, 날씨:구름많음, 기온:5~10도\n",
      "\t날짜:2021-03-21 오후, 날씨:맑음, 기온:5~10도\n",
      "\t날짜:2021-03-22 오전, 날씨:맑음, 기온:2~12도\n",
      "\t날짜:2021-03-22 오후, 날씨:맑음, 기온:2~12도\n",
      "\t날짜:2021-03-23 오전, 날씨:맑음, 기온:2~15도\n",
      "\t날짜:2021-03-23 오후, 날씨:맑음, 기온:2~15도\n",
      "\t날짜:2021-03-24 오전, 날씨:맑음, 기온:4~16도\n",
      "\t날짜:2021-03-24 오후, 날씨:맑음, 기온:4~16도\n",
      "\t날짜:2021-03-25 오전, 날씨:구름많음, 기온:4~16도\n",
      "\t날짜:2021-03-26 오후, 날씨:구름많음, 기온:4~16도\n",
      "\t날짜:2021-03-27 오전, 날씨:구름많음, 기온:5~16도\n",
      "강원도영서 지역의 춘천\n",
      "\t날짜:2021-03-20 오전, 날씨:흐림, 기온:4~13도\n",
      "\t날짜:2021-03-20 오후, 날씨:흐리고 비, 기온:4~13도\n",
      "\t날짜:2021-03-21 오전, 날씨:흐림, 기온:5~12도\n",
      "\t날짜:2021-03-21 오후, 날씨:맑음, 기온:5~12도\n",
      "\t날짜:2021-03-22 오전, 날씨:맑음, 기온:-2~11도\n",
      "\t날짜:2021-03-22 오후, 날씨:맑음, 기온:-2~11도\n",
      "\t날짜:2021-03-23 오전, 날씨:맑음, 기온:-1~15도\n",
      "\t날짜:2021-03-23 오후, 날씨:맑음, 기온:-1~15도\n",
      "\t날짜:2021-03-24 오전, 날씨:맑음, 기온:1~16도\n",
      "\t날짜:2021-03-24 오후, 날씨:구름많음, 기온:1~16도\n",
      "\t날짜:2021-03-25 오전, 날씨:흐림, 기온:4~16도\n",
      "\t날짜:2021-03-26 오후, 날씨:구름많음, 기온:4~16도\n",
      "\t날짜:2021-03-27 오전, 날씨:구름많음, 기온:4~16도\n",
      "강원도영서 지역의 원주\n",
      "\t날짜:2021-03-20 오전, 날씨:흐림, 기온:6~15도\n",
      "\t날짜:2021-03-20 오후, 날씨:흐리고 비, 기온:6~15도\n",
      "\t날짜:2021-03-21 오전, 날씨:흐림, 기온:7~12도\n",
      "\t날짜:2021-03-21 오후, 날씨:맑음, 기온:7~12도\n",
      "\t날짜:2021-03-22 오전, 날씨:맑음, 기온:-1~10도\n",
      "\t날짜:2021-03-22 오후, 날씨:맑음, 기온:-1~10도\n",
      "\t날짜:2021-03-23 오전, 날씨:맑음, 기온:0~15도\n",
      "\t날짜:2021-03-23 오후, 날씨:맑음, 기온:0~15도\n",
      "\t날짜:2021-03-24 오전, 날씨:맑음, 기온:2~16도\n",
      "\t날짜:2021-03-24 오후, 날씨:구름많음, 기온:2~16도\n",
      "\t날짜:2021-03-25 오전, 날씨:흐림, 기온:4~16도\n",
      "\t날짜:2021-03-26 오후, 날씨:구름많음, 기온:5~15도\n",
      "\t날짜:2021-03-27 오전, 날씨:구름많음, 기온:5~16도\n",
      "강원도영동 지역의 강릉\n",
      "\t날짜:2021-03-20 오전, 날씨:흐림, 기온:6~12도\n",
      "\t날짜:2021-03-20 오후, 날씨:흐리고 비, 기온:6~12도\n",
      "\t날짜:2021-03-21 오전, 날씨:흐리고 비, 기온:7~15도\n",
      "\t날짜:2021-03-21 오후, 날씨:맑음, 기온:7~15도\n",
      "\t날짜:2021-03-22 오전, 날씨:맑음, 기온:4~12도\n",
      "\t날짜:2021-03-22 오후, 날씨:맑음, 기온:4~12도\n",
      "\t날짜:2021-03-23 오전, 날씨:맑음, 기온:6~17도\n",
      "\t날짜:2021-03-23 오후, 날씨:맑음, 기온:6~17도\n",
      "\t날짜:2021-03-24 오전, 날씨:맑음, 기온:8~17도\n",
      "\t날짜:2021-03-24 오후, 날씨:맑음, 기온:8~17도\n",
      "\t날짜:2021-03-25 오전, 날씨:구름많음, 기온:7~16도\n",
      "\t날짜:2021-03-26 오후, 날씨:맑음, 기온:7~15도\n",
      "\t날짜:2021-03-27 오전, 날씨:구름많음, 기온:7~15도\n",
      "대전ㆍ세종ㆍ충청남도 지역의 대전\n",
      "\t날짜:2021-03-20 오전, 날씨:흐림, 기온:8~11도\n",
      "\t날짜:2021-03-20 오후, 날씨:흐리고 비, 기온:8~11도\n",
      "\t날짜:2021-03-21 오전, 날씨:흐림, 기온:7~13도\n",
      "\t날짜:2021-03-21 오후, 날씨:구름많음, 기온:7~13도\n",
      "\t날짜:2021-03-22 오전, 날씨:맑음, 기온:1~12도\n",
      "\t날짜:2021-03-22 오후, 날씨:맑음, 기온:1~12도\n",
      "\t날짜:2021-03-23 오전, 날씨:맑음, 기온:2~16도\n",
      "\t날짜:2021-03-23 오후, 날씨:맑음, 기온:2~16도\n",
      "\t날짜:2021-03-24 오전, 날씨:맑음, 기온:4~17도\n",
      "\t날짜:2021-03-24 오후, 날씨:맑음, 기온:4~17도\n",
      "\t날짜:2021-03-25 오전, 날씨:구름많음, 기온:5~17도\n",
      "\t날짜:2021-03-26 오후, 날씨:구름많음, 기온:5~17도\n",
      "\t날짜:2021-03-27 오전, 날씨:구름많음, 기온:5~17도\n",
      "대전ㆍ세종ㆍ충청남도 지역의 세종\n",
      "\t날짜:2021-03-20 오전, 날씨:흐림, 기온:7~11도\n",
      "\t날짜:2021-03-20 오후, 날씨:흐리고 비, 기온:7~11도\n",
      "\t날짜:2021-03-21 오전, 날씨:흐림, 기온:7~12도\n",
      "\t날짜:2021-03-21 오후, 날씨:구름많음, 기온:7~12도\n",
      "\t날짜:2021-03-22 오전, 날씨:맑음, 기온:1~12도\n",
      "\t날짜:2021-03-22 오후, 날씨:맑음, 기온:1~12도\n",
      "\t날짜:2021-03-23 오전, 날씨:맑음, 기온:2~16도\n",
      "\t날짜:2021-03-23 오후, 날씨:맑음, 기온:2~16도\n",
      "\t날짜:2021-03-24 오전, 날씨:맑음, 기온:3~16도\n",
      "\t날짜:2021-03-24 오후, 날씨:맑음, 기온:3~16도\n",
      "\t날짜:2021-03-25 오전, 날씨:구름많음, 기온:4~16도\n",
      "\t날짜:2021-03-26 오후, 날씨:구름많음, 기온:5~17도\n",
      "\t날짜:2021-03-27 오전, 날씨:구름많음, 기온:4~17도\n",
      "대전ㆍ세종ㆍ충청남도 지역의 홍성\n",
      "\t날짜:2021-03-20 오전, 날씨:흐림, 기온:6~12도\n",
      "\t날짜:2021-03-20 오후, 날씨:흐리고 비, 기온:6~12도\n",
      "\t날짜:2021-03-21 오전, 날씨:흐림, 기온:6~12도\n",
      "\t날짜:2021-03-21 오후, 날씨:구름많음, 기온:6~12도\n",
      "\t날짜:2021-03-22 오전, 날씨:맑음, 기온:1~12도\n",
      "\t날짜:2021-03-22 오후, 날씨:맑음, 기온:1~12도\n",
      "\t날짜:2021-03-23 오전, 날씨:맑음, 기온:1~15도\n",
      "\t날짜:2021-03-23 오후, 날씨:맑음, 기온:1~15도\n",
      "\t날짜:2021-03-24 오전, 날씨:맑음, 기온:4~15도\n",
      "\t날짜:2021-03-24 오후, 날씨:맑음, 기온:4~15도\n",
      "\t날짜:2021-03-25 오전, 날씨:구름많음, 기온:5~16도\n",
      "\t날짜:2021-03-26 오후, 날씨:구름많음, 기온:5~16도\n",
      "\t날짜:2021-03-27 오전, 날씨:구름많음, 기온:5~16도\n",
      "충청북도 지역의 청주\n",
      "\t날짜:2021-03-20 오전, 날씨:흐림, 기온:7~12도\n",
      "\t날짜:2021-03-20 오후, 날씨:흐리고 비, 기온:7~12도\n",
      "\t날짜:2021-03-21 오전, 날씨:흐림, 기온:7~12도\n",
      "\t날짜:2021-03-21 오후, 날씨:맑음, 기온:7~12도\n",
      "\t날짜:2021-03-22 오전, 날씨:맑음, 기온:2~12도\n",
      "\t날짜:2021-03-22 오후, 날씨:맑음, 기온:2~12도\n",
      "\t날짜:2021-03-23 오전, 날씨:맑음, 기온:3~16도\n",
      "\t날짜:2021-03-23 오후, 날씨:맑음, 기온:3~16도\n",
      "\t날짜:2021-03-24 오전, 날씨:맑음, 기온:4~17도\n",
      "\t날짜:2021-03-24 오후, 날씨:구름많음, 기온:4~17도\n",
      "\t날짜:2021-03-25 오전, 날씨:구름많음, 기온:5~17도\n",
      "\t날짜:2021-03-26 오후, 날씨:구름많음, 기온:5~17도\n",
      "\t날짜:2021-03-27 오전, 날씨:구름많음, 기온:5~17도\n",
      "충청북도 지역의 충주\n",
      "\t날짜:2021-03-20 오전, 날씨:흐림, 기온:5~13도\n",
      "\t날짜:2021-03-20 오후, 날씨:흐리고 비, 기온:5~13도\n",
      "\t날짜:2021-03-21 오전, 날씨:흐림, 기온:6~12도\n",
      "\t날짜:2021-03-21 오후, 날씨:맑음, 기온:6~12도\n",
      "\t날짜:2021-03-22 오전, 날씨:맑음, 기온:0~11도\n",
      "\t날짜:2021-03-22 오후, 날씨:맑음, 기온:0~11도\n",
      "\t날짜:2021-03-23 오전, 날씨:맑음, 기온:-1~15도\n",
      "\t날짜:2021-03-23 오후, 날씨:맑음, 기온:-1~15도\n",
      "\t날짜:2021-03-24 오전, 날씨:맑음, 기온:2~16도\n",
      "\t날짜:2021-03-24 오후, 날씨:구름많음, 기온:2~16도\n",
      "\t날짜:2021-03-25 오전, 날씨:구름많음, 기온:3~16도\n",
      "\t날짜:2021-03-26 오후, 날씨:구름많음, 기온:4~16도\n",
      "\t날짜:2021-03-27 오전, 날씨:구름많음, 기온:4~16도\n",
      "충청북도 지역의 영동\n",
      "\t날짜:2021-03-20 오전, 날씨:흐림, 기온:6~12도\n",
      "\t날짜:2021-03-20 오후, 날씨:흐리고 비, 기온:6~12도\n",
      "\t날짜:2021-03-21 오전, 날씨:흐림, 기온:7~13도\n",
      "\t날짜:2021-03-21 오후, 날씨:맑음, 기온:7~13도\n",
      "\t날짜:2021-03-22 오전, 날씨:맑음, 기온:0~12도\n",
      "\t날짜:2021-03-22 오후, 날씨:맑음, 기온:0~12도\n",
      "\t날짜:2021-03-23 오전, 날씨:맑음, 기온:1~16도\n",
      "\t날짜:2021-03-23 오후, 날씨:맑음, 기온:1~16도\n",
      "\t날짜:2021-03-24 오전, 날씨:맑음, 기온:2~17도\n",
      "\t날짜:2021-03-24 오후, 날씨:구름많음, 기온:2~17도\n",
      "\t날짜:2021-03-25 오전, 날씨:구름많음, 기온:3~17도\n",
      "\t날짜:2021-03-26 오후, 날씨:구름많음, 기온:3~17도\n",
      "\t날짜:2021-03-27 오전, 날씨:구름많음, 기온:4~17도\n",
      "광주ㆍ전라남도 지역의 광주\n",
      "\t날짜:2021-03-20 오전, 날씨:흐리고 비, 기온:9~14도\n",
      "\t날짜:2021-03-20 오후, 날씨:흐리고 비, 기온:9~14도\n",
      "\t날짜:2021-03-21 오전, 날씨:구름많음, 기온:8~12도\n",
      "\t날짜:2021-03-21 오후, 날씨:구름많음, 기온:8~12도\n",
      "\t날짜:2021-03-22 오전, 날씨:맑음, 기온:3~12도\n",
      "\t날짜:2021-03-22 오후, 날씨:맑음, 기온:3~12도\n",
      "\t날짜:2021-03-23 오전, 날씨:맑음, 기온:4~16도\n",
      "\t날짜:2021-03-23 오후, 날씨:맑음, 기온:4~16도\n",
      "\t날짜:2021-03-24 오전, 날씨:맑음, 기온:5~17도\n",
      "\t날짜:2021-03-24 오후, 날씨:맑음, 기온:5~17도\n",
      "\t날짜:2021-03-25 오전, 날씨:구름많음, 기온:6~18도\n",
      "\t날짜:2021-03-26 오후, 날씨:구름많음, 기온:6~17도\n",
      "\t날짜:2021-03-27 오전, 날씨:흐림, 기온:7~18도\n",
      "광주ㆍ전라남도 지역의 목포\n",
      "\t날짜:2021-03-20 오전, 날씨:흐리고 비, 기온:9~13도\n",
      "\t날짜:2021-03-20 오후, 날씨:흐리고 비, 기온:9~13도\n",
      "\t날짜:2021-03-21 오전, 날씨:구름많음, 기온:7~10도\n",
      "\t날짜:2021-03-21 오후, 날씨:구름많음, 기온:7~10도\n",
      "\t날짜:2021-03-22 오전, 날씨:맑음, 기온:4~11도\n",
      "\t날짜:2021-03-22 오후, 날씨:맑음, 기온:4~11도\n",
      "\t날짜:2021-03-23 오전, 날씨:맑음, 기온:6~14도\n",
      "\t날짜:2021-03-23 오후, 날씨:맑음, 기온:6~14도\n",
      "\t날짜:2021-03-24 오전, 날씨:맑음, 기온:7~14도\n",
      "\t날짜:2021-03-24 오후, 날씨:맑음, 기온:7~14도\n",
      "\t날짜:2021-03-25 오전, 날씨:구름많음, 기온:7~15도\n",
      "\t날짜:2021-03-26 오후, 날씨:구름많음, 기온:7~15도\n",
      "\t날짜:2021-03-27 오전, 날씨:흐림, 기온:7~15도\n",
      "광주ㆍ전라남도 지역의 여수\n",
      "\t날짜:2021-03-20 오전, 날씨:흐리고 비, 기온:9~12도\n",
      "\t날짜:2021-03-20 오후, 날씨:흐리고 비, 기온:9~12도\n",
      "\t날짜:2021-03-21 오전, 날씨:구름많음, 기온:10~14도\n",
      "\t날짜:2021-03-21 오후, 날씨:구름많음, 기온:10~14도\n",
      "\t날짜:2021-03-22 오전, 날씨:맑음, 기온:4~12도\n",
      "\t날짜:2021-03-22 오후, 날씨:맑음, 기온:4~12도\n",
      "\t날짜:2021-03-23 오전, 날씨:맑음, 기온:5~15도\n",
      "\t날짜:2021-03-23 오후, 날씨:맑음, 기온:5~15도\n",
      "\t날짜:2021-03-24 오전, 날씨:맑음, 기온:7~14도\n",
      "\t날짜:2021-03-24 오후, 날씨:맑음, 기온:7~14도\n",
      "\t날짜:2021-03-25 오전, 날씨:구름많음, 기온:8~15도\n",
      "\t날짜:2021-03-26 오후, 날씨:구름많음, 기온:8~15도\n",
      "\t날짜:2021-03-27 오전, 날씨:흐림, 기온:9~15도\n",
      "광주ㆍ전라남도 지역의 순천\n",
      "\t날짜:2021-03-20 오전, 날씨:흐리고 비, 기온:9~13도\n",
      "\t날짜:2021-03-20 오후, 날씨:흐리고 비, 기온:9~13도\n",
      "\t날짜:2021-03-21 오전, 날씨:구름많음, 기온:10~15도\n",
      "\t날짜:2021-03-21 오후, 날씨:구름많음, 기온:10~15도\n",
      "\t날짜:2021-03-22 오전, 날씨:맑음, 기온:3~13도\n",
      "\t날짜:2021-03-22 오후, 날씨:맑음, 기온:3~13도\n",
      "\t날짜:2021-03-23 오전, 날씨:맑음, 기온:4~17도\n",
      "\t날짜:2021-03-23 오후, 날씨:맑음, 기온:4~17도\n",
      "\t날짜:2021-03-24 오전, 날씨:맑음, 기온:5~16도\n",
      "\t날짜:2021-03-24 오후, 날씨:맑음, 기온:5~16도\n",
      "\t날짜:2021-03-25 오전, 날씨:구름많음, 기온:6~17도\n",
      "\t날짜:2021-03-26 오후, 날씨:구름많음, 기온:6~18도\n",
      "\t날짜:2021-03-27 오전, 날씨:흐림, 기온:7~17도\n",
      "광주ㆍ전라남도 지역의 광양\n",
      "\t날짜:2021-03-20 오전, 날씨:흐리고 비, 기온:9~12도\n",
      "\t날짜:2021-03-20 오후, 날씨:흐리고 비, 기온:9~12도\n",
      "\t날짜:2021-03-21 오전, 날씨:구름많음, 기온:10~15도\n",
      "\t날짜:2021-03-21 오후, 날씨:구름많음, 기온:10~15도\n",
      "\t날짜:2021-03-22 오전, 날씨:맑음, 기온:3~13도\n",
      "\t날짜:2021-03-22 오후, 날씨:맑음, 기온:3~13도\n",
      "\t날짜:2021-03-23 오전, 날씨:맑음, 기온:4~17도\n",
      "\t날짜:2021-03-23 오후, 날씨:맑음, 기온:4~17도\n",
      "\t날짜:2021-03-24 오전, 날씨:맑음, 기온:6~16도\n",
      "\t날짜:2021-03-24 오후, 날씨:맑음, 기온:6~16도\n",
      "\t날짜:2021-03-25 오전, 날씨:구름많음, 기온:7~18도\n",
      "\t날짜:2021-03-26 오후, 날씨:구름많음, 기온:7~17도\n",
      "\t날짜:2021-03-27 오전, 날씨:흐림, 기온:8~17도\n",
      "광주ㆍ전라남도 지역의 나주\n",
      "\t날짜:2021-03-20 오전, 날씨:흐리고 비, 기온:8~13도\n",
      "\t날짜:2021-03-20 오후, 날씨:흐리고 비, 기온:8~13도\n",
      "\t날짜:2021-03-21 오전, 날씨:구름많음, 기온:7~12도\n",
      "\t날짜:2021-03-21 오후, 날씨:구름많음, 기온:7~12도\n",
      "\t날짜:2021-03-22 오전, 날씨:맑음, 기온:2~12도\n",
      "\t날짜:2021-03-22 오후, 날씨:맑음, 기온:2~12도\n",
      "\t날짜:2021-03-23 오전, 날씨:맑음, 기온:2~16도\n",
      "\t날짜:2021-03-23 오후, 날씨:맑음, 기온:2~16도\n",
      "\t날짜:2021-03-24 오전, 날씨:맑음, 기온:3~17도\n",
      "\t날짜:2021-03-24 오후, 날씨:맑음, 기온:3~17도\n",
      "\t날짜:2021-03-25 오전, 날씨:구름많음, 기온:4~18도\n",
      "\t날짜:2021-03-26 오후, 날씨:구름많음, 기온:4~18도\n",
      "\t날짜:2021-03-27 오전, 날씨:흐림, 기온:5~18도\n",
      "전라북도 지역의 전주\n",
      "\t날짜:2021-03-20 오전, 날씨:흐림, 기온:8~15도\n",
      "\t날짜:2021-03-20 오후, 날씨:흐리고 비, 기온:8~15도\n",
      "\t날짜:2021-03-21 오전, 날씨:흐림, 기온:8~12도\n",
      "\t날짜:2021-03-21 오후, 날씨:구름많음, 기온:8~12도\n",
      "\t날짜:2021-03-22 오전, 날씨:맑음, 기온:2~12도\n",
      "\t날짜:2021-03-22 오후, 날씨:맑음, 기온:2~12도\n",
      "\t날짜:2021-03-23 오전, 날씨:맑음, 기온:2~16도\n",
      "\t날짜:2021-03-23 오후, 날씨:맑음, 기온:2~16도\n",
      "\t날짜:2021-03-24 오전, 날씨:맑음, 기온:5~17도\n",
      "\t날짜:2021-03-24 오후, 날씨:맑음, 기온:5~17도\n",
      "\t날짜:2021-03-25 오전, 날씨:구름많음, 기온:5~18도\n",
      "\t날짜:2021-03-26 오후, 날씨:구름많음, 기온:6~17도\n",
      "\t날짜:2021-03-27 오전, 날씨:구름많음, 기온:6~17도\n",
      "전라북도 지역의 군산\n",
      "\t날짜:2021-03-20 오전, 날씨:흐림, 기온:8~13도\n",
      "\t날짜:2021-03-20 오후, 날씨:흐리고 비, 기온:8~13도\n",
      "\t날짜:2021-03-21 오전, 날씨:흐림, 기온:7~10도\n",
      "\t날짜:2021-03-21 오후, 날씨:구름많음, 기온:7~10도\n",
      "\t날짜:2021-03-22 오전, 날씨:맑음, 기온:3~11도\n",
      "\t날짜:2021-03-22 오후, 날씨:맑음, 기온:3~11도\n",
      "\t날짜:2021-03-23 오전, 날씨:맑음, 기온:3~14도\n",
      "\t날짜:2021-03-23 오후, 날씨:맑음, 기온:3~14도\n",
      "\t날짜:2021-03-24 오전, 날씨:맑음, 기온:4~15도\n",
      "\t날짜:2021-03-24 오후, 날씨:맑음, 기온:4~15도\n",
      "\t날짜:2021-03-25 오전, 날씨:구름많음, 기온:5~15도\n",
      "\t날짜:2021-03-26 오후, 날씨:구름많음, 기온:5~16도\n",
      "\t날짜:2021-03-27 오전, 날씨:구름많음, 기온:5~17도\n",
      "전라북도 지역의 정읍\n",
      "\t날짜:2021-03-20 오전, 날씨:흐림, 기온:7~14도\n",
      "\t날짜:2021-03-20 오후, 날씨:흐리고 비, 기온:7~14도\n",
      "\t날짜:2021-03-21 오전, 날씨:흐림, 기온:6~11도\n",
      "\t날짜:2021-03-21 오후, 날씨:구름많음, 기온:6~11도\n",
      "\t날짜:2021-03-22 오전, 날씨:맑음, 기온:1~11도\n",
      "\t날짜:2021-03-22 오후, 날씨:맑음, 기온:1~11도\n",
      "\t날짜:2021-03-23 오전, 날씨:맑음, 기온:2~15도\n",
      "\t날짜:2021-03-23 오후, 날씨:맑음, 기온:2~15도\n",
      "\t날짜:2021-03-24 오전, 날씨:맑음, 기온:3~16도\n",
      "\t날짜:2021-03-24 오후, 날씨:맑음, 기온:3~16도\n",
      "\t날짜:2021-03-25 오전, 날씨:구름많음, 기온:4~17도\n",
      "\t날짜:2021-03-26 오후, 날씨:구름많음, 기온:5~17도\n",
      "\t날짜:2021-03-27 오전, 날씨:구름많음, 기온:5~17도\n",
      "전라북도 지역의 남원\n",
      "\t날짜:2021-03-20 오전, 날씨:흐림, 기온:7~14도\n",
      "\t날짜:2021-03-20 오후, 날씨:흐리고 비, 기온:7~14도\n",
      "\t날짜:2021-03-21 오전, 날씨:흐림, 기온:8~12도\n",
      "\t날짜:2021-03-21 오후, 날씨:구름많음, 기온:8~12도\n",
      "\t날짜:2021-03-22 오전, 날씨:맑음, 기온:1~11도\n",
      "\t날짜:2021-03-22 오후, 날씨:맑음, 기온:1~11도\n",
      "\t날짜:2021-03-23 오전, 날씨:맑음, 기온:1~16도\n",
      "\t날짜:2021-03-23 오후, 날씨:맑음, 기온:1~16도\n",
      "\t날짜:2021-03-24 오전, 날씨:맑음, 기온:3~17도\n",
      "\t날짜:2021-03-24 오후, 날씨:맑음, 기온:3~17도\n",
      "\t날짜:2021-03-25 오전, 날씨:구름많음, 기온:4~18도\n",
      "\t날짜:2021-03-26 오후, 날씨:구름많음, 기온:5~17도\n",
      "\t날짜:2021-03-27 오전, 날씨:구름많음, 기온:5~17도\n",
      "전라북도 지역의 고창\n",
      "\t날짜:2021-03-20 오전, 날씨:흐림, 기온:7~13도\n",
      "\t날짜:2021-03-20 오후, 날씨:흐리고 비, 기온:7~13도\n",
      "\t날짜:2021-03-21 오전, 날씨:흐림, 기온:6~11도\n",
      "\t날짜:2021-03-21 오후, 날씨:구름많음, 기온:6~11도\n",
      "\t날짜:2021-03-22 오전, 날씨:맑음, 기온:2~11도\n",
      "\t날짜:2021-03-22 오후, 날씨:맑음, 기온:2~11도\n",
      "\t날짜:2021-03-23 오전, 날씨:맑음, 기온:2~15도\n",
      "\t날짜:2021-03-23 오후, 날씨:맑음, 기온:2~15도\n",
      "\t날짜:2021-03-24 오전, 날씨:맑음, 기온:4~15도\n",
      "\t날짜:2021-03-24 오후, 날씨:맑음, 기온:4~15도\n",
      "\t날짜:2021-03-25 오전, 날씨:구름많음, 기온:5~16도\n",
      "\t날짜:2021-03-26 오후, 날씨:구름많음, 기온:5~16도\n",
      "\t날짜:2021-03-27 오전, 날씨:구름많음, 기온:5~17도\n",
      "전라북도 지역의 무주\n",
      "\t날짜:2021-03-20 오전, 날씨:흐림, 기온:6~12도\n",
      "\t날짜:2021-03-20 오후, 날씨:흐리고 비, 기온:6~12도\n",
      "\t날짜:2021-03-21 오전, 날씨:흐림, 기온:7~12도\n",
      "\t날짜:2021-03-21 오후, 날씨:구름많음, 기온:7~12도\n",
      "\t날짜:2021-03-22 오전, 날씨:맑음, 기온:0~11도\n",
      "\t날짜:2021-03-22 오후, 날씨:맑음, 기온:0~11도\n",
      "\t날짜:2021-03-23 오전, 날씨:맑음, 기온:1~15도\n",
      "\t날짜:2021-03-23 오후, 날씨:맑음, 기온:1~15도\n",
      "\t날짜:2021-03-24 오전, 날씨:맑음, 기온:2~16도\n",
      "\t날짜:2021-03-24 오후, 날씨:맑음, 기온:2~16도\n",
      "\t날짜:2021-03-25 오전, 날씨:구름많음, 기온:3~17도\n",
      "\t날짜:2021-03-26 오후, 날씨:구름많음, 기온:3~16도\n",
      "\t날짜:2021-03-27 오전, 날씨:구름많음, 기온:4~16도\n",
      "부산ㆍ울산ㆍ경상남도 지역의 부산\n",
      "\t날짜:2021-03-20 오전, 날씨:흐리고 비, 기온:10~14도\n",
      "\t날짜:2021-03-20 오후, 날씨:흐리고 비, 기온:10~14도\n",
      "\t날짜:2021-03-21 오전, 날씨:흐리고 비, 기온:11~17도\n",
      "\t날짜:2021-03-21 오후, 날씨:구름많음, 기온:11~17도\n",
      "\t날짜:2021-03-22 오전, 날씨:맑음, 기온:4~14도\n",
      "\t날짜:2021-03-22 오후, 날씨:맑음, 기온:4~14도\n",
      "\t날짜:2021-03-23 오전, 날씨:맑음, 기온:6~16도\n",
      "\t날짜:2021-03-23 오후, 날씨:맑음, 기온:6~16도\n",
      "\t날짜:2021-03-24 오전, 날씨:맑음, 기온:8~16도\n",
      "\t날짜:2021-03-24 오후, 날씨:맑음, 기온:8~16도\n",
      "\t날짜:2021-03-25 오전, 날씨:맑음, 기온:9~17도\n",
      "\t날짜:2021-03-26 오후, 날씨:구름많음, 기온:9~17도\n",
      "\t날짜:2021-03-27 오전, 날씨:흐림, 기온:9~17도\n",
      "부산ㆍ울산ㆍ경상남도 지역의 울산\n",
      "\t날짜:2021-03-20 오전, 날씨:흐리고 비, 기온:8~13도\n",
      "\t날짜:2021-03-20 오후, 날씨:흐리고 비, 기온:8~13도\n",
      "\t날짜:2021-03-21 오전, 날씨:흐리고 비, 기온:9~16도\n",
      "\t날짜:2021-03-21 오후, 날씨:구름많음, 기온:9~16도\n",
      "\t날짜:2021-03-22 오전, 날씨:맑음, 기온:3~14도\n",
      "\t날짜:2021-03-22 오후, 날씨:맑음, 기온:3~14도\n",
      "\t날짜:2021-03-23 오전, 날씨:맑음, 기온:3~17도\n",
      "\t날짜:2021-03-23 오후, 날씨:맑음, 기온:3~17도\n",
      "\t날짜:2021-03-24 오전, 날씨:맑음, 기온:6~17도\n",
      "\t날짜:2021-03-24 오후, 날씨:맑음, 기온:6~17도\n",
      "\t날짜:2021-03-25 오전, 날씨:맑음, 기온:6~18도\n",
      "\t날짜:2021-03-26 오후, 날씨:구름많음, 기온:7~18도\n",
      "\t날짜:2021-03-27 오전, 날씨:흐림, 기온:7~17도\n",
      "부산ㆍ울산ㆍ경상남도 지역의 창원\n",
      "\t날짜:2021-03-20 오전, 날씨:흐리고 비, 기온:8~13도\n",
      "\t날짜:2021-03-20 오후, 날씨:흐리고 비, 기온:8~13도\n",
      "\t날짜:2021-03-21 오전, 날씨:흐리고 비, 기온:10~16도\n",
      "\t날짜:2021-03-21 오후, 날씨:구름많음, 기온:10~16도\n",
      "\t날짜:2021-03-22 오전, 날씨:맑음, 기온:3~13도\n",
      "\t날짜:2021-03-22 오후, 날씨:맑음, 기온:3~13도\n",
      "\t날짜:2021-03-23 오전, 날씨:맑음, 기온:4~16도\n",
      "\t날짜:2021-03-23 오후, 날씨:맑음, 기온:4~16도\n",
      "\t날짜:2021-03-24 오전, 날씨:맑음, 기온:6~16도\n",
      "\t날짜:2021-03-24 오후, 날씨:맑음, 기온:6~16도\n",
      "\t날짜:2021-03-25 오전, 날씨:맑음, 기온:7~17도\n",
      "\t날짜:2021-03-26 오후, 날씨:구름많음, 기온:7~17도\n",
      "\t날짜:2021-03-27 오전, 날씨:흐림, 기온:8~16도\n"
     ]
    },
    {
     "name": "stdout",
     "output_type": "stream",
     "text": [
      "부산ㆍ울산ㆍ경상남도 지역의 진주\n",
      "\t날짜:2021-03-20 오전, 날씨:흐리고 비, 기온:7~12도\n",
      "\t날짜:2021-03-20 오후, 날씨:흐리고 비, 기온:7~12도\n",
      "\t날짜:2021-03-21 오전, 날씨:흐리고 비, 기온:9~16도\n",
      "\t날짜:2021-03-21 오후, 날씨:구름많음, 기온:9~16도\n",
      "\t날짜:2021-03-22 오전, 날씨:맑음, 기온:1~13도\n",
      "\t날짜:2021-03-22 오후, 날씨:맑음, 기온:1~13도\n",
      "\t날짜:2021-03-23 오전, 날씨:맑음, 기온:1~17도\n",
      "\t날짜:2021-03-23 오후, 날씨:맑음, 기온:1~17도\n",
      "\t날짜:2021-03-24 오전, 날씨:맑음, 기온:2~17도\n",
      "\t날짜:2021-03-24 오후, 날씨:맑음, 기온:2~17도\n",
      "\t날짜:2021-03-25 오전, 날씨:맑음, 기온:4~18도\n",
      "\t날짜:2021-03-26 오후, 날씨:구름많음, 기온:4~18도\n",
      "\t날짜:2021-03-27 오전, 날씨:흐림, 기온:5~17도\n",
      "부산ㆍ울산ㆍ경상남도 지역의 거창\n",
      "\t날짜:2021-03-20 오전, 날씨:흐리고 비, 기온:4~11도\n",
      "\t날짜:2021-03-20 오후, 날씨:흐리고 비, 기온:4~11도\n",
      "\t날짜:2021-03-21 오전, 날씨:흐리고 비, 기온:7~13도\n",
      "\t날짜:2021-03-21 오후, 날씨:구름많음, 기온:7~13도\n",
      "\t날짜:2021-03-22 오전, 날씨:맑음, 기온:0~11도\n",
      "\t날짜:2021-03-22 오후, 날씨:맑음, 기온:0~11도\n",
      "\t날짜:2021-03-23 오전, 날씨:맑음, 기온:0~16도\n",
      "\t날짜:2021-03-23 오후, 날씨:맑음, 기온:0~16도\n",
      "\t날짜:2021-03-24 오전, 날씨:맑음, 기온:1~17도\n",
      "\t날짜:2021-03-24 오후, 날씨:맑음, 기온:1~17도\n",
      "\t날짜:2021-03-25 오전, 날씨:맑음, 기온:2~17도\n",
      "\t날짜:2021-03-26 오후, 날씨:구름많음, 기온:3~17도\n",
      "\t날짜:2021-03-27 오전, 날씨:흐림, 기온:4~17도\n",
      "부산ㆍ울산ㆍ경상남도 지역의 통영\n",
      "\t날짜:2021-03-20 오전, 날씨:흐리고 비, 기온:9~14도\n",
      "\t날짜:2021-03-20 오후, 날씨:흐리고 비, 기온:9~14도\n",
      "\t날짜:2021-03-21 오전, 날씨:흐리고 비, 기온:10~16도\n",
      "\t날짜:2021-03-21 오후, 날씨:구름많음, 기온:10~16도\n",
      "\t날짜:2021-03-22 오전, 날씨:맑음, 기온:4~13도\n",
      "\t날짜:2021-03-22 오후, 날씨:맑음, 기온:4~13도\n",
      "\t날짜:2021-03-23 오전, 날씨:맑음, 기온:5~15도\n",
      "\t날짜:2021-03-23 오후, 날씨:맑음, 기온:5~15도\n",
      "\t날짜:2021-03-24 오전, 날씨:맑음, 기온:8~15도\n",
      "\t날짜:2021-03-24 오후, 날씨:맑음, 기온:8~15도\n",
      "\t날짜:2021-03-25 오전, 날씨:맑음, 기온:8~16도\n",
      "\t날짜:2021-03-26 오후, 날씨:구름많음, 기온:8~16도\n",
      "\t날짜:2021-03-27 오전, 날씨:흐림, 기온:8~15도\n",
      "대구ㆍ경상북도 지역의 대구\n",
      "\t날짜:2021-03-20 오전, 날씨:흐림, 기온:7~14도\n",
      "\t날짜:2021-03-20 오후, 날씨:흐리고 비, 기온:7~14도\n",
      "\t날짜:2021-03-21 오전, 날씨:흐리고 비, 기온:9~15도\n",
      "\t날짜:2021-03-21 오후, 날씨:구름많음, 기온:9~15도\n",
      "\t날짜:2021-03-22 오전, 날씨:맑음, 기온:2~13도\n",
      "\t날짜:2021-03-22 오후, 날씨:맑음, 기온:2~13도\n",
      "\t날짜:2021-03-23 오전, 날씨:맑음, 기온:2~18도\n",
      "\t날짜:2021-03-23 오후, 날씨:맑음, 기온:2~18도\n",
      "\t날짜:2021-03-24 오전, 날씨:맑음, 기온:5~18도\n",
      "\t날짜:2021-03-24 오후, 날씨:맑음, 기온:5~18도\n",
      "\t날짜:2021-03-25 오전, 날씨:구름많음, 기온:6~18도\n",
      "\t날짜:2021-03-26 오후, 날씨:구름많음, 기온:6~18도\n",
      "\t날짜:2021-03-27 오전, 날씨:구름많음, 기온:5~18도\n",
      "대구ㆍ경상북도 지역의 안동\n",
      "\t날짜:2021-03-20 오전, 날씨:흐림, 기온:5~13도\n",
      "\t날짜:2021-03-20 오후, 날씨:흐리고 비, 기온:5~13도\n",
      "\t날짜:2021-03-21 오전, 날씨:흐리고 비, 기온:6~14도\n",
      "\t날짜:2021-03-21 오후, 날씨:구름많음, 기온:6~14도\n",
      "\t날짜:2021-03-22 오전, 날씨:맑음, 기온:0~11도\n",
      "\t날짜:2021-03-22 오후, 날씨:맑음, 기온:0~11도\n",
      "\t날짜:2021-03-23 오전, 날씨:맑음, 기온:0~16도\n",
      "\t날짜:2021-03-23 오후, 날씨:맑음, 기온:0~16도\n",
      "\t날짜:2021-03-24 오전, 날씨:맑음, 기온:2~17도\n",
      "\t날짜:2021-03-24 오후, 날씨:맑음, 기온:2~17도\n",
      "\t날짜:2021-03-25 오전, 날씨:구름많음, 기온:4~17도\n",
      "\t날짜:2021-03-26 오후, 날씨:구름많음, 기온:3~17도\n",
      "\t날짜:2021-03-27 오전, 날씨:구름많음, 기온:3~17도\n",
      "대구ㆍ경상북도 지역의 포항\n",
      "\t날짜:2021-03-20 오전, 날씨:흐림, 기온:9~14도\n",
      "\t날짜:2021-03-20 오후, 날씨:흐리고 비, 기온:9~14도\n",
      "\t날짜:2021-03-21 오전, 날씨:흐리고 비, 기온:9~16도\n",
      "\t날짜:2021-03-21 오후, 날씨:구름많음, 기온:9~16도\n",
      "\t날짜:2021-03-22 오전, 날씨:맑음, 기온:3~13도\n",
      "\t날짜:2021-03-22 오후, 날씨:맑음, 기온:3~13도\n",
      "\t날짜:2021-03-23 오전, 날씨:맑음, 기온:4~18도\n",
      "\t날짜:2021-03-23 오후, 날씨:맑음, 기온:4~18도\n",
      "\t날짜:2021-03-24 오전, 날씨:맑음, 기온:7~18도\n",
      "\t날짜:2021-03-24 오후, 날씨:맑음, 기온:7~18도\n",
      "\t날짜:2021-03-25 오전, 날씨:구름많음, 기온:8~17도\n",
      "\t날짜:2021-03-26 오후, 날씨:구름많음, 기온:7~17도\n",
      "\t날짜:2021-03-27 오전, 날씨:구름많음, 기온:7~16도\n",
      "대구ㆍ경상북도 지역의 경주\n",
      "\t날짜:2021-03-20 오전, 날씨:흐림, 기온:6~13도\n",
      "\t날짜:2021-03-20 오후, 날씨:흐리고 비, 기온:6~13도\n",
      "\t날짜:2021-03-21 오전, 날씨:흐리고 비, 기온:8~15도\n",
      "\t날짜:2021-03-21 오후, 날씨:구름많음, 기온:8~15도\n",
      "\t날짜:2021-03-22 오전, 날씨:맑음, 기온:1~13도\n",
      "\t날짜:2021-03-22 오후, 날씨:맑음, 기온:1~13도\n",
      "\t날짜:2021-03-23 오전, 날씨:맑음, 기온:1~18도\n",
      "\t날짜:2021-03-23 오후, 날씨:맑음, 기온:1~18도\n",
      "\t날짜:2021-03-24 오전, 날씨:맑음, 기온:3~18도\n",
      "\t날짜:2021-03-24 오후, 날씨:맑음, 기온:3~18도\n",
      "\t날짜:2021-03-25 오전, 날씨:구름많음, 기온:4~18도\n",
      "\t날짜:2021-03-26 오후, 날씨:구름많음, 기온:4~17도\n",
      "\t날짜:2021-03-27 오전, 날씨:구름많음, 기온:4~18도\n",
      "대구ㆍ경상북도 지역의 울진\n",
      "\t날짜:2021-03-20 오전, 날씨:흐림, 기온:6~10도\n",
      "\t날짜:2021-03-20 오후, 날씨:흐리고 비, 기온:6~10도\n",
      "\t날짜:2021-03-21 오전, 날씨:흐리고 비, 기온:7~14도\n",
      "\t날짜:2021-03-21 오후, 날씨:구름많음, 기온:7~14도\n",
      "\t날짜:2021-03-22 오전, 날씨:맑음, 기온:2~12도\n",
      "\t날짜:2021-03-22 오후, 날씨:맑음, 기온:2~12도\n",
      "\t날짜:2021-03-23 오전, 날씨:맑음, 기온:3~16도\n",
      "\t날짜:2021-03-23 오후, 날씨:맑음, 기온:3~16도\n",
      "\t날짜:2021-03-24 오전, 날씨:맑음, 기온:7~16도\n",
      "\t날짜:2021-03-24 오후, 날씨:맑음, 기온:7~16도\n",
      "\t날짜:2021-03-25 오전, 날씨:구름많음, 기온:6~16도\n",
      "\t날짜:2021-03-26 오후, 날씨:구름많음, 기온:6~15도\n",
      "\t날짜:2021-03-27 오전, 날씨:구름많음, 기온:6~14도\n",
      "대구ㆍ경상북도 지역의 울릉도\n",
      "\t날짜:2021-03-20 오전, 날씨:흐림, 기온:6~10도\n",
      "\t날짜:2021-03-20 오후, 날씨:흐리고 비, 기온:6~10도\n",
      "\t날짜:2021-03-21 오전, 날씨:흐리고 비, 기온:7~11도\n",
      "\t날짜:2021-03-21 오후, 날씨:구름많음, 기온:7~11도\n",
      "\t날짜:2021-03-22 오전, 날씨:맑음, 기온:4~9도\n",
      "\t날짜:2021-03-22 오후, 날씨:맑음, 기온:4~9도\n",
      "\t날짜:2021-03-23 오전, 날씨:맑음, 기온:6~12도\n",
      "\t날짜:2021-03-23 오후, 날씨:맑음, 기온:6~12도\n",
      "\t날짜:2021-03-24 오전, 날씨:맑음, 기온:8~13도\n",
      "\t날짜:2021-03-24 오후, 날씨:맑음, 기온:8~13도\n",
      "\t날짜:2021-03-25 오전, 날씨:구름많음, 기온:8~13도\n",
      "\t날짜:2021-03-26 오후, 날씨:구름많음, 기온:8~12도\n",
      "\t날짜:2021-03-27 오전, 날씨:구름많음, 기온:7~11도\n",
      "제주도 지역의 제주\n",
      "\t날짜:2021-03-20 오전, 날씨:흐리고 비, 기온:13~19도\n",
      "\t날짜:2021-03-20 오후, 날씨:흐리고 비, 기온:13~19도\n",
      "\t날짜:2021-03-21 오전, 날씨:흐리고 비, 기온:10~12도\n",
      "\t날짜:2021-03-21 오후, 날씨:구름많음, 기온:10~12도\n",
      "\t날짜:2021-03-22 오전, 날씨:맑음, 기온:7~12도\n",
      "\t날짜:2021-03-22 오후, 날씨:맑음, 기온:7~12도\n",
      "\t날짜:2021-03-23 오전, 날씨:맑음, 기온:8~16도\n",
      "\t날짜:2021-03-23 오후, 날씨:맑음, 기온:8~16도\n",
      "\t날짜:2021-03-24 오전, 날씨:맑음, 기온:9~17도\n",
      "\t날짜:2021-03-24 오후, 날씨:맑음, 기온:9~17도\n",
      "\t날짜:2021-03-25 오전, 날씨:맑음, 기온:10~17도\n",
      "\t날짜:2021-03-26 오후, 날씨:구름많음, 기온:10~16도\n",
      "\t날짜:2021-03-27 오전, 날씨:흐림, 기온:10~17도\n",
      "제주도 지역의 서귀포\n",
      "\t날짜:2021-03-20 오전, 날씨:흐리고 비, 기온:13~17도\n",
      "\t날짜:2021-03-20 오후, 날씨:흐리고 비, 기온:13~17도\n",
      "\t날짜:2021-03-21 오전, 날씨:흐리고 비, 기온:11~15도\n",
      "\t날짜:2021-03-21 오후, 날씨:구름많음, 기온:11~15도\n",
      "\t날짜:2021-03-22 오전, 날씨:맑음, 기온:6~13도\n",
      "\t날짜:2021-03-22 오후, 날씨:맑음, 기온:6~13도\n",
      "\t날짜:2021-03-23 오전, 날씨:맑음, 기온:8~16도\n",
      "\t날짜:2021-03-23 오후, 날씨:맑음, 기온:8~16도\n",
      "\t날짜:2021-03-24 오전, 날씨:맑음, 기온:10~16도\n",
      "\t날짜:2021-03-24 오후, 날씨:맑음, 기온:10~16도\n",
      "\t날짜:2021-03-25 오전, 날씨:맑음, 기온:11~17도\n",
      "\t날짜:2021-03-26 오후, 날씨:구름많음, 기온:11~17도\n",
      "\t날짜:2021-03-27 오전, 날씨:흐림, 기온:12~17도\n"
     ]
    }
   ],
   "source": [
    "#get 요청\n",
    "import requests\n",
    "from bs4 import BeautifulSoup\n",
    "url = \"https://www.weather.go.kr/weather/forecast/mid-term-rss3.jsp?stnId=108\"\n",
    "html = requests.get(url)\n",
    "soup = BeautifulSoup(html.content, \"html.parser\")\n",
    "locations = soup.select(\"location\")\n",
    "for loc in locations:\n",
    "    province = loc.select_one(\"province\").text\n",
    "    city = loc.select_one(\"city\").text\n",
    "    print(province, '지역의', city)\n",
    "    data = loc.select(\"data\")\n",
    "    ampm = \"오전\"\n",
    "    for item in data:\n",
    "        tmEf = item.select_one('tmEf').text[:10]\n",
    "        wf = item.select_one('wf').text\n",
    "        tmn = item.select_one('tmn').text\n",
    "        tmx = item.select_one('tmx').text\n",
    "        print(\"\\t날짜:{} {}, 날씨:{}, 기온:{}~{}도\".format(tmEf, ampm, wf, tmn, tmx))\n",
    "        if ampm == '오전':\n",
    "            ampm = '오후'\n",
    "        else :\n",
    "            ampm = '오전'"
   ]
  },
  {
   "cell_type": "code",
   "execution_count": null,
   "metadata": {},
   "outputs": [],
   "source": [
    "#html = urlopen(url)\n",
    "from urllib.request import urlopen\n",
    "from bs4 import BeautifulSoup\n",
    "url = \"https://www.weather.go.kr/weather/forecast/mid-term-rss3.jsp?stnId=108\"\n",
    "html = urlopen(url)\n",
    "soup = BeautifulSoup(html, \"html.parser\")\n",
    "locations = soup.select(\"location\")\n",
    "for loc in locations:\n",
    "    province = loc.select_one(\"province\").text\n",
    "    city = loc.select_one(\"city\").string\n",
    "    print(province, '지역의', city)\n",
    "    data = loc.select(\"data\")\n",
    "    ampm = '오전'\n",
    "    for item in data:\n",
    "        tmEf = item.select_one('tmEf').text[:10]\n",
    "        wf = item.select_one('wf').text\n",
    "        tmn = item.select_one('tmn').text\n",
    "        tmx = item.select_one('tmx').text\n",
    "        print('\\t날짜:{} {}, 날씨:{}, 기온:{}~{}도'.format(tmEf, ampm, wf, tmn, tmx))\n",
    "        if ampm == '오전':\n",
    "            ampm = '오후'\n",
    "        else :\n",
    "            ampm = '오전'"
   ]
  }
 ],
 "metadata": {
  "kernelspec": {
   "display_name": "Python 3",
   "language": "python",
   "name": "python3"
  },
  "language_info": {
   "codemirror_mode": {
    "name": "ipython",
    "version": 3
   },
   "file_extension": ".py",
   "mimetype": "text/x-python",
   "name": "python",
   "nbconvert_exporter": "python",
   "pygments_lexer": "ipython3",
   "version": "3.8.5"
  }
 },
 "nbformat": 4,
 "nbformat_minor": 4
}
