{
 "cells": [
  {
   "cell_type": "markdown",
   "metadata": {},
   "source": [
    "**21-03-03 python 10_데이터 베이스 연동 (c)cherryuki (ji)**"
   ]
  },
  {
   "cell_type": "markdown",
   "metadata": {},
   "source": [
    "# 회원 입력/조회(검색)/출력/삭제 애플리케이션\n",
    "- Oracle이용"
   ]
  },
  {
   "cell_type": "code",
   "execution_count": 18,
   "metadata": {},
   "outputs": [],
   "source": [
    "def insert_member():\n",
    "    global conn\n",
    "    cursor = conn.cursor()\n",
    "    sql = \"INSERT INTO MEMBER VALUES (:name, :phone, :email, :age, :grade, :etc)\"\n",
    "    name = input(\"이름: \")\n",
    "    phone = input(\"전화번호: \")\n",
    "    email = input(\"이메일: \")\n",
    "    try:\n",
    "        age = int(input(\"나이: \"))\n",
    "    except:\n",
    "        print(\"유효하지 않은 값을 입력하여 20으로 초기화\")\n",
    "        age=20\n",
    "    try:\n",
    "        grade = int(input(\"고객 등급(1~5): \"))\n",
    "    except:\n",
    "        print(\"유효하지 않은 값을 입력하여 1로 초기화\")\n",
    "        grade=1\n",
    "    etc = input(\"기타 정보: \")\n",
    "    cursor.execute(sql, {'name':name, 'phone':phone, 'email':email, 'age':age, 'grade':grade, 'etc':etc})"
   ]
  },
  {
   "cell_type": "code",
   "execution_count": 19,
   "metadata": {},
   "outputs": [],
   "source": [
    "def select_all():\n",
    "    global conn\n",
    "    cursor=conn.cursor()\n",
    "    sql = \"SELECT * FROM MEMBER\"\n",
    "    cursor.execute(sql)\n",
    "    members = cursor.fetchall()\n",
    "    import pandas as pd\n",
    "    members_df = pd.DataFrame(members, columns=[row[0] for row in cursor.description])\n",
    "    if len(members)==0:\n",
    "        print(\"데이터가 존재하지 않습니다\")\n",
    "    else:\n",
    "        print(members_df)"
   ]
  },
  {
   "cell_type": "code",
   "execution_count": 20,
   "metadata": {},
   "outputs": [],
   "source": [
    "def select_name():\n",
    "    global conn\n",
    "    cursor = conn.cursor()\n",
    "    sql = \"SELECT * FROM MEMBER WHERE NAME=:name\"\n",
    "    name = input(\"조회할 이름: \")\n",
    "    cursor.execute(sql, {'name':name})\n",
    "    members = cursor.fetchall()\n",
    "    import pandas as pd\n",
    "    members_df=pd.DataFrame(members, columns=[row[0] for row in cursor.description])\n",
    "    if len(members)==0:\n",
    "        print(\"데이터가 존재하지 않습니다\")\n",
    "    else:\n",
    "        print(members_df)"
   ]
  },
  {
   "cell_type": "code",
   "execution_count": 21,
   "metadata": {},
   "outputs": [],
   "source": [
    "def delete_mail():\n",
    "    global conn\n",
    "    cursor = conn.cursor()\n",
    "    sql = \"SELECT * FROM MEMBER WHERE EMAIL=:email\"\n",
    "    email = input(\"삭제할 이메일 주소: \")\n",
    "    cursor.execute(sql, {'email':email})\n",
    "    members=cursor.fetchall()\n",
    "    if len(members)==0:\n",
    "        print(\"입력한 이메일의 데이터가 존재하지 않습니다\")\n",
    "    else:\n",
    "        cursor.execute('DELETE FROM MEMBER WHERE EMAIL=:email', {'email':email})\n",
    "        print(\"삭제되었습니다\")"
   ]
  },
  {
   "cell_type": "code",
   "execution_count": 22,
   "metadata": {},
   "outputs": [],
   "source": [
    "def save_csv():\n",
    "    global conn\n",
    "    cursor=conn.cursor()\n",
    "    sql = \"SELECT * FROM MEMBER\"\n",
    "    cursor.execute(sql)\n",
    "    members = cursor.fetchall()\n",
    "    import pandas as pd\n",
    "    members_df = pd.DataFrame(members, columns = [row[0] for row in cursor.description])\n",
    "    import csv\n",
    "    filename = input(\"파일명: \")\n",
    "    members_df.to_csv(filename+'.csv')\n",
    "    print(filename+'.csv로 저장되었습니다')"
   ]
  },
  {
   "cell_type": "code",
   "execution_count": 23,
   "metadata": {},
   "outputs": [],
   "source": [
    "def close_sql():\n",
    "    global conn\n",
    "    conn.commit()\n",
    "    conn.close()\n",
    "    print(\"종료합니다\")"
   ]
  },
  {
   "cell_type": "code",
   "execution_count": 24,
   "metadata": {},
   "outputs": [],
   "source": [
    "def main():\n",
    "    while True:\n",
    "        print(\"1.입력\", \"2.전체 조회\", \"3.이름 찾기\", \"4.메일 삭제\", \"5.CSV 내보내기\", \"0.종료\",\n",
    "             sep=\" | \")\n",
    "        try:\n",
    "            menu = int(input(\"메뉴 선택: \"))\n",
    "        except:\n",
    "            print(\"유효하지 않은 값을 입력하였습니다. 다시 선택해주세요.\")\n",
    "        if menu==1:\n",
    "            insert_member()\n",
    "        elif menu==2:\n",
    "            select_all()\n",
    "        elif menu==3:\n",
    "            select_name()\n",
    "        elif menu==4:\n",
    "            delete_mail()\n",
    "        elif menu==5:\n",
    "            save_csv()\n",
    "        elif menu==0:\n",
    "            close_sql()\n",
    "            break"
   ]
  },
  {
   "cell_type": "code",
   "execution_count": 25,
   "metadata": {},
   "outputs": [
    {
     "name": "stdout",
     "output_type": "stream",
     "text": [
      "1.입력 | 2.전체 조회 | 3.이름 찾기 | 4.메일 삭제 | 5.CSV 내보내기 | 0.종료\n",
      "메뉴 선택: 2\n",
      "   NAME          PHONE           EMAIL  AGE  GRADE    ETC\n",
      "0  KONG  010-0000-0000  KONG@GREEN.COM   43      5  KONGU\n",
      "1   HAN  010-0000-1111   HAN@GREEN.COM   39      5  JIMIN\n",
      "1.입력 | 2.전체 조회 | 3.이름 찾기 | 4.메일 삭제 | 5.CSV 내보내기 | 0.종료\n",
      "메뉴 선택: 1\n",
      "이름: 공지철\n",
      "전화번호: 010-0000-0000\n",
      "이메일: kong@green.com\n",
      "나이: 43\n",
      "고객 등급(1~5): 5\n",
      "기타 정보: 공유\n",
      "1.입력 | 2.전체 조회 | 3.이름 찾기 | 4.메일 삭제 | 5.CSV 내보내기 | 0.종료\n",
      "메뉴 선택: 1\n",
      "이름: 한지민\n",
      "전화번호: 010-1111-1111\n",
      "이메일: jimin@green.com\n",
      "나이: 39\n",
      "고객 등급(1~5): 5\n",
      "기타 정보: \n",
      "1.입력 | 2.전체 조회 | 3.이름 찾기 | 4.메일 삭제 | 5.CSV 내보내기 | 0.종료\n",
      "메뉴 선택: 4\n",
      "삭제할 이메일 주소: KONG@GREEN.COM\n",
      "삭제되었습니다\n",
      "1.입력 | 2.전체 조회 | 3.이름 찾기 | 4.메일 삭제 | 5.CSV 내보내기 | 0.종료\n",
      "메뉴 선택: 4\n",
      "삭제할 이메일 주소: HAN@GREEN.COM\n",
      "삭제되었습니다\n",
      "1.입력 | 2.전체 조회 | 3.이름 찾기 | 4.메일 삭제 | 5.CSV 내보내기 | 0.종료\n",
      "메뉴 선택: 2\n",
      "  NAME          PHONE            EMAIL  AGE  GRADE   ETC\n",
      "0  공지철  010-0000-0000   kong@green.com   43      5    공유\n",
      "1  한지민  010-1111-1111  jimin@green.com   39      5  None\n",
      "1.입력 | 2.전체 조회 | 3.이름 찾기 | 4.메일 삭제 | 5.CSV 내보내기 | 0.종료\n",
      "메뉴 선택: 3\n",
      "조회할 이름: 한지민\n",
      "  NAME          PHONE            EMAIL  AGE  GRADE   ETC\n",
      "0  한지민  010-1111-1111  jimin@green.com   39      5  None\n",
      "1.입력 | 2.전체 조회 | 3.이름 찾기 | 4.메일 삭제 | 5.CSV 내보내기 | 0.종료\n",
      "메뉴 선택: 5\n",
      "파일명: member_oracle\n",
      "member_oracle.csv로 저장되었습니다\n",
      "1.입력 | 2.전체 조회 | 3.이름 찾기 | 4.메일 삭제 | 5.CSV 내보내기 | 0.종료\n",
      "메뉴 선택: 0\n",
      "종료합니다\n"
     ]
    }
   ],
   "source": [
    "if __name__=='__main__':\n",
    "    import cx_Oracle\n",
    "    global oracle_dsn, conn\n",
    "    oracle_dsn = cx_Oracle.makedsn(host=\"localhost\", port=1521, sid=\"xe\")\n",
    "    conn = cx_Oracle.connect(\"scott\", \"tiger\", dsn=oracle_dsn)\n",
    "    main()"
   ]
  },
  {
   "cell_type": "code",
   "execution_count": null,
   "metadata": {},
   "outputs": [],
   "source": []
  }
 ],
 "metadata": {
  "kernelspec": {
   "display_name": "Python 3",
   "language": "python",
   "name": "python3"
  },
  "language_info": {
   "codemirror_mode": {
    "name": "ipython",
    "version": 3
   },
   "file_extension": ".py",
   "mimetype": "text/x-python",
   "name": "python",
   "nbconvert_exporter": "python",
   "pygments_lexer": "ipython3",
   "version": "3.8.5"
  }
 },
 "nbformat": 4,
 "nbformat_minor": 4
}
