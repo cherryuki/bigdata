{
 "cells": [
  {
   "cell_type": "markdown",
   "metadata": {},
   "source": [
    "**21-03-03 python 09_파일 입출력 프로그래밍 (c)cherryuki (ji)**"
   ]
  },
  {
   "cell_type": "markdown",
   "metadata": {},
   "source": [
    "# <font color=\"red\">ch10. 데이터베이스 연동</font>"
   ]
  },
  {
   "cell_type": "markdown",
   "metadata": {},
   "source": [
    "# 1절. SQLite 데이터 베이스 연결\n",
    "## 1.1 SQLite와 Python\n",
    "- SQLite 데이터 베이스는 별도의 서버 프로세스 없이 SQL을 사용하여 DB 액세스 할 수 있도록 만든 간단한 디스크 기반 데이터 베이스를 제공하는 C라이브러리\n",
    "- SQLite는 프로토 타입을 만들 때까지 사용. 정식 제품은 오라클이나 다른 DBMS를 연결\n",
    "- [[SQLite DB Browser](https://sqlitebrowser.org/dl/)]"
   ]
  },
  {
   "cell_type": "code",
   "execution_count": null,
   "metadata": {},
   "outputs": [],
   "source": []
  }
 ],
 "metadata": {
  "kernelspec": {
   "display_name": "Python 3",
   "language": "python",
   "name": "python3"
  },
  "language_info": {
   "codemirror_mode": {
    "name": "ipython",
    "version": 3
   },
   "file_extension": ".py",
   "mimetype": "text/x-python",
   "name": "python",
   "nbconvert_exporter": "python",
   "pygments_lexer": "ipython3",
   "version": "3.8.5"
  }
 },
 "nbformat": 4,
 "nbformat_minor": 4
}
