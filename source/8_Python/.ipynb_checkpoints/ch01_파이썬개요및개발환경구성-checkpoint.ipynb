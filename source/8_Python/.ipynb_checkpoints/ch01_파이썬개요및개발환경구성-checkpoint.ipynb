{
 "cells": [
  {
   "cell_type": "markdown",
   "metadata": {},
   "source": [
    "#### 21-02-19 python 01_파이썬 개요 및 개발환경 구성             (c)cherryuki(ji)"
   ]
  },
  {
   "cell_type": "markdown",
   "metadata": {},
   "source": [
    "<b> ch01. 파이썬 개요 및 개발환경 구성 </b>"
   ]
  },
  {
   "cell_type": "markdown",
   "metadata": {},
   "source": [
    "## 1. 마크다운"
   ]
  },
  {
   "cell_type": "markdown",
   "metadata": {},
   "source": [
    "- 셀 하나하나 파이썬 프로그램 입력 -> 실행"
   ]
  },
  {
   "cell_type": "markdown",
   "metadata": {},
   "source": [
    "<파이썬 프로그램 실행 방법>\n",
    "- Shift + Enter; 포커스 셀이 실행되고 다음셀로 이동\n",
    "- Alt + Enter; 포커스 셀 실행 후, 다음 셀이 생성된 후 다음 셀로 이동\n",
    "- Ctrl + Enter; 포커스 셀 실행 후, 포커스 이동 없음"
   ]
  },
  {
   "cell_type": "code",
   "execution_count": 2,
   "metadata": {},
   "outputs": [
    {
     "name": "stdout",
     "output_type": "stream",
     "text": [
      "Hello, World!\n"
     ]
    }
   ],
   "source": [
    "print(\"Hello, World!\")"
   ]
  },
  {
   "cell_type": "code",
   "execution_count": 3,
   "metadata": {},
   "outputs": [],
   "source": [
    "a=10 #주석"
   ]
  },
  {
   "cell_type": "markdown",
   "metadata": {},
   "source": [
    "## 2. ESC키\n",
    "- +m: 마크다운 셀로 변ㄴ경\n",
    "- +a: 윗셀 추가\n",
    "- +b: 아래셀 추가\n",
    "- +dd: 셀 삭제"
   ]
  },
  {
   "cell_type": "code",
   "execution_count": null,
   "metadata": {},
   "outputs": [],
   "source": []
  }
 ],
 "metadata": {
  "kernelspec": {
   "display_name": "Python 3",
   "language": "python",
   "name": "python3"
  },
  "language_info": {
   "codemirror_mode": {
    "name": "ipython",
    "version": 3
   },
   "file_extension": ".py",
   "mimetype": "text/x-python",
   "name": "python",
   "nbconvert_exporter": "python",
   "pygments_lexer": "ipython3",
   "version": "3.8.5"
  }
 },
 "nbformat": 4,
 "nbformat_minor": 4
}
