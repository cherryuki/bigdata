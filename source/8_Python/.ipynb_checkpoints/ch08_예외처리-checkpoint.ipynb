{
 "cells": [
  {
   "cell_type": "markdown",
   "metadata": {},
   "source": [
    "**21-02-26 python 08_예외 처리(Exception Handling)   (c)cherryuki (ji)**"
   ]
  },
  {
   "cell_type": "markdown",
   "metadata": {},
   "source": [
    "**<font size=5 color=\"red\">ch08. 예외처리</font>**"
   ]
  },
  {
   "cell_type": "markdown",
   "metadata": {},
   "source": [
    "# 1절. 예외처리\n",
    "- 예외(Exception): 실행 중에 발견된 오류\n",
    "- 예외 처리(Exception Handling): 오류 발생 가능성이 있는 부분에 대한 처리를 미리 프로그래밍 하는 것"
   ]
  },
  {
   "cell_type": "code",
   "execution_count": 2,
   "metadata": {},
   "outputs": [
    {
     "name": "stdout",
     "output_type": "stream",
     "text": [
      "파일명을 입력하세요: ch08_hello\n",
      "ch08_Exception Handling (c)cherryuki(ji)\n",
      "\n"
     ]
    }
   ],
   "source": [
    "filename = input(\"파일명을 입력하세요: \")\n",
    "f = open('data/'+filename+'.txt', 'r') #읽기모드(r)로 파일 열기\n",
    "firstline = f.readline() #한 줄 읽어서 firstline에 저장\n",
    "print(firstline)\n",
    "f.close() #파일 닫기"
   ]
  },
  {
   "cell_type": "markdown",
   "metadata": {},
   "source": [
    "- 예외 발생 예시"
   ]
  },
  {
   "cell_type": "code",
   "execution_count": 3,
   "metadata": {},
   "outputs": [
    {
     "name": "stdout",
     "output_type": "stream",
     "text": [
      "파일명을 입력하세요: ch08_bye\n"
     ]
    },
    {
     "ename": "FileNotFoundError",
     "evalue": "[Errno 2] No such file or directory: 'data/ch08_bye.txt'",
     "output_type": "error",
     "traceback": [
      "\u001b[1;31m---------------------------------------------------------------------------\u001b[0m",
      "\u001b[1;31mFileNotFoundError\u001b[0m                         Traceback (most recent call last)",
      "\u001b[1;32m<ipython-input-3-9c04d19b076f>\u001b[0m in \u001b[0;36m<module>\u001b[1;34m\u001b[0m\n\u001b[0;32m      1\u001b[0m \u001b[0mfilename\u001b[0m \u001b[1;33m=\u001b[0m \u001b[0minput\u001b[0m\u001b[1;33m(\u001b[0m\u001b[1;34m\"파일명을 입력하세요: \"\u001b[0m\u001b[1;33m)\u001b[0m \u001b[1;31m#없는 파일 입력시: FileNotFoundError\u001b[0m\u001b[1;33m\u001b[0m\u001b[1;33m\u001b[0m\u001b[0m\n\u001b[1;32m----> 2\u001b[1;33m \u001b[0mf\u001b[0m \u001b[1;33m=\u001b[0m \u001b[0mopen\u001b[0m\u001b[1;33m(\u001b[0m\u001b[1;34m'data/'\u001b[0m\u001b[1;33m+\u001b[0m\u001b[0mfilename\u001b[0m\u001b[1;33m+\u001b[0m\u001b[1;34m'.txt'\u001b[0m\u001b[1;33m,\u001b[0m \u001b[1;34m'r'\u001b[0m\u001b[1;33m)\u001b[0m \u001b[1;31m#읽기모드(r)로 파일 열기\u001b[0m\u001b[1;33m\u001b[0m\u001b[1;33m\u001b[0m\u001b[0m\n\u001b[0m\u001b[0;32m      3\u001b[0m \u001b[0mfirstline\u001b[0m \u001b[1;33m=\u001b[0m \u001b[0mf\u001b[0m\u001b[1;33m.\u001b[0m\u001b[0mreadline\u001b[0m\u001b[1;33m(\u001b[0m\u001b[1;33m)\u001b[0m \u001b[1;31m#한 줄 읽어서 firstline에 저장\u001b[0m\u001b[1;33m\u001b[0m\u001b[1;33m\u001b[0m\u001b[0m\n\u001b[0;32m      4\u001b[0m \u001b[0mprint\u001b[0m\u001b[1;33m(\u001b[0m\u001b[0mfirstline\u001b[0m\u001b[1;33m)\u001b[0m\u001b[1;33m\u001b[0m\u001b[1;33m\u001b[0m\u001b[0m\n\u001b[0;32m      5\u001b[0m \u001b[0mf\u001b[0m\u001b[1;33m.\u001b[0m\u001b[0mclose\u001b[0m\u001b[1;33m(\u001b[0m\u001b[1;33m)\u001b[0m \u001b[1;31m#파일 닫기\u001b[0m\u001b[1;33m\u001b[0m\u001b[1;33m\u001b[0m\u001b[0m\n",
      "\u001b[1;31mFileNotFoundError\u001b[0m: [Errno 2] No such file or directory: 'data/ch08_bye.txt'"
     ]
    }
   ],
   "source": [
    "filename = input(\"파일명을 입력하세요: \") #없는 파일 입력시: FileNotFoundError\n",
    "f = open('data/'+filename+'.txt', 'r') #읽기모드(r)로 파일 열기\n",
    "firstline = f.readline() #한 줄 읽어서 firstline에 저장\n",
    "print(firstline)\n",
    "f.close() #파일 닫기"
   ]
  },
  {
   "cell_type": "code",
   "execution_count": 4,
   "metadata": {},
   "outputs": [
    {
     "name": "stdout",
     "output_type": "stream",
     "text": [
      "정수를 입력하세요>14.2\n"
     ]
    },
    {
     "ename": "ValueError",
     "evalue": "invalid literal for int() with base 10: '14.2'",
     "output_type": "error",
     "traceback": [
      "\u001b[1;31m---------------------------------------------------------------------------\u001b[0m",
      "\u001b[1;31mValueError\u001b[0m                                Traceback (most recent call last)",
      "\u001b[1;32m<ipython-input-4-c1f8e7c92294>\u001b[0m in \u001b[0;36m<module>\u001b[1;34m\u001b[0m\n\u001b[1;32m----> 1\u001b[1;33m \u001b[0mnum\u001b[0m \u001b[1;33m=\u001b[0m \u001b[0mint\u001b[0m\u001b[1;33m(\u001b[0m\u001b[0minput\u001b[0m\u001b[1;33m(\u001b[0m\u001b[1;34m\"정수를 입력하세요>\"\u001b[0m\u001b[1;33m)\u001b[0m\u001b[1;33m)\u001b[0m \u001b[1;31m#valueError\u001b[0m\u001b[1;33m\u001b[0m\u001b[1;33m\u001b[0m\u001b[0m\n\u001b[0m",
      "\u001b[1;31mValueError\u001b[0m: invalid literal for int() with base 10: '14.2'"
     ]
    }
   ],
   "source": [
    "num = int(input(\"정수를 입력하세요>\")) #ValueError (실수나 문자 등 정수가 아닌 값 입력시)"
   ]
  },
  {
   "cell_type": "code",
   "execution_count": 5,
   "metadata": {},
   "outputs": [
    {
     "name": "stdout",
     "output_type": "stream",
     "text": [
      "정수를 입력하세요>0\n"
     ]
    },
    {
     "ename": "ZeroDivisionError",
     "evalue": "division by zero",
     "output_type": "error",
     "traceback": [
      "\u001b[1;31m---------------------------------------------------------------------------\u001b[0m",
      "\u001b[1;31mZeroDivisionError\u001b[0m                         Traceback (most recent call last)",
      "\u001b[1;32m<ipython-input-5-b8f9601e8a7f>\u001b[0m in \u001b[0;36m<module>\u001b[1;34m\u001b[0m\n\u001b[0;32m      1\u001b[0m \u001b[0mnum\u001b[0m \u001b[1;33m=\u001b[0m \u001b[0mint\u001b[0m\u001b[1;33m(\u001b[0m\u001b[0minput\u001b[0m\u001b[1;33m(\u001b[0m\u001b[1;34m\"정수를 입력하세요>\"\u001b[0m\u001b[1;33m)\u001b[0m\u001b[1;33m)\u001b[0m\u001b[1;33m\u001b[0m\u001b[1;33m\u001b[0m\u001b[0m\n\u001b[1;32m----> 2\u001b[1;33m \u001b[0mprint\u001b[0m\u001b[1;33m(\u001b[0m\u001b[1;36m10\u001b[0m\u001b[1;33m/\u001b[0m\u001b[0mnum\u001b[0m\u001b[1;33m)\u001b[0m\u001b[1;33m\u001b[0m\u001b[1;33m\u001b[0m\u001b[0m\n\u001b[0m",
      "\u001b[1;31mZeroDivisionError\u001b[0m: division by zero"
     ]
    }
   ],
   "source": [
    "num = int(input(\"정수를 입력하세요>\"))\n",
    "print(10/num) #ZeroDivisionError (0으로 나눌경우)"
   ]
  },
  {
   "cell_type": "code",
   "execution_count": 6,
   "metadata": {},
   "outputs": [
    {
     "name": "stdout",
     "output_type": "stream",
     "text": [
      "조회할 인덱스는? 3\n"
     ]
    },
    {
     "ename": "IndexError",
     "evalue": "list index out of range",
     "output_type": "error",
     "traceback": [
      "\u001b[1;31m---------------------------------------------------------------------------\u001b[0m",
      "\u001b[1;31mIndexError\u001b[0m                                Traceback (most recent call last)",
      "\u001b[1;32m<ipython-input-6-b73bf864c9c7>\u001b[0m in \u001b[0;36m<module>\u001b[1;34m\u001b[0m\n\u001b[0;32m      1\u001b[0m \u001b[0ml\u001b[0m \u001b[1;33m=\u001b[0m \u001b[1;33m[\u001b[0m\u001b[1;36m1\u001b[0m\u001b[1;33m,\u001b[0m\u001b[1;36m2\u001b[0m\u001b[1;33m,\u001b[0m\u001b[1;36m3\u001b[0m\u001b[1;33m]\u001b[0m\u001b[1;33m\u001b[0m\u001b[1;33m\u001b[0m\u001b[0m\n\u001b[0;32m      2\u001b[0m \u001b[0midx\u001b[0m \u001b[1;33m=\u001b[0m \u001b[0mint\u001b[0m\u001b[1;33m(\u001b[0m\u001b[0minput\u001b[0m\u001b[1;33m(\u001b[0m\u001b[1;34m\"조회할 인덱스는? \"\u001b[0m\u001b[1;33m)\u001b[0m\u001b[1;33m)\u001b[0m\u001b[1;33m\u001b[0m\u001b[1;33m\u001b[0m\u001b[0m\n\u001b[1;32m----> 3\u001b[1;33m \u001b[0mprint\u001b[0m\u001b[1;33m(\u001b[0m\u001b[1;34m\"{}번째 값은 {}\"\u001b[0m\u001b[1;33m.\u001b[0m\u001b[0mformat\u001b[0m\u001b[1;33m(\u001b[0m\u001b[0midx\u001b[0m\u001b[1;33m,\u001b[0m \u001b[0ml\u001b[0m\u001b[1;33m[\u001b[0m\u001b[0midx\u001b[0m\u001b[1;33m]\u001b[0m\u001b[1;33m)\u001b[0m\u001b[1;33m)\u001b[0m\u001b[1;33m\u001b[0m\u001b[1;33m\u001b[0m\u001b[0m\n\u001b[0m",
      "\u001b[1;31mIndexError\u001b[0m: list index out of range"
     ]
    }
   ],
   "source": [
    "l = [1,2,3]\n",
    "idx = int(input(\"조회할 인덱스는? \"))\n",
    "print(\"{}번째 값은 {}\".format(idx, l[idx])) #IndexError (없는 인덱스 값 참조시)"
   ]
  },
  {
   "cell_type": "markdown",
   "metadata": {},
   "source": [
    "# 2절. 예외 처리하기(try ~ except)"
   ]
  },
  {
   "cell_type": "code",
   "execution_count": 9,
   "metadata": {},
   "outputs": [
    {
     "name": "stdout",
     "output_type": "stream",
     "text": [
      "정수: a\n",
      "invalid literal for int() with base 10: 'a'\n",
      "정수를 입력하시기 바랍니다\n"
     ]
    }
   ],
   "source": [
    "try:\n",
    "    x = int(input(\"정수: \"))\n",
    "    print(\"입력한 정수: {}\".format(x))\n",
    "except ValueError as e: #ValueError 대신 상위 Exception 으로 기재해도 무방(최상위: BaseException)\n",
    "    print(e)\n",
    "    print(\"정수를 입력하시기 바랍니다\")"
   ]
  },
  {
   "cell_type": "code",
   "execution_count": 11,
   "metadata": {},
   "outputs": [
    {
     "name": "stdout",
     "output_type": "stream",
     "text": [
      "정수를 입력하세요> a\n",
      "유효한 정수가 아닙니다.\n",
      "정수를 입력하세요> 1.2\n",
      "유효한 정수가 아닙니다.\n",
      "정수를 입력하세요> 3\n",
      "입력한 정수: 3\n"
     ]
    }
   ],
   "source": [
    "#입력한 값이 정수가 아닐 경우 예외 메시지를 출력, 다시 입력 받기\n",
    "while True:\n",
    "    try:\n",
    "        x = int(input(\"정수를 입력하세요> \"))\n",
    "        print(\"입력한 정수: {}\".format(x))\n",
    "        break #반드시 입력해야함(제대로 입력시 while절 빠져나가기 위함)\n",
    "    except Exception:\n",
    "        print(\"유효한 정수가 아닙니다.\")"
   ]
  },
  {
   "cell_type": "markdown",
   "metadata": {},
   "source": [
    "- 예외 별로 처리시 상속 관계에 있는 예외일 경우 **상위 예외를 하단에 기재**해야 함"
   ]
  },
  {
   "cell_type": "code",
   "execution_count": 12,
   "metadata": {},
   "outputs": [
    {
     "name": "stdout",
     "output_type": "stream",
     "text": [
      "정수를 입력하세요> 0\n",
      "입력한 수: 0\n",
      "0으로는 나눌 수 없습니다. 0을 제외한 정수를 입력하세요\n",
      "정수를 입력하세요> a\n",
      "유효한 정수가 아닙니다\n",
      "정수를 입력하세요> 10\n",
      "입력한 수: 10\n",
      "100/10=10.0\n"
     ]
    }
   ],
   "source": [
    "#예외 별로 처리\n",
    "#입력한 정수로 100을 나눈 값(100/입력한 정수) 출력 (두가지 예외 사항을 따로 처리)\n",
    "while True:\n",
    "    try:\n",
    "        x = int(input(\"정수를 입력하세요> \"))\n",
    "        print(\"입력한 수: {}\".format(x))\n",
    "        print(\"100/{}={}\".format(x, 100/x))\n",
    "        break\n",
    "    except ValueError:\n",
    "        print(\"유효한 정수가 아닙니다\")\n",
    "    except ZeroDivisionError:\n",
    "        print(\"0으로는 나눌 수 없습니다. 0을 제외한 정수를 입력하세요\")\n",
    "    except Exception: #상위 예외 클래스는 하단에 적어야 함 \n",
    "        print(\"예외 별로 처리시 상위 예외 클래스는 하단에 기재해야 함\")"
   ]
  },
  {
   "cell_type": "code",
   "execution_count": 13,
   "metadata": {},
   "outputs": [
    {
     "name": "stdout",
     "output_type": "stream",
     "text": [
      "정수를 입력하세요> a\n",
      "문자나 실수, 0은 입력하실 수 없습니다. 다시 입력해주세요\n",
      "invalid literal for int() with base 10: 'a'\n",
      "정수를 입력하세요> 1.2\n",
      "문자나 실수, 0은 입력하실 수 없습니다. 다시 입력해주세요\n",
      "invalid literal for int() with base 10: '1.2'\n",
      "정수를 입력하세요> 0\n",
      "입력한 수: 0\n",
      "문자나 실수, 0은 입력하실 수 없습니다. 다시 입력해주세요\n",
      "division by zero\n",
      "정수를 입력하세요> 5\n",
      "입력한 수: 5\n",
      "100/5=20.0\n"
     ]
    }
   ],
   "source": [
    "#다중 예외 처리\n",
    "while True:\n",
    "    try:\n",
    "        x = int(input(\"정수를 입력하세요> \"))\n",
    "        print(\"입력한 수: {}\".format(x))\n",
    "        print(\"100/{}={}\".format(x, 100/x))\n",
    "        break\n",
    "    except(ZeroDivisionError, ValueError) as e: #예외 인수\n",
    "        print(\"문자나 실수, 0은 입력하실 수 없습니다. 다시 입력해주세요\")\n",
    "        print(e) #예외 인수로 에러 메시지 출력"
   ]
  },
  {
   "cell_type": "code",
   "execution_count": 14,
   "metadata": {},
   "outputs": [
    {
     "name": "stdout",
     "output_type": "stream",
     "text": [
      "정수를 입력하세요> 0\n",
      "입력한 수: 0\n",
      "다시 입력해주세요\n",
      "정수를 입력하세요> a\n",
      "다시 입력해주세요\n",
      "정수를 입력하세요> 5\n",
      "입력한 수: 5\n",
      "100/5=20.0\n"
     ]
    }
   ],
   "source": [
    "#다중 예외 처리\n",
    "while True:\n",
    "    try:\n",
    "        x = int(input(\"정수를 입력하세요> \"))\n",
    "        print(\"입력한 수: {}\".format(x))\n",
    "        print(\"100/{}={}\".format(x, 100/x))\n",
    "        break\n",
    "    except: #예외 이름 생략 가능\n",
    "        print(\"다시 입력해주세요\")"
   ]
  },
  {
   "cell_type": "markdown",
   "metadata": {},
   "source": [
    "**try ~ except ~ (else ~) finally**<br>\n",
    "- try블록에서 예외 발생시 except블록 실행. 예외 발생 안되면 else 블록 실행"
   ]
  },
  {
   "cell_type": "code",
   "execution_count": 15,
   "metadata": {},
   "outputs": [
    {
     "name": "stdout",
     "output_type": "stream",
     "text": [
      "ch08_Exception Handling (c)cherryuki(ji)\n",
      "\n",
      "jupyter notebook KR utf-8\n",
      "Hello, World\n",
      "Hello, Python\n",
      "\n"
     ]
    }
   ],
   "source": [
    "try:\n",
    "    f = open(\"data/ch08_hello.txt\", \"r\")\n",
    "    data = f.read()\n",
    "    print(data)\n",
    "except FileNotFoundError: #try 블록에 예외 발생시 실행\n",
    "    print(\"없는 파일입니다\")\n",
    "else: #try블록에 예외 발생 안할 경우 실행\n",
    "    data = f.read()\n",
    "    print(data)\n",
    "finally: #try 블록 예외 발생여부와 상관없이 반드시 실행\n",
    "    f.close()"
   ]
  },
  {
   "cell_type": "code",
   "execution_count": 17,
   "metadata": {},
   "outputs": [
    {
     "name": "stdout",
     "output_type": "stream",
     "text": [
      "파일이 없습니다\n"
     ]
    }
   ],
   "source": [
    "try:\n",
    "    f = open(\"data/ch08_bye.txt\", \"r\")\n",
    "    data = f.read()\n",
    "    print(data)\n",
    "except FileNotFoundError :\n",
    "    print(\"파일이 없습니다\")\n",
    "finally: #try 블록 예외 발생여부와 상관없이 반드시 실행\n",
    "    f.close()"
   ]
  },
  {
   "cell_type": "code",
   "execution_count": 19,
   "metadata": {},
   "outputs": [
    {
     "name": "stdout",
     "output_type": "stream",
     "text": [
      "정수를 입력하세요> a\n",
      "invalid literal for int() with base 10: 'a'\n",
      "invalid literal for int() with base 10: 'a'\n",
      "정수를 입력하세요> 0\n",
      "입력한 수: 0\n",
      "division by zero\n",
      "division by zero\n",
      "정수를 입력하세요> 2\n",
      "입력한 수: 2\n",
      "100/2=50.0\n"
     ]
    }
   ],
   "source": [
    "while True:\n",
    "    try:\n",
    "        x = int(input(\"정수를 입력하세요> \"))\n",
    "        print(\"입력한 수: {}\".format(x))\n",
    "        result = 100/x\n",
    "        print(\"100/{}={}\".format(x, result))\n",
    "        break\n",
    "    except(ValueError, ZeroDivisionError) as e:\n",
    "        print(e)\n",
    "        print(e.args[0]) #e.args가 튜플 형식이므로 e.args[0]을 이용해서 예외 메시지 출력"
   ]
  },
  {
   "cell_type": "markdown",
   "metadata": {},
   "source": [
    "# 3절. raise로 예외 발생시키기"
   ]
  },
  {
   "cell_type": "code",
   "execution_count": 20,
   "metadata": {},
   "outputs": [
    {
     "ename": "NameError",
     "evalue": "예외 발생",
     "output_type": "error",
     "traceback": [
      "\u001b[1;31m---------------------------------------------------------------------------\u001b[0m",
      "\u001b[1;31mNameError\u001b[0m                                 Traceback (most recent call last)",
      "\u001b[1;32m<ipython-input-20-6f02f14a2fac>\u001b[0m in \u001b[0;36m<module>\u001b[1;34m\u001b[0m\n\u001b[1;32m----> 1\u001b[1;33m \u001b[1;32mraise\u001b[0m \u001b[0mNameError\u001b[0m\u001b[1;33m(\u001b[0m\u001b[1;34m\"예외 발생\"\u001b[0m\u001b[1;33m)\u001b[0m\u001b[1;33m\u001b[0m\u001b[1;33m\u001b[0m\u001b[0m\n\u001b[0m",
      "\u001b[1;31mNameError\u001b[0m: 예외 발생"
     ]
    }
   ],
   "source": [
    "raise NameError(\"예외 발생\")"
   ]
  },
  {
   "cell_type": "code",
   "execution_count": 21,
   "metadata": {},
   "outputs": [],
   "source": [
    "def insert(data):\n",
    "    if len(data)==0:\n",
    "        raise Exception(\"빈 데이터라 입력할 수 없습니다\")\n",
    "    print(data, \"를 입력하였습니다\")"
   ]
  },
  {
   "cell_type": "code",
   "execution_count": 23,
   "metadata": {},
   "outputs": [
    {
     "name": "stdout",
     "output_type": "stream",
     "text": [
      "빈 데이터라 입력할 수 없습니다\n"
     ]
    }
   ],
   "source": [
    "try:\n",
    "    insert([])\n",
    "except Exception as e:\n",
    "    print(e.args[0])"
   ]
  },
  {
   "cell_type": "markdown",
   "metadata": {},
   "source": [
    "# 4절. raise를 이용해서 추상 클래스 정의하기\n",
    "- python은 추상클래스나 추상메소드를 위한 키워드 없으나 raise를 이용해서 추상 클래스 흉내낼 수 있음"
   ]
  },
  {
   "cell_type": "markdown",
   "metadata": {},
   "source": [
    "# 5절. 사용자 정의 예외"
   ]
  },
  {
   "cell_type": "code",
   "execution_count": 24,
   "metadata": {},
   "outputs": [],
   "source": [
    "class AbstractError(Exception):\n",
    "    \"추상 클래스를 이용하여 객체 생성시 발생하는 오류\"\n",
    "    def __init__(self):\n",
    "        Exception.__init__(self, \"Shape는 추상클래스여서 객체 생성 불가\")"
   ]
  },
  {
   "cell_type": "code",
   "execution_count": 25,
   "metadata": {},
   "outputs": [],
   "source": [
    "class Shape:\n",
    "    def __init__(self):\n",
    "        raise AbstractError()\n",
    "    def cal_area(self):\n",
    "        raise AbstractError()"
   ]
  },
  {
   "cell_type": "code",
   "execution_count": 26,
   "metadata": {},
   "outputs": [
    {
     "ename": "AbstractError",
     "evalue": "Shape는 추상클래스여서 객체 생성 불가",
     "output_type": "error",
     "traceback": [
      "\u001b[1;31m---------------------------------------------------------------------------\u001b[0m",
      "\u001b[1;31mAbstractError\u001b[0m                             Traceback (most recent call last)",
      "\u001b[1;32m<ipython-input-26-add4c52145cc>\u001b[0m in \u001b[0;36m<module>\u001b[1;34m\u001b[0m\n\u001b[1;32m----> 1\u001b[1;33m \u001b[0ms\u001b[0m \u001b[1;33m=\u001b[0m \u001b[0mShape\u001b[0m\u001b[1;33m(\u001b[0m\u001b[1;33m)\u001b[0m\u001b[1;33m\u001b[0m\u001b[1;33m\u001b[0m\u001b[0m\n\u001b[0m",
      "\u001b[1;32m<ipython-input-25-b0fadde501c5>\u001b[0m in \u001b[0;36m__init__\u001b[1;34m(self)\u001b[0m\n\u001b[0;32m      1\u001b[0m \u001b[1;32mclass\u001b[0m \u001b[0mShape\u001b[0m\u001b[1;33m:\u001b[0m\u001b[1;33m\u001b[0m\u001b[1;33m\u001b[0m\u001b[0m\n\u001b[0;32m      2\u001b[0m     \u001b[1;32mdef\u001b[0m \u001b[0m__init__\u001b[0m\u001b[1;33m(\u001b[0m\u001b[0mself\u001b[0m\u001b[1;33m)\u001b[0m\u001b[1;33m:\u001b[0m\u001b[1;33m\u001b[0m\u001b[1;33m\u001b[0m\u001b[0m\n\u001b[1;32m----> 3\u001b[1;33m         \u001b[1;32mraise\u001b[0m \u001b[0mAbstractError\u001b[0m\u001b[1;33m(\u001b[0m\u001b[1;33m)\u001b[0m\u001b[1;33m\u001b[0m\u001b[1;33m\u001b[0m\u001b[0m\n\u001b[0m\u001b[0;32m      4\u001b[0m     \u001b[1;32mdef\u001b[0m \u001b[0mcal_area\u001b[0m\u001b[1;33m(\u001b[0m\u001b[0mself\u001b[0m\u001b[1;33m)\u001b[0m\u001b[1;33m:\u001b[0m\u001b[1;33m\u001b[0m\u001b[1;33m\u001b[0m\u001b[0m\n\u001b[0;32m      5\u001b[0m         \u001b[1;32mraise\u001b[0m \u001b[0mAbstractError\u001b[0m\u001b[1;33m(\u001b[0m\u001b[1;33m)\u001b[0m\u001b[1;33m\u001b[0m\u001b[1;33m\u001b[0m\u001b[0m\n",
      "\u001b[1;31mAbstractError\u001b[0m: Shape는 추상클래스여서 객체 생성 불가"
     ]
    }
   ],
   "source": [
    "s = Shape()"
   ]
  },
  {
   "cell_type": "code",
   "execution_count": 27,
   "metadata": {},
   "outputs": [],
   "source": [
    "class Circle(Shape):\n",
    "    def __init__(self, r):\n",
    "        self.r = r\n",
    "    def cal_area(self):\n",
    "        return self.r**2*3.14"
   ]
  },
  {
   "cell_type": "code",
   "execution_count": 28,
   "metadata": {},
   "outputs": [],
   "source": [
    "c = Circle(3)"
   ]
  },
  {
   "cell_type": "code",
   "execution_count": 29,
   "metadata": {},
   "outputs": [
    {
     "data": {
      "text/plain": [
       "28.26"
      ]
     },
     "execution_count": 29,
     "metadata": {},
     "output_type": "execute_result"
    }
   ],
   "source": [
    "c.cal_area()"
   ]
  },
  {
   "cell_type": "markdown",
   "metadata": {},
   "source": [
    "# 6절. 파일 정리 작업"
   ]
  },
  {
   "cell_type": "code",
   "execution_count": 31,
   "metadata": {},
   "outputs": [
    {
     "name": "stdout",
     "output_type": "stream",
     "text": [
      "파일명> ch08_hello.txt\n",
      "['ch08_Exception Handling (c)cherryuki(ji)\\n', '\\n', 'jupyter notebook KR utf-8\\n', 'Hello, World\\n', 'Hello, Python']\n"
     ]
    }
   ],
   "source": [
    "filename = input(\"파일명> \")\n",
    "try:\n",
    "    f = open(\"data/\"+filename, 'r')\n",
    "    lines = f.readlines()\n",
    "    print(lines)\n",
    "except:\n",
    "    print(\"없는 파일입니다. 파일명을 확인해주세요\")\n",
    "finally:\n",
    "    f.close()"
   ]
  },
  {
   "cell_type": "code",
   "execution_count": 2,
   "metadata": {},
   "outputs": [
    {
     "name": "stdout",
     "output_type": "stream",
     "text": [
      "['ch08_Exception Handling (c)cherryuki(ji)\\n', '\\n', 'jupyter notebook KR utf-8\\n', 'Hello, World\\n', 'Hello, Python']\n"
     ]
    }
   ],
   "source": [
    "#with절 이후에는 파일 자동적으로 close()\n",
    "with open('data/ch08_hello.txt', 'r') as f:\n",
    "    lines=f.readlines()\n",
    "    print(lines)"
   ]
  },
  {
   "cell_type": "markdown",
   "metadata": {},
   "source": [
    "# 7절. 연습문제"
   ]
  },
  {
   "cell_type": "code",
   "execution_count": 3,
   "metadata": {},
   "outputs": [
    {
     "name": "stdout",
     "output_type": "stream",
     "text": [
      "첫번째 숫자: hello\n",
      "유효한 숫자가 아닙니다. 다시 시도하세요.\n",
      "첫번째 숫자: 10\n",
      "두번째 숫자: 0\n",
      "입력한 수는 10.0와 0.0입니다.\n",
      "유효한 숫자가 아닙니다. 다시 시도하세요.\n",
      "첫번째 숫자: 3.5\n",
      "두번째 숫자: 2\n",
      "입력한 수는 3.5와 2.0입니다.\n",
      "3.5을 2.0으로 나누면 1.75입니다.\n"
     ]
    }
   ],
   "source": [
    "#실습형1\n",
    "while True:\n",
    "    try:\n",
    "        num1 = float(input(\"첫번째 숫자: \"))\n",
    "        num2 = float(input(\"두번째 숫자: \"))\n",
    "        print(\"입력한 수는 {}와 {}입니다.\".format(num1, num2))\n",
    "        print(\"{}을 {}으로 나누면 {}입니다.\".format(num1, num2, round(num1/num2, 2)))\n",
    "        break\n",
    "    except:\n",
    "        print(\"유효한 숫자가 아닙니다. 다시 시도하세요.\")"
   ]
  },
  {
   "cell_type": "code",
   "execution_count": 4,
   "metadata": {},
   "outputs": [
    {
     "name": "stdout",
     "output_type": "stream",
     "text": [
      "첫번째 숫자: abc\n",
      "유효한 숫자가 아닙니다. 다시 시도하세요.\n",
      "첫번째 숫자: 1.2\n",
      "두번째 숫자: 0\n",
      "입력한 수는 1.2와 0.0입니다.\n",
      "0으로 나눌 수 없습니다. 다시 시도하세요.\n",
      "첫번째 숫자: 2.8\n",
      "두번째 숫자: 1.3\n",
      "입력한 수는 2.8와 1.3입니다.\n",
      "2.8을 1.3으로 나누면 2.15입니다.\n"
     ]
    }
   ],
   "source": [
    "#실습형2\n",
    "while True:\n",
    "    try:\n",
    "        num1 = float(input(\"첫번째 숫자: \"))\n",
    "        num2 = float(input(\"두번째 숫자: \"))\n",
    "        print(\"입력한 수는 {}와 {}입니다.\".format(num1, num2))\n",
    "        print(\"{}을 {}으로 나누면 {}입니다.\".format(num1, num2, round(num1/num2, 2)))\n",
    "        break\n",
    "    except ValueError:\n",
    "        print(\"유효한 숫자가 아닙니다. 다시 시도하세요.\")\n",
    "    except ZeroDivisionError:\n",
    "        print(\"0으로 나눌 수 없습니다. 다시 시도하세요.\")"
   ]
  },
  {
   "cell_type": "code",
   "execution_count": null,
   "metadata": {},
   "outputs": [],
   "source": [
    "#문제풀이형\n",
    "\"\"\"\n",
    "1) 예외처리에 대해 잘못 설명한 것: 3번 \n",
    " -> 상위 예외처리를 위한 except 블록은 하위 예외 처리 except 블록보다 하단에 선언되어야 함\n",
    "2) 예외처리에 대한 설명 중 잘못된 것: 2번\n",
    " -> 파이썬에선 catch가 아닌 except를 이용함 (catch는 자바)\n",
    "3) except절을 잘못 사용한 것은? 4번\n",
    " -> except Exception as e: (as e)는 생략 가능\n",
    "4) 예외처리에 사용하지 않는 구문? with\n",
    " -> with절 이후에는 파일 자동으로 닫힘\n",
    "\"\"\""
   ]
  }
 ],
 "metadata": {
  "kernelspec": {
   "display_name": "Python 3",
   "language": "python",
   "name": "python3"
  },
  "language_info": {
   "codemirror_mode": {
    "name": "ipython",
    "version": 3
   },
   "file_extension": ".py",
   "mimetype": "text/x-python",
   "name": "python",
   "nbconvert_exporter": "python",
   "pygments_lexer": "ipython3",
   "version": "3.8.5"
  }
 },
 "nbformat": 4,
 "nbformat_minor": 4
}
