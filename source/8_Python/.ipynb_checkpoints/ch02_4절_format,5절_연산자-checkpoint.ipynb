{
 "cells": [
  {
   "cell_type": "markdown",
   "metadata": {},
   "source": [
    "#### 21-02-22 python  02_자료형과 연산자               (c)cherryuki (ji)"
   ]
  },
  {
   "cell_type": "markdown",
   "metadata": {},
   "source": [
    "<b><font size=\"5\" color=\"red\">ch02. 자료형과 연산자</font><b>"
   ]
  },
  {
   "cell_type": "markdown",
   "metadata": {},
   "source": [
    "# 04절. 포맷팅\n",
    "- 포맷팅: 문자, 숫자, 날짜 데이터에 출력 형식을 지정하는 것\n",
    "- 변수와 텍스트를 결합해서 보기 좋은 형식의 새로운 텍스트를 만들 때 사용"
   ]
  },
  {
   "cell_type": "markdown",
   "metadata": {},
   "source": [
    "# 4.1 문자열에 형식 지정"
   ]
  },
  {
   "cell_type": "code",
   "execution_count": 4,
   "metadata": {},
   "outputs": [
    {
     "name": "stdout",
     "output_type": "stream",
     "text": [
      "공지철님의 나이는 43세 입니다\n"
     ]
    }
   ],
   "source": [
    "name = '공지철'\n",
    "age = 43\n",
    "print(name, '님의 나이는 ', age,'세 입니다', sep='')\n",
    "#변수와 텍스트를 벌갈아 사용해서 형식을 지정하는 것은 가독성이 떨어지고 코드 작성하기 불편"
   ]
  },
  {
   "cell_type": "markdown",
   "metadata": {},
   "source": [
    "- 이전 스타일\n",
    "- %s: 문자열, %c: 문자, %d: 정수, %f: 실수, %x: 16진수, %o:8진수, %%:문자 %"
   ]
  },
  {
   "cell_type": "code",
   "execution_count": 5,
   "metadata": {},
   "outputs": [
    {
     "name": "stdout",
     "output_type": "stream",
     "text": [
      "공지철님의 나이는 43세 입니다\n"
     ]
    },
    {
     "data": {
      "text/plain": [
       "'공지철님의 나이는 43세 입니다'"
      ]
     },
     "execution_count": 5,
     "metadata": {},
     "output_type": "execute_result"
    }
   ],
   "source": [
    "print('%s님의 나이는 %d세 입니다'%(name, age))\n",
    "'%s님의 나이는 %d세 입니다'%(name, age)"
   ]
  },
  {
   "cell_type": "markdown",
   "metadata": {},
   "source": [
    "- 새로운 스타일\n",
    "- \"{}\".format()"
   ]
  },
  {
   "cell_type": "code",
   "execution_count": 6,
   "metadata": {},
   "outputs": [
    {
     "data": {
      "text/plain": [
       "'공지철님의 나이는 43세 입니다'"
      ]
     },
     "execution_count": 6,
     "metadata": {},
     "output_type": "execute_result"
    }
   ],
   "source": [
    "\"{}님의 나이는 {}세 입니다\".format(name, age)"
   ]
  },
  {
   "cell_type": "code",
   "execution_count": 7,
   "metadata": {},
   "outputs": [
    {
     "data": {
      "text/plain": [
       "'공지철님의 나이는 43세 입니다'"
      ]
     },
     "execution_count": 7,
     "metadata": {},
     "output_type": "execute_result"
    }
   ],
   "source": [
    "\"{1}님의 나이는 {0}세 입니다\".format(age, name)"
   ]
  },
  {
   "cell_type": "markdown",
   "metadata": {},
   "source": [
    "## 4.2 format()함수 문법\n",
    "<font color=\"red\">'{[인덱스]:[공백 대체 문자][정렬 방법][자릿수][타입]}'.format(변수명)</font>\n",
    "\n",
    "- 인덱스: 출력할 인수의 인덱스(순서)\n",
    "- 정렬 방법: < 왼쪽 정렬, > 오른쪽 정렬, ^ 가운데 정렬\n",
    "- 자릿수: 출력할 자릿수 지정. 변수보다 적은 자릿수가 지정될 경우 무시되고 변수 출력\n",
    "- 타입: d 10진수, f 실수, s 문자, b 2진수, o 8진수, x 16진수"
   ]
  },
  {
   "cell_type": "code",
   "execution_count": 9,
   "metadata": {},
   "outputs": [
    {
     "name": "stdout",
     "output_type": "stream",
     "text": [
      "이름은? 공유\n",
      "나이는? 43\n",
      "공유님의 나이는 43세입니다\n",
      "공유님의 나이는 43세입니다\n"
     ]
    }
   ],
   "source": [
    "name = input('이름은? ')\n",
    "age=int(input('나이는? '))\n",
    "print('{}님의 나이는 {}세입니다'.format(name, age))\n",
    "print('{1}님의 나이는 {0}세입니다'.format(age, name)) #인덱스는 순서 지정"
   ]
  },
  {
   "cell_type": "code",
   "execution_count": 10,
   "metadata": {},
   "outputs": [
    {
     "name": "stdout",
     "output_type": "stream",
     "text": [
      "43세 공유님은 43살이 참 좋은 것을 안다\n"
     ]
    }
   ],
   "source": [
    "print(\"{0}세 {1}님은 {0}살이 참 좋은 것을 안다\".format(age, name))"
   ]
  },
  {
   "cell_type": "code",
   "execution_count": 11,
   "metadata": {},
   "outputs": [
    {
     "name": "stdout",
     "output_type": "stream",
     "text": [
      "출력: 10, 20\n"
     ]
    }
   ],
   "source": [
    "#{}만 쓸 경우 변수의 수보다 {}개수가 적으면 오류\n",
    "a, b = 10, 20\n",
    "print('출력: {}, {}'.format(a,b))"
   ]
  },
  {
   "cell_type": "markdown",
   "metadata": {},
   "source": [
    "<자릿수 지정>\n",
    "- 숫자의 경우 출력할 변수보다 큰 자릿수를 지정하면 오른쪽 정렬(기본값)\n",
    "- 문자의 경우 출력할 변수보다 큰 자릿수를 지정하면 왼쪽 정렬(기본값)\n",
    "- 변수보다 작은 자릿수를 지정하면 자릿수 지정이 무시되고 변수 출력"
   ]
  },
  {
   "cell_type": "code",
   "execution_count": 12,
   "metadata": {},
   "outputs": [
    {
     "name": "stdout",
     "output_type": "stream",
     "text": [
      "출력: [12345], [     12345], [12345]\n",
      "출력: [Hello], [Hello     ], [Hello]\n"
     ]
    }
   ],
   "source": [
    "a = 12345\n",
    "b = 'Hello'\n",
    "print(\"출력: [{}], [{:10}], [{:3}]\".format(a,a,a))\n",
    "print(\"출력: [{}], [{:10}], [{:3}]\".format(b,b,b))"
   ]
  },
  {
   "cell_type": "code",
   "execution_count": 13,
   "metadata": {},
   "outputs": [
    {
     "name": "stdout",
     "output_type": "stream",
     "text": [
      "출력\n",
      "10진수(정수): 12345, 실수: 12345.000000,\n",
      "2진수: 11000000111001, 8진수: 30071, 16진수: 3039\n",
      "\n"
     ]
    }
   ],
   "source": [
    "a = 12345 #숫자의 경우 다양한 진수로 표현\n",
    "print(\"\"\"출력\n",
    "10진수(정수): {:d}, 실수: {:f},\n",
    "2진수: {:b}, 8진수: {:o}, 16진수: {:x}\n",
    "\"\"\".format(a, a, a, a, a))"
   ]
  },
  {
   "cell_type": "markdown",
   "metadata": {},
   "source": [
    "- 정렬방법: <, >, ^\n",
    "- '{[인덱스]:[공백대체문자][정렬방법][자릿수][타입]}'.format(변수명)"
   ]
  },
  {
   "cell_type": "code",
   "execution_count": 16,
   "metadata": {},
   "outputs": [
    {
     "name": "stdout",
     "output_type": "stream",
     "text": [
      "출력: [10    ], [    20], [  3   ]\n"
     ]
    }
   ],
   "source": [
    "a, b, c = 10, 20, 3\n",
    "print(\"출력: [{:<6d}], [{:>6}], [{:^6}]\".format(a,b,c))"
   ]
  },
  {
   "cell_type": "code",
   "execution_count": 17,
   "metadata": {},
   "outputs": [
    {
     "name": "stdout",
     "output_type": "stream",
     "text": [
      "출력: [$$$$$$$$10], [Hello***************], [Hel_______]\n"
     ]
    }
   ],
   "source": [
    "#인덱스: 공백대체문자 정렬방법 자릿수 타입\n",
    "a = 10\n",
    "s = \"Hello\"\n",
    "print(\"출력: [{0:$>10}], [{1:*<20}], [{1:_<10.3}]\".format(a,s))\n",
    "                                      #10.3: 전체 10자리 확보, 변수는 3자리만 출력"
   ]
  },
  {
   "cell_type": "code",
   "execution_count": 21,
   "metadata": {},
   "outputs": [
    {
     "ename": "ValueError",
     "evalue": "Invalid format specifier",
     "output_type": "error",
     "traceback": [
      "\u001b[1;31m---------------------------------------------------------------------------\u001b[0m",
      "\u001b[1;31mValueError\u001b[0m                                Traceback (most recent call last)",
      "\u001b[1;32m<ipython-input-21-5ccb5be50cac>\u001b[0m in \u001b[0;36m<module>\u001b[1;34m\u001b[0m\n\u001b[0;32m      1\u001b[0m \u001b[1;31m#주의점: 공백 대체 문자를 지정할 때는 반드시 정렬 방법, 자릿수를 기재해야 한다\u001b[0m\u001b[1;33m\u001b[0m\u001b[1;33m\u001b[0m\u001b[1;33m\u001b[0m\u001b[0m\n\u001b[1;32m----> 2\u001b[1;33m \u001b[0mprint\u001b[0m\u001b[1;33m(\u001b[0m\u001b[1;34m\"{0:$10} / {1:*20}\"\u001b[0m\u001b[1;33m.\u001b[0m\u001b[0mformat\u001b[0m\u001b[1;33m(\u001b[0m\u001b[0ma\u001b[0m\u001b[1;33m,\u001b[0m\u001b[0ms\u001b[0m\u001b[1;33m)\u001b[0m\u001b[1;33m)\u001b[0m\u001b[1;33m\u001b[0m\u001b[1;33m\u001b[0m\u001b[0m\n\u001b[0m",
      "\u001b[1;31mValueError\u001b[0m: Invalid format specifier"
     ]
    }
   ],
   "source": [
    "#주의점: 공백 대체 문자를 지정할 때는 반드시 정렬 방법, 자릿수를 기재해야 한다\n",
    "print(\"{0:$10} / {1:*20}\".format(a,s))"
   ]
  },
  {
   "cell_type": "code",
   "execution_count": 22,
   "metadata": {},
   "outputs": [
    {
     "name": "stdout",
     "output_type": "stream",
     "text": [
      "출력: [ -123] [  123] [  123]\n"
     ]
    }
   ],
   "source": [
    "a, b = 123, -123\n",
    "print('출력: [{:5}] [{:5}] [{:5}]'.format(b,a,a))"
   ]
  },
  {
   "cell_type": "markdown",
   "metadata": {},
   "source": [
    "- +를 붙이면 양수의 경우 숫자 앞에 부호 붙여줌\n",
    "- =를 붙이면 전체 자릿수만큼 출력하는 문자의 맨 앞에 부호 표시(양수는 부호 나타나지 않음)\n",
    "- =+를 사용하면 양수, 음수 모두 붙여줌(자릿수 맨 앞자리)\n",
    "- 자릿수 앞에 0을 넣으면 빈자리에 0을 채움\n",
    "- 공백대체문자는 = 앞에 기재\n",
    "- 공백 대체 문자와 자릿수 앞에 0 기재를 같이 하면 자릿수 앞에 0이 무시됨(공백 대체 문자가 우선순위 높음)"
   ]
  },
  {
   "cell_type": "code",
   "execution_count": 24,
   "metadata": {},
   "outputs": [
    {
     "name": "stdout",
     "output_type": "stream",
     "text": [
      "출력: [      -123] [      +123] [+000000123]\n",
      "출력: [-      123] [       123] [0000000123]\n",
      "출력: [-      123] [+      123] [+000000123]\n",
      "출력: [-      123] [+      123] [+000000123]\n",
      "출력: [-******123] [+$$$$$$123] [+______123]\n"
     ]
    }
   ],
   "source": [
    "a, b = 123, -123\n",
    "print(\"출력: [{:+10}] [{:+10}] [{:+010}]\".format(b, a, a))\n",
    "print(\"출력: [{:=10}] [{:=10}] [{:=010}]\".format(b, a, a))\n",
    "print(\"출력: [{:=+10}] [{:=+10}] [{:=+010}]\".format(b, a, a))\n",
    "print(\"출력: [{:=+10}] [{:=+10}] [{:=+010}]\".format(b, a, a))\n",
    "\n",
    "print(\"출력: [{:*=+10}] [{:$=+10}] [{:_=+010}]\".format(b, a, a))"
   ]
  },
  {
   "cell_type": "code",
   "execution_count": 27,
   "metadata": {},
   "outputs": [
    {
     "name": "stdout",
     "output_type": "stream",
     "text": [
      "  [0123456789]\n",
      "a=[       2.8]\n",
      "s=[        He]\n"
     ]
    }
   ],
   "source": [
    "#전체 자릿수. 표현될 자릿수\n",
    "a = 2.785\n",
    "s = 'Hello'\n",
    "print(\"  [0123456789]\")\n",
    "print(\"a=[{:>10.2}]\".format(a))\n",
    "print(\"s=[{:>10.2}]\".format(s))"
   ]
  },
  {
   "cell_type": "code",
   "execution_count": 28,
   "metadata": {},
   "outputs": [
    {
     "name": "stdout",
     "output_type": "stream",
     "text": [
      "a=[ 2.8]\n"
     ]
    }
   ],
   "source": [
    "#전체 자릿수. 소수점 자리수f (전체 자릿수에는 소수점 포함)\n",
    "print(\"a=[{:4.1f}]\".format(a)) #_ _ . _"
   ]
  },
  {
   "cell_type": "code",
   "execution_count": 30,
   "metadata": {},
   "outputs": [
    {
     "name": "stdout",
     "output_type": "stream",
     "text": [
      "출력: [0123456789]\n",
      "출력: [     +2.79]\n",
      "출력: [     +2.79]\n"
     ]
    }
   ],
   "source": [
    "#format 함수의 매개 변수에 출력 포맷\n",
    "a = 2.785\n",
    "print(\"출력: [0123456789]\")\n",
    "print(\"출력: [{:>+10.3}]\".format(a))\n",
    "print(\"출력: [{:{}{}{}.{}}]\".format(a,'>','+', 10, 3))"
   ]
  },
  {
   "cell_type": "code",
   "execution_count": 31,
   "metadata": {},
   "outputs": [
    {
     "name": "stdout",
     "output_type": "stream",
     "text": [
      "출력: [0123456789]\n",
      "출력: [     +2.79]\n",
      "출력: [     +2.79]\n"
     ]
    }
   ],
   "source": [
    "#가독성읖 높이고자 포맷인자에 이름 부여\n",
    "a=2.785\n",
    "print(\"출력: [0123456789]\")\n",
    "print(\"출력: [{:>+10.3}]\".format(a))\n",
    "print(\"출력: [{:{div}{sign}{width}.{precision}}]\".format(a, \n",
    "                div='>', sign='+', width=10, precision=3))"
   ]
  },
  {
   "cell_type": "code",
   "execution_count": 32,
   "metadata": {},
   "outputs": [
    {
     "name": "stdout",
     "output_type": "stream",
     "text": [
      "10진수: [      15]\n",
      " 2진수: [00001111]\n",
      " 8진수: [00000017]\n",
      "16진수: [0f]\n"
     ]
    }
   ],
   "source": [
    "a=15\n",
    "print(\"10진수: [{:8d}]\".format(a))\n",
    "print(\" 2진수: [{:08b}]\".format(a))\n",
    "print(\" 8진수: [{:08o}]\".format(a))\n",
    "print(\"16진수: [{:02x}]\".format(a))"
   ]
  },
  {
   "cell_type": "markdown",
   "metadata": {},
   "source": [
    "# 4.3 날짜 출력\n",
    "- %Y: 연도4자리(2021), %y: 연도2자리(21), %m: 월(02), %d: 일(22)\n",
    "- %H: 24시간, %I: 12시간, %p: AM, PM, %M: 분, %S: 초"
   ]
  },
  {
   "cell_type": "code",
   "execution_count": 33,
   "metadata": {},
   "outputs": [
    {
     "data": {
      "text/plain": [
       "time.struct_time(tm_year=2021, tm_mon=2, tm_mday=22, tm_hour=22, tm_min=17, tm_sec=2, tm_wday=0, tm_yday=53, tm_isdst=0)"
      ]
     },
     "execution_count": 33,
     "metadata": {},
     "output_type": "execute_result"
    }
   ],
   "source": [
    "from time import localtime #time패키지에서 localtiom 함수 사용\n",
    "now=localtime()\n",
    "now #현재 날짜와 시간"
   ]
  },
  {
   "cell_type": "code",
   "execution_count": 35,
   "metadata": {},
   "outputs": [
    {
     "name": "stdout",
     "output_type": "stream",
     "text": [
      "2021-02-22 22:17:02\n",
      "2021년 02월 22일 PM 10:17:02\n"
     ]
    }
   ],
   "source": [
    "#날짜를 문자열로 출력하기 위해 strftime()함수 이용\n",
    "from time import strftime\n",
    "print(strftime('%Y-%m-%d %H:%M:%S', now))\n",
    "print(strftime('%Y년 %m월 %d일 %p %I:%M:%S', now))"
   ]
  },
  {
   "cell_type": "code",
   "execution_count": 36,
   "metadata": {},
   "outputs": [
    {
     "data": {
      "text/plain": [
       "datetime.datetime(2021, 4, 30, 18, 20)"
      ]
     },
     "execution_count": 36,
     "metadata": {},
     "output_type": "execute_result"
    }
   ],
   "source": [
    "#format함수 이용\n",
    "from datetime import datetime\n",
    "thatday=datetime(2021,4,30,18,20,0)\n",
    "thatday"
   ]
  },
  {
   "cell_type": "code",
   "execution_count": 37,
   "metadata": {},
   "outputs": [
    {
     "name": "stdout",
     "output_type": "stream",
     "text": [
      "2021년 04월 30일 18시 20분 00초\n",
      "2021년 04월 30일 PM 06시 20분 00초\n"
     ]
    }
   ],
   "source": [
    "print('{:%Y년 %m월 %d일 %H시 %M분 %S초}'.format(thatday))\n",
    "print(\"{:%Y년 %m월 %d일 %p %I시 %M분 %S초}\".format(thatday))"
   ]
  },
  {
   "cell_type": "code",
   "execution_count": 39,
   "metadata": {},
   "outputs": [
    {
     "name": "stdout",
     "output_type": "stream",
     "text": [
      "Hello, 한지민. You are 39years old.\n",
      "Hello, 한지민. You are 39yaers old.\n",
      "Hello, 한지민. You are 39years old.\n"
     ]
    }
   ],
   "source": [
    "name=\"한지민\"\n",
    "age=39\n",
    "print(f\"Hello, {name}. You are {age}years old.\")\n",
    "print(\"Hello, %s. You are %dyaers old.\"%(name, age))\n",
    "print(\"Hello, {}. You are {}years old.\".format(name, age))"
   ]
  },
  {
   "cell_type": "markdown",
   "metadata": {},
   "source": [
    "# 05절. 연산자"
   ]
  },
  {
   "cell_type": "markdown",
   "metadata": {},
   "source": [
    "## 5.1 산술 연산자"
   ]
  },
  {
   "cell_type": "code",
   "execution_count": 40,
   "metadata": {},
   "outputs": [
    {
     "name": "stdout",
     "output_type": "stream",
     "text": [
      "1000\n",
      "3\n",
      "3.3333333333333335\n",
      "3.0\n"
     ]
    }
   ],
   "source": [
    "a = 10\n",
    "print(a**3) #a의 3제곱\n",
    "print(a//3) #a 나누기 3의 몫\n",
    "print(a/3) #3.3333\n",
    "print(9/3) #3.0 (파이썬에서 나눗셈 연산의 결과는 항상 실수)"
   ]
  },
  {
   "cell_type": "code",
   "execution_count": 41,
   "metadata": {},
   "outputs": [
    {
     "name": "stdout",
     "output_type": "stream",
     "text": [
      "1.0\n"
     ]
    }
   ],
   "source": [
    "print(10.0%3.0) #실수끼리 나머지 연산"
   ]
  },
  {
   "cell_type": "code",
   "execution_count": 42,
   "metadata": {},
   "outputs": [
    {
     "name": "stdout",
     "output_type": "stream",
     "text": [
      "0.19999999999999996\n"
     ]
    }
   ],
   "source": [
    "print(3.8%1.2) #실수끼리 나머지 연산시 결과 다소 오차가 존재할 수 있음"
   ]
  },
  {
   "cell_type": "markdown",
   "metadata": {},
   "source": [
    "## 5.2 대입 연산자\n",
    "- =, +-, -=, *=, **=, /=, //=, %= 등"
   ]
  },
  {
   "cell_type": "code",
   "execution_count": 44,
   "metadata": {},
   "outputs": [
    {
     "data": {
      "text/plain": [
       "5"
      ]
     },
     "execution_count": 44,
     "metadata": {},
     "output_type": "execute_result"
    }
   ],
   "source": [
    "a = 10\n",
    "a //= 2 #a=a//2\n",
    "a"
   ]
  },
  {
   "cell_type": "markdown",
   "metadata": {},
   "source": [
    "## 5.3 논리 연산자\n",
    "- &, |, not, and, or"
   ]
  },
  {
   "cell_type": "code",
   "execution_count": 46,
   "metadata": {},
   "outputs": [
    {
     "name": "stdout",
     "output_type": "stream",
     "text": [
      "True\n",
      "0\n",
      "True\n"
     ]
    }
   ],
   "source": [
    "print((10>3)&(10>5)) #논리 연산자: True&True=Ture\n",
    "print((12&1))        #비트 연산: 1100&0001 (2진수로 변환하여 연산)\n",
    "print(5<8<10<100)    #논리연산자 3항 이상에서도 사용 가능"
   ]
  },
  {
   "cell_type": "code",
   "execution_count": 47,
   "metadata": {},
   "outputs": [
    {
     "name": "stdout",
     "output_type": "stream",
     "text": [
      "False\n"
     ]
    }
   ],
   "source": [
    "print(10>3 & 10>5) #비트 연산자가 논리, 비교 연산보다 우선 순위 높음\n",
    "#       0011 & 1010 = 0010 (2)\n",
    "#print(10>2>5)이므로 False"
   ]
  },
  {
   "cell_type": "code",
   "execution_count": 48,
   "metadata": {},
   "outputs": [
    {
     "name": "stdout",
     "output_type": "stream",
     "text": [
      "빈 스트링은 False\n"
     ]
    }
   ],
   "source": [
    "#''(빈 스트링):False, 그 외:True\n",
    "if'':\n",
    "    print('빈 스트링은 True')\n",
    "else:\n",
    "    print('빈 스트링은 False')"
   ]
  },
  {
   "cell_type": "code",
   "execution_count": 49,
   "metadata": {},
   "outputs": [
    {
     "ename": "TypeError",
     "evalue": "unsupported operand type(s) for |: 'bool' and 'str'",
     "output_type": "error",
     "traceback": [
      "\u001b[1;31m---------------------------------------------------------------------------\u001b[0m",
      "\u001b[1;31mTypeError\u001b[0m                                 Traceback (most recent call last)",
      "\u001b[1;32m<ipython-input-49-a2610fe1708e>\u001b[0m in \u001b[0;36m<module>\u001b[1;34m\u001b[0m\n\u001b[0;32m      1\u001b[0m \u001b[1;31m#논리 연산자에 문자열이 오면 에러\u001b[0m\u001b[1;33m\u001b[0m\u001b[1;33m\u001b[0m\u001b[1;33m\u001b[0m\u001b[0m\n\u001b[1;32m----> 2\u001b[1;33m \u001b[1;32mTrue\u001b[0m \u001b[1;33m|\u001b[0m \u001b[1;34m''\u001b[0m\u001b[1;33m\u001b[0m\u001b[1;33m\u001b[0m\u001b[0m\n\u001b[0m",
      "\u001b[1;31mTypeError\u001b[0m: unsupported operand type(s) for |: 'bool' and 'str'"
     ]
    }
   ],
   "source": [
    "#논리 연산자에 문자열이 오면 에러\n",
    "True | ''"
   ]
  },
  {
   "cell_type": "code",
   "execution_count": 50,
   "metadata": {},
   "outputs": [
    {
     "data": {
      "text/plain": [
       "True"
      ]
     },
     "execution_count": 50,
     "metadata": {},
     "output_type": "execute_result"
    }
   ],
   "source": [
    "True | bool('')"
   ]
  },
  {
   "cell_type": "code",
   "execution_count": 53,
   "metadata": {},
   "outputs": [],
   "source": [
    "#주피터 노트북에서는 !명령행을 실행시킬 수 있음\n",
    "!dir"
   ]
  },
  {
   "cell_type": "code",
   "execution_count": 52,
   "metadata": {},
   "outputs": [
    {
     "data": {
      "text/plain": [
       "False"
      ]
     },
     "execution_count": 52,
     "metadata": {},
     "output_type": "execute_result"
    }
   ],
   "source": [
    "#논리의 반전은 !이 아닌 not(cf. 다르다: !=)\n",
    "not True"
   ]
  },
  {
   "cell_type": "code",
   "execution_count": 54,
   "metadata": {},
   "outputs": [
    {
     "data": {
      "text/plain": [
       "True"
      ]
     },
     "execution_count": 54,
     "metadata": {},
     "output_type": "execute_result"
    }
   ],
   "source": [
    "not 0 #0은 False, 그 외 숫자는 True"
   ]
  },
  {
   "cell_type": "code",
   "execution_count": 55,
   "metadata": {},
   "outputs": [
    {
     "data": {
      "text/plain": [
       "False"
      ]
     },
     "execution_count": 55,
     "metadata": {},
     "output_type": "execute_result"
    }
   ],
   "source": [
    "not -999"
   ]
  },
  {
   "cell_type": "code",
   "execution_count": 57,
   "metadata": {},
   "outputs": [
    {
     "name": "stdout",
     "output_type": "stream",
     "text": [
      "False\n"
     ]
    }
   ],
   "source": [
    "a = False\n",
    "if not a:\n",
    "    print(a)"
   ]
  },
  {
   "cell_type": "code",
   "execution_count": 58,
   "metadata": {},
   "outputs": [
    {
     "name": "stdout",
     "output_type": "stream",
     "text": [
      "두 수는 다르다\n"
     ]
    }
   ],
   "source": [
    "a, b = 15, 16\n",
    "if a!=b:\n",
    "    print(\"두 수는 다르다\")\n",
    "else :\n",
    "    print(\"두 수는 같다\")"
   ]
  },
  {
   "cell_type": "markdown",
   "metadata": {},
   "source": [
    "- and 연산자: 거짓으로 판별되는 첫번째 항의 결과가 반환\n",
    "-           모든 항이 참이면 마지막 항의 결과 반환"
   ]
  },
  {
   "cell_type": "code",
   "execution_count": 59,
   "metadata": {},
   "outputs": [
    {
     "name": "stdout",
     "output_type": "stream",
     "text": [
      "0\n",
      "0\n",
      "0\n",
      "True\n",
      "2\n"
     ]
    }
   ],
   "source": [
    "print(True and 3 and 0)\n",
    "print(True and 0 and 3)\n",
    "print(True and 0 and 3 and False)\n",
    "print(True and 3 and True)\n",
    "print(3 and 2)"
   ]
  },
  {
   "cell_type": "code",
   "execution_count": 60,
   "metadata": {},
   "outputs": [
    {
     "name": "stdout",
     "output_type": "stream",
     "text": [
      "Python\n",
      "0\n",
      "0\n"
     ]
    }
   ],
   "source": [
    "print(3 and 5.4 and True and 'Hello' and 'Python')\n",
    "print(3 and 5.4 and True and 0 and 'Python')\n",
    "print(3 and 5.4 and True and -0 and 'Python')"
   ]
  },
  {
   "cell_type": "markdown",
   "metadata": {},
   "source": [
    "- or 연산자: 참으로 판별되는 첫번째 항의 결과가 반환\n",
    "- 모든 항이 거짓이면 마지막 항의 결과 반환"
   ]
  },
  {
   "cell_type": "code",
   "execution_count": 61,
   "metadata": {},
   "outputs": [
    {
     "name": "stdout",
     "output_type": "stream",
     "text": [
      "0\n",
      "100\n"
     ]
    }
   ],
   "source": [
    "print('' or False or None or 0)\n",
    "print('' or 100 or None or False)"
   ]
  },
  {
   "cell_type": "markdown",
   "metadata": {},
   "source": [
    "# 5.4 비교 연산자\n",
    "<span> >, >=, <, <=, ==, != </span>\n",
    "- 문자는 ASCII코드 순으로 비교: 특수문자 < '숫자' < 대문자 < 소문자 <한글"
   ]
  },
  {
   "cell_type": "code",
   "execution_count": 62,
   "metadata": {},
   "outputs": [
    {
     "data": {
      "text/plain": [
       "False"
      ]
     },
     "execution_count": 62,
     "metadata": {},
     "output_type": "execute_result"
    }
   ],
   "source": [
    "'아'>'하'"
   ]
  },
  {
   "cell_type": "code",
   "execution_count": 64,
   "metadata": {},
   "outputs": [
    {
     "data": {
      "text/plain": [
       "True"
      ]
     },
     "execution_count": 64,
     "metadata": {},
     "output_type": "execute_result"
    }
   ],
   "source": [
    "'1' < 'a'"
   ]
  },
  {
   "cell_type": "code",
   "execution_count": 65,
   "metadata": {},
   "outputs": [
    {
     "data": {
      "text/plain": [
       "True"
      ]
     },
     "execution_count": 65,
     "metadata": {},
     "output_type": "execute_result"
    }
   ],
   "source": [
    "True > False #Ture:1, False:0으로 매핑(간주)"
   ]
  },
  {
   "cell_type": "code",
   "execution_count": 66,
   "metadata": {},
   "outputs": [
    {
     "data": {
      "text/plain": [
       "(1, 0)"
      ]
     },
     "execution_count": 66,
     "metadata": {},
     "output_type": "execute_result"
    }
   ],
   "source": [
    "int(True), int(False)"
   ]
  },
  {
   "cell_type": "code",
   "execution_count": 67,
   "metadata": {},
   "outputs": [
    {
     "data": {
      "text/plain": [
       "(False, True)"
      ]
     },
     "execution_count": 67,
     "metadata": {},
     "output_type": "execute_result"
    }
   ],
   "source": [
    "bool(0), bool(-9)"
   ]
  },
  {
   "cell_type": "code",
   "execution_count": 68,
   "metadata": {},
   "outputs": [
    {
     "name": "stdout",
     "output_type": "stream",
     "text": [
      "점수를 입력하세요 90\n",
      "합격\n"
     ]
    }
   ],
   "source": [
    "score = int(input('점수를 입력하세요 ')) #입력한 수는 문자로 반환\n",
    "if score > 60:\n",
    "    print('합격') #문자로 비교할 경우 두 수의 자릿수가 다를경우 제대로 비교X\n",
    "else:\n",
    "    print('불합격')"
   ]
  },
  {
   "cell_type": "markdown",
   "metadata": {},
   "source": [
    "## 5.5 비트 연산자\n",
    "- &: 비트가 모두 1이면 1\n",
    "- |: 하나 이상 1이면 1\n",
    "- ^(XOR): 같으면 0, 다르면 1"
   ]
  },
  {
   "cell_type": "code",
   "execution_count": 70,
   "metadata": {},
   "outputs": [],
   "source": [
    "a = '''\n",
    "x  y  x&y  x|y  x^y(XOR)\n",
    "0  0   0    0    0\n",
    "0  1   0    1    1\n",
    "1  0   0    1    1\n",
    "1  1   1    1    0\n",
    "'''"
   ]
  },
  {
   "cell_type": "code",
   "execution_count": 71,
   "metadata": {},
   "outputs": [
    {
     "name": "stdout",
     "output_type": "stream",
     "text": [
      "00001111\n",
      "00000010\n",
      "a&b: 2\n",
      "a|b: 15\n",
      "a^b: 13\n"
     ]
    }
   ],
   "source": [
    "a = 15 # 0 0 0 0 1 1 1 1\n",
    "b = 2  # 0 0 0 0 0 0 1 0\n",
    "print(\"{:08b}\".format(a))\n",
    "print(\"{:08b}\".format(b))\n",
    "print('a&b:', a&b) # 0 0 0 0 0 0 1 0 (2)\n",
    "print('a|b:', a|b) # 0 0 0 0 1 1 1 1 (15)\n",
    "print('a^b:', a^b) # 0 0 0 0 1 1 0 1 (13)"
   ]
  },
  {
   "cell_type": "code",
   "execution_count": 72,
   "metadata": {},
   "outputs": [
    {
     "name": "stdout",
     "output_type": "stream",
     "text": [
      "3\n",
      "60\n"
     ]
    }
   ],
   "source": [
    "#shift\n",
    "# A >> B ; A를 Bbit 오른쪽으로 이동(A를 2의B승으로 나눈 몫과 동일)\n",
    "# A << B ; A를 Bbit 왼쪽으로 이동(A를 2의B승 곱한 것과 동일)\n",
    "a = 15 # 1 1 1 1 \n",
    "print(a >> 2) #a를 오른쪽으로 2bit 이동 # 1 1 (3)\n",
    "print(a << 2) #a를 왼쪽으로 2bit 이동 # 1 1 1 1 0 0 (60)"
   ]
  },
  {
   "cell_type": "code",
   "execution_count": 73,
   "metadata": {},
   "outputs": [
    {
     "name": "stdout",
     "output_type": "stream",
     "text": [
      "-16\n"
     ]
    }
   ],
   "source": [
    "#not: 논리 연산자의 반전 ~비트 연산의 반전\n",
    "print(~a) # 0 1 1 1 1 => - 1 0 0 0 0 (음수는 2의 보수 취함)"
   ]
  },
  {
   "cell_type": "markdown",
   "metadata": {},
   "source": [
    "## 5.6 isinstance\n",
    "- isinstance(data, type); 스칼라 데이터나 객체의 유형 확인"
   ]
  },
  {
   "cell_type": "code",
   "execution_count": 74,
   "metadata": {},
   "outputs": [
    {
     "data": {
      "text/plain": [
       "True"
      ]
     },
     "execution_count": 74,
     "metadata": {},
     "output_type": "execute_result"
    }
   ],
   "source": [
    "isinstance(3.5, float)"
   ]
  },
  {
   "cell_type": "code",
   "execution_count": null,
   "metadata": {},
   "outputs": [],
   "source": []
  },
  {
   "cell_type": "markdown",
   "metadata": {},
   "source": [
    "# 8절. 연습문제"
   ]
  },
  {
   "cell_type": "markdown",
   "metadata": {},
   "source": [
    "1. 이름과 나이 변수를 다음 형식으로 출력하도록 format() 함수를 이용해 형식화하세요 [출력형식 : 홍길동님의 나이는 23살입니다]"
   ]
  },
  {
   "cell_type": "code",
   "execution_count": 76,
   "metadata": {},
   "outputs": [
    {
     "name": "stdout",
     "output_type": "stream",
     "text": [
      "[출력형식: 홍길동님의 나이는 23살입니다]\n"
     ]
    }
   ],
   "source": [
    "name = '홍길동'\n",
    "age = 23\n",
    "print(\"[출력형식: {}님의 나이는 {}살입니다]\".format(name, age))"
   ]
  },
  {
   "cell_type": "markdown",
   "metadata": {},
   "source": [
    "2. 두 정수를 입력받아 두 수의 덧셈, 뺄셈, 곱셈, 나눗셈, 몫, 나머지를 출력하세요"
   ]
  },
  {
   "cell_type": "code",
   "execution_count": 77,
   "metadata": {},
   "outputs": [
    {
     "name": "stdout",
     "output_type": "stream",
     "text": [
      "첫번째 수: 5\n",
      "두번째 수: 0\n",
      "5\n",
      "5\n",
      "0\n",
      "두번째 수에 0을 입력하여 나누기 연산이 불가합니다\n"
     ]
    }
   ],
   "source": [
    "num1 = int(input('첫번째 수: '))\n",
    "num2 = int(input('두번째 수: '))\n",
    "print(num1+num2)\n",
    "print(num1-num2)\n",
    "print(num1*num2)\n",
    "try:\n",
    "    print(num1/num2)\n",
    "    print(num1//num2)\n",
    "    print(num1%num2)\n",
    "except Exception:\n",
    "    print('두번째 수에 0을 입력하여 나누기 연산이 불가합니다')"
   ]
  },
  {
   "cell_type": "markdown",
   "metadata": {},
   "source": [
    "3. 문자열의 분리하기와 합치기 기능을 이용하여 ‘Hello World’를 ‘World Hello’로 출력하세요"
   ]
  },
  {
   "cell_type": "code",
   "execution_count": 79,
   "metadata": {},
   "outputs": [
    {
     "name": "stdout",
     "output_type": "stream",
     "text": [
      "World Hello\n",
      "World Hello\n"
     ]
    }
   ],
   "source": [
    "str='Hello World'\n",
    "print(str[6:], str[:5])\n",
    "print(str[-5:], str[:5])"
   ]
  },
  {
   "cell_type": "markdown",
   "metadata": {},
   "source": [
    "4. x = 'abcdef＇를 이용하여 ‘bcdefa’로 출력하세요(문자 슬라이싱이용)."
   ]
  },
  {
   "cell_type": "code",
   "execution_count": 81,
   "metadata": {},
   "outputs": [
    {
     "name": "stdout",
     "output_type": "stream",
     "text": [
      "bcdefa\n"
     ]
    }
   ],
   "source": [
    "x = 'abcdef'\n",
    "print(x[1:], x[:1], sep='')"
   ]
  },
  {
   "cell_type": "markdown",
   "metadata": {},
   "source": [
    "5. x = ‘abcdef’를 이용하여 ‘fedcba’로 출력하세요"
   ]
  },
  {
   "cell_type": "code",
   "execution_count": 83,
   "metadata": {},
   "outputs": [
    {
     "name": "stdout",
     "output_type": "stream",
     "text": [
      "fedcba\n"
     ]
    }
   ],
   "source": [
    "x='abcdef'\n",
    "print(x[::-1])"
   ]
  },
  {
   "cell_type": "markdown",
   "metadata": {},
   "source": [
    "6. 오늘의 온도를 섭씨온도로 입력받아 화씨 온도로 변환하는 프로그램을 작성하세요. 화씨 온도는 소수점 두번째 자리까지 출력되어야 합니다(다음은 섭씨와 화씨의 변환 공식입니다. C는 섭씨, F는 화씨)\n",
    "- C = (F-32) / 1.8\n",
    "- F = (C*1.8) + 32"
   ]
  },
  {
   "cell_type": "code",
   "execution_count": 86,
   "metadata": {},
   "outputs": [
    {
     "name": "stdout",
     "output_type": "stream",
     "text": [
      "오늘의 섭씨 온도는? 2.0\n",
      "[오늘의 화씨온도: 35.6]\n",
      "오늘의 섭씨 온도: 2, 오늘의 화씨 온도: 35.60\n"
     ]
    }
   ],
   "source": [
    "C = float(input('오늘의 섭씨 온도는? '))\n",
    "print('[오늘의 화씨온도: {}]'.format((C*1.8)+32))\n",
    "F = (C*1.8)+32\n",
    "if C == round(C):\n",
    "    print(\"오늘의 섭씨 온도: {:.0f}, 오늘의 화씨 온도: {:.2f}\".format(C,F))\n",
    "else :\n",
    "    print(\"오늘의 섭씨 온도: {}, 오늘의 화씨 온도:{:.2.f}\".format(C,F))"
   ]
  }
 ],
 "metadata": {
  "kernelspec": {
   "display_name": "Python 3",
   "language": "python",
   "name": "python3"
  },
  "language_info": {
   "codemirror_mode": {
    "name": "ipython",
    "version": 3
   },
   "file_extension": ".py",
   "mimetype": "text/x-python",
   "name": "python",
   "nbconvert_exporter": "python",
   "pygments_lexer": "ipython3",
   "version": "3.8.5"
  }
 },
 "nbformat": 4,
 "nbformat_minor": 4
}
