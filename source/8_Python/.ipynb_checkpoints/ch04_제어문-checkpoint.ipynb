{
 "cells": [
  {
   "cell_type": "markdown",
   "metadata": {},
   "source": [
    "**21-02-23 python 04_제어문 (c)cherryuki (ji)**"
   ]
  },
  {
   "cell_type": "markdown",
   "metadata": {},
   "source": [
    "**<font size=5 color=\"red\">ch04. 제어문</font>**\n",
    "- if, for-in, while, 중첩 루프, 중첩 루프 탈출"
   ]
  },
  {
   "cell_type": "markdown",
   "metadata": {},
   "source": [
    "# 1절. 조건문"
   ]
  },
  {
   "cell_type": "code",
   "execution_count": 1,
   "metadata": {},
   "outputs": [
    {
     "name": "stdout",
     "output_type": "stream",
     "text": [
      "Enter your score>100\n",
      "참 잘했어요\n",
      "점수를 입력받아 점수에 따라 메시지를 출력함\n"
     ]
    }
   ],
   "source": [
    "score = int(input('Enter your score>'))\n",
    "if score>90:\n",
    "    print('참 잘했어요')\n",
    "else:\n",
    "    print('분발하세요')\n",
    "print('점수를 입력받아 점수에 따라 메시지를 출력함')"
   ]
  },
  {
   "cell_type": "code",
   "execution_count": 2,
   "metadata": {},
   "outputs": [
    {
     "name": "stdout",
     "output_type": "stream",
     "text": [
      "Enter your score > 95\n",
      "입력한 점수는 95점이고 A등급\n"
     ]
    }
   ],
   "source": [
    "score = int(input('Enter your score > '))\n",
    "if 90<= score <= 100:\n",
    "    grade = 'A'\n",
    "elif 80<= score < 90:\n",
    "    grade = 'B'\n",
    "elif 70<= score <80:\n",
    "    grade = 'C'\n",
    "elif 60<= score <70:\n",
    "    grade = 'D'\n",
    "elif 0<= score <60:\n",
    "    grade = 'F'\n",
    "else :\n",
    "    grade= '유효하지 않은 점수'\n",
    "print('입력한 점수는 {}점이고 {}등급'.format(score, grade))"
   ]
  },
  {
   "cell_type": "markdown",
   "metadata": {},
   "source": [
    "# 2절. 반복문"
   ]
  },
  {
   "cell_type": "markdown",
   "metadata": {},
   "source": [
    "## 2.1 for-in\n",
    "- for 변수 in 나열 가능한 자료: <br>\n",
    "    반복할 문장1 <br>\n",
    "    반복할 문장2 <br>\n",
    "    ... <br>\n",
    "    else: <br>\n",
    "    변수에 값이 할당되지 않을 경우 한 번 실행할 문장 \n",
    "- else 구문은 선택사항"
   ]
  },
  {
   "cell_type": "code",
   "execution_count": 4,
   "metadata": {},
   "outputs": [
    {
     "name": "stdout",
     "output_type": "stream",
     "text": [
      "1\t3\t5\t7\t9\tDone\n"
     ]
    }
   ],
   "source": [
    "for i in range(1,10,2):\n",
    "    print(i, end='\\t')\n",
    "else:\n",
    "    print('Done')"
   ]
  },
  {
   "cell_type": "markdown",
   "metadata": {},
   "source": [
    "## 2.2 while\n",
    "- while 조건: <br>\n",
    "    반복할 문장1 <br>\n",
    "    반복할 문장2 <br>\n",
    "    ... <br>\n",
    "  else: <br>\n",
    "    조건이 거짓일 경우 한 번 실행할 문장\n",
    "- else구문은 선택사항\n",
    "- 무한 반복문에 빠지지 않도록 조건식 결과가 바뀔 수 있는 변수값을 수정하는 코드 필"
   ]
  },
  {
   "cell_type": "code",
   "execution_count": 5,
   "metadata": {},
   "outputs": [
    {
     "name": "stdout",
     "output_type": "stream",
     "text": [
      "0\t1\t2\t3\t4\t5\t6\t7\t8\t9\t\n",
      "i값이 10이므로 종료\n"
     ]
    }
   ],
   "source": [
    "i = 0\n",
    "while i<10:\n",
    "    print(i, end='\\t')\n",
    "    i += 1 #조건식 결과가 바뀔 수 있는 변수값 수정하는 코드\n",
    "else:\n",
    "    print()\n",
    "    print('i값이 {}이므로 종료'.format(i))"
   ]
  },
  {
   "cell_type": "code",
   "execution_count": 6,
   "metadata": {},
   "outputs": [
    {
     "name": "stdout",
     "output_type": "stream",
     "text": [
      "1~100까지 짝수의 합: 2550\n"
     ]
    }
   ],
   "source": [
    "#1~100까지 짝수의 합\n",
    "sum = 0\n",
    "i = 1\n",
    "while i<=100:\n",
    "    if i%2==0:\n",
    "        sum += i\n",
    "    i+=1\n",
    "else:\n",
    "    print(\"1~100까지 짝수의 합:\", sum)"
   ]
  },
  {
   "cell_type": "markdown",
   "metadata": {},
   "source": [
    "## 2.3 break&continue\n",
    "- break를 만나면 break를 포함하는 반복문을 완전히 탈출\n",
    "- continue는 반복문 내에서 continue 이후의 문장을 건너 뜀"
   ]
  },
  {
   "cell_type": "code",
   "execution_count": 7,
   "metadata": {},
   "outputs": [
    {
     "name": "stdout",
     "output_type": "stream",
     "text": [
      "1 2 3 4 "
     ]
    }
   ],
   "source": [
    "num = 0\n",
    "while num<=10:\n",
    "    num += 1\n",
    "    if num==5:\n",
    "        break #현재 반복문 빠져나감\n",
    "    print(num, end=' ')"
   ]
  },
  {
   "cell_type": "code",
   "execution_count": 8,
   "metadata": {},
   "outputs": [
    {
     "name": "stdout",
     "output_type": "stream",
     "text": [
      "1 2 3 4 6 7 8 9 10 11 "
     ]
    }
   ],
   "source": [
    "num = 0\n",
    "while num<=10:\n",
    "    num += 1\n",
    "    if num==5:\n",
    "        continue #반복문의 조건으로 감\n",
    "    print(num, end=' ')"
   ]
  },
  {
   "cell_type": "code",
   "execution_count": 9,
   "metadata": {},
   "outputs": [
    {
     "data": {
      "text/plain": [
       "86"
      ]
     },
     "execution_count": 9,
     "metadata": {},
     "output_type": "execute_result"
    }
   ],
   "source": [
    "#숫자 찾기 게임\n",
    "'''\n",
    "1~100사이의 숫자를 맞추는 프로그램을 작성\n",
    "(프로그램 안에서 임의의 숫자가 생성되고, \n",
    "입력한 숫자와 비교하여 숫자를 맞출 때까지 up, down 출력)\n",
    "'''\n",
    "import random\n",
    "#random.seed(1) #난수 발생 고정\n",
    "random.randint(1, 100) #1~100사이 임의 숫자 생성"
   ]
  },
  {
   "cell_type": "code",
   "execution_count": 12,
   "metadata": {},
   "outputs": [
    {
     "name": "stdout",
     "output_type": "stream",
     "text": [
      "숫자: 50\n",
      "up\n",
      "숫자: 70\n",
      "up\n",
      "숫자: 90\n",
      "down\n",
      "숫자: 80\n",
      "down\n",
      "숫자: 77\n",
      "down\n",
      "숫자: 73\n",
      "up\n",
      "숫자: 75\n",
      "up\n",
      "숫자: 76\n",
      "맞추셨습니다\n"
     ]
    }
   ],
   "source": [
    "min = 1\n",
    "max = 100\n",
    "random_num = random.randint(min, max)\n",
    "num=0\n",
    "while num!=random_num:\n",
    "    num = int(input('숫자: '))\n",
    "    if num>random_num:\n",
    "        print('down')\n",
    "    elif num<random_num:\n",
    "        print('up')\n",
    "    else:\n",
    "        print('맞추셨습니다')"
   ]
  },
  {
   "cell_type": "code",
   "execution_count": 13,
   "metadata": {},
   "outputs": [
    {
     "name": "stdout",
     "output_type": "stream",
     "text": [
      "1 ~ 100 사이의 컴퓨터가 선택한 수를 맞춰보세요: \n",
      "50\n",
      "당신이 입력한 수보다 작은 수입니다\n",
      "1 ~ 49 사이의 컴퓨터가 선택한 수를 맞춰보세요: \n",
      "30\n",
      "당신이 입력한 수보다 작은 수입니다\n",
      "1 ~ 29 사이의 컴퓨터가 선택한 수를 맞춰보세요: \n",
      "15\n",
      "당신이 입력한 수보다 작은 수입니다\n",
      "1 ~ 14 사이의 컴퓨터가 선택한 수를 맞춰보세요: \n",
      "5\n",
      "당신이 입력한 수보다 큰 수입니다\n",
      "6 ~ 14 사이의 컴퓨터가 선택한 수를 맞춰보세요: \n",
      "7\n",
      "당신이 입력한 수보다 큰 수입니다\n",
      "8 ~ 14 사이의 컴퓨터가 선택한 수를 맞춰보세요: \n",
      "10\n",
      "당신이 입력한 수보다 큰 수입니다\n",
      "11 ~ 14 사이의 컴퓨터가 선택한 수를 맞춰보세요: \n",
      "13\n",
      "당신이 입력한 수보다 작은 수입니다\n",
      "11 ~ 12 사이의 컴퓨터가 선택한 수를 맞춰보세요: \n",
      "11\n",
      "축하합니다\n"
     ]
    }
   ],
   "source": [
    "min = 1\n",
    "max = 100\n",
    "random_num = random.randint(min, max)\n",
    "while True:\n",
    "    print(min, '~', max, '사이의 컴퓨터가 선택한 수를 맞춰보세요: ')\n",
    "    num=int(input())\n",
    "    if random_num < num:\n",
    "        max=num-1\n",
    "        print('당신이 입력한 수보다 작은 수입니다')\n",
    "    elif random_num > num:\n",
    "        min=num+1\n",
    "        print('당신이 입력한 수보다 큰 수입니다')\n",
    "    else:\n",
    "        print(\"축하합니다\")\n",
    "        break;"
   ]
  },
  {
   "cell_type": "markdown",
   "metadata": {},
   "source": [
    "# 3절. 중첩루프; 반복문 안에 반복문\n",
    "- 2차원 이상의 데이터 구조의 모든 항목들을 처리하기 위해 사용"
   ]
  },
  {
   "cell_type": "code",
   "execution_count": 14,
   "metadata": {},
   "outputs": [
    {
     "name": "stdout",
     "output_type": "stream",
     "text": [
      "[[1, 2, 3, 4, 5], [10, 20, 30, 40], [11, 22, 33, 44]]\n"
     ]
    }
   ],
   "source": [
    "list_2d = [[1,2,3,4,5],\n",
    "          [10,20,30,40],\n",
    "          [11,22,33,44]]\n",
    "print(list_2d)"
   ]
  },
  {
   "cell_type": "code",
   "execution_count": 15,
   "metadata": {},
   "outputs": [
    {
     "name": "stdout",
     "output_type": "stream",
     "text": [
      "0행0열: 1\t0행1열: 2\t0행2열: 3\t0행3열: 4\t0행4열: 5\t\n",
      "1행0열: 10\t1행1열: 20\t1행2열: 30\t1행3열: 40\t\n",
      "2행0열: 11\t2행1열: 22\t2행2열: 33\t2행3열: 44\t\n"
     ]
    }
   ],
   "source": [
    "for i in range(len(list_2d)):\n",
    "    for j in range(len(list_2d[i])):\n",
    "        print(\"{}행{}열: {}\".format(i, j, list_2d[i][j]), end='\\t')\n",
    "    print()"
   ]
  },
  {
   "cell_type": "code",
   "execution_count": 16,
   "metadata": {},
   "outputs": [
    {
     "name": "stdout",
     "output_type": "stream",
     "text": [
      "0행0열: 1\t0행1열: 2\t0행2열: 3\t0행3열: 4\t0행4열: 5\t\n",
      "1행0열: 10\t1행1열: 20\t1행2열: 30\t1행3열: 40\t\n",
      "2행0열: 11\t2행1열: 22\t2행2열: 33\t2행3열: 44\t\n"
     ]
    }
   ],
   "source": [
    "for i, row in enumerate(list_2d):\n",
    "    for j, data in enumerate(row):\n",
    "        print(\"{}행{}열: {}\".format(i,j,data), end='\\t')\n",
    "    print()"
   ]
  },
  {
   "cell_type": "code",
   "execution_count": 21,
   "metadata": {},
   "outputs": [
    {
     "name": "stdout",
     "output_type": "stream",
     "text": [
      "2*1=2\t3*1=3\t4*1=4\t5*1=5\t6*1=6\t7*1=7\t8*1=8\t9*1=9\t\n",
      "2*2=4\t3*2=6\t4*2=8\t5*2=10\t6*2=12\t7*2=14\t8*2=16\t9*2=18\t\n",
      "2*3=6\t3*3=9\t4*3=12\t5*3=15\t6*3=18\t7*3=21\t8*3=24\t9*3=27\t\n",
      "2*4=8\t3*4=12\t4*4=16\t5*4=20\t6*4=24\t7*4=28\t8*4=32\t9*4=36\t\n",
      "2*5=10\t3*5=15\t4*5=20\t5*5=25\t6*5=30\t7*5=35\t8*5=40\t9*5=45\t\n",
      "2*6=12\t3*6=18\t4*6=24\t5*6=30\t6*6=36\t7*6=42\t8*6=48\t9*6=54\t\n",
      "2*7=14\t3*7=21\t4*7=28\t5*7=35\t6*7=42\t7*7=49\t8*7=56\t9*7=63\t\n",
      "2*8=16\t3*8=24\t4*8=32\t5*8=40\t6*8=48\t7*8=56\t8*8=64\t9*8=72\t\n",
      "2*9=18\t3*9=27\t4*9=36\t5*9=45\t6*9=54\t7*9=63\t8*9=72\t9*9=81\t\n",
      "\n",
      "2x1= 2\t3x1= 3\t4x1= 4\t5x1= 5\t6x1= 6\t7x1= 7\t8x1= 8\t9x1= 9\t\n",
      "2x2= 4\t3x2= 6\t4x2= 8\t5x2=10\t6x2=12\t7x2=14\t8x2=16\t9x2=18\t\n",
      "2x3= 6\t3x3= 9\t4x3=12\t5x3=15\t6x3=18\t7x3=21\t8x3=24\t9x3=27\t\n",
      "2x4= 8\t3x4=12\t4x4=16\t5x4=20\t6x4=24\t7x4=28\t8x4=32\t9x4=36\t\n",
      "2x5=10\t3x5=15\t4x5=20\t5x5=25\t6x5=30\t7x5=35\t8x5=40\t9x5=45\t\n",
      "2x6=12\t3x6=18\t4x6=24\t5x6=30\t6x6=36\t7x6=42\t8x6=48\t9x6=54\t\n",
      "2x7=14\t3x7=21\t4x7=28\t5x7=35\t6x7=42\t7x7=49\t8x7=56\t9x7=63\t\n",
      "2x8=16\t3x8=24\t4x8=32\t5x8=40\t6x8=48\t7x8=56\t8x8=64\t9x8=72\t\n",
      "2x9=18\t3x9=27\t4x9=36\t5x9=45\t6x9=54\t7x9=63\t8x9=72\t9x9=81\t\n"
     ]
    }
   ],
   "source": [
    "#2~9단까지 구구단 전체 출력\n",
    "'''\n",
    "2*1=2  3*1=3  4*1=4  ... 9*1=9\n",
    "2*2=4  3*2=6  4*2=8  ... 9*2=18\n",
    "...\n",
    "2*9=18 3*9=27 4*9=36 ... 9*9=81\n",
    "'''\n",
    "for i in range(1,10):\n",
    "    for j in range(2,10):\n",
    "        print(\"{}*{}={}\".format(j,i, i*j), end='\\t')\n",
    "    print()\n",
    "print()\n",
    "for i in range(1,10):\n",
    "    for j in range(2,10):\n",
    "        print(\"{}x{}={:2}\".format(j, i, j*i), end='\\t') #자릿수 지정하면 숫자는 오른쪽 정렬\n",
    "    print()"
   ]
  },
  {
   "cell_type": "markdown",
   "metadata": {},
   "source": [
    "# 4절. 중첩루프 탈출"
   ]
  },
  {
   "cell_type": "code",
   "execution_count": 31,
   "metadata": {},
   "outputs": [
    {
     "name": "stdout",
     "output_type": "stream",
     "text": [
      "0 1\n",
      "0 2\n",
      "2 1\n"
     ]
    }
   ],
   "source": [
    "#아래 예제에서 break는 안쪽 반복문을 빠져나옴\n",
    "for a in range(0,3):          #a=0,1,2\n",
    "    for b in range(1,3):      #b=1,2\n",
    "        if a==b:\n",
    "            break;\n",
    "        print(a,b)"
   ]
  },
  {
   "cell_type": "markdown",
   "metadata": {},
   "source": [
    "## 4.1 플래그를 이용한 중첩루프 탈출"
   ]
  },
  {
   "cell_type": "code",
   "execution_count": 32,
   "metadata": {},
   "outputs": [
    {
     "name": "stdout",
     "output_type": "stream",
     "text": [
      "0 1\n",
      "0 2\n"
     ]
    }
   ],
   "source": [
    "#braek를 만나면 바깥쪽 반복문까지 탈출하는 방법1. 플래그 이용\n",
    "break_out_flag=False\n",
    "for a in range(0,3):\n",
    "    for b in range(1,3):\n",
    "        if a==b:\n",
    "            break_out_flag=True\n",
    "            break\n",
    "        print(a,b)\n",
    "    if break_out_flag:\n",
    "        break"
   ]
  },
  {
   "cell_type": "markdown",
   "metadata": {},
   "source": [
    "## 4.2 예외처리를 이용한 중첩루프 탈출"
   ]
  },
  {
   "cell_type": "code",
   "execution_count": 33,
   "metadata": {},
   "outputs": [
    {
     "name": "stdout",
     "output_type": "stream",
     "text": [
      "0 1\n",
      "0 2\n"
     ]
    }
   ],
   "source": [
    "#braek를 만나면 바깥쪽 반복문까지 탈출하는 방법2. Exception 이용\n",
    "class BreakOutLoop(Exception): pass\n",
    "\n",
    "for a in range(0,3):\n",
    "    try:\n",
    "        for b in range(1,3):\n",
    "            if a==b:\n",
    "                raise BreakOutLoop\n",
    "            print(a,b)\n",
    "    except BreakOutLoop:\n",
    "        break"
   ]
  },
  {
   "cell_type": "code",
   "execution_count": 34,
   "metadata": {},
   "outputs": [
    {
     "name": "stdout",
     "output_type": "stream",
     "text": [
      "0 1\n",
      "0 2\n"
     ]
    }
   ],
   "source": [
    "try:\n",
    "    for a in range(0,3):\n",
    "        for b in range(1,3):\n",
    "            if a==b:\n",
    "                raise BreakOutLoop\n",
    "            print(a,b)\n",
    "except BreakOutLoop:\n",
    "    pass #pass: 아무일도 하지 않음"
   ]
  },
  {
   "cell_type": "markdown",
   "metadata": {},
   "source": [
    "# 5. 연습문제"
   ]
  },
  {
   "cell_type": "code",
   "execution_count": 36,
   "metadata": {},
   "outputs": [
    {
     "name": "stdout",
     "output_type": "stream",
     "text": [
      "양의 정수를 입력하세요-2\n",
      "양의 정수를 입력하세요5\n",
      "입력하신 수는 홀수입니다\n",
      "양의 정수를 입력하세요10\n",
      "입력하신 수는 짝수입니다\n"
     ]
    }
   ],
   "source": [
    "#1. 양의 정수를 입력 받아 홀수인지 짝수인지를 판별하는 프로그램을 작성하세요. 양의 정수가 아니면 숫자를 다시 입력 받아야 합니다.\n",
    "num = 1\n",
    "while True:\n",
    "    num = int(input('양의 정수를 입력하세요'))\n",
    "    if num <= 0:\n",
    "        continue\n",
    "    elif num%2==1:\n",
    "        print('입력하신 수는 홀수입니다')\n",
    "    else:\n",
    "        print('입력하신 수는 짝수입니다')\n",
    "        break\n"
   ]
  },
  {
   "cell_type": "code",
   "execution_count": 38,
   "metadata": {},
   "outputs": [
    {
     "name": "stdout",
     "output_type": "stream",
     "text": [
      "1~50까지 자연수 중 3의 배수의 총합: 408\n",
      "1~50까지 자연수 중 3의 배수의 총합: 408\n"
     ]
    }
   ],
   "source": [
    "#2. 1~50까지 자연수 중 3의 배수의 총합을 출력하는 프로그램을 작성하세요\n",
    "sum=0\n",
    "for i in range(1,51):\n",
    "    if i%3==0:\n",
    "        sum += i\n",
    "else:\n",
    "    print('1~50까지 자연수 중 3의 배수의 총합:', sum)\n",
    "    \n",
    "i=0\n",
    "sum=0\n",
    "while i<=50:\n",
    "    if i%3==0:\n",
    "        sum += i\n",
    "    i += 1\n",
    "else:\n",
    "    print(\"1~50까지 자연수 중 3의 배수의 총합:\", sum)"
   ]
  },
  {
   "cell_type": "code",
   "execution_count": 56,
   "metadata": {},
   "outputs": [
    {
     "name": "stdout",
     "output_type": "stream",
     "text": [
      "a\n",
      "*****\n",
      "*****\n",
      "*****\n",
      "*****\n",
      "*****\n",
      "b\n",
      "*\n",
      "**\n",
      "***\n",
      "****\n",
      "*****\n",
      "c\n",
      "*****\n",
      "****\n",
      "***\n",
      "**\n",
      "*\n",
      "d\n",
      "    *\n",
      "   **\n",
      "  ***\n",
      " ****\n",
      "*****\n",
      "e\n",
      "*****\n",
      " ****\n",
      "  ***\n",
      "   **\n",
      "    *\n"
     ]
    }
   ],
   "source": [
    "#3. 아래 패턴의 별을 출력하는 프로그램을 작성하세요.\n",
    "print('a')\n",
    "for i in range(5):\n",
    "    for j in range(5):\n",
    "        print('*', end='')\n",
    "    print()\n",
    "print('b')\n",
    "for i in range(1,6):\n",
    "    print('{}'.format('*'*i))\n",
    "print('c')\n",
    "for i in range(5,0,-1):\n",
    "    print('{}'.format('*'*i))\n",
    "print('d')\n",
    "for i in range(1,6):\n",
    "    print('{:>5}'.format('*'*i))\n",
    "print('e')\n",
    "for i in range(5,0,-1):\n",
    "    print('{:>5}'.format('*'*i))"
   ]
  },
  {
   "cell_type": "code",
   "execution_count": 57,
   "metadata": {},
   "outputs": [
    {
     "name": "stdout",
     "output_type": "stream",
     "text": [
      "165\n"
     ]
    }
   ],
   "source": [
    "#1. 다음 코드는 1부터 30까지(30포함) 자연수 중에서 3의 배수의 총 합을 출력하는 프로그램입니다. 빈칸의 코드를 완성하시오.\n",
    "sum = 0\n",
    "for i in range(1,31):\n",
    "    if i%3==0:\n",
    "        sum=sum+i\n",
    "    else:\n",
    "        pass\n",
    "print(sum)"
   ]
  },
  {
   "cell_type": "code",
   "execution_count": 59,
   "metadata": {},
   "outputs": [
    {
     "name": "stdout",
     "output_type": "stream",
     "text": [
      "1 3 5 7 9 "
     ]
    }
   ],
   "source": [
    "#2. 다음 코드의 실행결과가 “1 3 5 7 9”가 되도록 빈칸을 완성하시오\n",
    "num = 0\n",
    "while num <=10:\n",
    "    if num%2==1:\n",
    "        print(num, end=' ')\n",
    "    num += 1"
   ]
  },
  {
   "cell_type": "code",
   "execution_count": 60,
   "metadata": {},
   "outputs": [
    {
     "name": "stdout",
     "output_type": "stream",
     "text": [
      "1 2 3 \n",
      "4 5 6 7 \n",
      "8 9 \n"
     ]
    }
   ],
   "source": [
    "#3. 다음 2차원 리스트의 모든 값을 출력하는 코드입니다. 빈칸을 완성하시오.\n",
    "list2d=[[1,2,3],[4,5,6,7],[8,9]]\n",
    "for row in list2d:\n",
    "    for data in row:\n",
    "        print(data, end=' ')\n",
    "    print()"
   ]
  },
  {
   "cell_type": "code",
   "execution_count": 61,
   "metadata": {},
   "outputs": [
    {
     "name": "stdout",
     "output_type": "stream",
     "text": [
      "0 apple\n",
      "1 banana\n"
     ]
    }
   ],
   "source": [
    "#4. 다음 빈칸에 들어갈 함수 이름은?\n",
    "colors={\"red\":'apple', \"yellow\":'banana'}\n",
    "for i, v in enumerate(colors.values()):\n",
    "    print(i,v)"
   ]
  },
  {
   "cell_type": "code",
   "execution_count": 62,
   "metadata": {},
   "outputs": [
    {
     "name": "stdout",
     "output_type": "stream",
     "text": [
      "1 0\n"
     ]
    }
   ],
   "source": [
    "#5.  다음 코드의 실행결과는?\n",
    "for i in range(0,2):\n",
    "    for j in range(0,2):\n",
    "        if i==j:\n",
    "            break\n",
    "        print(i,j)"
   ]
  },
  {
   "cell_type": "code",
   "execution_count": 63,
   "metadata": {},
   "outputs": [
    {
     "name": "stdout",
     "output_type": "stream",
     "text": [
      "0 0\n",
      "1 0\n",
      "1 1\n"
     ]
    }
   ],
   "source": [
    "#6. 다음 코드의 실행 결과로 출력될 수 없는 것은?   #0, 1\n",
    "for i in range(0,2):\n",
    "    for j in range(0,2):\n",
    "        print(i, j)\n",
    "        if i==j:\n",
    "            break"
   ]
  },
  {
   "cell_type": "code",
   "execution_count": 64,
   "metadata": {},
   "outputs": [
    {
     "name": "stdout",
     "output_type": "stream",
     "text": [
      "3 5 7 9 "
     ]
    }
   ],
   "source": [
    "#7. 다음 코드의 실행 결과는?\n",
    "L = [3,4,5,6,7,8,9,10]\n",
    "for i, data in enumerate(L):\n",
    "    if(i%2==0):\n",
    "        print(data, end=' ')"
   ]
  }
 ],
 "metadata": {
  "kernelspec": {
   "display_name": "Python 3",
   "language": "python",
   "name": "python3"
  },
  "language_info": {
   "codemirror_mode": {
    "name": "ipython",
    "version": 3
   },
   "file_extension": ".py",
   "mimetype": "text/x-python",
   "name": "python",
   "nbconvert_exporter": "python",
   "pygments_lexer": "ipython3",
   "version": "3.8.5"
  }
 },
 "nbformat": 4,
 "nbformat_minor": 4
}
