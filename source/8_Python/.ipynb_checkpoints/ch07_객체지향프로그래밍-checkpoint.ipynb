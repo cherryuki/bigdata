{
 "cells": [
  {
   "cell_type": "markdown",
   "metadata": {},
   "source": [
    "**21-02-26 python 07_객체지향 프로그래밍 (c)cherryuki (ji)**"
   ]
  },
  {
   "cell_type": "markdown",
   "metadata": {},
   "source": [
    "# <font color=\"red\"> ch07. 객체지향 프로그래밍 </font>"
   ]
  },
  {
   "cell_type": "markdown",
   "metadata": {},
   "source": [
    "# 1절. 객체와 클래스\n",
    "<p>\n",
    "　class 클래스명(상속 받을 클래스명): <br>\n",
    "　　　　함수나 변수 선언\n",
    "</p>"
   ]
  },
  {
   "cell_type": "code",
   "execution_count": 3,
   "metadata": {},
   "outputs": [],
   "source": [
    "class Person:\n",
    "    \"Person 클래스\"\n",
    "    pass\n",
    "p1 = Person()"
   ]
  },
  {
   "cell_type": "code",
   "execution_count": 4,
   "metadata": {},
   "outputs": [
    {
     "data": {
      "text/plain": [
       "__main__.Person"
      ]
     },
     "execution_count": 4,
     "metadata": {},
     "output_type": "execute_result"
    }
   ],
   "source": [
    "type(p1)"
   ]
  },
  {
   "cell_type": "code",
   "execution_count": 5,
   "metadata": {},
   "outputs": [
    {
     "name": "stdout",
     "output_type": "stream",
     "text": [
      "<__main__.Person object at 0x0000026C375EC040>\n"
     ]
    }
   ],
   "source": [
    "print(p1)"
   ]
  },
  {
   "cell_type": "code",
   "execution_count": 6,
   "metadata": {},
   "outputs": [
    {
     "data": {
      "text/plain": [
       "True"
      ]
     },
     "execution_count": 6,
     "metadata": {},
     "output_type": "execute_result"
    }
   ],
   "source": [
    "isinstance(p1, Person)"
   ]
  },
  {
   "cell_type": "code",
   "execution_count": 7,
   "metadata": {},
   "outputs": [
    {
     "name": "stdout",
     "output_type": "stream",
     "text": [
      "Person 클래스\n"
     ]
    }
   ],
   "source": [
    "print(p1.__doc__) #docstirng 확인"
   ]
  },
  {
   "cell_type": "markdown",
   "metadata": {},
   "source": [
    "# 2절. 변수와 메소드\n",
    "- 일반 변수, static 변수 / 일반 메소드, static 메소드, 클래스 메소드"
   ]
  },
  {
   "cell_type": "code",
   "execution_count": 8,
   "metadata": {},
   "outputs": [
    {
     "name": "stdout",
     "output_type": "stream",
     "text": [
      "Kong male\n"
     ]
    }
   ],
   "source": [
    "#변수 추가\n",
    "class Person:\n",
    "    name=\"Kong\"\n",
    "    gender=\"male\"\n",
    "p1=Person()\n",
    "print(p1.name, p1.gender)"
   ]
  },
  {
   "cell_type": "code",
   "execution_count": 9,
   "metadata": {},
   "outputs": [
    {
     "name": "stdout",
     "output_type": "stream",
     "text": [
      "Han male\n"
     ]
    }
   ],
   "source": [
    "p2 = Person()\n",
    "p2.name = \"Han\"\n",
    "print(p2.name, p2.gender)"
   ]
  },
  {
   "cell_type": "code",
   "execution_count": 10,
   "metadata": {},
   "outputs": [],
   "source": [
    "Person.name=\"Jenny\"\n",
    "Person.gender = \"female\""
   ]
  },
  {
   "cell_type": "code",
   "execution_count": 11,
   "metadata": {},
   "outputs": [
    {
     "name": "stdout",
     "output_type": "stream",
     "text": [
      "Jenny female\n",
      "Han female\n"
     ]
    }
   ],
   "source": [
    "print(p1.name, p1.gender) #데이터를 셋팅하지 않으면 Person을 계속 참조(Person 데이터로 바뀜)\n",
    "print(p2.name, p2.gender) #name은 셋팅한 그대로. gender는 셋팅한 적 없으므로 Person 데이터 참조"
   ]
  },
  {
   "cell_type": "code",
   "execution_count": 12,
   "metadata": {},
   "outputs": [
    {
     "name": "stdout",
     "output_type": "stream",
     "text": [
      "Jenny female\n",
      "Park male\n",
      "Han female\n"
     ]
    }
   ],
   "source": [
    "p1.name=\"Park\"\n",
    "p1.gender=\"male\"\n",
    "print(Person.name, Person.gender)\n",
    "print(p1.name, p1.gender)\n",
    "print(p2.name, p2.gender)"
   ]
  },
  {
   "cell_type": "code",
   "execution_count": 13,
   "metadata": {},
   "outputs": [
    {
     "name": "stdout",
     "output_type": "stream",
     "text": [
      "Richard male\n",
      "Person method\n"
     ]
    }
   ],
   "source": [
    "#메소드 추가\n",
    "class Person:\n",
    "    name=\"Richard\"\n",
    "    gender=\"male\"\n",
    "    def print_info():\n",
    "        print(\"Person method\")\n",
    "print(Person.name, Person.gender)\n",
    "Person.print_info()"
   ]
  },
  {
   "cell_type": "code",
   "execution_count": 14,
   "metadata": {},
   "outputs": [
    {
     "name": "stdout",
     "output_type": "stream",
     "text": [
      "Han male\n",
      "Richard male\n"
     ]
    }
   ],
   "source": [
    "p1 = Person()\n",
    "p1.name=\"Han\"\n",
    "print(p1.name, p1.gender)\n",
    "print(Person.name, Person.gender)"
   ]
  },
  {
   "cell_type": "code",
   "execution_count": 15,
   "metadata": {},
   "outputs": [
    {
     "ename": "TypeError",
     "evalue": "print_info() takes 0 positional arguments but 1 was given",
     "output_type": "error",
     "traceback": [
      "\u001b[1;31m---------------------------------------------------------------------------\u001b[0m",
      "\u001b[1;31mTypeError\u001b[0m                                 Traceback (most recent call last)",
      "\u001b[1;32m<ipython-input-15-123b1e7cbd59>\u001b[0m in \u001b[0;36m<module>\u001b[1;34m\u001b[0m\n\u001b[1;32m----> 1\u001b[1;33m \u001b[0mp1\u001b[0m\u001b[1;33m.\u001b[0m\u001b[0mprint_info\u001b[0m\u001b[1;33m(\u001b[0m\u001b[1;33m)\u001b[0m\u001b[1;33m\u001b[0m\u001b[1;33m\u001b[0m\u001b[0m\n\u001b[0m",
      "\u001b[1;31mTypeError\u001b[0m: print_info() takes 0 positional arguments but 1 was given"
     ]
    }
   ],
   "source": [
    "p1.print_info() #매개변수가 없을 때는 객체에서 실행 불가능(객체만 실행 가능하려면 첫 인수: self)"
   ]
  },
  {
   "cell_type": "code",
   "execution_count": 16,
   "metadata": {},
   "outputs": [
    {
     "name": "stdout",
     "output_type": "stream",
     "text": [
      "Person method\n"
     ]
    }
   ],
   "source": [
    "Person.print_info()"
   ]
  },
  {
   "cell_type": "code",
   "execution_count": 17,
   "metadata": {},
   "outputs": [
    {
     "name": "stdout",
     "output_type": "stream",
     "text": [
      "Richard male 36\n",
      "Jenny는 36세이고 female입니다\n"
     ]
    }
   ],
   "source": [
    "#인스턴트 메소드\n",
    "class Person:\n",
    "    name=\"Richard\"\n",
    "    gender=\"male\"\n",
    "    age=36\n",
    "    def print_info(self): #객체만 실행 가능한 메소드 = 인스턴트 메소드\n",
    "        print(\"{}는 {}세이고 {}입니다\".format(self.name, self.age, self.gender))\n",
    "print(Person.name, Person.gender, Person.age)\n",
    "p1 = Person()\n",
    "p1.name=\"Jenny\"\n",
    "p1.gender=\"female\"\n",
    "p1.print_info() #객체만 실행 가능! Person.print_info()는 에러 발생"
   ]
  },
  {
   "cell_type": "code",
   "execution_count": 19,
   "metadata": {},
   "outputs": [
    {
     "data": {
      "text/plain": [
       "('Jenny', 'female', 36)"
      ]
     },
     "execution_count": 19,
     "metadata": {},
     "output_type": "execute_result"
    }
   ],
   "source": [
    "p1.name, p1.gender, p1.age"
   ]
  },
  {
   "cell_type": "markdown",
   "metadata": {},
   "source": [
    "- 파이썬은 클래스와 인스턴스(객체)의 이름 공간 분리되어 있음\n",
    "- 클래스와 인스턴스의 변수명이 다를 수 있음\n",
    "- 동적으로 인스턴스(객체)에 멤버 추가 가능"
   ]
  },
  {
   "cell_type": "code",
   "execution_count": 20,
   "metadata": {},
   "outputs": [],
   "source": [
    "p1.address=\"Seoul\"\n",
    "p1.nickname=\"Pooh\""
   ]
  },
  {
   "cell_type": "code",
   "execution_count": 21,
   "metadata": {},
   "outputs": [
    {
     "name": "stdout",
     "output_type": "stream",
     "text": [
      "Jenny는 36세이고 female입니다\n"
     ]
    }
   ],
   "source": [
    "p1.print_info()"
   ]
  },
  {
   "cell_type": "markdown",
   "metadata": {},
   "source": [
    "**인스턴스 메소드 vs. 클래스 메소드 vs. static 메소드**\n",
    "\n",
    "1. 인스턴스 메소드: 첫 인자에 self 삽입. 객체를 통해서 호출할 메소드\n",
    "2. 클래스 메소드: @classmethod를 통해서 선언한 메소드. 인자에 cls(clazz)를 삽입\n",
    "3. static 메소드: @staticmethod를 통해서 선언한 메소드."
   ]
  },
  {
   "cell_type": "code",
   "execution_count": 22,
   "metadata": {},
   "outputs": [],
   "source": [
    "#인스턴스 메소드 vs. 클래스 메소드 vs. static 메소드\n",
    "class Person:\n",
    "    name=\"리차드\"\n",
    "    gender=\"남성\"\n",
    "    age=36\n",
    "    def print_info(self): #인스턴스 메소드(인자에 self)\n",
    "        print(\"일반(인스턴스=객체) 메소드 - {}는 {}세 {}입니다\".format(self.name, self.age, self.gender))\n",
    "    @classmethod\n",
    "    def do_(cls): #클래스 메소드(인자에 cls, class)\n",
    "        cls.name=\"제니\"\n",
    "        cls.gender=\"여성\"\n",
    "        cls.age=33\n",
    "        print(\"클래스 메소드 - {}는 {}세 {}입니다\".format(cls.name, cls.age, cls.gender))\n",
    "    @staticmethod\n",
    "    def that_(): #static 메소드(인자 없음)\n",
    "        print(\"static 메소드 = {}는 {}세 {}입니다\".format(Person.name, Person.age, Person.gender))"
   ]
  },
  {
   "cell_type": "code",
   "execution_count": 23,
   "metadata": {},
   "outputs": [
    {
     "name": "stdout",
     "output_type": "stream",
     "text": [
      "일반(인스턴스=객체) 메소드 - 리차드는 36세 남성입니다\n",
      "일반(인스턴스=객체) 메소드 - 리차드는 36세 남성입니다\n"
     ]
    }
   ],
   "source": [
    "p1 = Person()\n",
    "p2 = Person()\n",
    "p1.print_info()\n",
    "p2.print_info()"
   ]
  },
  {
   "cell_type": "code",
   "execution_count": 24,
   "metadata": {},
   "outputs": [
    {
     "name": "stdout",
     "output_type": "stream",
     "text": [
      "일반(인스턴스=객체) 메소드 - 수련는 37세 남성입니다\n",
      "일반(인스턴스=객체) 메소드 - 리차드는 36세 남성입니다\n",
      "static 메소드 = 리차드는 36세 남성입니다\n",
      "static 메소드 = 리차드는 36세 남성입니다\n"
     ]
    }
   ],
   "source": [
    "p1.name = \"수련\"\n",
    "p1.age += 1\n",
    "p1.print_info()\n",
    "p2.print_info()\n",
    "p2.that_() #static 메소드는 객체를 통해서도 클래스를 통해서도 호출 가능\n",
    "Person.that_() #static 메소드"
   ]
  },
  {
   "cell_type": "code",
   "execution_count": 25,
   "metadata": {},
   "outputs": [
    {
     "name": "stdout",
     "output_type": "stream",
     "text": [
      "클래스 메소드 - 제니는 33세 여성입니다\n"
     ]
    }
   ],
   "source": [
    "Person.do_() #클래스 메소드"
   ]
  },
  {
   "cell_type": "code",
   "execution_count": 26,
   "metadata": {},
   "outputs": [
    {
     "name": "stdout",
     "output_type": "stream",
     "text": [
      "일반(인스턴스=객체) 메소드 - 수련는 37세 여성입니다\n",
      "일반(인스턴스=객체) 메소드 - 제니는 33세 여성입니다\n"
     ]
    }
   ],
   "source": [
    "p1.print_info()\n",
    "p2.print_info()"
   ]
  },
  {
   "cell_type": "code",
   "execution_count": 27,
   "metadata": {},
   "outputs": [
    {
     "name": "stdout",
     "output_type": "stream",
     "text": [
      "일반(인스턴스=객체) 메소드 - 수련는 37세 남성입니다\n",
      "일반(인스턴스=객체) 메소드 - 공유는 477세 남성입니다\n"
     ]
    }
   ],
   "source": [
    "Person.name=\"공유\"\n",
    "Person.gender=\"남성\"\n",
    "Person.age=477\n",
    "p1.print_info()\n",
    "p2.print_info() #변경(지정)하지 않은 데이터는 클래스 데이터 계속해서 참조(클래스 데이터가 바뀌면 바뀜)"
   ]
  },
  {
   "cell_type": "markdown",
   "metadata": {},
   "source": [
    "# 3절. 생성자(\\_\\_init__())와 소멸자(\\_\\_del__())\n",
    "- 생성자 함수: \\_\\_init__(self[, 매개변수1, ...]); 객체가 생성될 때 자동 실행 <br>\n",
    "　　　　　생성시 필요한 코드(객체 멤버의 초기화)를 포함\n",
    "- 소멸자 함수: \\_\\_del__(self); 객체가 소멸될 때 자동 실행 <br>\n",
    "　　　　　소멸시 필요한 코드를 포함 <br>\n",
    "　　　　　인스턴스 객체의 레퍼런스 카운트가 0이 될 때 실행"
   ]
  },
  {
   "cell_type": "code",
   "execution_count": 28,
   "metadata": {},
   "outputs": [],
   "source": [
    "#생성자와 소멸자를 갖는 클래스\n",
    "class Person:\n",
    "    def __init__(self):\n",
    "        print(\"Person 객체를 생성\")\n",
    "        self.name=\"공유\" #일반 변수\n",
    "        self.gender=\"남성\"\n",
    "    def __del__(self):\n",
    "        print(\"Person 객체를 소멸\")\n",
    "    def print_info(self):\n",
    "        print(\"일반 메소드 - {}님은 {}입니다\".format(self.name, self.gender))"
   ]
  },
  {
   "cell_type": "code",
   "execution_count": 29,
   "metadata": {},
   "outputs": [
    {
     "name": "stdout",
     "output_type": "stream",
     "text": [
      "Person 객체를 생성\n",
      "일반 메소드 - 공유님은 남성입니다\n"
     ]
    }
   ],
   "source": [
    "p1 = Person()\n",
    "p1.print_info()"
   ]
  },
  {
   "cell_type": "code",
   "execution_count": 30,
   "metadata": {},
   "outputs": [
    {
     "name": "stdout",
     "output_type": "stream",
     "text": [
      "일반 메소드 - 공지철님은 남성입니다\n"
     ]
    }
   ],
   "source": [
    "p1.name=\"공지철\"\n",
    "p1.print_info()"
   ]
  },
  {
   "cell_type": "code",
   "execution_count": 31,
   "metadata": {},
   "outputs": [
    {
     "data": {
      "text/plain": [
       "(__main__.Person, True)"
      ]
     },
     "execution_count": 31,
     "metadata": {},
     "output_type": "execute_result"
    }
   ],
   "source": [
    "type(p1), isinstance(p1, Person)"
   ]
  },
  {
   "cell_type": "code",
   "execution_count": 32,
   "metadata": {},
   "outputs": [
    {
     "name": "stdout",
     "output_type": "stream",
     "text": [
      "Person 객체를 소멸\n"
     ]
    }
   ],
   "source": [
    "del p1 #인스턴스 객체의 레퍼런스 카운트가 0이 되면 소멸"
   ]
  },
  {
   "cell_type": "code",
   "execution_count": 33,
   "metadata": {},
   "outputs": [
    {
     "name": "stdout",
     "output_type": "stream",
     "text": [
      "Person 객체를 생성\n"
     ]
    }
   ],
   "source": [
    "p1 = Person()"
   ]
  },
  {
   "cell_type": "code",
   "execution_count": 34,
   "metadata": {},
   "outputs": [
    {
     "name": "stdout",
     "output_type": "stream",
     "text": [
      "Person 객체를 생성\n",
      "Person 객체를 소멸\n"
     ]
    }
   ],
   "source": [
    "p1 = Person() #이전 주소 소멸, 새로운 주소 생성"
   ]
  },
  {
   "cell_type": "code",
   "execution_count": 35,
   "metadata": {},
   "outputs": [],
   "source": [
    "p2 = p1"
   ]
  },
  {
   "cell_type": "code",
   "execution_count": 36,
   "metadata": {},
   "outputs": [],
   "source": [
    "del p1"
   ]
  },
  {
   "cell_type": "code",
   "execution_count": 37,
   "metadata": {},
   "outputs": [
    {
     "name": "stdout",
     "output_type": "stream",
     "text": [
      "Person 객체를 소멸\n"
     ]
    }
   ],
   "source": [
    "del p2 #인스턴스 객체의 레퍼런스 카운트가 0이 되면 소멸"
   ]
  },
  {
   "cell_type": "code",
   "execution_count": 38,
   "metadata": {},
   "outputs": [],
   "source": [
    "class Person:\n",
    "    def __init__(self, name, gender):\n",
    "        print(\"Person 객체를 생성\")\n",
    "        self.name= name\n",
    "        self.gender= gender\n",
    "    def __del__(self):\n",
    "        print(\"Person 객체를 소멸\")\n",
    "    def print_info(self):\n",
    "        print(\"일반 메소드 - {}님은 {}입니다\".format(self.name, self.gender))"
   ]
  },
  {
   "cell_type": "code",
   "execution_count": 39,
   "metadata": {},
   "outputs": [
    {
     "name": "stdout",
     "output_type": "stream",
     "text": [
      "Person 객체를 생성\n",
      "일반 메소드 - 이지아님은 여성입니다\n"
     ]
    }
   ],
   "source": [
    "p1 = Person(\"이지아\", \"여성\")\n",
    "p1.print_info()"
   ]
  },
  {
   "cell_type": "code",
   "execution_count": 40,
   "metadata": {},
   "outputs": [
    {
     "name": "stdout",
     "output_type": "stream",
     "text": [
      "Person 객체를 소멸\n"
     ]
    }
   ],
   "source": [
    "del p1"
   ]
  },
  {
   "cell_type": "markdown",
   "metadata": {},
   "source": [
    "<font color=\"red\">\n",
    "* 생성자 함수를 통한 멤버변수의 초기화 <br>\n",
    "* 파이썬은 함수를 중복정의(오버로딩) 불가 <br>\n",
    "* 생성자 함수도 중복정의 불가** </font>"
   ]
  },
  {
   "cell_type": "code",
   "execution_count": 1,
   "metadata": {},
   "outputs": [],
   "source": [
    "class Person:\n",
    "    def __init__(self, name=\"리차드\", gender=\"남성\"):\n",
    "        print(\"Person 객체를 생성\")\n",
    "        self.name= name\n",
    "        self.gender= gender\n",
    "    def __del__(self):\n",
    "        print(\"Person 객체를 소멸\")\n",
    "    def print_info(self):\n",
    "        print(\"일반 메소드 - {}님은 {}입니다\".format(self.name, self.gender))\n",
    "    def __str__(self): #자바의 toString\n",
    "        return \"{}님은 {}입니다\".format(self.name, self.gender)"
   ]
  },
  {
   "cell_type": "code",
   "execution_count": 2,
   "metadata": {},
   "outputs": [
    {
     "name": "stdout",
     "output_type": "stream",
     "text": [
      "Person 객체를 생성\n",
      "Person 객체를 생성\n",
      "Person 객체를 생성\n",
      "일반 메소드 - 제니님은 여성입니다\n",
      "일반 메소드 - 박보검님은 남성입니다\n",
      "일반 메소드 - 리차드님은 남성입니다\n"
     ]
    }
   ],
   "source": [
    "p1 = Person(\"제니\", \"여성\")\n",
    "p2 = Person(\"박보검\")\n",
    "p3 = Person()\n",
    "p1.print_info()\n",
    "p2.print_info()\n",
    "p3.print_info()"
   ]
  },
  {
   "cell_type": "code",
   "execution_count": 3,
   "metadata": {},
   "outputs": [
    {
     "name": "stdout",
     "output_type": "stream",
     "text": [
      "제니님은 여성입니다\n",
      "박보검님은 남성입니다\n",
      "리차드님은 남성입니다\n"
     ]
    }
   ],
   "source": [
    "print(p1)\n",
    "print(p2)\n",
    "print(p3)"
   ]
  },
  {
   "cell_type": "markdown",
   "metadata": {},
   "source": [
    "# 4절. 상속과 재정의"
   ]
  },
  {
   "cell_type": "code",
   "execution_count": 1,
   "metadata": {},
   "outputs": [],
   "source": [
    "class Person:\n",
    "    \"name과 gender를 갖는 Person 타입\"\n",
    "    def __init__(self, name, gender): #매개변수 2개로 호출될 생성자\n",
    "        print(\"Person 객체를 생성\")\n",
    "        self.name= name\n",
    "        self.gender= gender\n",
    "    def __del__(self):\n",
    "        print(\"Person 객체를 소멸\")\n",
    "    def print_info(self):\n",
    "        print(\"일반 메소드 - {}님은 {}입니다\".format(self.name, self.gender))\n",
    "    def __str__(self): \n",
    "        return \"{}님은 {}입니다\".format(self.name, self.gender)"
   ]
  },
  {
   "cell_type": "code",
   "execution_count": 5,
   "metadata": {},
   "outputs": [
    {
     "name": "stdout",
     "output_type": "stream",
     "text": [
      "Person 객체를 생성\n",
      "Person 객체를 소멸\n"
     ]
    }
   ],
   "source": [
    "p1 = Person(\"리차드\", \"남성\")"
   ]
  },
  {
   "cell_type": "code",
   "execution_count": 6,
   "metadata": {},
   "outputs": [],
   "source": [
    "class Student(Person): #class 클래스명(상속받을 클래스):\n",
    "    pass"
   ]
  },
  {
   "cell_type": "code",
   "execution_count": 7,
   "metadata": {},
   "outputs": [
    {
     "data": {
      "text/plain": [
       "True"
      ]
     },
     "execution_count": 7,
     "metadata": {},
     "output_type": "execute_result"
    }
   ],
   "source": [
    "issubclass(Student, Person)"
   ]
  },
  {
   "cell_type": "code",
   "execution_count": 8,
   "metadata": {},
   "outputs": [
    {
     "name": "stdout",
     "output_type": "stream",
     "text": [
      "Person 객체를 생성\n"
     ]
    }
   ],
   "source": [
    "s1 = Student(\"제니\", \"여성\") #super 클래스의 __init__상속"
   ]
  },
  {
   "cell_type": "code",
   "execution_count": 9,
   "metadata": {},
   "outputs": [
    {
     "name": "stdout",
     "output_type": "stream",
     "text": [
      "제니님은 여성입니다\n"
     ]
    }
   ],
   "source": [
    "print(s1)"
   ]
  },
  {
   "cell_type": "code",
   "execution_count": 10,
   "metadata": {},
   "outputs": [
    {
     "name": "stdout",
     "output_type": "stream",
     "text": [
      "일반 메소드 - 제니님은 여성입니다\n"
     ]
    }
   ],
   "source": [
    "s1.print_info()"
   ]
  },
  {
   "cell_type": "code",
   "execution_count": 11,
   "metadata": {},
   "outputs": [],
   "source": [
    "class Student(Person):\n",
    "    \"name, gender, major를 매개변수로 갖는 Student 타입\"\n",
    "    def __init__(self, name, gender, major):\n",
    "        self.name=name\n",
    "        self.gender=gender\n",
    "        self.major=major\n",
    "    def __del__(self):\n",
    "        pass\n",
    "    def print_info(self):\n",
    "        print(\"{}({})님 전공은 {}입니다\".format(self.name, self.gender, self.major))\n",
    "    def __str__(self):  \n",
    "        return \"{}({})님 전공은 {}입니다\".format(self.name, self.gender, self.major)"
   ]
  },
  {
   "cell_type": "code",
   "execution_count": 12,
   "metadata": {},
   "outputs": [
    {
     "name": "stdout",
     "output_type": "stream",
     "text": [
      "Person 객체를 소멸\n",
      "공지철(남성)님 전공은 빅테이터 분석입니다\n",
      "공지철(남성)님 전공은 빅테이터 분석입니다\n"
     ]
    }
   ],
   "source": [
    "s1 = Student(\"공지철\", \"남성\", \"빅테이터 분석\")\n",
    "print(s1)\n",
    "print(s1.__str__())"
   ]
  },
  {
   "cell_type": "code",
   "execution_count": 14,
   "metadata": {},
   "outputs": [
    {
     "data": {
      "text/plain": [
       "(True, True)"
      ]
     },
     "execution_count": 14,
     "metadata": {},
     "output_type": "execute_result"
    }
   ],
   "source": [
    "isinstance(s1, Student), isinstance(s1, Person)"
   ]
  },
  {
   "cell_type": "code",
   "execution_count": 17,
   "metadata": {},
   "outputs": [],
   "source": [
    "#super() 사용\n",
    "class Student(Person):\n",
    "    \"name, gender, major를 매개변수로 갖는 Student 타입\"\n",
    "    def __init__(self, name, gender, major):\n",
    "        #부모 클래스의 생성자를 호출하여 자식 클래스의 생성자 쉽게\n",
    "        Person.__init__(self, name, gender)\n",
    "        self.major=major\n",
    "    def __del__(self):\n",
    "        pass\n",
    "    def print_info(self):\n",
    "        print(\"{}({})님 전공은 {}입니다\".format(self.name, self.gender, self.major))\n",
    "    def __str__(self):  \n",
    "        return super().__str__() + \" 전공은 {}입니다\".format(self.major)\n",
    "        #return Person.__str__(self) + \" 전공은 {}입니다\".format(self.major)"
   ]
  },
  {
   "cell_type": "code",
   "execution_count": 18,
   "metadata": {},
   "outputs": [
    {
     "name": "stdout",
     "output_type": "stream",
     "text": [
      "Person 객체를 생성\n",
      "한지민님은 여성입니다 전공은 통계학입니다\n"
     ]
    }
   ],
   "source": [
    "s1 = Student(\"한지민\", \"여성\", \"통계학\")\n",
    "print(s1)"
   ]
  },
  {
   "cell_type": "markdown",
   "metadata": {},
   "source": [
    "**static 변수: 여러 객체들 사이에 데이터를 공유하고 싶을 때 사용**\n",
    "- 클래스 변수 이름 앞에 under bar 2개(\\_\\_) 붙이면 내부적으로 클래스명._클래스명\\_\\_변수 이름으로 참조"
   ]
  },
  {
   "cell_type": "code",
   "execution_count": 2,
   "metadata": {},
   "outputs": [],
   "source": [
    "class Student(Person):\n",
    "    \"name, gender, major를 매개변수로 갖는 Student 타입(객체 개수 포함)\"\n",
    "    __count = 0; #static 변수\n",
    "    def __init__(self, name, gender, major):\n",
    "        Student._Student__count +=1 #객체가 생설될 때 마다 __count 증가\n",
    "        Person.__init__(self, name, gender)\n",
    "        self.major=major\n",
    "    def __del__(self):\n",
    "        Student._Student__count -=1 #객체가 소멸될 때마다 __count 감소\n",
    "    def print_info(self):\n",
    "        print(\"{}({})님 전공은 {}입니다\".format(self.name, self.gender, self.major))\n",
    "    def __str__(self):  \n",
    "        return super().__str__() + \" 전공은 {}입니다\".format(self.major)\n",
    "        #return Person.__str__(self) + \" 전공은 {}입니다\".format(self.major)\n",
    "    @classmethod\n",
    "    def get_count(cls):\n",
    "        #return Student._Student__count\n",
    "        return cls.__count"
   ]
  },
  {
   "cell_type": "code",
   "execution_count": 3,
   "metadata": {},
   "outputs": [
    {
     "name": "stdout",
     "output_type": "stream",
     "text": [
      "Person 객체를 생성\n",
      "이지아님은 여성입니다 전공은 빅데이터입니다\n",
      "객체 개수: 1\n"
     ]
    }
   ],
   "source": [
    "s1 = Student(\"이지아\", \"여성\", \"빅데이터\")\n",
    "print(s1)\n",
    "print(\"객체 개수:\", s1.get_count())"
   ]
  },
  {
   "cell_type": "code",
   "execution_count": 4,
   "metadata": {},
   "outputs": [
    {
     "name": "stdout",
     "output_type": "stream",
     "text": [
      "Person 객체를 생성\n",
      "한지민님은 여성입니다 전공은 빅데이터 분석입니다\n",
      "객체 개수: 2\n"
     ]
    }
   ],
   "source": [
    "s2 = Student(\"한지민\", \"여성\", \"빅데이터 분석\")\n",
    "print(s2)\n",
    "print(\"객체 개수:\", s2.get_count())"
   ]
  },
  {
   "cell_type": "code",
   "execution_count": 5,
   "metadata": {},
   "outputs": [
    {
     "name": "stdout",
     "output_type": "stream",
     "text": [
      "Person 객체를 생성\n",
      "공유(남성)님 전공은 통계학입니다\n",
      "객체 개수: 3\n",
      "객체 개수: 3\n",
      "객체 개수: 3\n"
     ]
    }
   ],
   "source": [
    "s3 = Student(\"공유\", \"남성\", \"통계학\")\n",
    "s3.print_info()\n",
    "print(\"객체 개수:\", s2.get_count())\n",
    "print(\"객체 개수:\", s3.get_count())\n",
    "print(\"객체 개수:\", Student.get_count())"
   ]
  },
  {
   "cell_type": "code",
   "execution_count": 6,
   "metadata": {},
   "outputs": [
    {
     "name": "stdout",
     "output_type": "stream",
     "text": [
      "객체 개수: 2\n"
     ]
    }
   ],
   "source": [
    "del s3\n",
    "print(\"객체 개수:\", Student.get_count())"
   ]
  },
  {
   "cell_type": "markdown",
   "metadata": {},
   "source": [
    "# 5절. 연습문제"
   ]
  },
  {
   "cell_type": "code",
   "execution_count": 1,
   "metadata": {},
   "outputs": [],
   "source": [
    "#실습형\n",
    "class Shape:\n",
    "    \"x, y 좌표를 갖는 도형 클래스\"\n",
    "    def __init__(self, x=0, y=0):\n",
    "        print(\"Shape 클래스 생성\")\n",
    "        self.x=x\n",
    "        self.y=y\n",
    "    def __del__(self):\n",
    "        print(\"Shape 클래스 소멸\")\n",
    "    def __str__(self):\n",
    "        return \"x:{}, y:{}\".format(self.x, self.y)\n",
    "    def move(self, x, y):\n",
    "        self.x += x\n",
    "        self.y += y\n",
    "    def cal_area(self):\n",
    "        raise Exception(\"상속 받는 도형에 맞게 수정\")\n",
    "    @staticmethod\n",
    "    def print_info():\n",
    "        print(\"static method - x:{}, y:{}\".format(self.x, self.y))"
   ]
  },
  {
   "cell_type": "code",
   "execution_count": 2,
   "metadata": {},
   "outputs": [],
   "source": [
    "class Triangle(Shape):\n",
    "    \"width, height를 변수로 갖는 삼각형 클래스\"\n",
    "    __count=0\n",
    "    def __init__(self, width, height, x=0, y=0):\n",
    "        Triangle._Triangle__count += 1\n",
    "        Shape.__init__(self, x, y)\n",
    "        self.width=width\n",
    "        self.height=height\n",
    "    def __del__(self):\n",
    "        Triangle._Triangle__count -= 1\n",
    "    def __str__(self):\n",
    "        #return Shape.__str__(self) + \", width:{}, height:{}\".format(self.width, self.height)\n",
    "        return super().__str__() + \", width:{}, height{}\".format(self.width, self.height)\n",
    "    def cal_area(self):\n",
    "        return \"삼각형의 넓이: {}\".format(self.width*self.height/2)\n",
    "    @classmethod\n",
    "    def get_count(cls):\n",
    "        return cls.__count\n",
    "        #return Triangle._Triangle__count"
   ]
  },
  {
   "cell_type": "code",
   "execution_count": 3,
   "metadata": {},
   "outputs": [
    {
     "name": "stdout",
     "output_type": "stream",
     "text": [
      "Shape 클래스 생성\n"
     ]
    }
   ],
   "source": [
    "t1 = Triangle(3,4)"
   ]
  },
  {
   "cell_type": "code",
   "execution_count": 4,
   "metadata": {},
   "outputs": [
    {
     "data": {
      "text/plain": [
       "(__main__.Triangle, True, True, True)"
      ]
     },
     "execution_count": 4,
     "metadata": {},
     "output_type": "execute_result"
    }
   ],
   "source": [
    "type(t1), isinstance(t1, Triangle), isinstance(t1, Shape), issubclass(Triangle, Shape)"
   ]
  },
  {
   "cell_type": "code",
   "execution_count": 5,
   "metadata": {},
   "outputs": [
    {
     "name": "stdout",
     "output_type": "stream",
     "text": [
      "x:0, y:0, width:3, height4\n"
     ]
    }
   ],
   "source": [
    "print(t1)"
   ]
  },
  {
   "cell_type": "code",
   "execution_count": 6,
   "metadata": {},
   "outputs": [
    {
     "name": "stdout",
     "output_type": "stream",
     "text": [
      "Shape 클래스 생성\n"
     ]
    }
   ],
   "source": [
    "t2 = Triangle(4,3)"
   ]
  },
  {
   "cell_type": "code",
   "execution_count": 7,
   "metadata": {},
   "outputs": [
    {
     "name": "stdout",
     "output_type": "stream",
     "text": [
      "삼각형의 넓이: 6.0\n",
      "삼각형의 넓이: 6.0\n",
      "2\n"
     ]
    }
   ],
   "source": [
    "print(t1.cal_area())\n",
    "print(t2.cal_area())\n",
    "print(Triangle.get_count())"
   ]
  },
  {
   "cell_type": "code",
   "execution_count": 8,
   "metadata": {},
   "outputs": [
    {
     "name": "stdout",
     "output_type": "stream",
     "text": [
      "Shape 클래스 생성\n",
      "Shape 클래스 생성\n"
     ]
    }
   ],
   "source": [
    "s1 = Shape()\n",
    "s2 = Shape(3,4)"
   ]
  },
  {
   "cell_type": "code",
   "execution_count": 9,
   "metadata": {},
   "outputs": [
    {
     "name": "stdout",
     "output_type": "stream",
     "text": [
      "x:0, y:0\n",
      "x:3, y:4\n"
     ]
    }
   ],
   "source": [
    "print(s1)\n",
    "print(s2.__str__())"
   ]
  },
  {
   "cell_type": "code",
   "execution_count": 10,
   "metadata": {},
   "outputs": [],
   "source": [
    "t1.move(10,10)"
   ]
  },
  {
   "cell_type": "code",
   "execution_count": 11,
   "metadata": {},
   "outputs": [],
   "source": [
    "s1.move(2,4)"
   ]
  },
  {
   "cell_type": "code",
   "execution_count": 12,
   "metadata": {},
   "outputs": [
    {
     "name": "stdout",
     "output_type": "stream",
     "text": [
      "x:2, y:4\n",
      "x:10, y:10, width:3, height4\n"
     ]
    }
   ],
   "source": [
    "print(s1)\n",
    "print(t1)"
   ]
  },
  {
   "cell_type": "code",
   "execution_count": 13,
   "metadata": {},
   "outputs": [
    {
     "ename": "Exception",
     "evalue": "상속 받는 도형에 맞게 수정",
     "output_type": "error",
     "traceback": [
      "\u001b[1;31m---------------------------------------------------------------------------\u001b[0m",
      "\u001b[1;31mException\u001b[0m                                 Traceback (most recent call last)",
      "\u001b[1;32m<ipython-input-13-fb0c98ab0374>\u001b[0m in \u001b[0;36m<module>\u001b[1;34m\u001b[0m\n\u001b[1;32m----> 1\u001b[1;33m \u001b[0ms1\u001b[0m\u001b[1;33m.\u001b[0m\u001b[0mcal_area\u001b[0m\u001b[1;33m(\u001b[0m\u001b[1;33m)\u001b[0m\u001b[1;33m\u001b[0m\u001b[1;33m\u001b[0m\u001b[0m\n\u001b[0m",
      "\u001b[1;32m<ipython-input-1-635f59ab11db>\u001b[0m in \u001b[0;36mcal_area\u001b[1;34m(self)\u001b[0m\n\u001b[0;32m     14\u001b[0m         \u001b[0mself\u001b[0m\u001b[1;33m.\u001b[0m\u001b[0my\u001b[0m \u001b[1;33m+=\u001b[0m \u001b[0my\u001b[0m\u001b[1;33m\u001b[0m\u001b[1;33m\u001b[0m\u001b[0m\n\u001b[0;32m     15\u001b[0m     \u001b[1;32mdef\u001b[0m \u001b[0mcal_area\u001b[0m\u001b[1;33m(\u001b[0m\u001b[0mself\u001b[0m\u001b[1;33m)\u001b[0m\u001b[1;33m:\u001b[0m\u001b[1;33m\u001b[0m\u001b[1;33m\u001b[0m\u001b[0m\n\u001b[1;32m---> 16\u001b[1;33m         \u001b[1;32mraise\u001b[0m \u001b[0mException\u001b[0m\u001b[1;33m(\u001b[0m\u001b[1;34m\"상속 받는 도형에 맞게 수정\"\u001b[0m\u001b[1;33m)\u001b[0m\u001b[1;33m\u001b[0m\u001b[1;33m\u001b[0m\u001b[0m\n\u001b[0m\u001b[0;32m     17\u001b[0m     \u001b[1;33m@\u001b[0m\u001b[0mstaticmethod\u001b[0m\u001b[1;33m\u001b[0m\u001b[1;33m\u001b[0m\u001b[0m\n\u001b[0;32m     18\u001b[0m     \u001b[1;32mdef\u001b[0m \u001b[0mprint_info\u001b[0m\u001b[1;33m(\u001b[0m\u001b[1;33m)\u001b[0m\u001b[1;33m:\u001b[0m\u001b[1;33m\u001b[0m\u001b[1;33m\u001b[0m\u001b[0m\n",
      "\u001b[1;31mException\u001b[0m: 상속 받는 도형에 맞게 수정"
     ]
    }
   ],
   "source": [
    "s1.cal_area()"
   ]
  },
  {
   "cell_type": "code",
   "execution_count": 14,
   "metadata": {},
   "outputs": [
    {
     "name": "stdout",
     "output_type": "stream",
     "text": [
      "2\n"
     ]
    }
   ],
   "source": [
    "print(t1.get_count())"
   ]
  },
  {
   "cell_type": "code",
   "execution_count": 15,
   "metadata": {},
   "outputs": [],
   "source": [
    "del t1"
   ]
  },
  {
   "cell_type": "code",
   "execution_count": 17,
   "metadata": {},
   "outputs": [
    {
     "data": {
      "text/plain": [
       "1"
      ]
     },
     "execution_count": 17,
     "metadata": {},
     "output_type": "execute_result"
    }
   ],
   "source": [
    "Triangle.get_count()"
   ]
  },
  {
   "cell_type": "markdown",
   "metadata": {},
   "source": [
    "- 서술형1 올바른 클래스 정의: class Person():\n",
    "- 서술형2 Person 클래스 객체 생성: p1=Person()\n",
    "- 서술형3 인스턴스 메소드 선언: def print_info(self):\n",
    "- 서술형4 생성자와 소멸자에 대해 잘못 설명: 1번 -> 파이썬은 함수 오버로딩 지원X\n",
    "- 서술형5 Student is Person 클래스 상속: clss Student(Person):\n",
    "- 서술형6 상속과 재정의에 대해 잘못 설명: 3번 -> 매개변수 수가 같아야 함\n",
    "- 서술형7 클래스 메소드 호출방법 중 잘못 된 것: 3번(인스턴스 메소드(self)는 객체로 호출)\n",
    "- 서술형8 빈 칸에 넣을 수 없는 것: 3번\n",
    "- 서술형9 속성과 메소드에 대한 설명 중 잘못: 2번 -> \\_\\_str__()메소드는 self 매개변수 필요"
   ]
  },
  {
   "cell_type": "code",
   "execution_count": 18,
   "metadata": {},
   "outputs": [],
   "source": [
    "class SomeClass:\n",
    "    def method_a(self): #객체로만 호출\n",
    "        print(\"method_a\")\n",
    "    @classmethod\n",
    "    def method_b(cls): \n",
    "        print(\"method_b\")\n",
    "obj=SomeClass()"
   ]
  },
  {
   "cell_type": "code",
   "execution_count": 19,
   "metadata": {},
   "outputs": [
    {
     "name": "stdout",
     "output_type": "stream",
     "text": [
      "method_a\n",
      "method_b\n",
      "method_b\n"
     ]
    }
   ],
   "source": [
    "obj.method_a()\n",
    "obj.method_b()\n",
    "SomeClass.method_b()"
   ]
  },
  {
   "cell_type": "code",
   "execution_count": 21,
   "metadata": {},
   "outputs": [
    {
     "ename": "TypeError",
     "evalue": "method_a() missing 1 required positional argument: 'self'",
     "output_type": "error",
     "traceback": [
      "\u001b[1;31m---------------------------------------------------------------------------\u001b[0m",
      "\u001b[1;31mTypeError\u001b[0m                                 Traceback (most recent call last)",
      "\u001b[1;32m<ipython-input-21-d1d504b05037>\u001b[0m in \u001b[0;36m<module>\u001b[1;34m\u001b[0m\n\u001b[1;32m----> 1\u001b[1;33m \u001b[0mSomeClass\u001b[0m\u001b[1;33m.\u001b[0m\u001b[0mmethod_a\u001b[0m\u001b[1;33m(\u001b[0m\u001b[1;33m)\u001b[0m\u001b[1;33m\u001b[0m\u001b[1;33m\u001b[0m\u001b[0m\n\u001b[0m",
      "\u001b[1;31mTypeError\u001b[0m: method_a() missing 1 required positional argument: 'self'"
     ]
    }
   ],
   "source": [
    "SomeClass.method_a() #객체로 호출해야 함"
   ]
  },
  {
   "cell_type": "code",
   "execution_count": 22,
   "metadata": {},
   "outputs": [],
   "source": [
    "#서술형9\n",
    "class Person:\n",
    "    \"서술형 9번 문제 풀이\"\n",
    "    def __init__(self, name=\"서술형\", no=9):\n",
    "        self.name=name\n",
    "        self.no=no\n",
    "    def __del__(self):\n",
    "        pass\n",
    "    def __str__(self): #self 매개변수 필요\n",
    "        return \"이름은 \"+self.name\n",
    "    def print_info(self):\n",
    "        print(self.name)"
   ]
  },
  {
   "cell_type": "code",
   "execution_count": 23,
   "metadata": {},
   "outputs": [
    {
     "name": "stdout",
     "output_type": "stream",
     "text": [
      "이름은 서술형\n"
     ]
    }
   ],
   "source": [
    "p = Person()\n",
    "print(p)"
   ]
  },
  {
   "cell_type": "code",
   "execution_count": 24,
   "metadata": {},
   "outputs": [
    {
     "data": {
      "text/plain": [
       "{'name': '서술형', 'no': 9}"
      ]
     },
     "execution_count": 24,
     "metadata": {},
     "output_type": "execute_result"
    }
   ],
   "source": [
    "p.__dict__ #클래스 멤버 확인"
   ]
  },
  {
   "cell_type": "code",
   "execution_count": null,
   "metadata": {},
   "outputs": [],
   "source": []
  }
 ],
 "metadata": {
  "kernelspec": {
   "display_name": "Python 3",
   "language": "python",
   "name": "python3"
  },
  "language_info": {
   "codemirror_mode": {
    "name": "ipython",
    "version": 3
   },
   "file_extension": ".py",
   "mimetype": "text/x-python",
   "name": "python",
   "nbconvert_exporter": "python",
   "pygments_lexer": "ipython3",
   "version": "3.8.5"
  }
 },
 "nbformat": 4,
 "nbformat_minor": 4
}
