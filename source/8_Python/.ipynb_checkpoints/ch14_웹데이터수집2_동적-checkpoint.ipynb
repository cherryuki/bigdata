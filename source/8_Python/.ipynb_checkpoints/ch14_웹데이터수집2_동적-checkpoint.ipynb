{
 "cells": [
  {
   "cell_type": "markdown",
   "metadata": {},
   "source": [
    "**21-03-18 python 14_웹데이터수집2 - 동적 (c)cherryuki (ji)**"
   ]
  },
  {
   "cell_type": "markdown",
   "metadata": {},
   "source": [
    "# ch14 웹데이터 수집(동적)"
   ]
  },
  {
   "cell_type": "markdown",
   "metadata": {},
   "source": [
    "# 3절. Selenium\n",
    "- https://selenium-python.readthedocs.io/\n",
    "- 아나콘다 prompt에서 pip install selenium\n",
    "- 크롬 드라이브 다운(크롬 버전 확인): https://sites.google.com/a/chromium.org/chromedriver/downloads"
   ]
  },
  {
   "cell_type": "code",
   "execution_count": 4,
   "metadata": {},
   "outputs": [],
   "source": [
    "from selenium import webdriver\n",
    "driver = webdriver.Chrome('C:/Bigdata_자료/src/Selenium/chromedriver.exe')"
   ]
  },
  {
   "cell_type": "code",
   "execution_count": 5,
   "metadata": {},
   "outputs": [],
   "source": [
    "#지정한 url로 이동\n",
    "driver.get('http://python.org')"
   ]
  },
  {
   "cell_type": "code",
   "execution_count": 6,
   "metadata": {},
   "outputs": [],
   "source": [
    "#Search(입력창)\n",
    "elem = driver.find_element_by_name('q')\n",
    "elem.clear() #입력창 내용 지우기\n",
    "elem.send_keys(\"pycon\") #입력창에 pycon 입력"
   ]
  },
  {
   "cell_type": "code",
   "execution_count": 7,
   "metadata": {},
   "outputs": [],
   "source": [
    "from selenium.webdriver.common.keys import Keys\n",
    "elem.send_keys(Keys.RETURN) #Enter키 Keys.ENTER도 동일 "
   ]
  },
  {
   "cell_type": "code",
   "execution_count": 8,
   "metadata": {},
   "outputs": [
    {
     "name": "stdout",
     "output_type": "stream",
     "text": [
      "PSF PyCon Trademark Usage Policy - https://www.python.org/psf/trademarks/pycon\n",
      "Conferences and Workshops - https://www.python.org/community/workshops\n",
      "PyCon Italia 2016 (PyCon Sette) - https://www.python.org/events/python-events/378/\n",
      "2008-04-14 PSF Board Meeting Minutes - https://www.python.org/psf/records/board/minutes/2008-04-14\n",
      "2012-07-16 PSF Board Meeting Minutes - https://www.python.org/psf/records/board/minutes/2012-07-16\n",
      "2013-02-06 PSF Board Meeting Minutes - https://www.python.org/psf/records/board/minutes/2013-02-06\n",
      "PyCon Home at python.org - https://www.python.org/community/pycon\n",
      "PyCon Australia 2013 - https://www.python.org/events/python-events/57/\n",
      "PyCon AU 2019 - https://www.python.org/events/python-events/776/\n",
      "PyCon Australia 2014 - https://www.python.org/events/python-events/10/\n",
      "PyCon Ireland 2012 - https://www.python.org/events/python-events/76/\n",
      "PyCon Ireland 2016 - https://www.python.org/events/python-events/429/\n",
      "PyCon AU 2018 - https://www.python.org/events/python-events/696/\n",
      "PyCon Ireland 2015 - https://www.python.org/events/python-events/333/\n",
      "PyCon PL 2014 - https://www.python.org/events/python-events/191/\n",
      "PyCon AU 2015 - https://www.python.org/events/python-events/273/\n",
      "PyCon MY 2015 - https://www.python.org/events/python-events/313/\n",
      "PyCon Australia 2016 - https://www.python.org/events/python-events/357/\n",
      "PyCon MY 2014 - https://www.python.org/events/python-events/151/\n",
      "PyCon Ireland 2014 - https://www.python.org/events/python-events/149/\n"
     ]
    }
   ],
   "source": [
    "result_list = driver.find_elements_by_css_selector(\"form h3 > a\")\n",
    "for result in result_list:\n",
    "    print('%s - %s' %(result.text, result.get_attribute('href')))"
   ]
  },
  {
   "cell_type": "code",
   "execution_count": 9,
   "metadata": {},
   "outputs": [],
   "source": [
    "#브라우저 종료\n",
    "driver.close()"
   ]
  },
  {
   "cell_type": "markdown",
   "metadata": {},
   "source": [
    "**맞춤법 검사기(네이버 맞춤법 검사기 이용)**"
   ]
  },
  {
   "cell_type": "code",
   "execution_count": 10,
   "metadata": {},
   "outputs": [],
   "source": [
    "from selenium import webdriver\n",
    "from selenium.webdriver.common.keys import Keys\n",
    "from bs4 import BeautifulSoup\n",
    "import time"
   ]
  },
  {
   "cell_type": "code",
   "execution_count": 12,
   "metadata": {},
   "outputs": [],
   "source": [
    "driver = webdriver.Chrome('C:/Bigdata_자료/src/Selenium/chromedriver.exe')\n",
    "driver.get('https://www.naver.com/')"
   ]
  },
  {
   "cell_type": "code",
   "execution_count": 13,
   "metadata": {},
   "outputs": [],
   "source": [
    "elem = driver.find_element_by_id(\"query\")\n",
    "elem.clear()\n",
    "elem.send_keys(\"맞춤법 검사기\")\n",
    "elem.send_keys(Keys.ENTER)\n",
    "#elem.send_keys(Keys.RETURN) #Enter키 누르기"
   ]
  },
  {
   "cell_type": "code",
   "execution_count": 14,
   "metadata": {},
   "outputs": [],
   "source": [
    "elem_text = driver.find_element_by_class_name(\"txt_gray\")\n",
    "elem_text.clear()\n",
    "elem_text.send_keys(\"안영하세요\")\n",
    "elem_button = driver.find_element_by_class_name(\"btn_check\")\n",
    "elem_button.click()"
   ]
  },
  {
   "cell_type": "code",
   "execution_count": 15,
   "metadata": {},
   "outputs": [
    {
     "data": {
      "text/plain": [
       "'안녕하세요'"
      ]
     },
     "execution_count": 15,
     "metadata": {},
     "output_type": "execute_result"
    }
   ],
   "source": [
    "soup = BeautifulSoup(driver.page_source, 'html.parser')\n",
    "result = soup.select_one('p._result_text').text\n",
    "result"
   ]
  },
  {
   "cell_type": "code",
   "execution_count": 16,
   "metadata": {},
   "outputs": [],
   "source": [
    "driver.close()"
   ]
  },
  {
   "cell_type": "markdown",
   "metadata": {},
   "source": [
    "**한 번에 실행되도록 수정**\n",
    "- time.sleep(n); n초 동안 기다려주는 작업 필요"
   ]
  },
  {
   "cell_type": "code",
   "execution_count": 17,
   "metadata": {},
   "outputs": [
    {
     "name": "stdout",
     "output_type": "stream",
     "text": [
      "안녕하세요\n"
     ]
    }
   ],
   "source": [
    "driver = webdriver.Chrome('C:/Bigdata_자료/src/Selenium/chromedriver.exe')\n",
    "driver.get('https://www.naver.com')\n",
    "elem = driver.find_element_by_id(\"query\")\n",
    "elem.clear()\n",
    "elem.send_keys(\"맞춤법 검사기\")\n",
    "elem.send_keys(Keys.ENTER)\n",
    "time.sleep(1) #기다려주는 작업 필요\n",
    "elem_text = driver.find_element_by_class_name(\"txt_gray\")\n",
    "elem_text.clear()\n",
    "elem_text.send_keys(\"안영하세요\")\n",
    "elem_button = driver.find_element_by_class_name(\"btn_check\")\n",
    "elem_button.click()\n",
    "time.sleep(2) #기다려주는 작업 필요 (맞춤법 검사 중입니다. 잠시만 기다려주세요.가 나오지 않게 설정)\n",
    "soup = BeautifulSoup(driver.page_source, 'html.parser')\n",
    "result = soup.select_one(\"p._result_text\").text\n",
    "print(result)\n",
    "#기다려주는 작업 없으면 result 제대로 프린트 되지 않음\n",
    "driver.close()"
   ]
  },
  {
   "cell_type": "markdown",
   "metadata": {},
   "source": [
    "**text파일을 맞춤법 검사 후 text파일로 저장**"
   ]
  },
  {
   "cell_type": "code",
   "execution_count": 19,
   "metadata": {},
   "outputs": [],
   "source": [
    "from selenium import webdriver\n",
    "from selenium.webdriver.common.keys import Keys\n",
    "from bs4 import BeautifulSoup\n",
    "import time\n",
    "with open('data/ch14_맞춤법검사용.txt', 'r', encoding='utf8') as f:\n",
    "    text = f.read()\n",
    "len(text) #825\n",
    "ready_list = []\n",
    "while len(text) > 500:\n",
    "    temp_str = text[:500]\n",
    "    last_space_idx = temp_str.rfind(' ') #번역처럼 문장 단위로 나눌 경우 '.'\n",
    "    ready_list.append(text[:last_space_idx])\n",
    "    text = text[last_space_idx:] #ready_list에 append한 부분은 없앰\n",
    "ready_list.append(text)\n",
    "#print(len(ready_list))\n",
    "\n",
    "driver = webdriver.Chrome('C:/Bigdata_자료/src/Selenium/chromedriver.exe')\n",
    "driver.get('https://www.naver.com')\n",
    "elem = driver.find_element_by_id(\"query\")\n",
    "elem.clear()\n",
    "elem.send_keys(\"맞춤법 검사기\")\n",
    "elem.send_keys(Keys.ENTER) \n",
    "time.sleep(1) #기다려주는 작업 필요\n",
    "\n",
    "elem_text = driver.find_element_by_class_name(\"txt_gray\")\n",
    "results=\"\"\n",
    "for ready in ready_list:\n",
    "    elem_text.send_keys(Keys.CONTROL, 'a') #Ctrl+a; 텍스트 모두 선택\n",
    "    elem_text.send_keys(ready)\n",
    "    elem_button = driver.find_element_by_class_name(\"btn_check\")\n",
    "    elem_button.click()\n",
    "    time.sleep(2)\n",
    "    soup = BeautifulSoup(driver.page_source, 'html.parser')\n",
    "    result = soup.select_one(\"p._result_text\").text\n",
    "    results += result.replace('.', '.\\n')\n",
    "#results\n",
    "with open('data/ch14_checked.txt', 'w', encoding='utf-8') as f:\n",
    "    f.write(results)\n",
    "driver.close()\n",
    "#맞춤법 검사기 완벽하지 않음(일부러 틀린 내용들 중 바뀌지 않은 내용들 있는 것 확인)\n",
    "#파일은 저작권문제로 확인 후 삭제완료"
   ]
  },
  {
   "cell_type": "code",
   "execution_count": null,
   "metadata": {},
   "outputs": [],
   "source": []
  }
 ],
 "metadata": {
  "kernelspec": {
   "display_name": "Python 3",
   "language": "python",
   "name": "python3"
  },
  "language_info": {
   "codemirror_mode": {
    "name": "ipython",
    "version": 3
   },
   "file_extension": ".py",
   "mimetype": "text/x-python",
   "name": "python",
   "nbconvert_exporter": "python",
   "pygments_lexer": "ipython3",
   "version": "3.8.5"
  },
  "toc": {
   "base_numbering": 1,
   "nav_menu": {},
   "number_sections": false,
   "sideBar": true,
   "skip_h1_title": false,
   "title_cell": "Table of Contents",
   "title_sidebar": "Contents",
   "toc_cell": false,
   "toc_position": {},
   "toc_section_display": true,
   "toc_window_display": false
  },
  "varInspector": {
   "cols": {
    "lenName": 16,
    "lenType": 16,
    "lenVar": 40
   },
   "kernels_config": {
    "python": {
     "delete_cmd_postfix": "",
     "delete_cmd_prefix": "del ",
     "library": "var_list.py",
     "varRefreshCmd": "print(var_dic_list())"
    },
    "r": {
     "delete_cmd_postfix": ") ",
     "delete_cmd_prefix": "rm(",
     "library": "var_list.r",
     "varRefreshCmd": "cat(var_dic_list()) "
    }
   },
   "types_to_exclude": [
    "module",
    "function",
    "builtin_function_or_method",
    "instance",
    "_Feature"
   ],
   "window_display": false
  }
 },
 "nbformat": 4,
 "nbformat_minor": 4
}
