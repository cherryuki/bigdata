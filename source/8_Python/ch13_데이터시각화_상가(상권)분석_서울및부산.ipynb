{
 "cells": [
  {
   "cell_type": "markdown",
   "metadata": {},
   "source": [
    "**21-03-15 python 13_데이터 시각화_예제2 (c)cherryuki (ji)**"
   ]
  },
  {
   "cell_type": "markdown",
   "metadata": {},
   "source": [
    "### 1.필요한 라이브러리를 로드하고 시각화에서 디스플레이를 선명하게 표시되도록 하고, 한글 폰트가 나오도록 설정하고 확인한다."
   ]
  },
  {
   "cell_type": "code",
   "execution_count": 1,
   "metadata": {},
   "outputs": [],
   "source": [
    "#새 파일 시작전 설정\n",
    "import matplotlib.pyplot as plt\n",
    "%matplotlib inline\n",
    "%config InlineBackend.figure_format='retina'\n",
    "#한글 설정\n",
    "plt.rc(\"font\", family=\"Malgun Gothic\")\n",
    "plt.rc(\"axes\", unicode_minus=False) # y축\n",
    "import pandas as pd\n",
    "import numpy as np\n",
    "import seaborn as sns"
   ]
  },
  {
   "cell_type": "markdown",
   "metadata": {},
   "source": [
    "### 2.https://www.data.go.kr에서 “상가(상권)정보”를 다운 받아, 서울과 부산데이터만 df 변수에 읽어들인다."
   ]
  },
  {
   "cell_type": "code",
   "execution_count": 2,
   "metadata": {},
   "outputs": [
    {
     "name": "stderr",
     "output_type": "stream",
     "text": [
      "C:\\Users\\Home\\anaconda3\\lib\\site-packages\\IPython\\core\\interactiveshell.py:3146: DtypeWarning: Columns (35) have mixed types.Specify dtype option on import or set low_memory=False.\n",
      "  has_raised = await self.run_ast_nodes(code_ast.body, cell_name,\n"
     ]
    }
   ],
   "source": [
    "df_seoul = pd.read_csv('data/소상공인시장진흥공단_상가(상권)정보_서울_202012.csv', encoding='utf8', sep='|')\n",
    "df_pusan = pd.read_csv('data/소상공인시장진흥공단_상가(상권)정보_부산_202012.csv', encoding='utf8', sep='|')"
   ]
  },
  {
   "cell_type": "code",
   "execution_count": 3,
   "metadata": {},
   "outputs": [
    {
     "data": {
      "text/html": [
       "<div>\n",
       "<style scoped>\n",
       "    .dataframe tbody tr th:only-of-type {\n",
       "        vertical-align: middle;\n",
       "    }\n",
       "\n",
       "    .dataframe tbody tr th {\n",
       "        vertical-align: top;\n",
       "    }\n",
       "\n",
       "    .dataframe thead th {\n",
       "        text-align: right;\n",
       "    }\n",
       "</style>\n",
       "<table border=\"1\" class=\"dataframe\">\n",
       "  <thead>\n",
       "    <tr style=\"text-align: right;\">\n",
       "      <th></th>\n",
       "      <th>상가업소번호</th>\n",
       "      <th>상호명</th>\n",
       "      <th>지점명</th>\n",
       "      <th>상권업종대분류코드</th>\n",
       "      <th>상권업종대분류명</th>\n",
       "      <th>상권업종중분류코드</th>\n",
       "      <th>상권업종중분류명</th>\n",
       "      <th>상권업종소분류코드</th>\n",
       "      <th>상권업종소분류명</th>\n",
       "      <th>표준산업분류코드</th>\n",
       "      <th>...</th>\n",
       "      <th>건물관리번호</th>\n",
       "      <th>건물명</th>\n",
       "      <th>도로명주소</th>\n",
       "      <th>구우편번호</th>\n",
       "      <th>신우편번호</th>\n",
       "      <th>동정보</th>\n",
       "      <th>층정보</th>\n",
       "      <th>호정보</th>\n",
       "      <th>경도</th>\n",
       "      <th>위도</th>\n",
       "    </tr>\n",
       "  </thead>\n",
       "  <tbody>\n",
       "    <tr>\n",
       "      <th>0</th>\n",
       "      <td>17163092</td>\n",
       "      <td>도전최강달인왕만두</td>\n",
       "      <td>NaN</td>\n",
       "      <td>Q</td>\n",
       "      <td>음식</td>\n",
       "      <td>Q01</td>\n",
       "      <td>한식</td>\n",
       "      <td>Q01A01</td>\n",
       "      <td>한식/백반/한정식</td>\n",
       "      <td>I56111</td>\n",
       "      <td>...</td>\n",
       "      <td>1174010200102170000018014</td>\n",
       "      <td>고덕그라시움</td>\n",
       "      <td>서울특별시 강동구 고덕로 333</td>\n",
       "      <td>134082</td>\n",
       "      <td>5224.0</td>\n",
       "      <td>NaN</td>\n",
       "      <td>NaN</td>\n",
       "      <td>NaN</td>\n",
       "      <td>127.159471</td>\n",
       "      <td>37.556197</td>\n",
       "    </tr>\n",
       "  </tbody>\n",
       "</table>\n",
       "<p>1 rows × 39 columns</p>\n",
       "</div>"
      ],
      "text/plain": [
       "     상가업소번호        상호명  지점명 상권업종대분류코드 상권업종대분류명 상권업종중분류코드 상권업종중분류명 상권업종소분류코드  \\\n",
       "0  17163092  도전최강달인왕만두  NaN         Q       음식       Q01       한식    Q01A01   \n",
       "\n",
       "    상권업종소분류명 표준산업분류코드  ...                     건물관리번호     건물명  \\\n",
       "0  한식/백반/한정식   I56111  ...  1174010200102170000018014  고덕그라시움   \n",
       "\n",
       "               도로명주소   구우편번호   신우편번호  동정보  층정보  호정보          경도         위도  \n",
       "0  서울특별시 강동구 고덕로 333  134082  5224.0  NaN  NaN  NaN  127.159471  37.556197  \n",
       "\n",
       "[1 rows x 39 columns]"
      ]
     },
     "execution_count": 3,
     "metadata": {},
     "output_type": "execute_result"
    }
   ],
   "source": [
    "df_seoul.head(1)"
   ]
  },
  {
   "cell_type": "code",
   "execution_count": 4,
   "metadata": {},
   "outputs": [
    {
     "data": {
      "text/plain": [
       "True"
      ]
     },
     "execution_count": 4,
     "metadata": {},
     "output_type": "execute_result"
    }
   ],
   "source": [
    "all(df_pusan.columns==df_seoul.columns)"
   ]
  },
  {
   "cell_type": "code",
   "execution_count": 5,
   "metadata": {},
   "outputs": [
    {
     "data": {
      "text/html": [
       "<div>\n",
       "<style scoped>\n",
       "    .dataframe tbody tr th:only-of-type {\n",
       "        vertical-align: middle;\n",
       "    }\n",
       "\n",
       "    .dataframe tbody tr th {\n",
       "        vertical-align: top;\n",
       "    }\n",
       "\n",
       "    .dataframe thead th {\n",
       "        text-align: right;\n",
       "    }\n",
       "</style>\n",
       "<table border=\"1\" class=\"dataframe\">\n",
       "  <thead>\n",
       "    <tr style=\"text-align: right;\">\n",
       "      <th></th>\n",
       "      <th>index</th>\n",
       "      <th>상가업소번호</th>\n",
       "      <th>상호명</th>\n",
       "      <th>지점명</th>\n",
       "      <th>상권업종대분류코드</th>\n",
       "      <th>상권업종대분류명</th>\n",
       "      <th>상권업종중분류코드</th>\n",
       "      <th>상권업종중분류명</th>\n",
       "      <th>상권업종소분류코드</th>\n",
       "      <th>상권업종소분류명</th>\n",
       "      <th>...</th>\n",
       "      <th>건물관리번호</th>\n",
       "      <th>건물명</th>\n",
       "      <th>도로명주소</th>\n",
       "      <th>구우편번호</th>\n",
       "      <th>신우편번호</th>\n",
       "      <th>동정보</th>\n",
       "      <th>층정보</th>\n",
       "      <th>호정보</th>\n",
       "      <th>경도</th>\n",
       "      <th>위도</th>\n",
       "    </tr>\n",
       "  </thead>\n",
       "  <tbody>\n",
       "    <tr>\n",
       "      <th>344446</th>\n",
       "      <td>344446</td>\n",
       "      <td>17216543</td>\n",
       "      <td>회장님댁</td>\n",
       "      <td>신천점</td>\n",
       "      <td>Q</td>\n",
       "      <td>음식</td>\n",
       "      <td>Q09</td>\n",
       "      <td>유흥주점</td>\n",
       "      <td>Q09A07</td>\n",
       "      <td>기타일반유흥주점</td>\n",
       "      <td>...</td>\n",
       "      <td>1171010100101800006000657</td>\n",
       "      <td>NaN</td>\n",
       "      <td>서울특별시 송파구 올림픽로12길 4-23</td>\n",
       "      <td>138861</td>\n",
       "      <td>5557.0</td>\n",
       "      <td>NaN</td>\n",
       "      <td>1</td>\n",
       "      <td>NaN</td>\n",
       "      <td>127.081590</td>\n",
       "      <td>37.511096</td>\n",
       "    </tr>\n",
       "    <tr>\n",
       "      <th>301622</th>\n",
       "      <td>301622</td>\n",
       "      <td>20747964</td>\n",
       "      <td>슈튜어트와이츠먼</td>\n",
       "      <td>NaN</td>\n",
       "      <td>D</td>\n",
       "      <td>소매</td>\n",
       "      <td>D05</td>\n",
       "      <td>의복의류</td>\n",
       "      <td>D05A03</td>\n",
       "      <td>여성의류전문점</td>\n",
       "      <td>...</td>\n",
       "      <td>1168010500101590007016829</td>\n",
       "      <td>무역센터현대백화점</td>\n",
       "      <td>서울특별시 강남구 테헤란로 517</td>\n",
       "      <td>135730</td>\n",
       "      <td>6164.0</td>\n",
       "      <td>NaN</td>\n",
       "      <td>3</td>\n",
       "      <td>NaN</td>\n",
       "      <td>127.059745</td>\n",
       "      <td>37.508608</td>\n",
       "    </tr>\n",
       "    <tr>\n",
       "      <th>214804</th>\n",
       "      <td>214804</td>\n",
       "      <td>24508426</td>\n",
       "      <td>세종마트</td>\n",
       "      <td>NaN</td>\n",
       "      <td>D</td>\n",
       "      <td>소매</td>\n",
       "      <td>D03</td>\n",
       "      <td>종합소매점</td>\n",
       "      <td>D03A02</td>\n",
       "      <td>수퍼마켓</td>\n",
       "      <td>...</td>\n",
       "      <td>1111010900101660118029354</td>\n",
       "      <td>NaN</td>\n",
       "      <td>서울특별시 종로구 옥인6길 5</td>\n",
       "      <td>110041</td>\n",
       "      <td>3038.0</td>\n",
       "      <td>NaN</td>\n",
       "      <td>1</td>\n",
       "      <td>1</td>\n",
       "      <td>126.964365</td>\n",
       "      <td>37.581894</td>\n",
       "    </tr>\n",
       "  </tbody>\n",
       "</table>\n",
       "<p>3 rows × 40 columns</p>\n",
       "</div>"
      ],
      "text/plain": [
       "         index    상가업소번호       상호명  지점명 상권업종대분류코드 상권업종대분류명 상권업종중분류코드 상권업종중분류명  \\\n",
       "344446  344446  17216543      회장님댁  신천점         Q       음식       Q09     유흥주점   \n",
       "301622  301622  20747964  슈튜어트와이츠먼  NaN         D       소매       D05     의복의류   \n",
       "214804  214804  24508426      세종마트  NaN         D       소매       D03    종합소매점   \n",
       "\n",
       "       상권업종소분류코드  상권업종소분류명  ...                     건물관리번호        건물명  \\\n",
       "344446    Q09A07  기타일반유흥주점  ...  1171010100101800006000657        NaN   \n",
       "301622    D05A03   여성의류전문점  ...  1168010500101590007016829  무역센터현대백화점   \n",
       "214804    D03A02      수퍼마켓  ...  1111010900101660118029354        NaN   \n",
       "\n",
       "                         도로명주소   구우편번호   신우편번호  동정보  층정보  호정보          경도  \\\n",
       "344446  서울특별시 송파구 올림픽로12길 4-23  138861  5557.0  NaN    1  NaN  127.081590   \n",
       "301622      서울특별시 강남구 테헤란로 517  135730  6164.0  NaN    3  NaN  127.059745   \n",
       "214804        서울특별시 종로구 옥인6길 5  110041  3038.0  NaN    1    1  126.964365   \n",
       "\n",
       "               위도  \n",
       "344446  37.511096  \n",
       "301622  37.508608  \n",
       "214804  37.581894  \n",
       "\n",
       "[3 rows x 40 columns]"
      ]
     },
     "execution_count": 5,
     "metadata": {},
     "output_type": "execute_result"
    }
   ],
   "source": [
    "df_data = pd.concat([df_seoul, df_pusan])\n",
    "df_data.reset_index(inplace=True)\n",
    "df_data.sample(3)"
   ]
  },
  {
   "cell_type": "markdown",
   "metadata": {},
   "source": [
    "### 3.df 데이터 셋의 결측치 확인 및 시각화"
   ]
  },
  {
   "cell_type": "markdown",
   "metadata": {},
   "source": [
    "① df 변수의 컬럼들을 확인하고 상위 3줄, 하위3줄을 출력한다."
   ]
  },
  {
   "cell_type": "code",
   "execution_count": 6,
   "metadata": {},
   "outputs": [
    {
     "data": {
      "text/plain": [
       "Index(['index', '상가업소번호', '상호명', '지점명', '상권업종대분류코드', '상권업종대분류명', '상권업종중분류코드',\n",
       "       '상권업종중분류명', '상권업종소분류코드', '상권업종소분류명', '표준산업분류코드', '표준산업분류명', '시도코드',\n",
       "       '시도명', '시군구코드', '시군구명', '행정동코드', '행정동명', '법정동코드', '법정동명', '지번코드',\n",
       "       '대지구분코드', '대지구분명', '지번본번지', '지번부번지', '지번주소', '도로명코드', '도로명', '건물본번지',\n",
       "       '건물부번지', '건물관리번호', '건물명', '도로명주소', '구우편번호', '신우편번호', '동정보', '층정보',\n",
       "       '호정보', '경도', '위도'],\n",
       "      dtype='object')"
      ]
     },
     "execution_count": 6,
     "metadata": {},
     "output_type": "execute_result"
    }
   ],
   "source": [
    "df_data.columns"
   ]
  },
  {
   "cell_type": "code",
   "execution_count": 7,
   "metadata": {},
   "outputs": [
    {
     "data": {
      "text/html": [
       "<div>\n",
       "<style scoped>\n",
       "    .dataframe tbody tr th:only-of-type {\n",
       "        vertical-align: middle;\n",
       "    }\n",
       "\n",
       "    .dataframe tbody tr th {\n",
       "        vertical-align: top;\n",
       "    }\n",
       "\n",
       "    .dataframe thead th {\n",
       "        text-align: right;\n",
       "    }\n",
       "</style>\n",
       "<table border=\"1\" class=\"dataframe\">\n",
       "  <thead>\n",
       "    <tr style=\"text-align: right;\">\n",
       "      <th></th>\n",
       "      <th>index</th>\n",
       "      <th>상가업소번호</th>\n",
       "      <th>상호명</th>\n",
       "      <th>지점명</th>\n",
       "      <th>상권업종대분류코드</th>\n",
       "      <th>상권업종대분류명</th>\n",
       "      <th>상권업종중분류코드</th>\n",
       "      <th>상권업종중분류명</th>\n",
       "      <th>상권업종소분류코드</th>\n",
       "      <th>상권업종소분류명</th>\n",
       "      <th>...</th>\n",
       "      <th>건물관리번호</th>\n",
       "      <th>건물명</th>\n",
       "      <th>도로명주소</th>\n",
       "      <th>구우편번호</th>\n",
       "      <th>신우편번호</th>\n",
       "      <th>동정보</th>\n",
       "      <th>층정보</th>\n",
       "      <th>호정보</th>\n",
       "      <th>경도</th>\n",
       "      <th>위도</th>\n",
       "    </tr>\n",
       "  </thead>\n",
       "  <tbody>\n",
       "    <tr>\n",
       "      <th>0</th>\n",
       "      <td>0</td>\n",
       "      <td>17163092</td>\n",
       "      <td>도전최강달인왕만두</td>\n",
       "      <td>NaN</td>\n",
       "      <td>Q</td>\n",
       "      <td>음식</td>\n",
       "      <td>Q01</td>\n",
       "      <td>한식</td>\n",
       "      <td>Q01A01</td>\n",
       "      <td>한식/백반/한정식</td>\n",
       "      <td>...</td>\n",
       "      <td>1174010200102170000018014</td>\n",
       "      <td>고덕그라시움</td>\n",
       "      <td>서울특별시 강동구 고덕로 333</td>\n",
       "      <td>134082</td>\n",
       "      <td>5224.0</td>\n",
       "      <td>NaN</td>\n",
       "      <td>NaN</td>\n",
       "      <td>NaN</td>\n",
       "      <td>127.159471</td>\n",
       "      <td>37.556197</td>\n",
       "    </tr>\n",
       "    <tr>\n",
       "      <th>1</th>\n",
       "      <td>1</td>\n",
       "      <td>17120456</td>\n",
       "      <td>이때</td>\n",
       "      <td>NaN</td>\n",
       "      <td>Q</td>\n",
       "      <td>음식</td>\n",
       "      <td>Q01</td>\n",
       "      <td>한식</td>\n",
       "      <td>Q01A01</td>\n",
       "      <td>한식/백반/한정식</td>\n",
       "      <td>...</td>\n",
       "      <td>1144012400103900067027687</td>\n",
       "      <td>NaN</td>\n",
       "      <td>서울특별시 마포구 동교로38안길 7</td>\n",
       "      <td>121867</td>\n",
       "      <td>3982.0</td>\n",
       "      <td>NaN</td>\n",
       "      <td>NaN</td>\n",
       "      <td>NaN</td>\n",
       "      <td>126.924660</td>\n",
       "      <td>37.562176</td>\n",
       "    </tr>\n",
       "    <tr>\n",
       "      <th>2</th>\n",
       "      <td>2</td>\n",
       "      <td>17175350</td>\n",
       "      <td>L.A.D</td>\n",
       "      <td>NaN</td>\n",
       "      <td>Q</td>\n",
       "      <td>음식</td>\n",
       "      <td>Q01</td>\n",
       "      <td>한식</td>\n",
       "      <td>Q01A01</td>\n",
       "      <td>한식/백반/한정식</td>\n",
       "      <td>...</td>\n",
       "      <td>1144012000103950112010755</td>\n",
       "      <td>NaN</td>\n",
       "      <td>서울특별시 마포구 잔다리로3안길 23</td>\n",
       "      <td>121840</td>\n",
       "      <td>4043.0</td>\n",
       "      <td>NaN</td>\n",
       "      <td>NaN</td>\n",
       "      <td>NaN</td>\n",
       "      <td>126.919845</td>\n",
       "      <td>37.550689</td>\n",
       "    </tr>\n",
       "  </tbody>\n",
       "</table>\n",
       "<p>3 rows × 40 columns</p>\n",
       "</div>"
      ],
      "text/plain": [
       "   index    상가업소번호        상호명  지점명 상권업종대분류코드 상권업종대분류명 상권업종중분류코드 상권업종중분류명  \\\n",
       "0      0  17163092  도전최강달인왕만두  NaN         Q       음식       Q01       한식   \n",
       "1      1  17120456         이때  NaN         Q       음식       Q01       한식   \n",
       "2      2  17175350      L.A.D  NaN         Q       음식       Q01       한식   \n",
       "\n",
       "  상권업종소분류코드   상권업종소분류명  ...                     건물관리번호     건물명  \\\n",
       "0    Q01A01  한식/백반/한정식  ...  1174010200102170000018014  고덕그라시움   \n",
       "1    Q01A01  한식/백반/한정식  ...  1144012400103900067027687     NaN   \n",
       "2    Q01A01  한식/백반/한정식  ...  1144012000103950112010755     NaN   \n",
       "\n",
       "                  도로명주소   구우편번호   신우편번호  동정보  층정보  호정보          경도         위도  \n",
       "0     서울특별시 강동구 고덕로 333  134082  5224.0  NaN  NaN  NaN  127.159471  37.556197  \n",
       "1   서울특별시 마포구 동교로38안길 7  121867  3982.0  NaN  NaN  NaN  126.924660  37.562176  \n",
       "2  서울특별시 마포구 잔다리로3안길 23  121840  4043.0  NaN  NaN  NaN  126.919845  37.550689  \n",
       "\n",
       "[3 rows x 40 columns]"
      ]
     },
     "execution_count": 7,
     "metadata": {},
     "output_type": "execute_result"
    }
   ],
   "source": [
    "df_data.head(3)"
   ]
  },
  {
   "cell_type": "code",
   "execution_count": 8,
   "metadata": {},
   "outputs": [
    {
     "data": {
      "text/html": [
       "<div>\n",
       "<style scoped>\n",
       "    .dataframe tbody tr th:only-of-type {\n",
       "        vertical-align: middle;\n",
       "    }\n",
       "\n",
       "    .dataframe tbody tr th {\n",
       "        vertical-align: top;\n",
       "    }\n",
       "\n",
       "    .dataframe thead th {\n",
       "        text-align: right;\n",
       "    }\n",
       "</style>\n",
       "<table border=\"1\" class=\"dataframe\">\n",
       "  <thead>\n",
       "    <tr style=\"text-align: right;\">\n",
       "      <th></th>\n",
       "      <th>index</th>\n",
       "      <th>상가업소번호</th>\n",
       "      <th>상호명</th>\n",
       "      <th>지점명</th>\n",
       "      <th>상권업종대분류코드</th>\n",
       "      <th>상권업종대분류명</th>\n",
       "      <th>상권업종중분류코드</th>\n",
       "      <th>상권업종중분류명</th>\n",
       "      <th>상권업종소분류코드</th>\n",
       "      <th>상권업종소분류명</th>\n",
       "      <th>...</th>\n",
       "      <th>건물관리번호</th>\n",
       "      <th>건물명</th>\n",
       "      <th>도로명주소</th>\n",
       "      <th>구우편번호</th>\n",
       "      <th>신우편번호</th>\n",
       "      <th>동정보</th>\n",
       "      <th>층정보</th>\n",
       "      <th>호정보</th>\n",
       "      <th>경도</th>\n",
       "      <th>위도</th>\n",
       "    </tr>\n",
       "  </thead>\n",
       "  <tbody>\n",
       "    <tr>\n",
       "      <th>488528</th>\n",
       "      <td>141951</td>\n",
       "      <td>17211619</td>\n",
       "      <td>24시간의신화</td>\n",
       "      <td>NaN</td>\n",
       "      <td>Q</td>\n",
       "      <td>음식</td>\n",
       "      <td>Q01</td>\n",
       "      <td>한식</td>\n",
       "      <td>Q01A01</td>\n",
       "      <td>한식/백반/한정식</td>\n",
       "      <td>...</td>\n",
       "      <td>2647010200103670032021391</td>\n",
       "      <td>NaN</td>\n",
       "      <td>부산광역시 연제구 과정로 288</td>\n",
       "      <td>611816</td>\n",
       "      <td>47562.0</td>\n",
       "      <td>NaN</td>\n",
       "      <td>1</td>\n",
       "      <td>NaN</td>\n",
       "      <td>129.096057</td>\n",
       "      <td>35.188529</td>\n",
       "    </tr>\n",
       "    <tr>\n",
       "      <th>488529</th>\n",
       "      <td>141952</td>\n",
       "      <td>17222726</td>\n",
       "      <td>현대헬스케어</td>\n",
       "      <td>NaN</td>\n",
       "      <td>D</td>\n",
       "      <td>소매</td>\n",
       "      <td>D10</td>\n",
       "      <td>건강/미용식품</td>\n",
       "      <td>D10A04</td>\n",
       "      <td>건강식품판매</td>\n",
       "      <td>...</td>\n",
       "      <td>2638010100111180024005767</td>\n",
       "      <td>NaN</td>\n",
       "      <td>부산광역시 사하구 낙동대로 332</td>\n",
       "      <td>604816</td>\n",
       "      <td>49344.0</td>\n",
       "      <td>NaN</td>\n",
       "      <td>3</td>\n",
       "      <td>NaN</td>\n",
       "      <td>128.980941</td>\n",
       "      <td>35.100503</td>\n",
       "    </tr>\n",
       "    <tr>\n",
       "      <th>488530</th>\n",
       "      <td>141953</td>\n",
       "      <td>17208077</td>\n",
       "      <td>동안뷰티#</td>\n",
       "      <td>NaN</td>\n",
       "      <td>F</td>\n",
       "      <td>생활서비스</td>\n",
       "      <td>F01</td>\n",
       "      <td>이/미용/건강</td>\n",
       "      <td>F01A03</td>\n",
       "      <td>비만/피부관리</td>\n",
       "      <td>...</td>\n",
       "      <td>2638010500102740004019622</td>\n",
       "      <td>NaN</td>\n",
       "      <td>부산광역시 사하구 다대로277번길 13</td>\n",
       "      <td>604840</td>\n",
       "      <td>49509.0</td>\n",
       "      <td>NaN</td>\n",
       "      <td>2</td>\n",
       "      <td>NaN</td>\n",
       "      <td>128.978265</td>\n",
       "      <td>35.077620</td>\n",
       "    </tr>\n",
       "  </tbody>\n",
       "</table>\n",
       "<p>3 rows × 40 columns</p>\n",
       "</div>"
      ],
      "text/plain": [
       "         index    상가업소번호      상호명  지점명 상권업종대분류코드 상권업종대분류명 상권업종중분류코드 상권업종중분류명  \\\n",
       "488528  141951  17211619  24시간의신화  NaN         Q       음식       Q01       한식   \n",
       "488529  141952  17222726   현대헬스케어  NaN         D       소매       D10  건강/미용식품   \n",
       "488530  141953  17208077    동안뷰티#  NaN         F    생활서비스       F01  이/미용/건강   \n",
       "\n",
       "       상권업종소분류코드   상권업종소분류명  ...                     건물관리번호  건물명  \\\n",
       "488528    Q01A01  한식/백반/한정식  ...  2647010200103670032021391  NaN   \n",
       "488529    D10A04     건강식품판매  ...  2638010100111180024005767  NaN   \n",
       "488530    F01A03    비만/피부관리  ...  2638010500102740004019622  NaN   \n",
       "\n",
       "                        도로명주소   구우편번호    신우편번호  동정보  층정보  호정보          경도  \\\n",
       "488528      부산광역시 연제구 과정로 288  611816  47562.0  NaN    1  NaN  129.096057   \n",
       "488529     부산광역시 사하구 낙동대로 332  604816  49344.0  NaN    3  NaN  128.980941   \n",
       "488530  부산광역시 사하구 다대로277번길 13  604840  49509.0  NaN    2  NaN  128.978265   \n",
       "\n",
       "               위도  \n",
       "488528  35.188529  \n",
       "488529  35.100503  \n",
       "488530  35.077620  \n",
       "\n",
       "[3 rows x 40 columns]"
      ]
     },
     "execution_count": 8,
     "metadata": {},
     "output_type": "execute_result"
    }
   ],
   "source": [
    "df_data.tail(3)"
   ]
  },
  {
   "cell_type": "markdown",
   "metadata": {},
   "source": [
    "② df 변수의 결측치를 제외한 데이터 개수 및 dtype들을 출력하고 변수가 사용되는 메모리 사용량 확인한다."
   ]
  },
  {
   "cell_type": "code",
   "execution_count": 9,
   "metadata": {},
   "outputs": [
    {
     "name": "stdout",
     "output_type": "stream",
     "text": [
      "<class 'pandas.core.frame.DataFrame'>\n",
      "RangeIndex: 488531 entries, 0 to 488530\n",
      "Data columns (total 40 columns):\n",
      " #   Column     Non-Null Count   Dtype  \n",
      "---  ------     --------------   -----  \n",
      " 0   index      488531 non-null  int64  \n",
      " 1   상가업소번호     488531 non-null  int64  \n",
      " 2   상호명        488529 non-null  object \n",
      " 3   지점명        78537 non-null   object \n",
      " 4   상권업종대분류코드  488531 non-null  object \n",
      " 5   상권업종대분류명   488531 non-null  object \n",
      " 6   상권업종중분류코드  488531 non-null  object \n",
      " 7   상권업종중분류명   488531 non-null  object \n",
      " 8   상권업종소분류코드  488531 non-null  object \n",
      " 9   상권업종소분류명   488531 non-null  object \n",
      " 10  표준산업분류코드   459664 non-null  object \n",
      " 11  표준산업분류명    459664 non-null  object \n",
      " 12  시도코드       488531 non-null  int64  \n",
      " 13  시도명        488531 non-null  object \n",
      " 14  시군구코드      488531 non-null  int64  \n",
      " 15  시군구명       488531 non-null  object \n",
      " 16  행정동코드      488531 non-null  int64  \n",
      " 17  행정동명       488212 non-null  object \n",
      " 18  법정동코드      488531 non-null  int64  \n",
      " 19  법정동명       488531 non-null  object \n",
      " 20  지번코드       488531 non-null  int64  \n",
      " 21  대지구분코드     488531 non-null  int64  \n",
      " 22  대지구분명      488531 non-null  object \n",
      " 23  지번본번지      488531 non-null  int64  \n",
      " 24  지번부번지      400094 non-null  float64\n",
      " 25  지번주소       488531 non-null  object \n",
      " 26  도로명코드      488531 non-null  int64  \n",
      " 27  도로명        488531 non-null  object \n",
      " 28  건물본번지      488531 non-null  int64  \n",
      " 29  건물부번지      62544 non-null   float64\n",
      " 30  건물관리번호     488531 non-null  object \n",
      " 31  건물명        224686 non-null  object \n",
      " 32  도로명주소      488531 non-null  object \n",
      " 33  구우편번호      488531 non-null  int64  \n",
      " 34  신우편번호      488522 non-null  float64\n",
      " 35  동정보        43454 non-null   object \n",
      " 36  층정보        274615 non-null  object \n",
      " 37  호정보        79222 non-null   object \n",
      " 38  경도         488531 non-null  float64\n",
      " 39  위도         488531 non-null  float64\n",
      "dtypes: float64(5), int64(12), object(23)\n",
      "memory usage: 149.1+ MB\n"
     ]
    }
   ],
   "source": [
    "df_data.info()"
   ]
  },
  {
   "cell_type": "code",
   "execution_count": 10,
   "metadata": {},
   "outputs": [
    {
     "data": {
      "text/plain": [
       "(488531, 40)"
      ]
     },
     "execution_count": 10,
     "metadata": {},
     "output_type": "execute_result"
    }
   ],
   "source": [
    "df_data.shape"
   ]
  },
  {
   "cell_type": "code",
   "execution_count": 11,
   "metadata": {},
   "outputs": [
    {
     "data": {
      "text/plain": [
       "index             0\n",
       "구우편번호             0\n",
       "도로명주소             0\n",
       "건물관리번호            0\n",
       "건물본번지             0\n",
       "도로명               0\n",
       "도로명코드             0\n",
       "지번주소              0\n",
       "지번본번지             0\n",
       "대지구분명             0\n",
       "대지구분코드            0\n",
       "지번코드              0\n",
       "경도                0\n",
       "법정동코드             0\n",
       "행정동코드             0\n",
       "법정동명              0\n",
       "시군구코드             0\n",
       "상가업소번호            0\n",
       "상권업종대분류코드         0\n",
       "시군구명              0\n",
       "상권업종중분류코드         0\n",
       "상권업종중분류명          0\n",
       "상권업종소분류코드         0\n",
       "상권업종대분류명          0\n",
       "시도코드              0\n",
       "시도명               0\n",
       "상권업종소분류명          0\n",
       "위도                0\n",
       "상호명               2\n",
       "신우편번호             9\n",
       "행정동명            319\n",
       "표준산업분류코드      28867\n",
       "표준산업분류명       28867\n",
       "지번부번지         88437\n",
       "층정보          213916\n",
       "건물명          263845\n",
       "호정보          409309\n",
       "지점명          409994\n",
       "건물부번지        425987\n",
       "동정보          445077\n",
       "dtype: int64"
      ]
     },
     "execution_count": 11,
     "metadata": {},
     "output_type": "execute_result"
    }
   ],
   "source": [
    "df_data.isnull().sum().sort_values()"
   ]
  },
  {
   "cell_type": "markdown",
   "metadata": {},
   "source": [
    "### 4.\tdf 데이터 셋에서 사용하지 않을 컬럼은 제거"
   ]
  },
  {
   "cell_type": "markdown",
   "metadata": {},
   "source": [
    "①\t결측치가 너무 많은 컬럼은 제거한다. 결측치가 너무 많은 상위 9개 컬럼은 제거함."
   ]
  },
  {
   "cell_type": "code",
   "execution_count": 12,
   "metadata": {},
   "outputs": [],
   "source": [
    "df_data = df_data.drop(['동정보', '건물부번지', '지점명','호정보','건물명',\n",
    "                        '층정보','지번부번지','표준산업분류명','표준산업분류코드'],axis=1)"
   ]
  },
  {
   "cell_type": "markdown",
   "metadata": {},
   "source": [
    "②\t컬럼명에 “코드”나 “번호”가 있는 컬럼은 분석에 사용되지 않을 예정입니다. 제거함( df.columns.str.contains(“코드|번호”) 이용)."
   ]
  },
  {
   "cell_type": "code",
   "execution_count": 13,
   "metadata": {},
   "outputs": [],
   "source": [
    "df_data = df_data.drop(df_data.columns[df_data.columns.str.contains(\"코드|번호\")], axis=1)"
   ]
  },
  {
   "cell_type": "markdown",
   "metadata": {},
   "source": [
    "③ 컬럼을 제거 후 제거 전과 memory usage를 확인하고 줄어든 columns수도 확인한다."
   ]
  },
  {
   "cell_type": "code",
   "execution_count": 14,
   "metadata": {},
   "outputs": [
    {
     "data": {
      "text/plain": [
       "Index(['index', '상호명', '상권업종대분류명', '상권업종중분류명', '상권업종소분류명', '시도명', '시군구명',\n",
       "       '행정동명', '법정동명', '대지구분명', '지번본번지', '지번주소', '도로명', '건물본번지', '도로명주소', '경도',\n",
       "       '위도'],\n",
       "      dtype='object')"
      ]
     },
     "execution_count": 14,
     "metadata": {},
     "output_type": "execute_result"
    }
   ],
   "source": [
    "df_data.columns"
   ]
  },
  {
   "cell_type": "code",
   "execution_count": 15,
   "metadata": {},
   "outputs": [
    {
     "name": "stdout",
     "output_type": "stream",
     "text": [
      "<class 'pandas.core.frame.DataFrame'>\n",
      "RangeIndex: 488531 entries, 0 to 488530\n",
      "Data columns (total 17 columns):\n",
      " #   Column    Non-Null Count   Dtype  \n",
      "---  ------    --------------   -----  \n",
      " 0   index     488531 non-null  int64  \n",
      " 1   상호명       488529 non-null  object \n",
      " 2   상권업종대분류명  488531 non-null  object \n",
      " 3   상권업종중분류명  488531 non-null  object \n",
      " 4   상권업종소분류명  488531 non-null  object \n",
      " 5   시도명       488531 non-null  object \n",
      " 6   시군구명      488531 non-null  object \n",
      " 7   행정동명      488212 non-null  object \n",
      " 8   법정동명      488531 non-null  object \n",
      " 9   대지구분명     488531 non-null  object \n",
      " 10  지번본번지     488531 non-null  int64  \n",
      " 11  지번주소      488531 non-null  object \n",
      " 12  도로명       488531 non-null  object \n",
      " 13  건물본번지     488531 non-null  int64  \n",
      " 14  도로명주소     488531 non-null  object \n",
      " 15  경도        488531 non-null  float64\n",
      " 16  위도        488531 non-null  float64\n",
      "dtypes: float64(2), int64(3), object(12)\n",
      "memory usage: 63.4+ MB\n"
     ]
    }
   ],
   "source": [
    "df_data.info() #제거전 메모리: memory usage: 149.1+ MB (제거후: memory usage: 63.4+ MB)"
   ]
  },
  {
   "cell_type": "code",
   "execution_count": 16,
   "metadata": {},
   "outputs": [
    {
     "data": {
      "text/plain": [
       "(488531, 17)"
      ]
     },
     "execution_count": 16,
     "metadata": {},
     "output_type": "execute_result"
    }
   ],
   "source": [
    "df_data.shape #컬럼수: 39->16"
   ]
  },
  {
   "cell_type": "markdown",
   "metadata": {},
   "source": [
    "### 5.\tdf 데이터 셋의 값을 가져온다(loc함수, iloc함수등을 사용하기도 하고 사용하지 않기도 하며 서브셋을 가져온다)"
   ]
  },
  {
   "cell_type": "markdown",
   "metadata": {},
   "source": [
    "①\t상호명 필드만 가져온다"
   ]
  },
  {
   "cell_type": "code",
   "execution_count": 17,
   "metadata": {},
   "outputs": [
    {
     "data": {
      "text/html": [
       "<div>\n",
       "<style scoped>\n",
       "    .dataframe tbody tr th:only-of-type {\n",
       "        vertical-align: middle;\n",
       "    }\n",
       "\n",
       "    .dataframe tbody tr th {\n",
       "        vertical-align: top;\n",
       "    }\n",
       "\n",
       "    .dataframe thead th {\n",
       "        text-align: right;\n",
       "    }\n",
       "</style>\n",
       "<table border=\"1\" class=\"dataframe\">\n",
       "  <thead>\n",
       "    <tr style=\"text-align: right;\">\n",
       "      <th></th>\n",
       "      <th>index</th>\n",
       "    </tr>\n",
       "  </thead>\n",
       "  <tbody>\n",
       "    <tr>\n",
       "      <th>0</th>\n",
       "      <td>0</td>\n",
       "    </tr>\n",
       "    <tr>\n",
       "      <th>1</th>\n",
       "      <td>1</td>\n",
       "    </tr>\n",
       "    <tr>\n",
       "      <th>2</th>\n",
       "      <td>2</td>\n",
       "    </tr>\n",
       "    <tr>\n",
       "      <th>3</th>\n",
       "      <td>3</td>\n",
       "    </tr>\n",
       "    <tr>\n",
       "      <th>4</th>\n",
       "      <td>4</td>\n",
       "    </tr>\n",
       "    <tr>\n",
       "      <th>...</th>\n",
       "      <td>...</td>\n",
       "    </tr>\n",
       "    <tr>\n",
       "      <th>488526</th>\n",
       "      <td>141949</td>\n",
       "    </tr>\n",
       "    <tr>\n",
       "      <th>488527</th>\n",
       "      <td>141950</td>\n",
       "    </tr>\n",
       "    <tr>\n",
       "      <th>488528</th>\n",
       "      <td>141951</td>\n",
       "    </tr>\n",
       "    <tr>\n",
       "      <th>488529</th>\n",
       "      <td>141952</td>\n",
       "    </tr>\n",
       "    <tr>\n",
       "      <th>488530</th>\n",
       "      <td>141953</td>\n",
       "    </tr>\n",
       "  </tbody>\n",
       "</table>\n",
       "<p>488531 rows × 1 columns</p>\n",
       "</div>"
      ],
      "text/plain": [
       "         index\n",
       "0            0\n",
       "1            1\n",
       "2            2\n",
       "3            3\n",
       "4            4\n",
       "...        ...\n",
       "488526  141949\n",
       "488527  141950\n",
       "488528  141951\n",
       "488529  141952\n",
       "488530  141953\n",
       "\n",
       "[488531 rows x 1 columns]"
      ]
     },
     "execution_count": 17,
     "metadata": {},
     "output_type": "execute_result"
    }
   ],
   "source": [
    "df_data['상호명']\n",
    "df_data.loc[:, ['상호명']]\n",
    "df_data.iloc[:, [0]]"
   ]
  },
  {
   "cell_type": "markdown",
   "metadata": {},
   "source": [
    "②\t상호명의 종류별 데이터수를 가져온다(df.상호명.value_counts()이용)"
   ]
  },
  {
   "cell_type": "code",
   "execution_count": 18,
   "metadata": {},
   "outputs": [
    {
     "data": {
      "text/plain": [
       "CU                 2654\n",
       "GS25               2199\n",
       "점프셈교실              1645\n",
       "세븐일레븐              1477\n",
       "간단하지만특별한화피디Cafe    1358\n",
       "                   ... \n",
       "흥부네만두                 1\n",
       "명성순대국                 1\n",
       "킹타이마사지                1\n",
       "제이엘코리아                1\n",
       "휴비즈솔루션                1\n",
       "Name: 상호명, Length: 326836, dtype: int64"
      ]
     },
     "execution_count": 18,
     "metadata": {},
     "output_type": "execute_result"
    }
   ],
   "source": [
    "df_data['상호명'].value_counts()"
   ]
  },
  {
   "cell_type": "markdown",
   "metadata": {},
   "source": [
    "③\t“상호명”과 \"도로명주소” 컬럼 가져오기"
   ]
  },
  {
   "cell_type": "code",
   "execution_count": 19,
   "metadata": {},
   "outputs": [
    {
     "data": {
      "text/html": [
       "<div>\n",
       "<style scoped>\n",
       "    .dataframe tbody tr th:only-of-type {\n",
       "        vertical-align: middle;\n",
       "    }\n",
       "\n",
       "    .dataframe tbody tr th {\n",
       "        vertical-align: top;\n",
       "    }\n",
       "\n",
       "    .dataframe thead th {\n",
       "        text-align: right;\n",
       "    }\n",
       "</style>\n",
       "<table border=\"1\" class=\"dataframe\">\n",
       "  <thead>\n",
       "    <tr style=\"text-align: right;\">\n",
       "      <th></th>\n",
       "      <th>상호명</th>\n",
       "      <th>도로명주소</th>\n",
       "    </tr>\n",
       "  </thead>\n",
       "  <tbody>\n",
       "    <tr>\n",
       "      <th>0</th>\n",
       "      <td>도전최강달인왕만두</td>\n",
       "      <td>서울특별시 강동구 고덕로 333</td>\n",
       "    </tr>\n",
       "    <tr>\n",
       "      <th>1</th>\n",
       "      <td>이때</td>\n",
       "      <td>서울특별시 마포구 동교로38안길 7</td>\n",
       "    </tr>\n",
       "    <tr>\n",
       "      <th>2</th>\n",
       "      <td>L.A.D</td>\n",
       "      <td>서울특별시 마포구 잔다리로3안길 23</td>\n",
       "    </tr>\n",
       "    <tr>\n",
       "      <th>3</th>\n",
       "      <td>제이씨에스푸드</td>\n",
       "      <td>서울특별시 관악구 신림로14길 3</td>\n",
       "    </tr>\n",
       "    <tr>\n",
       "      <th>4</th>\n",
       "      <td>BYC상신점</td>\n",
       "      <td>서울특별시 송파구 오금로 527</td>\n",
       "    </tr>\n",
       "    <tr>\n",
       "      <th>...</th>\n",
       "      <td>...</td>\n",
       "      <td>...</td>\n",
       "    </tr>\n",
       "    <tr>\n",
       "      <th>488526</th>\n",
       "      <td>비에스마트</td>\n",
       "      <td>부산광역시 수영구 망미로22번길 75</td>\n",
       "    </tr>\n",
       "    <tr>\n",
       "      <th>488527</th>\n",
       "      <td>행복한마트</td>\n",
       "      <td>부산광역시 기장군 일광면 해빛5로 14</td>\n",
       "    </tr>\n",
       "    <tr>\n",
       "      <th>488528</th>\n",
       "      <td>24시간의신화</td>\n",
       "      <td>부산광역시 연제구 과정로 288</td>\n",
       "    </tr>\n",
       "    <tr>\n",
       "      <th>488529</th>\n",
       "      <td>현대헬스케어</td>\n",
       "      <td>부산광역시 사하구 낙동대로 332</td>\n",
       "    </tr>\n",
       "    <tr>\n",
       "      <th>488530</th>\n",
       "      <td>동안뷰티#</td>\n",
       "      <td>부산광역시 사하구 다대로277번길 13</td>\n",
       "    </tr>\n",
       "  </tbody>\n",
       "</table>\n",
       "<p>488531 rows × 2 columns</p>\n",
       "</div>"
      ],
      "text/plain": [
       "              상호명                  도로명주소\n",
       "0       도전최강달인왕만두      서울특별시 강동구 고덕로 333\n",
       "1              이때    서울특별시 마포구 동교로38안길 7\n",
       "2           L.A.D   서울특별시 마포구 잔다리로3안길 23\n",
       "3         제이씨에스푸드     서울특별시 관악구 신림로14길 3\n",
       "4          BYC상신점      서울특별시 송파구 오금로 527\n",
       "...           ...                    ...\n",
       "488526      비에스마트   부산광역시 수영구 망미로22번길 75\n",
       "488527      행복한마트  부산광역시 기장군 일광면 해빛5로 14\n",
       "488528    24시간의신화      부산광역시 연제구 과정로 288\n",
       "488529     현대헬스케어     부산광역시 사하구 낙동대로 332\n",
       "488530      동안뷰티#  부산광역시 사하구 다대로277번길 13\n",
       "\n",
       "[488531 rows x 2 columns]"
      ]
     },
     "execution_count": 19,
     "metadata": {},
     "output_type": "execute_result"
    }
   ],
   "source": [
    "df_data[['상호명','도로명주소']]"
   ]
  },
  {
   "cell_type": "markdown",
   "metadata": {},
   "source": [
    "④\t0~2행을 출력하라 (head()함수를 이용하지 않고, loc과 iloc을 이용)"
   ]
  },
  {
   "cell_type": "code",
   "execution_count": 20,
   "metadata": {},
   "outputs": [
    {
     "data": {
      "text/html": [
       "<div>\n",
       "<style scoped>\n",
       "    .dataframe tbody tr th:only-of-type {\n",
       "        vertical-align: middle;\n",
       "    }\n",
       "\n",
       "    .dataframe tbody tr th {\n",
       "        vertical-align: top;\n",
       "    }\n",
       "\n",
       "    .dataframe thead th {\n",
       "        text-align: right;\n",
       "    }\n",
       "</style>\n",
       "<table border=\"1\" class=\"dataframe\">\n",
       "  <thead>\n",
       "    <tr style=\"text-align: right;\">\n",
       "      <th></th>\n",
       "      <th>index</th>\n",
       "      <th>상호명</th>\n",
       "      <th>상권업종대분류명</th>\n",
       "      <th>상권업종중분류명</th>\n",
       "      <th>상권업종소분류명</th>\n",
       "      <th>시도명</th>\n",
       "      <th>시군구명</th>\n",
       "      <th>행정동명</th>\n",
       "      <th>법정동명</th>\n",
       "      <th>대지구분명</th>\n",
       "      <th>지번본번지</th>\n",
       "      <th>지번주소</th>\n",
       "      <th>도로명</th>\n",
       "      <th>건물본번지</th>\n",
       "      <th>도로명주소</th>\n",
       "      <th>경도</th>\n",
       "      <th>위도</th>\n",
       "    </tr>\n",
       "  </thead>\n",
       "  <tbody>\n",
       "    <tr>\n",
       "      <th>0</th>\n",
       "      <td>0</td>\n",
       "      <td>도전최강달인왕만두</td>\n",
       "      <td>음식</td>\n",
       "      <td>한식</td>\n",
       "      <td>한식/백반/한정식</td>\n",
       "      <td>서울특별시</td>\n",
       "      <td>강동구</td>\n",
       "      <td>고덕2동</td>\n",
       "      <td>고덕동</td>\n",
       "      <td>대지</td>\n",
       "      <td>693</td>\n",
       "      <td>서울특별시 강동구 고덕동 693</td>\n",
       "      <td>서울특별시 강동구 고덕로</td>\n",
       "      <td>333</td>\n",
       "      <td>서울특별시 강동구 고덕로 333</td>\n",
       "      <td>127.159471</td>\n",
       "      <td>37.556197</td>\n",
       "    </tr>\n",
       "    <tr>\n",
       "      <th>1</th>\n",
       "      <td>1</td>\n",
       "      <td>이때</td>\n",
       "      <td>음식</td>\n",
       "      <td>한식</td>\n",
       "      <td>한식/백반/한정식</td>\n",
       "      <td>서울특별시</td>\n",
       "      <td>마포구</td>\n",
       "      <td>연남동</td>\n",
       "      <td>연남동</td>\n",
       "      <td>대지</td>\n",
       "      <td>390</td>\n",
       "      <td>서울특별시 마포구 연남동 390-67</td>\n",
       "      <td>서울특별시 마포구 동교로38안길</td>\n",
       "      <td>7</td>\n",
       "      <td>서울특별시 마포구 동교로38안길 7</td>\n",
       "      <td>126.924660</td>\n",
       "      <td>37.562176</td>\n",
       "    </tr>\n",
       "    <tr>\n",
       "      <th>2</th>\n",
       "      <td>2</td>\n",
       "      <td>L.A.D</td>\n",
       "      <td>음식</td>\n",
       "      <td>한식</td>\n",
       "      <td>한식/백반/한정식</td>\n",
       "      <td>서울특별시</td>\n",
       "      <td>마포구</td>\n",
       "      <td>서교동</td>\n",
       "      <td>서교동</td>\n",
       "      <td>대지</td>\n",
       "      <td>395</td>\n",
       "      <td>서울특별시 마포구 서교동 395-112</td>\n",
       "      <td>서울특별시 마포구 잔다리로3안길</td>\n",
       "      <td>23</td>\n",
       "      <td>서울특별시 마포구 잔다리로3안길 23</td>\n",
       "      <td>126.919845</td>\n",
       "      <td>37.550689</td>\n",
       "    </tr>\n",
       "  </tbody>\n",
       "</table>\n",
       "</div>"
      ],
      "text/plain": [
       "   index        상호명 상권업종대분류명 상권업종중분류명   상권업종소분류명    시도명 시군구명  행정동명 법정동명 대지구분명  \\\n",
       "0      0  도전최강달인왕만두       음식       한식  한식/백반/한정식  서울특별시  강동구  고덕2동  고덕동    대지   \n",
       "1      1         이때       음식       한식  한식/백반/한정식  서울특별시  마포구   연남동  연남동    대지   \n",
       "2      2      L.A.D       음식       한식  한식/백반/한정식  서울특별시  마포구   서교동  서교동    대지   \n",
       "\n",
       "   지번본번지                   지번주소                도로명  건물본번지  \\\n",
       "0    693      서울특별시 강동구 고덕동 693      서울특별시 강동구 고덕로    333   \n",
       "1    390   서울특별시 마포구 연남동 390-67  서울특별시 마포구 동교로38안길      7   \n",
       "2    395  서울특별시 마포구 서교동 395-112  서울특별시 마포구 잔다리로3안길     23   \n",
       "\n",
       "                  도로명주소          경도         위도  \n",
       "0     서울특별시 강동구 고덕로 333  127.159471  37.556197  \n",
       "1   서울특별시 마포구 동교로38안길 7  126.924660  37.562176  \n",
       "2  서울특별시 마포구 잔다리로3안길 23  126.919845  37.550689  "
      ]
     },
     "execution_count": 20,
     "metadata": {},
     "output_type": "execute_result"
    }
   ],
   "source": [
    "df_data.iloc[0:3]"
   ]
  },
  {
   "cell_type": "code",
   "execution_count": 21,
   "metadata": {},
   "outputs": [
    {
     "data": {
      "text/plain": [
       "RangeIndex(start=0, stop=488531, step=1)"
      ]
     },
     "execution_count": 21,
     "metadata": {},
     "output_type": "execute_result"
    }
   ],
   "source": [
    "df_data.index"
   ]
  },
  {
   "cell_type": "code",
   "execution_count": 22,
   "metadata": {},
   "outputs": [
    {
     "data": {
      "text/html": [
       "<div>\n",
       "<style scoped>\n",
       "    .dataframe tbody tr th:only-of-type {\n",
       "        vertical-align: middle;\n",
       "    }\n",
       "\n",
       "    .dataframe tbody tr th {\n",
       "        vertical-align: top;\n",
       "    }\n",
       "\n",
       "    .dataframe thead th {\n",
       "        text-align: right;\n",
       "    }\n",
       "</style>\n",
       "<table border=\"1\" class=\"dataframe\">\n",
       "  <thead>\n",
       "    <tr style=\"text-align: right;\">\n",
       "      <th></th>\n",
       "      <th>index</th>\n",
       "      <th>상호명</th>\n",
       "      <th>상권업종대분류명</th>\n",
       "      <th>상권업종중분류명</th>\n",
       "      <th>상권업종소분류명</th>\n",
       "      <th>시도명</th>\n",
       "      <th>시군구명</th>\n",
       "      <th>행정동명</th>\n",
       "      <th>법정동명</th>\n",
       "      <th>대지구분명</th>\n",
       "      <th>지번본번지</th>\n",
       "      <th>지번주소</th>\n",
       "      <th>도로명</th>\n",
       "      <th>건물본번지</th>\n",
       "      <th>도로명주소</th>\n",
       "      <th>경도</th>\n",
       "      <th>위도</th>\n",
       "    </tr>\n",
       "  </thead>\n",
       "  <tbody>\n",
       "    <tr>\n",
       "      <th>0</th>\n",
       "      <td>0</td>\n",
       "      <td>도전최강달인왕만두</td>\n",
       "      <td>음식</td>\n",
       "      <td>한식</td>\n",
       "      <td>한식/백반/한정식</td>\n",
       "      <td>서울특별시</td>\n",
       "      <td>강동구</td>\n",
       "      <td>고덕2동</td>\n",
       "      <td>고덕동</td>\n",
       "      <td>대지</td>\n",
       "      <td>693</td>\n",
       "      <td>서울특별시 강동구 고덕동 693</td>\n",
       "      <td>서울특별시 강동구 고덕로</td>\n",
       "      <td>333</td>\n",
       "      <td>서울특별시 강동구 고덕로 333</td>\n",
       "      <td>127.159471</td>\n",
       "      <td>37.556197</td>\n",
       "    </tr>\n",
       "    <tr>\n",
       "      <th>1</th>\n",
       "      <td>1</td>\n",
       "      <td>이때</td>\n",
       "      <td>음식</td>\n",
       "      <td>한식</td>\n",
       "      <td>한식/백반/한정식</td>\n",
       "      <td>서울특별시</td>\n",
       "      <td>마포구</td>\n",
       "      <td>연남동</td>\n",
       "      <td>연남동</td>\n",
       "      <td>대지</td>\n",
       "      <td>390</td>\n",
       "      <td>서울특별시 마포구 연남동 390-67</td>\n",
       "      <td>서울특별시 마포구 동교로38안길</td>\n",
       "      <td>7</td>\n",
       "      <td>서울특별시 마포구 동교로38안길 7</td>\n",
       "      <td>126.924660</td>\n",
       "      <td>37.562176</td>\n",
       "    </tr>\n",
       "    <tr>\n",
       "      <th>2</th>\n",
       "      <td>2</td>\n",
       "      <td>L.A.D</td>\n",
       "      <td>음식</td>\n",
       "      <td>한식</td>\n",
       "      <td>한식/백반/한정식</td>\n",
       "      <td>서울특별시</td>\n",
       "      <td>마포구</td>\n",
       "      <td>서교동</td>\n",
       "      <td>서교동</td>\n",
       "      <td>대지</td>\n",
       "      <td>395</td>\n",
       "      <td>서울특별시 마포구 서교동 395-112</td>\n",
       "      <td>서울특별시 마포구 잔다리로3안길</td>\n",
       "      <td>23</td>\n",
       "      <td>서울특별시 마포구 잔다리로3안길 23</td>\n",
       "      <td>126.919845</td>\n",
       "      <td>37.550689</td>\n",
       "    </tr>\n",
       "    <tr>\n",
       "      <th>3</th>\n",
       "      <td>3</td>\n",
       "      <td>제이씨에스푸드</td>\n",
       "      <td>음식</td>\n",
       "      <td>한식</td>\n",
       "      <td>한식/백반/한정식</td>\n",
       "      <td>서울특별시</td>\n",
       "      <td>관악구</td>\n",
       "      <td>서림동</td>\n",
       "      <td>신림동</td>\n",
       "      <td>대지</td>\n",
       "      <td>118</td>\n",
       "      <td>서울특별시 관악구 신림동 118-33</td>\n",
       "      <td>서울특별시 관악구 신림로14길</td>\n",
       "      <td>3</td>\n",
       "      <td>서울특별시 관악구 신림로14길 3</td>\n",
       "      <td>126.937790</td>\n",
       "      <td>37.471190</td>\n",
       "    </tr>\n",
       "  </tbody>\n",
       "</table>\n",
       "</div>"
      ],
      "text/plain": [
       "   index        상호명 상권업종대분류명 상권업종중분류명   상권업종소분류명    시도명 시군구명  행정동명 법정동명 대지구분명  \\\n",
       "0      0  도전최강달인왕만두       음식       한식  한식/백반/한정식  서울특별시  강동구  고덕2동  고덕동    대지   \n",
       "1      1         이때       음식       한식  한식/백반/한정식  서울특별시  마포구   연남동  연남동    대지   \n",
       "2      2      L.A.D       음식       한식  한식/백반/한정식  서울특별시  마포구   서교동  서교동    대지   \n",
       "3      3    제이씨에스푸드       음식       한식  한식/백반/한정식  서울특별시  관악구   서림동  신림동    대지   \n",
       "\n",
       "   지번본번지                   지번주소                도로명  건물본번지  \\\n",
       "0    693      서울특별시 강동구 고덕동 693      서울특별시 강동구 고덕로    333   \n",
       "1    390   서울특별시 마포구 연남동 390-67  서울특별시 마포구 동교로38안길      7   \n",
       "2    395  서울특별시 마포구 서교동 395-112  서울특별시 마포구 잔다리로3안길     23   \n",
       "3    118   서울특별시 관악구 신림동 118-33   서울특별시 관악구 신림로14길      3   \n",
       "\n",
       "                  도로명주소          경도         위도  \n",
       "0     서울특별시 강동구 고덕로 333  127.159471  37.556197  \n",
       "1   서울특별시 마포구 동교로38안길 7  126.924660  37.562176  \n",
       "2  서울특별시 마포구 잔다리로3안길 23  126.919845  37.550689  \n",
       "3    서울특별시 관악구 신림로14길 3  126.937790  37.471190  "
      ]
     },
     "execution_count": 22,
     "metadata": {},
     "output_type": "execute_result"
    }
   ],
   "source": [
    "df_data.loc[0:3]"
   ]
  },
  {
   "cell_type": "markdown",
   "metadata": {},
   "source": [
    "### 6.\t기술 통계값 보기 "
   ]
  },
  {
   "cell_type": "markdown",
   "metadata": {},
   "source": [
    "①\tdf 데이터셋의 요약기술 통계량"
   ]
  },
  {
   "cell_type": "code",
   "execution_count": 23,
   "metadata": {},
   "outputs": [
    {
     "data": {
      "text/html": [
       "<div>\n",
       "<style scoped>\n",
       "    .dataframe tbody tr th:only-of-type {\n",
       "        vertical-align: middle;\n",
       "    }\n",
       "\n",
       "    .dataframe tbody tr th {\n",
       "        vertical-align: top;\n",
       "    }\n",
       "\n",
       "    .dataframe thead th {\n",
       "        text-align: right;\n",
       "    }\n",
       "</style>\n",
       "<table border=\"1\" class=\"dataframe\">\n",
       "  <thead>\n",
       "    <tr style=\"text-align: right;\">\n",
       "      <th></th>\n",
       "      <th>index</th>\n",
       "      <th>지번본번지</th>\n",
       "      <th>건물본번지</th>\n",
       "      <th>경도</th>\n",
       "      <th>위도</th>\n",
       "    </tr>\n",
       "  </thead>\n",
       "  <tbody>\n",
       "    <tr>\n",
       "      <th>count</th>\n",
       "      <td>488531.000000</td>\n",
       "      <td>488531.000000</td>\n",
       "      <td>488531.000000</td>\n",
       "      <td>488531.000000</td>\n",
       "      <td>488531.000000</td>\n",
       "    </tr>\n",
       "    <tr>\n",
       "      <th>mean</th>\n",
       "      <td>143559.023393</td>\n",
       "      <td>478.886153</td>\n",
       "      <td>146.970796</td>\n",
       "      <td>127.597360</td>\n",
       "      <td>36.853261</td>\n",
       "    </tr>\n",
       "    <tr>\n",
       "      <th>std</th>\n",
       "      <td>98726.243000</td>\n",
       "      <td>503.103931</td>\n",
       "      <td>268.741625</td>\n",
       "      <td>0.943631</td>\n",
       "      <td>1.081753</td>\n",
       "    </tr>\n",
       "    <tr>\n",
       "      <th>min</th>\n",
       "      <td>0.000000</td>\n",
       "      <td>1.000000</td>\n",
       "      <td>0.000000</td>\n",
       "      <td>126.768169</td>\n",
       "      <td>35.006760</td>\n",
       "    </tr>\n",
       "    <tr>\n",
       "      <th>25%</th>\n",
       "      <td>61066.000000</td>\n",
       "      <td>113.000000</td>\n",
       "      <td>19.000000</td>\n",
       "      <td>126.962537</td>\n",
       "      <td>35.216233</td>\n",
       "    </tr>\n",
       "    <tr>\n",
       "      <th>50%</th>\n",
       "      <td>122132.000000</td>\n",
       "      <td>337.000000</td>\n",
       "      <td>48.000000</td>\n",
       "      <td>127.047500</td>\n",
       "      <td>37.510699</td>\n",
       "    </tr>\n",
       "    <tr>\n",
       "      <th>75%</th>\n",
       "      <td>224443.500000</td>\n",
       "      <td>684.000000</td>\n",
       "      <td>157.000000</td>\n",
       "      <td>128.987599</td>\n",
       "      <td>37.560432</td>\n",
       "    </tr>\n",
       "    <tr>\n",
       "      <th>max</th>\n",
       "      <td>346576.000000</td>\n",
       "      <td>9999.000000</td>\n",
       "      <td>3318.000000</td>\n",
       "      <td>129.292243</td>\n",
       "      <td>37.690787</td>\n",
       "    </tr>\n",
       "  </tbody>\n",
       "</table>\n",
       "</div>"
      ],
      "text/plain": [
       "               index          지번본번지          건물본번지             경도  \\\n",
       "count  488531.000000  488531.000000  488531.000000  488531.000000   \n",
       "mean   143559.023393     478.886153     146.970796     127.597360   \n",
       "std     98726.243000     503.103931     268.741625       0.943631   \n",
       "min         0.000000       1.000000       0.000000     126.768169   \n",
       "25%     61066.000000     113.000000      19.000000     126.962537   \n",
       "50%    122132.000000     337.000000      48.000000     127.047500   \n",
       "75%    224443.500000     684.000000     157.000000     128.987599   \n",
       "max    346576.000000    9999.000000    3318.000000     129.292243   \n",
       "\n",
       "                  위도  \n",
       "count  488531.000000  \n",
       "mean       36.853261  \n",
       "std         1.081753  \n",
       "min        35.006760  \n",
       "25%        35.216233  \n",
       "50%        37.510699  \n",
       "75%        37.560432  \n",
       "max        37.690787  "
      ]
     },
     "execution_count": 23,
     "metadata": {},
     "output_type": "execute_result"
    }
   ],
   "source": [
    "df_data.describe()"
   ]
  },
  {
   "cell_type": "markdown",
   "metadata": {},
   "source": [
    "②\tdf 데이터셋의 “지번본번지\", \"건물본번지” 컬럼의 데이터 개수와  dtype 메모리 사용량을 확인한다."
   ]
  },
  {
   "cell_type": "code",
   "execution_count": 24,
   "metadata": {},
   "outputs": [
    {
     "name": "stdout",
     "output_type": "stream",
     "text": [
      "<class 'pandas.core.frame.DataFrame'>\n",
      "RangeIndex: 488531 entries, 0 to 488530\n",
      "Data columns (total 2 columns):\n",
      " #   Column  Non-Null Count   Dtype\n",
      "---  ------  --------------   -----\n",
      " 0   지번본번지   488531 non-null  int64\n",
      " 1   건물본번지   488531 non-null  int64\n",
      "dtypes: int64(2)\n",
      "memory usage: 7.5 MB\n"
     ]
    }
   ],
   "source": [
    "df_data[['지번본번지','건물본번지']].info()"
   ]
  },
  {
   "cell_type": "code",
   "execution_count": 25,
   "metadata": {},
   "outputs": [
    {
     "data": {
      "text/plain": [
       "지번본번지    488531\n",
       "건물본번지    488531\n",
       "dtype: int64"
      ]
     },
     "execution_count": 25,
     "metadata": {},
     "output_type": "execute_result"
    }
   ],
   "source": [
    "df_data[['지번본번지','건물본번지']].count()"
   ]
  },
  {
   "cell_type": "markdown",
   "metadata": {},
   "source": [
    "③\t“위도\", \"경도” 컬럼만의 요약 기술통계량"
   ]
  },
  {
   "cell_type": "code",
   "execution_count": 26,
   "metadata": {},
   "outputs": [
    {
     "data": {
      "text/html": [
       "<div>\n",
       "<style scoped>\n",
       "    .dataframe tbody tr th:only-of-type {\n",
       "        vertical-align: middle;\n",
       "    }\n",
       "\n",
       "    .dataframe tbody tr th {\n",
       "        vertical-align: top;\n",
       "    }\n",
       "\n",
       "    .dataframe thead th {\n",
       "        text-align: right;\n",
       "    }\n",
       "</style>\n",
       "<table border=\"1\" class=\"dataframe\">\n",
       "  <thead>\n",
       "    <tr style=\"text-align: right;\">\n",
       "      <th></th>\n",
       "      <th>위도</th>\n",
       "      <th>경도</th>\n",
       "    </tr>\n",
       "  </thead>\n",
       "  <tbody>\n",
       "    <tr>\n",
       "      <th>count</th>\n",
       "      <td>488531.000000</td>\n",
       "      <td>488531.000000</td>\n",
       "    </tr>\n",
       "    <tr>\n",
       "      <th>mean</th>\n",
       "      <td>36.853261</td>\n",
       "      <td>127.597360</td>\n",
       "    </tr>\n",
       "    <tr>\n",
       "      <th>std</th>\n",
       "      <td>1.081753</td>\n",
       "      <td>0.943631</td>\n",
       "    </tr>\n",
       "    <tr>\n",
       "      <th>min</th>\n",
       "      <td>35.006760</td>\n",
       "      <td>126.768169</td>\n",
       "    </tr>\n",
       "    <tr>\n",
       "      <th>25%</th>\n",
       "      <td>35.216233</td>\n",
       "      <td>126.962537</td>\n",
       "    </tr>\n",
       "    <tr>\n",
       "      <th>50%</th>\n",
       "      <td>37.510699</td>\n",
       "      <td>127.047500</td>\n",
       "    </tr>\n",
       "    <tr>\n",
       "      <th>75%</th>\n",
       "      <td>37.560432</td>\n",
       "      <td>128.987599</td>\n",
       "    </tr>\n",
       "    <tr>\n",
       "      <th>max</th>\n",
       "      <td>37.690787</td>\n",
       "      <td>129.292243</td>\n",
       "    </tr>\n",
       "  </tbody>\n",
       "</table>\n",
       "</div>"
      ],
      "text/plain": [
       "                  위도             경도\n",
       "count  488531.000000  488531.000000\n",
       "mean       36.853261     127.597360\n",
       "std         1.081753       0.943631\n",
       "min        35.006760     126.768169\n",
       "25%        35.216233     126.962537\n",
       "50%        37.510699     127.047500\n",
       "75%        37.560432     128.987599\n",
       "max        37.690787     129.292243"
      ]
     },
     "execution_count": 26,
     "metadata": {},
     "output_type": "execute_result"
    }
   ],
   "source": [
    "df_data[['위도','경도']].describe()"
   ]
  },
  {
   "cell_type": "markdown",
   "metadata": {},
   "source": [
    "### 7.\t단별량 수치형 변수 시각화"
   ]
  },
  {
   "cell_type": "markdown",
   "metadata": {},
   "source": [
    "①\t위도의 빈도표를 시각화"
   ]
  },
  {
   "cell_type": "code",
   "execution_count": 27,
   "metadata": {},
   "outputs": [
    {
     "data": {
      "text/plain": [
       "<AxesSubplot:>"
      ]
     },
     "execution_count": 27,
     "metadata": {},
     "output_type": "execute_result"
    },
    {
     "data": {
      "image/png": "[encoded data removed]",
      "text/plain": [
       "<Figure size 432x288 with 1 Axes>"
      ]
     },
     "metadata": {
      "image/png": {
       "height": 249,
       "width": 389
      },
      "needs_background": "light"
     },
     "output_type": "display_data"
    }
   ],
   "source": [
    "df_data['위도'].hist()"
   ]
  },
  {
   "cell_type": "code",
   "execution_count": 28,
   "metadata": {},
   "outputs": [
    {
     "data": {
      "image/png": "[encoded data removed]",
      "text/plain": [
       "<Figure size 432x288 with 1 Axes>"
      ]
     },
     "metadata": {
      "image/png": {
       "height": 279,
       "width": 403
      },
      "needs_background": "light"
     },
     "output_type": "display_data"
    }
   ],
   "source": [
    "sns.histplot(x='위도', data=df_data, palette=\"viridis\").set_title(\"위도의 빈도표\")\n",
    "plt.show()"
   ]
  },
  {
   "cell_type": "markdown",
   "metadata": {},
   "source": [
    "②\t경도의 빈도표를 시각화"
   ]
  },
  {
   "cell_type": "code",
   "execution_count": 29,
   "metadata": {},
   "outputs": [
    {
     "data": {
      "text/plain": [
       "<AxesSubplot:>"
      ]
     },
     "execution_count": 29,
     "metadata": {},
     "output_type": "execute_result"
    },
    {
     "data": {
      "image/png": "[encoded data removed]",
      "text/plain": [
       "<Figure size 432x288 with 1 Axes>"
      ]
     },
     "metadata": {
      "image/png": {
       "height": 249,
       "width": 389
      },
      "needs_background": "light"
     },
     "output_type": "display_data"
    }
   ],
   "source": [
    "df_data['경도'].hist()"
   ]
  },
  {
   "cell_type": "code",
   "execution_count": 30,
   "metadata": {},
   "outputs": [
    {
     "data": {
      "image/png": "[encoded data removed]",
      "text/plain": [
       "<Figure size 432x288 with 1 Axes>"
      ]
     },
     "metadata": {
      "image/png": {
       "height": 279,
       "width": 398
      },
      "needs_background": "light"
     },
     "output_type": "display_data"
    }
   ],
   "source": [
    "sns.histplot(x='경도', data=df_data, palette=\"viridis\").set_title(\"경도의 빈도표\")\n",
    "plt.show()"
   ]
  },
  {
   "cell_type": "markdown",
   "metadata": {},
   "source": [
    "### 8.\t상관계수\n",
    "①\t전체 숫자 컬럼끼리의 상관계수"
   ]
  },
  {
   "cell_type": "code",
   "execution_count": 31,
   "metadata": {},
   "outputs": [
    {
     "data": {
      "text/html": [
       "<div>\n",
       "<style scoped>\n",
       "    .dataframe tbody tr th:only-of-type {\n",
       "        vertical-align: middle;\n",
       "    }\n",
       "\n",
       "    .dataframe tbody tr th {\n",
       "        vertical-align: top;\n",
       "    }\n",
       "\n",
       "    .dataframe thead th {\n",
       "        text-align: right;\n",
       "    }\n",
       "</style>\n",
       "<table border=\"1\" class=\"dataframe\">\n",
       "  <thead>\n",
       "    <tr style=\"text-align: right;\">\n",
       "      <th></th>\n",
       "      <th>index</th>\n",
       "      <th>지번본번지</th>\n",
       "      <th>건물본번지</th>\n",
       "      <th>경도</th>\n",
       "      <th>위도</th>\n",
       "    </tr>\n",
       "  </thead>\n",
       "  <tbody>\n",
       "    <tr>\n",
       "      <th>index</th>\n",
       "      <td>1.000000</td>\n",
       "      <td>-0.097934</td>\n",
       "      <td>-0.008926</td>\n",
       "      <td>-0.468637</td>\n",
       "      <td>0.470091</td>\n",
       "    </tr>\n",
       "    <tr>\n",
       "      <th>지번본번지</th>\n",
       "      <td>-0.097934</td>\n",
       "      <td>1.000000</td>\n",
       "      <td>0.048808</td>\n",
       "      <td>0.193297</td>\n",
       "      <td>-0.209592</td>\n",
       "    </tr>\n",
       "    <tr>\n",
       "      <th>건물본번지</th>\n",
       "      <td>-0.008926</td>\n",
       "      <td>0.048808</td>\n",
       "      <td>1.000000</td>\n",
       "      <td>0.001484</td>\n",
       "      <td>0.003518</td>\n",
       "    </tr>\n",
       "    <tr>\n",
       "      <th>경도</th>\n",
       "      <td>-0.468637</td>\n",
       "      <td>0.193297</td>\n",
       "      <td>0.001484</td>\n",
       "      <td>1.000000</td>\n",
       "      <td>-0.994459</td>\n",
       "    </tr>\n",
       "    <tr>\n",
       "      <th>위도</th>\n",
       "      <td>0.470091</td>\n",
       "      <td>-0.209592</td>\n",
       "      <td>0.003518</td>\n",
       "      <td>-0.994459</td>\n",
       "      <td>1.000000</td>\n",
       "    </tr>\n",
       "  </tbody>\n",
       "</table>\n",
       "</div>"
      ],
      "text/plain": [
       "          index     지번본번지     건물본번지        경도        위도\n",
       "index  1.000000 -0.097934 -0.008926 -0.468637  0.470091\n",
       "지번본번지 -0.097934  1.000000  0.048808  0.193297 -0.209592\n",
       "건물본번지 -0.008926  0.048808  1.000000  0.001484  0.003518\n",
       "경도    -0.468637  0.193297  0.001484  1.000000 -0.994459\n",
       "위도     0.470091 -0.209592  0.003518 -0.994459  1.000000"
      ]
     },
     "execution_count": 31,
     "metadata": {},
     "output_type": "execute_result"
    }
   ],
   "source": [
    "df_data.corr()"
   ]
  },
  {
   "cell_type": "markdown",
   "metadata": {},
   "source": [
    "②\t상관계수를 이용하여 headmap 시각화"
   ]
  },
  {
   "cell_type": "code",
   "execution_count": 32,
   "metadata": {},
   "outputs": [
    {
     "data": {
      "image/png": "[encoded data removed]",
      "text/plain": [
       "<Figure size 720x432 with 2 Axes>"
      ]
     },
     "metadata": {
      "image/png": {
       "height": 374,
       "width": 552
      },
      "needs_background": "light"
     },
     "output_type": "display_data"
    }
   ],
   "source": [
    "plt.figure(figsize=(10,6))\n",
    "sns.heatmap(df_data.corr(), vmin=-1, vmax=1, annot=True, cmap='viridis', fmt='.2f').set_title(\"상관계수 heatmap\")\n",
    "plt.savefig('data/ch13_example2-1.png')"
   ]
  },
  {
   "cell_type": "markdown",
   "metadata": {},
   "source": [
    "### 9.\t경도와 위도 컬럼을 이용하여 산점도\n",
    "①\tX축에는 경도, y축에는 위도 컬럼을 산점도로 시각화"
   ]
  },
  {
   "cell_type": "code",
   "execution_count": 33,
   "metadata": {},
   "outputs": [
    {
     "data": {
      "text/html": [
       "<div>\n",
       "<style scoped>\n",
       "    .dataframe tbody tr th:only-of-type {\n",
       "        vertical-align: middle;\n",
       "    }\n",
       "\n",
       "    .dataframe tbody tr th {\n",
       "        vertical-align: top;\n",
       "    }\n",
       "\n",
       "    .dataframe thead th {\n",
       "        text-align: right;\n",
       "    }\n",
       "</style>\n",
       "<table border=\"1\" class=\"dataframe\">\n",
       "  <thead>\n",
       "    <tr style=\"text-align: right;\">\n",
       "      <th></th>\n",
       "      <th>위도</th>\n",
       "      <th>경도</th>\n",
       "      <th>시도명</th>\n",
       "    </tr>\n",
       "  </thead>\n",
       "  <tbody>\n",
       "    <tr>\n",
       "      <th>0</th>\n",
       "      <td>37.556197</td>\n",
       "      <td>127.159471</td>\n",
       "      <td>서울특별시</td>\n",
       "    </tr>\n",
       "    <tr>\n",
       "      <th>1</th>\n",
       "      <td>37.562176</td>\n",
       "      <td>126.924660</td>\n",
       "      <td>서울특별시</td>\n",
       "    </tr>\n",
       "    <tr>\n",
       "      <th>2</th>\n",
       "      <td>37.550689</td>\n",
       "      <td>126.919845</td>\n",
       "      <td>서울특별시</td>\n",
       "    </tr>\n",
       "    <tr>\n",
       "      <th>3</th>\n",
       "      <td>37.471190</td>\n",
       "      <td>126.937790</td>\n",
       "      <td>서울특별시</td>\n",
       "    </tr>\n",
       "    <tr>\n",
       "      <th>4</th>\n",
       "      <td>37.493054</td>\n",
       "      <td>127.147321</td>\n",
       "      <td>서울특별시</td>\n",
       "    </tr>\n",
       "    <tr>\n",
       "      <th>...</th>\n",
       "      <td>...</td>\n",
       "      <td>...</td>\n",
       "      <td>...</td>\n",
       "    </tr>\n",
       "    <tr>\n",
       "      <th>488526</th>\n",
       "      <td>35.170857</td>\n",
       "      <td>129.100584</td>\n",
       "      <td>부산광역시</td>\n",
       "    </tr>\n",
       "    <tr>\n",
       "      <th>488527</th>\n",
       "      <td>35.260185</td>\n",
       "      <td>129.220741</td>\n",
       "      <td>부산광역시</td>\n",
       "    </tr>\n",
       "    <tr>\n",
       "      <th>488528</th>\n",
       "      <td>35.188529</td>\n",
       "      <td>129.096057</td>\n",
       "      <td>부산광역시</td>\n",
       "    </tr>\n",
       "    <tr>\n",
       "      <th>488529</th>\n",
       "      <td>35.100503</td>\n",
       "      <td>128.980941</td>\n",
       "      <td>부산광역시</td>\n",
       "    </tr>\n",
       "    <tr>\n",
       "      <th>488530</th>\n",
       "      <td>35.077620</td>\n",
       "      <td>128.978265</td>\n",
       "      <td>부산광역시</td>\n",
       "    </tr>\n",
       "  </tbody>\n",
       "</table>\n",
       "<p>488531 rows × 3 columns</p>\n",
       "</div>"
      ],
      "text/plain": [
       "               위도          경도    시도명\n",
       "0       37.556197  127.159471  서울특별시\n",
       "1       37.562176  126.924660  서울특별시\n",
       "2       37.550689  126.919845  서울특별시\n",
       "3       37.471190  126.937790  서울특별시\n",
       "4       37.493054  127.147321  서울특별시\n",
       "...           ...         ...    ...\n",
       "488526  35.170857  129.100584  부산광역시\n",
       "488527  35.260185  129.220741  부산광역시\n",
       "488528  35.188529  129.096057  부산광역시\n",
       "488529  35.100503  128.980941  부산광역시\n",
       "488530  35.077620  128.978265  부산광역시\n",
       "\n",
       "[488531 rows x 3 columns]"
      ]
     },
     "execution_count": 33,
     "metadata": {},
     "output_type": "execute_result"
    }
   ],
   "source": [
    "df_data1 = df_data[['위도','경도','시도명']]\n",
    "df_data1"
   ]
  },
  {
   "cell_type": "code",
   "execution_count": 34,
   "metadata": {},
   "outputs": [
    {
     "data": {
      "text/plain": [
       "<AxesSubplot:xlabel='경도', ylabel='위도'>"
      ]
     },
     "execution_count": 34,
     "metadata": {},
     "output_type": "execute_result"
    },
    {
     "data": {
      "image/png": "[encoded data removed]",
      "text/plain": [
       "<Figure size 432x288 with 1 Axes>"
      ]
     },
     "metadata": {
      "image/png": {
       "height": 263,
       "width": 389
      },
      "needs_background": "light"
     },
     "output_type": "display_data"
    }
   ],
   "source": [
    "sns.scatterplot(x='경도', y='위도', data=df_data1, hue='시도명')"
   ]
  },
  {
   "cell_type": "markdown",
   "metadata": {},
   "source": [
    "②\t경도와 위도의 산점도를 “시도명” 컬럼별로 서브플롯으로 시각화"
   ]
  },
  {
   "cell_type": "code",
   "execution_count": 35,
   "metadata": {},
   "outputs": [],
   "source": [
    "df_data2 = df_data1.sample(10000)"
   ]
  },
  {
   "cell_type": "code",
   "execution_count": 36,
   "metadata": {},
   "outputs": [
    {
     "data": {
      "text/plain": [
       "<seaborn.axisgrid.FacetGrid at 0x12c34709fd0>"
      ]
     },
     "execution_count": 36,
     "metadata": {},
     "output_type": "execute_result"
    },
    {
     "data": {
      "image/png": "[encoded data removed]",
      "text/plain": [
       "<Figure size 806x360 with 2 Axes>"
      ]
     },
     "metadata": {
      "image/png": {
       "height": 368,
       "width": 814
      },
      "needs_background": "light"
     },
     "output_type": "display_data"
    }
   ],
   "source": [
    "sns.relplot(x='경도', y='위도', data=df_data2, col='시도명', hue='시도명')"
   ]
  },
  {
   "cell_type": "markdown",
   "metadata": {},
   "source": [
    "③\t위의 1번에서 시각화된 산점도를 바탕으로 회귀선을 그린다."
   ]
  },
  {
   "cell_type": "code",
   "execution_count": 37,
   "metadata": {},
   "outputs": [
    {
     "data": {
      "text/plain": [
       "<AxesSubplot:xlabel='경도', ylabel='위도'>"
      ]
     },
     "execution_count": 37,
     "metadata": {},
     "output_type": "execute_result"
    },
    {
     "data": {
      "image/png": "[encoded data removed]",
      "text/plain": [
       "<Figure size 432x288 with 1 Axes>"
      ]
     },
     "metadata": {
      "image/png": {
       "height": 263,
       "width": 389
      },
      "needs_background": "light"
     },
     "output_type": "display_data"
    }
   ],
   "source": [
    "sns.scatterplot(x='경도', y='위도', data=df_data2, hue='시도명')\n",
    "sns.lineplot(x='경도',y='위도', data=df_data2, hue='시도명')"
   ]
  },
  {
   "cell_type": "markdown",
   "metadata": {},
   "source": [
    "### 10.\t상권업종대분류명별 상호명의 개수를 도출하고 시각화하기"
   ]
  },
  {
   "cell_type": "code",
   "execution_count": 38,
   "metadata": {},
   "outputs": [
    {
     "data": {
      "text/html": [
       "<div>\n",
       "<style scoped>\n",
       "    .dataframe tbody tr th:only-of-type {\n",
       "        vertical-align: middle;\n",
       "    }\n",
       "\n",
       "    .dataframe tbody tr th {\n",
       "        vertical-align: top;\n",
       "    }\n",
       "\n",
       "    .dataframe thead th {\n",
       "        text-align: right;\n",
       "    }\n",
       "</style>\n",
       "<table border=\"1\" class=\"dataframe\">\n",
       "  <thead>\n",
       "    <tr style=\"text-align: right;\">\n",
       "      <th></th>\n",
       "      <th>상호명</th>\n",
       "    </tr>\n",
       "    <tr>\n",
       "      <th>상권업종대분류명</th>\n",
       "      <th></th>\n",
       "    </tr>\n",
       "  </thead>\n",
       "  <tbody>\n",
       "    <tr>\n",
       "      <th>스포츠</th>\n",
       "      <td>965</td>\n",
       "    </tr>\n",
       "    <tr>\n",
       "      <th>숙박</th>\n",
       "      <td>4411</td>\n",
       "    </tr>\n",
       "    <tr>\n",
       "      <th>관광/여가/오락</th>\n",
       "      <td>11234</td>\n",
       "    </tr>\n",
       "    <tr>\n",
       "      <th>부동산</th>\n",
       "      <td>19124</td>\n",
       "    </tr>\n",
       "    <tr>\n",
       "      <th>학문/교육</th>\n",
       "      <td>34474</td>\n",
       "    </tr>\n",
       "    <tr>\n",
       "      <th>생활서비스</th>\n",
       "      <td>82671</td>\n",
       "    </tr>\n",
       "    <tr>\n",
       "      <th>소매</th>\n",
       "      <td>148357</td>\n",
       "    </tr>\n",
       "    <tr>\n",
       "      <th>음식</th>\n",
       "      <td>187293</td>\n",
       "    </tr>\n",
       "  </tbody>\n",
       "</table>\n",
       "</div>"
      ],
      "text/plain": [
       "             상호명\n",
       "상권업종대분류명        \n",
       "스포츠          965\n",
       "숙박          4411\n",
       "관광/여가/오락   11234\n",
       "부동산        19124\n",
       "학문/교육      34474\n",
       "생활서비스      82671\n",
       "소매        148357\n",
       "음식        187293"
      ]
     },
     "execution_count": 38,
     "metadata": {},
     "output_type": "execute_result"
    }
   ],
   "source": [
    "df_data2 = df_data.groupby('상권업종대분류명')['상호명'].count()\n",
    "df_data2 = df_data2.to_frame().sort_values(by='상호명')\n",
    "df_data2"
   ]
  },
  {
   "cell_type": "code",
   "execution_count": 39,
   "metadata": {},
   "outputs": [
    {
     "data": {
      "image/png": "[encoded data removed]",
      "text/plain": [
       "<Figure size 576x432 with 1 Axes>"
      ]
     },
     "metadata": {
      "image/png": {
       "height": 372,
       "width": 515
      },
      "needs_background": "light"
     },
     "output_type": "display_data"
    }
   ],
   "source": [
    "plt.figure(figsize=(8,6))\n",
    "ax = sns.barplot(x=df_data2.index, y='상호명', data=df_data2, palette='Set3').set_ylabel('상호 개수')"
   ]
  },
  {
   "cell_type": "code",
   "execution_count": 40,
   "metadata": {},
   "outputs": [
    {
     "data": {
      "text/html": [
       "<div>\n",
       "<style scoped>\n",
       "    .dataframe tbody tr th:only-of-type {\n",
       "        vertical-align: middle;\n",
       "    }\n",
       "\n",
       "    .dataframe tbody tr th {\n",
       "        vertical-align: top;\n",
       "    }\n",
       "\n",
       "    .dataframe thead th {\n",
       "        text-align: right;\n",
       "    }\n",
       "</style>\n",
       "<table border=\"1\" class=\"dataframe\">\n",
       "  <thead>\n",
       "    <tr style=\"text-align: right;\">\n",
       "      <th></th>\n",
       "      <th></th>\n",
       "      <th>상호명</th>\n",
       "    </tr>\n",
       "    <tr>\n",
       "      <th>상권업종대분류명</th>\n",
       "      <th>상호명</th>\n",
       "      <th></th>\n",
       "    </tr>\n",
       "  </thead>\n",
       "  <tbody>\n",
       "    <tr>\n",
       "      <th rowspan=\"5\" valign=\"top\">관광/여가/오락</th>\n",
       "      <th>장동민의옹피씨</th>\n",
       "      <td>151</td>\n",
       "    </tr>\n",
       "    <tr>\n",
       "      <th>휠라</th>\n",
       "      <td>35</td>\n",
       "    </tr>\n",
       "    <tr>\n",
       "      <th>앵콜노래연습장</th>\n",
       "      <td>31</td>\n",
       "    </tr>\n",
       "    <tr>\n",
       "      <th>팡팡노래연습장</th>\n",
       "      <td>31</td>\n",
       "    </tr>\n",
       "    <tr>\n",
       "      <th>스타노래방</th>\n",
       "      <td>25</td>\n",
       "    </tr>\n",
       "    <tr>\n",
       "      <th>...</th>\n",
       "      <th>...</th>\n",
       "      <td>...</td>\n",
       "    </tr>\n",
       "    <tr>\n",
       "      <th rowspan=\"5\" valign=\"top\">학문/교육</th>\n",
       "      <th>힘찬나래국제태권도장</th>\n",
       "      <td>1</td>\n",
       "    </tr>\n",
       "    <tr>\n",
       "      <th>힘찬나래태권도</th>\n",
       "      <td>1</td>\n",
       "    </tr>\n",
       "    <tr>\n",
       "      <th>힘찬수학보습학원</th>\n",
       "      <td>1</td>\n",
       "    </tr>\n",
       "    <tr>\n",
       "      <th>힘찬어린이집</th>\n",
       "      <td>1</td>\n",
       "    </tr>\n",
       "    <tr>\n",
       "      <th>힘찬키즈스포츠&amp;태권도스쿨</th>\n",
       "      <td>1</td>\n",
       "    </tr>\n",
       "  </tbody>\n",
       "</table>\n",
       "<p>336327 rows × 1 columns</p>\n",
       "</div>"
      ],
      "text/plain": [
       "                        상호명\n",
       "상권업종대분류명 상호명               \n",
       "관광/여가/오락 장동민의옹피씨        151\n",
       "         휠라              35\n",
       "         앵콜노래연습장         31\n",
       "         팡팡노래연습장         31\n",
       "         스타노래방           25\n",
       "...                     ...\n",
       "학문/교육    힘찬나래국제태권도장       1\n",
       "         힘찬나래태권도          1\n",
       "         힘찬수학보습학원         1\n",
       "         힘찬어린이집           1\n",
       "         힘찬키즈스포츠&태권도스쿨    1\n",
       "\n",
       "[336327 rows x 1 columns]"
      ]
     },
     "execution_count": 40,
     "metadata": {},
     "output_type": "execute_result"
    }
   ],
   "source": [
    "df_data.groupby('상권업종대분류명')['상호명'].value_counts().to_frame()"
   ]
  },
  {
   "cell_type": "markdown",
   "metadata": {},
   "source": [
    "### 11.\t상권업종대분류명이 음식인 서브셋을 이용한 분석\n",
    "①\t“상권업종대분류명”이 음식인 서브셋을 변수 df_food에 할당하고 확인"
   ]
  },
  {
   "cell_type": "code",
   "execution_count": 43,
   "metadata": {},
   "outputs": [
    {
     "data": {
      "text/html": [
       "<div>\n",
       "<style scoped>\n",
       "    .dataframe tbody tr th:only-of-type {\n",
       "        vertical-align: middle;\n",
       "    }\n",
       "\n",
       "    .dataframe tbody tr th {\n",
       "        vertical-align: top;\n",
       "    }\n",
       "\n",
       "    .dataframe thead th {\n",
       "        text-align: right;\n",
       "    }\n",
       "</style>\n",
       "<table border=\"1\" class=\"dataframe\">\n",
       "  <thead>\n",
       "    <tr style=\"text-align: right;\">\n",
       "      <th></th>\n",
       "      <th>index</th>\n",
       "      <th>상호명</th>\n",
       "      <th>상권업종대분류명</th>\n",
       "      <th>상권업종중분류명</th>\n",
       "      <th>상권업종소분류명</th>\n",
       "      <th>시도명</th>\n",
       "      <th>시군구명</th>\n",
       "      <th>행정동명</th>\n",
       "      <th>법정동명</th>\n",
       "      <th>대지구분명</th>\n",
       "      <th>지번본번지</th>\n",
       "      <th>지번주소</th>\n",
       "      <th>도로명</th>\n",
       "      <th>건물본번지</th>\n",
       "      <th>도로명주소</th>\n",
       "      <th>경도</th>\n",
       "      <th>위도</th>\n",
       "    </tr>\n",
       "  </thead>\n",
       "  <tbody>\n",
       "    <tr>\n",
       "      <th>0</th>\n",
       "      <td>0</td>\n",
       "      <td>도전최강달인왕만두</td>\n",
       "      <td>음식</td>\n",
       "      <td>한식</td>\n",
       "      <td>한식/백반/한정식</td>\n",
       "      <td>서울특별시</td>\n",
       "      <td>강동구</td>\n",
       "      <td>고덕2동</td>\n",
       "      <td>고덕동</td>\n",
       "      <td>대지</td>\n",
       "      <td>693</td>\n",
       "      <td>서울특별시 강동구 고덕동 693</td>\n",
       "      <td>서울특별시 강동구 고덕로</td>\n",
       "      <td>333</td>\n",
       "      <td>서울특별시 강동구 고덕로 333</td>\n",
       "      <td>127.159471</td>\n",
       "      <td>37.556197</td>\n",
       "    </tr>\n",
       "    <tr>\n",
       "      <th>1</th>\n",
       "      <td>1</td>\n",
       "      <td>이때</td>\n",
       "      <td>음식</td>\n",
       "      <td>한식</td>\n",
       "      <td>한식/백반/한정식</td>\n",
       "      <td>서울특별시</td>\n",
       "      <td>마포구</td>\n",
       "      <td>연남동</td>\n",
       "      <td>연남동</td>\n",
       "      <td>대지</td>\n",
       "      <td>390</td>\n",
       "      <td>서울특별시 마포구 연남동 390-67</td>\n",
       "      <td>서울특별시 마포구 동교로38안길</td>\n",
       "      <td>7</td>\n",
       "      <td>서울특별시 마포구 동교로38안길 7</td>\n",
       "      <td>126.924660</td>\n",
       "      <td>37.562176</td>\n",
       "    </tr>\n",
       "    <tr>\n",
       "      <th>2</th>\n",
       "      <td>2</td>\n",
       "      <td>L.A.D</td>\n",
       "      <td>음식</td>\n",
       "      <td>한식</td>\n",
       "      <td>한식/백반/한정식</td>\n",
       "      <td>서울특별시</td>\n",
       "      <td>마포구</td>\n",
       "      <td>서교동</td>\n",
       "      <td>서교동</td>\n",
       "      <td>대지</td>\n",
       "      <td>395</td>\n",
       "      <td>서울특별시 마포구 서교동 395-112</td>\n",
       "      <td>서울특별시 마포구 잔다리로3안길</td>\n",
       "      <td>23</td>\n",
       "      <td>서울특별시 마포구 잔다리로3안길 23</td>\n",
       "      <td>126.919845</td>\n",
       "      <td>37.550689</td>\n",
       "    </tr>\n",
       "    <tr>\n",
       "      <th>3</th>\n",
       "      <td>3</td>\n",
       "      <td>제이씨에스푸드</td>\n",
       "      <td>음식</td>\n",
       "      <td>한식</td>\n",
       "      <td>한식/백반/한정식</td>\n",
       "      <td>서울특별시</td>\n",
       "      <td>관악구</td>\n",
       "      <td>서림동</td>\n",
       "      <td>신림동</td>\n",
       "      <td>대지</td>\n",
       "      <td>118</td>\n",
       "      <td>서울특별시 관악구 신림동 118-33</td>\n",
       "      <td>서울특별시 관악구 신림로14길</td>\n",
       "      <td>3</td>\n",
       "      <td>서울특별시 관악구 신림로14길 3</td>\n",
       "      <td>126.937790</td>\n",
       "      <td>37.471190</td>\n",
       "    </tr>\n",
       "    <tr>\n",
       "      <th>11</th>\n",
       "      <td>11</td>\n",
       "      <td>비지트</td>\n",
       "      <td>음식</td>\n",
       "      <td>한식</td>\n",
       "      <td>한식/백반/한정식</td>\n",
       "      <td>서울특별시</td>\n",
       "      <td>서초구</td>\n",
       "      <td>방배4동</td>\n",
       "      <td>방배동</td>\n",
       "      <td>대지</td>\n",
       "      <td>854</td>\n",
       "      <td>서울특별시 서초구 방배동 854-18</td>\n",
       "      <td>서울특별시 서초구 동광로18길</td>\n",
       "      <td>82</td>\n",
       "      <td>서울특별시 서초구 동광로18길 82</td>\n",
       "      <td>126.991394</td>\n",
       "      <td>37.488375</td>\n",
       "    </tr>\n",
       "  </tbody>\n",
       "</table>\n",
       "</div>"
      ],
      "text/plain": [
       "    index        상호명 상권업종대분류명 상권업종중분류명   상권업종소분류명    시도명 시군구명  행정동명 법정동명  \\\n",
       "0       0  도전최강달인왕만두       음식       한식  한식/백반/한정식  서울특별시  강동구  고덕2동  고덕동   \n",
       "1       1         이때       음식       한식  한식/백반/한정식  서울특별시  마포구   연남동  연남동   \n",
       "2       2      L.A.D       음식       한식  한식/백반/한정식  서울특별시  마포구   서교동  서교동   \n",
       "3       3    제이씨에스푸드       음식       한식  한식/백반/한정식  서울특별시  관악구   서림동  신림동   \n",
       "11     11        비지트       음식       한식  한식/백반/한정식  서울특별시  서초구  방배4동  방배동   \n",
       "\n",
       "   대지구분명  지번본번지                   지번주소                도로명  건물본번지  \\\n",
       "0     대지    693      서울특별시 강동구 고덕동 693      서울특별시 강동구 고덕로    333   \n",
       "1     대지    390   서울특별시 마포구 연남동 390-67  서울특별시 마포구 동교로38안길      7   \n",
       "2     대지    395  서울특별시 마포구 서교동 395-112  서울특별시 마포구 잔다리로3안길     23   \n",
       "3     대지    118   서울특별시 관악구 신림동 118-33   서울특별시 관악구 신림로14길      3   \n",
       "11    대지    854   서울특별시 서초구 방배동 854-18   서울특별시 서초구 동광로18길     82   \n",
       "\n",
       "                   도로명주소          경도         위도  \n",
       "0      서울특별시 강동구 고덕로 333  127.159471  37.556197  \n",
       "1    서울특별시 마포구 동교로38안길 7  126.924660  37.562176  \n",
       "2   서울특별시 마포구 잔다리로3안길 23  126.919845  37.550689  \n",
       "3     서울특별시 관악구 신림로14길 3  126.937790  37.471190  \n",
       "11   서울특별시 서초구 동광로18길 82  126.991394  37.488375  "
      ]
     },
     "execution_count": 43,
     "metadata": {},
     "output_type": "execute_result"
    }
   ],
   "source": [
    "df_food = df_data[df_data['상권업종대분류명']=='음식']\n",
    "df_food.head()"
   ]
  },
  {
   "cell_type": "markdown",
   "metadata": {},
   "source": [
    "②\t“상권업종대분류명”이 음식이면서, \"시군구명”이 강남구 데이터만 가져와 “상권업종중분류명”별로 빈도수를 구함(loc함수를 이용 vs loc함수 이용안함)"
   ]
  },
  {
   "cell_type": "code",
   "execution_count": 51,
   "metadata": {},
   "outputs": [
    {
     "data": {
      "text/plain": [
       "한식         4594\n",
       "커피점/카페     2951\n",
       "양식         1644\n",
       "유흥주점       1373\n",
       "일식/수산물     1226\n",
       "분식         1114\n",
       "패스트푸드       679\n",
       "제과제빵떡케익     637\n",
       "닭/오리요리      462\n",
       "중식          400\n",
       "별식/퓨전요리     262\n",
       "부페           65\n",
       "기타음식업        47\n",
       "음식배달서비스      11\n",
       "Name: 상권업종중분류명, dtype: int64"
      ]
     },
     "execution_count": 51,
     "metadata": {},
     "output_type": "execute_result"
    }
   ],
   "source": [
    "df_food[df_food['시군구명']=='강남구']['상권업종중분류명'].value_counts()"
   ]
  },
  {
   "cell_type": "code",
   "execution_count": 49,
   "metadata": {},
   "outputs": [
    {
     "data": {
      "text/plain": [
       "상권업종중분류명\n",
       "한식          4594\n",
       "커피점/카페      2951\n",
       "양식          1644\n",
       "유흥주점        1373\n",
       "일식/수산물      1226\n",
       "분식          1114\n",
       "패스트푸드        679\n",
       "제과제빵떡케익      637\n",
       "닭/오리요리       462\n",
       "중식           400\n",
       "별식/퓨전요리      262\n",
       "부페            65\n",
       "기타음식업         47\n",
       "음식배달서비스       11\n",
       "dtype: int64"
      ]
     },
     "execution_count": 49,
     "metadata": {},
     "output_type": "execute_result"
    }
   ],
   "source": [
    "df_food[df_food['시군구명']=='강남구'].loc[:,['상권업종중분류명']].value_counts()"
   ]
  },
  {
   "cell_type": "markdown",
   "metadata": {},
   "source": [
    "### 12.\tdf 데이터셋에서 “상권업종대분류명”이 음식인 데이터 중 서울특별시 데이터 서브셋\n",
    "①\t“상권업종대분류명”이 음식인 서브셋 중 서울특별시 데이터만 변수 df_seoul_food에 할당하고 확인"
   ]
  },
  {
   "cell_type": "code",
   "execution_count": 54,
   "metadata": {},
   "outputs": [
    {
     "data": {
      "text/html": [
       "<div>\n",
       "<style scoped>\n",
       "    .dataframe tbody tr th:only-of-type {\n",
       "        vertical-align: middle;\n",
       "    }\n",
       "\n",
       "    .dataframe tbody tr th {\n",
       "        vertical-align: top;\n",
       "    }\n",
       "\n",
       "    .dataframe thead th {\n",
       "        text-align: right;\n",
       "    }\n",
       "</style>\n",
       "<table border=\"1\" class=\"dataframe\">\n",
       "  <thead>\n",
       "    <tr style=\"text-align: right;\">\n",
       "      <th></th>\n",
       "      <th>index</th>\n",
       "      <th>상호명</th>\n",
       "      <th>상권업종대분류명</th>\n",
       "      <th>상권업종중분류명</th>\n",
       "      <th>상권업종소분류명</th>\n",
       "      <th>시도명</th>\n",
       "      <th>시군구명</th>\n",
       "      <th>행정동명</th>\n",
       "      <th>법정동명</th>\n",
       "      <th>대지구분명</th>\n",
       "      <th>지번본번지</th>\n",
       "      <th>지번주소</th>\n",
       "      <th>도로명</th>\n",
       "      <th>건물본번지</th>\n",
       "      <th>도로명주소</th>\n",
       "      <th>경도</th>\n",
       "      <th>위도</th>\n",
       "    </tr>\n",
       "  </thead>\n",
       "  <tbody>\n",
       "    <tr>\n",
       "      <th>0</th>\n",
       "      <td>0</td>\n",
       "      <td>도전최강달인왕만두</td>\n",
       "      <td>음식</td>\n",
       "      <td>한식</td>\n",
       "      <td>한식/백반/한정식</td>\n",
       "      <td>서울특별시</td>\n",
       "      <td>강동구</td>\n",
       "      <td>고덕2동</td>\n",
       "      <td>고덕동</td>\n",
       "      <td>대지</td>\n",
       "      <td>693</td>\n",
       "      <td>서울특별시 강동구 고덕동 693</td>\n",
       "      <td>서울특별시 강동구 고덕로</td>\n",
       "      <td>333</td>\n",
       "      <td>서울특별시 강동구 고덕로 333</td>\n",
       "      <td>127.159471</td>\n",
       "      <td>37.556197</td>\n",
       "    </tr>\n",
       "    <tr>\n",
       "      <th>1</th>\n",
       "      <td>1</td>\n",
       "      <td>이때</td>\n",
       "      <td>음식</td>\n",
       "      <td>한식</td>\n",
       "      <td>한식/백반/한정식</td>\n",
       "      <td>서울특별시</td>\n",
       "      <td>마포구</td>\n",
       "      <td>연남동</td>\n",
       "      <td>연남동</td>\n",
       "      <td>대지</td>\n",
       "      <td>390</td>\n",
       "      <td>서울특별시 마포구 연남동 390-67</td>\n",
       "      <td>서울특별시 마포구 동교로38안길</td>\n",
       "      <td>7</td>\n",
       "      <td>서울특별시 마포구 동교로38안길 7</td>\n",
       "      <td>126.924660</td>\n",
       "      <td>37.562176</td>\n",
       "    </tr>\n",
       "    <tr>\n",
       "      <th>2</th>\n",
       "      <td>2</td>\n",
       "      <td>L.A.D</td>\n",
       "      <td>음식</td>\n",
       "      <td>한식</td>\n",
       "      <td>한식/백반/한정식</td>\n",
       "      <td>서울특별시</td>\n",
       "      <td>마포구</td>\n",
       "      <td>서교동</td>\n",
       "      <td>서교동</td>\n",
       "      <td>대지</td>\n",
       "      <td>395</td>\n",
       "      <td>서울특별시 마포구 서교동 395-112</td>\n",
       "      <td>서울특별시 마포구 잔다리로3안길</td>\n",
       "      <td>23</td>\n",
       "      <td>서울특별시 마포구 잔다리로3안길 23</td>\n",
       "      <td>126.919845</td>\n",
       "      <td>37.550689</td>\n",
       "    </tr>\n",
       "  </tbody>\n",
       "</table>\n",
       "</div>"
      ],
      "text/plain": [
       "   index        상호명 상권업종대분류명 상권업종중분류명   상권업종소분류명    시도명 시군구명  행정동명 법정동명 대지구분명  \\\n",
       "0      0  도전최강달인왕만두       음식       한식  한식/백반/한정식  서울특별시  강동구  고덕2동  고덕동    대지   \n",
       "1      1         이때       음식       한식  한식/백반/한정식  서울특별시  마포구   연남동  연남동    대지   \n",
       "2      2      L.A.D       음식       한식  한식/백반/한정식  서울특별시  마포구   서교동  서교동    대지   \n",
       "\n",
       "   지번본번지                   지번주소                도로명  건물본번지  \\\n",
       "0    693      서울특별시 강동구 고덕동 693      서울특별시 강동구 고덕로    333   \n",
       "1    390   서울특별시 마포구 연남동 390-67  서울특별시 마포구 동교로38안길      7   \n",
       "2    395  서울특별시 마포구 서교동 395-112  서울특별시 마포구 잔다리로3안길     23   \n",
       "\n",
       "                  도로명주소          경도         위도  \n",
       "0     서울특별시 강동구 고덕로 333  127.159471  37.556197  \n",
       "1   서울특별시 마포구 동교로38안길 7  126.924660  37.562176  \n",
       "2  서울특별시 마포구 잔다리로3안길 23  126.919845  37.550689  "
      ]
     },
     "execution_count": 54,
     "metadata": {},
     "output_type": "execute_result"
    }
   ],
   "source": [
    "df_seoul_food = df_food[df_food['시도명']=='서울특별시']\n",
    "df_seoul_food.head(3)"
   ]
  },
  {
   "cell_type": "markdown",
   "metadata": {},
   "source": [
    "②\tdf_seoul_food 데이터 셋을 시군구명, 상권업종중분류명으로 그룹화하여 상점수를 count한 내용을 food_gu 변수에 할당"
   ]
  },
  {
   "cell_type": "code",
   "execution_count": 60,
   "metadata": {},
   "outputs": [],
   "source": [
    "food_gu = df_seoul_food.groupby(['시군구명', '상권업종중분류명'])['상호명'].count().to_frame()"
   ]
  },
  {
   "cell_type": "markdown",
   "metadata": {},
   "source": [
    "③\tfood_gu 변수를 다음과 같은 스타일의 표로 출력(groupby 이용)."
   ]
  },
  {
   "cell_type": "code",
   "execution_count": 67,
   "metadata": {},
   "outputs": [
    {
     "data": {
      "text/html": [
       "<div>\n",
       "<style scoped>\n",
       "    .dataframe tbody tr th:only-of-type {\n",
       "        vertical-align: middle;\n",
       "    }\n",
       "\n",
       "    .dataframe tbody tr th {\n",
       "        vertical-align: top;\n",
       "    }\n",
       "\n",
       "    .dataframe thead th {\n",
       "        text-align: right;\n",
       "    }\n",
       "</style>\n",
       "<table border=\"1\" class=\"dataframe\">\n",
       "  <thead>\n",
       "    <tr style=\"text-align: right;\">\n",
       "      <th>상권업종중분류명</th>\n",
       "      <th>기타음식업</th>\n",
       "      <th>닭/오리요리</th>\n",
       "      <th>별식/퓨전요리</th>\n",
       "      <th>부페</th>\n",
       "      <th>분식</th>\n",
       "      <th>양식</th>\n",
       "      <th>유흥주점</th>\n",
       "      <th>음식배달서비스</th>\n",
       "      <th>일식/수산물</th>\n",
       "      <th>제과제빵떡케익</th>\n",
       "      <th>중식</th>\n",
       "      <th>커피점/카페</th>\n",
       "      <th>패스트푸드</th>\n",
       "      <th>한식</th>\n",
       "    </tr>\n",
       "    <tr>\n",
       "      <th>시군구명</th>\n",
       "      <th></th>\n",
       "      <th></th>\n",
       "      <th></th>\n",
       "      <th></th>\n",
       "      <th></th>\n",
       "      <th></th>\n",
       "      <th></th>\n",
       "      <th></th>\n",
       "      <th></th>\n",
       "      <th></th>\n",
       "      <th></th>\n",
       "      <th></th>\n",
       "      <th></th>\n",
       "      <th></th>\n",
       "    </tr>\n",
       "  </thead>\n",
       "  <tbody>\n",
       "    <tr>\n",
       "      <th>강남구</th>\n",
       "      <td>47.0</td>\n",
       "      <td>462.0</td>\n",
       "      <td>262.0</td>\n",
       "      <td>65.0</td>\n",
       "      <td>1114.0</td>\n",
       "      <td>1644.0</td>\n",
       "      <td>1373.0</td>\n",
       "      <td>11.0</td>\n",
       "      <td>1226.0</td>\n",
       "      <td>637.0</td>\n",
       "      <td>400.0</td>\n",
       "      <td>2951.0</td>\n",
       "      <td>679.0</td>\n",
       "      <td>4594.0</td>\n",
       "    </tr>\n",
       "    <tr>\n",
       "      <th>강동구</th>\n",
       "      <td>5.0</td>\n",
       "      <td>303.0</td>\n",
       "      <td>120.0</td>\n",
       "      <td>28.0</td>\n",
       "      <td>532.0</td>\n",
       "      <td>175.0</td>\n",
       "      <td>672.0</td>\n",
       "      <td>4.0</td>\n",
       "      <td>380.0</td>\n",
       "      <td>254.0</td>\n",
       "      <td>121.0</td>\n",
       "      <td>829.0</td>\n",
       "      <td>250.0</td>\n",
       "      <td>1852.0</td>\n",
       "    </tr>\n",
       "    <tr>\n",
       "      <th>강북구</th>\n",
       "      <td>3.0</td>\n",
       "      <td>196.0</td>\n",
       "      <td>73.0</td>\n",
       "      <td>6.0</td>\n",
       "      <td>327.0</td>\n",
       "      <td>74.0</td>\n",
       "      <td>411.0</td>\n",
       "      <td>5.0</td>\n",
       "      <td>177.0</td>\n",
       "      <td>122.0</td>\n",
       "      <td>61.0</td>\n",
       "      <td>334.0</td>\n",
       "      <td>127.0</td>\n",
       "      <td>1262.0</td>\n",
       "    </tr>\n",
       "    <tr>\n",
       "      <th>강서구</th>\n",
       "      <td>20.0</td>\n",
       "      <td>345.0</td>\n",
       "      <td>136.0</td>\n",
       "      <td>29.0</td>\n",
       "      <td>604.0</td>\n",
       "      <td>389.0</td>\n",
       "      <td>847.0</td>\n",
       "      <td>3.0</td>\n",
       "      <td>482.0</td>\n",
       "      <td>284.0</td>\n",
       "      <td>174.0</td>\n",
       "      <td>1107.0</td>\n",
       "      <td>279.0</td>\n",
       "      <td>2182.0</td>\n",
       "    </tr>\n",
       "    <tr>\n",
       "      <th>관악구</th>\n",
       "      <td>12.0</td>\n",
       "      <td>320.0</td>\n",
       "      <td>98.0</td>\n",
       "      <td>13.0</td>\n",
       "      <td>556.0</td>\n",
       "      <td>302.0</td>\n",
       "      <td>786.0</td>\n",
       "      <td>4.0</td>\n",
       "      <td>354.0</td>\n",
       "      <td>192.0</td>\n",
       "      <td>139.0</td>\n",
       "      <td>748.0</td>\n",
       "      <td>212.0</td>\n",
       "      <td>1631.0</td>\n",
       "    </tr>\n",
       "    <tr>\n",
       "      <th>광진구</th>\n",
       "      <td>10.0</td>\n",
       "      <td>339.0</td>\n",
       "      <td>125.0</td>\n",
       "      <td>22.0</td>\n",
       "      <td>576.0</td>\n",
       "      <td>284.0</td>\n",
       "      <td>733.0</td>\n",
       "      <td>2.0</td>\n",
       "      <td>407.0</td>\n",
       "      <td>230.0</td>\n",
       "      <td>180.0</td>\n",
       "      <td>909.0</td>\n",
       "      <td>241.0</td>\n",
       "      <td>1719.0</td>\n",
       "    </tr>\n",
       "    <tr>\n",
       "      <th>구로구</th>\n",
       "      <td>8.0</td>\n",
       "      <td>286.0</td>\n",
       "      <td>100.0</td>\n",
       "      <td>21.0</td>\n",
       "      <td>447.0</td>\n",
       "      <td>112.0</td>\n",
       "      <td>672.0</td>\n",
       "      <td>5.0</td>\n",
       "      <td>266.0</td>\n",
       "      <td>164.0</td>\n",
       "      <td>248.0</td>\n",
       "      <td>642.0</td>\n",
       "      <td>189.0</td>\n",
       "      <td>1463.0</td>\n",
       "    </tr>\n",
       "    <tr>\n",
       "      <th>금천구</th>\n",
       "      <td>9.0</td>\n",
       "      <td>188.0</td>\n",
       "      <td>87.0</td>\n",
       "      <td>13.0</td>\n",
       "      <td>301.0</td>\n",
       "      <td>85.0</td>\n",
       "      <td>405.0</td>\n",
       "      <td>1.0</td>\n",
       "      <td>190.0</td>\n",
       "      <td>117.0</td>\n",
       "      <td>111.0</td>\n",
       "      <td>501.0</td>\n",
       "      <td>107.0</td>\n",
       "      <td>1065.0</td>\n",
       "    </tr>\n",
       "    <tr>\n",
       "      <th>노원구</th>\n",
       "      <td>11.0</td>\n",
       "      <td>333.0</td>\n",
       "      <td>84.0</td>\n",
       "      <td>13.0</td>\n",
       "      <td>457.0</td>\n",
       "      <td>146.0</td>\n",
       "      <td>453.0</td>\n",
       "      <td>6.0</td>\n",
       "      <td>260.0</td>\n",
       "      <td>226.0</td>\n",
       "      <td>118.0</td>\n",
       "      <td>632.0</td>\n",
       "      <td>244.0</td>\n",
       "      <td>1268.0</td>\n",
       "    </tr>\n",
       "    <tr>\n",
       "      <th>도봉구</th>\n",
       "      <td>4.0</td>\n",
       "      <td>207.0</td>\n",
       "      <td>52.0</td>\n",
       "      <td>11.0</td>\n",
       "      <td>323.0</td>\n",
       "      <td>94.0</td>\n",
       "      <td>302.0</td>\n",
       "      <td>3.0</td>\n",
       "      <td>188.0</td>\n",
       "      <td>138.0</td>\n",
       "      <td>68.0</td>\n",
       "      <td>379.0</td>\n",
       "      <td>111.0</td>\n",
       "      <td>910.0</td>\n",
       "    </tr>\n",
       "    <tr>\n",
       "      <th>동대문구</th>\n",
       "      <td>10.0</td>\n",
       "      <td>279.0</td>\n",
       "      <td>112.0</td>\n",
       "      <td>21.0</td>\n",
       "      <td>494.0</td>\n",
       "      <td>161.0</td>\n",
       "      <td>625.0</td>\n",
       "      <td>4.0</td>\n",
       "      <td>292.0</td>\n",
       "      <td>162.0</td>\n",
       "      <td>138.0</td>\n",
       "      <td>569.0</td>\n",
       "      <td>177.0</td>\n",
       "      <td>1769.0</td>\n",
       "    </tr>\n",
       "    <tr>\n",
       "      <th>동작구</th>\n",
       "      <td>14.0</td>\n",
       "      <td>198.0</td>\n",
       "      <td>69.0</td>\n",
       "      <td>12.0</td>\n",
       "      <td>368.0</td>\n",
       "      <td>131.0</td>\n",
       "      <td>380.0</td>\n",
       "      <td>1.0</td>\n",
       "      <td>247.0</td>\n",
       "      <td>180.0</td>\n",
       "      <td>86.0</td>\n",
       "      <td>564.0</td>\n",
       "      <td>150.0</td>\n",
       "      <td>1020.0</td>\n",
       "    </tr>\n",
       "    <tr>\n",
       "      <th>마포구</th>\n",
       "      <td>21.0</td>\n",
       "      <td>253.0</td>\n",
       "      <td>121.0</td>\n",
       "      <td>22.0</td>\n",
       "      <td>484.0</td>\n",
       "      <td>422.0</td>\n",
       "      <td>841.0</td>\n",
       "      <td>6.0</td>\n",
       "      <td>455.0</td>\n",
       "      <td>291.0</td>\n",
       "      <td>160.0</td>\n",
       "      <td>1488.0</td>\n",
       "      <td>249.0</td>\n",
       "      <td>2962.0</td>\n",
       "    </tr>\n",
       "    <tr>\n",
       "      <th>서대문구</th>\n",
       "      <td>28.0</td>\n",
       "      <td>213.0</td>\n",
       "      <td>87.0</td>\n",
       "      <td>12.0</td>\n",
       "      <td>464.0</td>\n",
       "      <td>281.0</td>\n",
       "      <td>476.0</td>\n",
       "      <td>2.0</td>\n",
       "      <td>242.0</td>\n",
       "      <td>221.0</td>\n",
       "      <td>94.0</td>\n",
       "      <td>814.0</td>\n",
       "      <td>215.0</td>\n",
       "      <td>1402.0</td>\n",
       "    </tr>\n",
       "    <tr>\n",
       "      <th>서초구</th>\n",
       "      <td>27.0</td>\n",
       "      <td>266.0</td>\n",
       "      <td>173.0</td>\n",
       "      <td>23.0</td>\n",
       "      <td>688.0</td>\n",
       "      <td>526.0</td>\n",
       "      <td>764.0</td>\n",
       "      <td>4.0</td>\n",
       "      <td>505.0</td>\n",
       "      <td>299.0</td>\n",
       "      <td>183.0</td>\n",
       "      <td>1469.0</td>\n",
       "      <td>304.0</td>\n",
       "      <td>2311.0</td>\n",
       "    </tr>\n",
       "    <tr>\n",
       "      <th>성동구</th>\n",
       "      <td>26.0</td>\n",
       "      <td>158.0</td>\n",
       "      <td>73.0</td>\n",
       "      <td>9.0</td>\n",
       "      <td>324.0</td>\n",
       "      <td>241.0</td>\n",
       "      <td>337.0</td>\n",
       "      <td>3.0</td>\n",
       "      <td>251.0</td>\n",
       "      <td>154.0</td>\n",
       "      <td>104.0</td>\n",
       "      <td>693.0</td>\n",
       "      <td>136.0</td>\n",
       "      <td>1398.0</td>\n",
       "    </tr>\n",
       "    <tr>\n",
       "      <th>성북구</th>\n",
       "      <td>19.0</td>\n",
       "      <td>261.0</td>\n",
       "      <td>85.0</td>\n",
       "      <td>9.0</td>\n",
       "      <td>461.0</td>\n",
       "      <td>197.0</td>\n",
       "      <td>417.0</td>\n",
       "      <td>4.0</td>\n",
       "      <td>237.0</td>\n",
       "      <td>218.0</td>\n",
       "      <td>97.0</td>\n",
       "      <td>681.0</td>\n",
       "      <td>213.0</td>\n",
       "      <td>1499.0</td>\n",
       "    </tr>\n",
       "    <tr>\n",
       "      <th>송파구</th>\n",
       "      <td>21.0</td>\n",
       "      <td>321.0</td>\n",
       "      <td>137.0</td>\n",
       "      <td>34.0</td>\n",
       "      <td>746.0</td>\n",
       "      <td>308.0</td>\n",
       "      <td>652.0</td>\n",
       "      <td>10.0</td>\n",
       "      <td>560.0</td>\n",
       "      <td>313.0</td>\n",
       "      <td>176.0</td>\n",
       "      <td>1125.0</td>\n",
       "      <td>325.0</td>\n",
       "      <td>2842.0</td>\n",
       "    </tr>\n",
       "    <tr>\n",
       "      <th>양천구</th>\n",
       "      <td>10.0</td>\n",
       "      <td>205.0</td>\n",
       "      <td>77.0</td>\n",
       "      <td>20.0</td>\n",
       "      <td>380.0</td>\n",
       "      <td>104.0</td>\n",
       "      <td>455.0</td>\n",
       "      <td>1.0</td>\n",
       "      <td>270.0</td>\n",
       "      <td>173.0</td>\n",
       "      <td>92.0</td>\n",
       "      <td>577.0</td>\n",
       "      <td>181.0</td>\n",
       "      <td>1114.0</td>\n",
       "    </tr>\n",
       "    <tr>\n",
       "      <th>영등포구</th>\n",
       "      <td>15.0</td>\n",
       "      <td>266.0</td>\n",
       "      <td>132.0</td>\n",
       "      <td>49.0</td>\n",
       "      <td>548.0</td>\n",
       "      <td>269.0</td>\n",
       "      <td>822.0</td>\n",
       "      <td>3.0</td>\n",
       "      <td>439.0</td>\n",
       "      <td>220.0</td>\n",
       "      <td>320.0</td>\n",
       "      <td>1109.0</td>\n",
       "      <td>215.0</td>\n",
       "      <td>2127.0</td>\n",
       "    </tr>\n",
       "    <tr>\n",
       "      <th>용산구</th>\n",
       "      <td>13.0</td>\n",
       "      <td>134.0</td>\n",
       "      <td>90.0</td>\n",
       "      <td>9.0</td>\n",
       "      <td>347.0</td>\n",
       "      <td>661.0</td>\n",
       "      <td>522.0</td>\n",
       "      <td>8.0</td>\n",
       "      <td>262.0</td>\n",
       "      <td>208.0</td>\n",
       "      <td>104.0</td>\n",
       "      <td>824.0</td>\n",
       "      <td>179.0</td>\n",
       "      <td>1589.0</td>\n",
       "    </tr>\n",
       "    <tr>\n",
       "      <th>은평구</th>\n",
       "      <td>5.0</td>\n",
       "      <td>322.0</td>\n",
       "      <td>95.0</td>\n",
       "      <td>21.0</td>\n",
       "      <td>545.0</td>\n",
       "      <td>174.0</td>\n",
       "      <td>632.0</td>\n",
       "      <td>NaN</td>\n",
       "      <td>332.0</td>\n",
       "      <td>242.0</td>\n",
       "      <td>120.0</td>\n",
       "      <td>666.0</td>\n",
       "      <td>182.0</td>\n",
       "      <td>1854.0</td>\n",
       "    </tr>\n",
       "    <tr>\n",
       "      <th>종로구</th>\n",
       "      <td>18.0</td>\n",
       "      <td>164.0</td>\n",
       "      <td>99.0</td>\n",
       "      <td>16.0</td>\n",
       "      <td>476.0</td>\n",
       "      <td>551.0</td>\n",
       "      <td>420.0</td>\n",
       "      <td>4.0</td>\n",
       "      <td>283.0</td>\n",
       "      <td>153.0</td>\n",
       "      <td>115.0</td>\n",
       "      <td>1165.0</td>\n",
       "      <td>176.0</td>\n",
       "      <td>1828.0</td>\n",
       "    </tr>\n",
       "    <tr>\n",
       "      <th>중구</th>\n",
       "      <td>25.0</td>\n",
       "      <td>203.0</td>\n",
       "      <td>119.0</td>\n",
       "      <td>43.0</td>\n",
       "      <td>488.0</td>\n",
       "      <td>318.0</td>\n",
       "      <td>493.0</td>\n",
       "      <td>5.0</td>\n",
       "      <td>335.0</td>\n",
       "      <td>210.0</td>\n",
       "      <td>140.0</td>\n",
       "      <td>995.0</td>\n",
       "      <td>212.0</td>\n",
       "      <td>1675.0</td>\n",
       "    </tr>\n",
       "    <tr>\n",
       "      <th>중랑구</th>\n",
       "      <td>4.0</td>\n",
       "      <td>236.0</td>\n",
       "      <td>88.0</td>\n",
       "      <td>13.0</td>\n",
       "      <td>392.0</td>\n",
       "      <td>80.0</td>\n",
       "      <td>526.0</td>\n",
       "      <td>2.0</td>\n",
       "      <td>227.0</td>\n",
       "      <td>158.0</td>\n",
       "      <td>75.0</td>\n",
       "      <td>468.0</td>\n",
       "      <td>131.0</td>\n",
       "      <td>1334.0</td>\n",
       "    </tr>\n",
       "  </tbody>\n",
       "</table>\n",
       "</div>"
      ],
      "text/plain": [
       "상권업종중분류명  기타음식업  닭/오리요리  별식/퓨전요리    부페      분식      양식    유흥주점  음식배달서비스  \\\n",
       "시군구명                                                                      \n",
       "강남구        47.0   462.0    262.0  65.0  1114.0  1644.0  1373.0     11.0   \n",
       "강동구         5.0   303.0    120.0  28.0   532.0   175.0   672.0      4.0   \n",
       "강북구         3.0   196.0     73.0   6.0   327.0    74.0   411.0      5.0   \n",
       "강서구        20.0   345.0    136.0  29.0   604.0   389.0   847.0      3.0   \n",
       "관악구        12.0   320.0     98.0  13.0   556.0   302.0   786.0      4.0   \n",
       "광진구        10.0   339.0    125.0  22.0   576.0   284.0   733.0      2.0   \n",
       "구로구         8.0   286.0    100.0  21.0   447.0   112.0   672.0      5.0   \n",
       "금천구         9.0   188.0     87.0  13.0   301.0    85.0   405.0      1.0   \n",
       "노원구        11.0   333.0     84.0  13.0   457.0   146.0   453.0      6.0   \n",
       "도봉구         4.0   207.0     52.0  11.0   323.0    94.0   302.0      3.0   \n",
       "동대문구       10.0   279.0    112.0  21.0   494.0   161.0   625.0      4.0   \n",
       "동작구        14.0   198.0     69.0  12.0   368.0   131.0   380.0      1.0   \n",
       "마포구        21.0   253.0    121.0  22.0   484.0   422.0   841.0      6.0   \n",
       "서대문구       28.0   213.0     87.0  12.0   464.0   281.0   476.0      2.0   \n",
       "서초구        27.0   266.0    173.0  23.0   688.0   526.0   764.0      4.0   \n",
       "성동구        26.0   158.0     73.0   9.0   324.0   241.0   337.0      3.0   \n",
       "성북구        19.0   261.0     85.0   9.0   461.0   197.0   417.0      4.0   \n",
       "송파구        21.0   321.0    137.0  34.0   746.0   308.0   652.0     10.0   \n",
       "양천구        10.0   205.0     77.0  20.0   380.0   104.0   455.0      1.0   \n",
       "영등포구       15.0   266.0    132.0  49.0   548.0   269.0   822.0      3.0   \n",
       "용산구        13.0   134.0     90.0   9.0   347.0   661.0   522.0      8.0   \n",
       "은평구         5.0   322.0     95.0  21.0   545.0   174.0   632.0      NaN   \n",
       "종로구        18.0   164.0     99.0  16.0   476.0   551.0   420.0      4.0   \n",
       "중구         25.0   203.0    119.0  43.0   488.0   318.0   493.0      5.0   \n",
       "중랑구         4.0   236.0     88.0  13.0   392.0    80.0   526.0      2.0   \n",
       "\n",
       "상권업종중분류명  일식/수산물  제과제빵떡케익     중식  커피점/카페  패스트푸드      한식  \n",
       "시군구명                                                     \n",
       "강남구       1226.0    637.0  400.0  2951.0  679.0  4594.0  \n",
       "강동구        380.0    254.0  121.0   829.0  250.0  1852.0  \n",
       "강북구        177.0    122.0   61.0   334.0  127.0  1262.0  \n",
       "강서구        482.0    284.0  174.0  1107.0  279.0  2182.0  \n",
       "관악구        354.0    192.0  139.0   748.0  212.0  1631.0  \n",
       "광진구        407.0    230.0  180.0   909.0  241.0  1719.0  \n",
       "구로구        266.0    164.0  248.0   642.0  189.0  1463.0  \n",
       "금천구        190.0    117.0  111.0   501.0  107.0  1065.0  \n",
       "노원구        260.0    226.0  118.0   632.0  244.0  1268.0  \n",
       "도봉구        188.0    138.0   68.0   379.0  111.0   910.0  \n",
       "동대문구       292.0    162.0  138.0   569.0  177.0  1769.0  \n",
       "동작구        247.0    180.0   86.0   564.0  150.0  1020.0  \n",
       "마포구        455.0    291.0  160.0  1488.0  249.0  2962.0  \n",
       "서대문구       242.0    221.0   94.0   814.0  215.0  1402.0  \n",
       "서초구        505.0    299.0  183.0  1469.0  304.0  2311.0  \n",
       "성동구        251.0    154.0  104.0   693.0  136.0  1398.0  \n",
       "성북구        237.0    218.0   97.0   681.0  213.0  1499.0  \n",
       "송파구        560.0    313.0  176.0  1125.0  325.0  2842.0  \n",
       "양천구        270.0    173.0   92.0   577.0  181.0  1114.0  \n",
       "영등포구       439.0    220.0  320.0  1109.0  215.0  2127.0  \n",
       "용산구        262.0    208.0  104.0   824.0  179.0  1589.0  \n",
       "은평구        332.0    242.0  120.0   666.0  182.0  1854.0  \n",
       "종로구        283.0    153.0  115.0  1165.0  176.0  1828.0  \n",
       "중구         335.0    210.0  140.0   995.0  212.0  1675.0  \n",
       "중랑구        227.0    158.0   75.0   468.0  131.0  1334.0  "
      ]
     },
     "execution_count": 67,
     "metadata": {},
     "output_type": "execute_result"
    }
   ],
   "source": [
    "food_gu_temp = food_gu.unstack()\n",
    "food_gu_temp.columns = food_gu_temp.columns.droplevel(level=0)\n",
    "food_gu_temp"
   ]
  },
  {
   "cell_type": "markdown",
   "metadata": {},
   "source": [
    "④\t위 3번 스타일의 표를 pivot_table함수를 이용하여 출력"
   ]
  },
  {
   "cell_type": "code",
   "execution_count": 68,
   "metadata": {},
   "outputs": [
    {
     "data": {
      "text/html": [
       "<div>\n",
       "<style scoped>\n",
       "    .dataframe tbody tr th:only-of-type {\n",
       "        vertical-align: middle;\n",
       "    }\n",
       "\n",
       "    .dataframe tbody tr th {\n",
       "        vertical-align: top;\n",
       "    }\n",
       "\n",
       "    .dataframe thead th {\n",
       "        text-align: right;\n",
       "    }\n",
       "</style>\n",
       "<table border=\"1\" class=\"dataframe\">\n",
       "  <thead>\n",
       "    <tr style=\"text-align: right;\">\n",
       "      <th>상권업종중분류명</th>\n",
       "      <th>기타음식업</th>\n",
       "      <th>닭/오리요리</th>\n",
       "      <th>별식/퓨전요리</th>\n",
       "      <th>부페</th>\n",
       "      <th>분식</th>\n",
       "      <th>양식</th>\n",
       "      <th>유흥주점</th>\n",
       "      <th>음식배달서비스</th>\n",
       "      <th>일식/수산물</th>\n",
       "      <th>제과제빵떡케익</th>\n",
       "      <th>중식</th>\n",
       "      <th>커피점/카페</th>\n",
       "      <th>패스트푸드</th>\n",
       "      <th>한식</th>\n",
       "    </tr>\n",
       "    <tr>\n",
       "      <th>시군구명</th>\n",
       "      <th></th>\n",
       "      <th></th>\n",
       "      <th></th>\n",
       "      <th></th>\n",
       "      <th></th>\n",
       "      <th></th>\n",
       "      <th></th>\n",
       "      <th></th>\n",
       "      <th></th>\n",
       "      <th></th>\n",
       "      <th></th>\n",
       "      <th></th>\n",
       "      <th></th>\n",
       "      <th></th>\n",
       "    </tr>\n",
       "  </thead>\n",
       "  <tbody>\n",
       "    <tr>\n",
       "      <th>강남구</th>\n",
       "      <td>47.0</td>\n",
       "      <td>462.0</td>\n",
       "      <td>262.0</td>\n",
       "      <td>65.0</td>\n",
       "      <td>1114.0</td>\n",
       "      <td>1644.0</td>\n",
       "      <td>1373.0</td>\n",
       "      <td>11.0</td>\n",
       "      <td>1226.0</td>\n",
       "      <td>637.0</td>\n",
       "      <td>400.0</td>\n",
       "      <td>2951.0</td>\n",
       "      <td>679.0</td>\n",
       "      <td>4594.0</td>\n",
       "    </tr>\n",
       "    <tr>\n",
       "      <th>강동구</th>\n",
       "      <td>5.0</td>\n",
       "      <td>303.0</td>\n",
       "      <td>120.0</td>\n",
       "      <td>28.0</td>\n",
       "      <td>532.0</td>\n",
       "      <td>175.0</td>\n",
       "      <td>672.0</td>\n",
       "      <td>4.0</td>\n",
       "      <td>380.0</td>\n",
       "      <td>254.0</td>\n",
       "      <td>121.0</td>\n",
       "      <td>829.0</td>\n",
       "      <td>250.0</td>\n",
       "      <td>1852.0</td>\n",
       "    </tr>\n",
       "    <tr>\n",
       "      <th>강북구</th>\n",
       "      <td>3.0</td>\n",
       "      <td>196.0</td>\n",
       "      <td>73.0</td>\n",
       "      <td>6.0</td>\n",
       "      <td>327.0</td>\n",
       "      <td>74.0</td>\n",
       "      <td>411.0</td>\n",
       "      <td>5.0</td>\n",
       "      <td>177.0</td>\n",
       "      <td>122.0</td>\n",
       "      <td>61.0</td>\n",
       "      <td>334.0</td>\n",
       "      <td>127.0</td>\n",
       "      <td>1262.0</td>\n",
       "    </tr>\n",
       "    <tr>\n",
       "      <th>강서구</th>\n",
       "      <td>20.0</td>\n",
       "      <td>345.0</td>\n",
       "      <td>136.0</td>\n",
       "      <td>29.0</td>\n",
       "      <td>604.0</td>\n",
       "      <td>389.0</td>\n",
       "      <td>847.0</td>\n",
       "      <td>3.0</td>\n",
       "      <td>482.0</td>\n",
       "      <td>284.0</td>\n",
       "      <td>174.0</td>\n",
       "      <td>1107.0</td>\n",
       "      <td>279.0</td>\n",
       "      <td>2182.0</td>\n",
       "    </tr>\n",
       "    <tr>\n",
       "      <th>관악구</th>\n",
       "      <td>12.0</td>\n",
       "      <td>320.0</td>\n",
       "      <td>98.0</td>\n",
       "      <td>13.0</td>\n",
       "      <td>556.0</td>\n",
       "      <td>302.0</td>\n",
       "      <td>786.0</td>\n",
       "      <td>4.0</td>\n",
       "      <td>354.0</td>\n",
       "      <td>192.0</td>\n",
       "      <td>139.0</td>\n",
       "      <td>748.0</td>\n",
       "      <td>212.0</td>\n",
       "      <td>1631.0</td>\n",
       "    </tr>\n",
       "    <tr>\n",
       "      <th>광진구</th>\n",
       "      <td>10.0</td>\n",
       "      <td>339.0</td>\n",
       "      <td>125.0</td>\n",
       "      <td>22.0</td>\n",
       "      <td>576.0</td>\n",
       "      <td>284.0</td>\n",
       "      <td>733.0</td>\n",
       "      <td>2.0</td>\n",
       "      <td>407.0</td>\n",
       "      <td>230.0</td>\n",
       "      <td>180.0</td>\n",
       "      <td>909.0</td>\n",
       "      <td>241.0</td>\n",
       "      <td>1719.0</td>\n",
       "    </tr>\n",
       "    <tr>\n",
       "      <th>구로구</th>\n",
       "      <td>8.0</td>\n",
       "      <td>286.0</td>\n",
       "      <td>100.0</td>\n",
       "      <td>21.0</td>\n",
       "      <td>447.0</td>\n",
       "      <td>112.0</td>\n",
       "      <td>672.0</td>\n",
       "      <td>5.0</td>\n",
       "      <td>266.0</td>\n",
       "      <td>164.0</td>\n",
       "      <td>248.0</td>\n",
       "      <td>642.0</td>\n",
       "      <td>189.0</td>\n",
       "      <td>1463.0</td>\n",
       "    </tr>\n",
       "    <tr>\n",
       "      <th>금천구</th>\n",
       "      <td>9.0</td>\n",
       "      <td>188.0</td>\n",
       "      <td>87.0</td>\n",
       "      <td>13.0</td>\n",
       "      <td>301.0</td>\n",
       "      <td>85.0</td>\n",
       "      <td>405.0</td>\n",
       "      <td>1.0</td>\n",
       "      <td>190.0</td>\n",
       "      <td>117.0</td>\n",
       "      <td>111.0</td>\n",
       "      <td>501.0</td>\n",
       "      <td>107.0</td>\n",
       "      <td>1065.0</td>\n",
       "    </tr>\n",
       "    <tr>\n",
       "      <th>노원구</th>\n",
       "      <td>11.0</td>\n",
       "      <td>333.0</td>\n",
       "      <td>84.0</td>\n",
       "      <td>13.0</td>\n",
       "      <td>457.0</td>\n",
       "      <td>146.0</td>\n",
       "      <td>453.0</td>\n",
       "      <td>6.0</td>\n",
       "      <td>260.0</td>\n",
       "      <td>226.0</td>\n",
       "      <td>118.0</td>\n",
       "      <td>632.0</td>\n",
       "      <td>244.0</td>\n",
       "      <td>1268.0</td>\n",
       "    </tr>\n",
       "    <tr>\n",
       "      <th>도봉구</th>\n",
       "      <td>4.0</td>\n",
       "      <td>207.0</td>\n",
       "      <td>52.0</td>\n",
       "      <td>11.0</td>\n",
       "      <td>323.0</td>\n",
       "      <td>94.0</td>\n",
       "      <td>302.0</td>\n",
       "      <td>3.0</td>\n",
       "      <td>188.0</td>\n",
       "      <td>138.0</td>\n",
       "      <td>68.0</td>\n",
       "      <td>379.0</td>\n",
       "      <td>111.0</td>\n",
       "      <td>910.0</td>\n",
       "    </tr>\n",
       "    <tr>\n",
       "      <th>동대문구</th>\n",
       "      <td>10.0</td>\n",
       "      <td>279.0</td>\n",
       "      <td>112.0</td>\n",
       "      <td>21.0</td>\n",
       "      <td>494.0</td>\n",
       "      <td>161.0</td>\n",
       "      <td>625.0</td>\n",
       "      <td>4.0</td>\n",
       "      <td>292.0</td>\n",
       "      <td>162.0</td>\n",
       "      <td>138.0</td>\n",
       "      <td>569.0</td>\n",
       "      <td>177.0</td>\n",
       "      <td>1769.0</td>\n",
       "    </tr>\n",
       "    <tr>\n",
       "      <th>동작구</th>\n",
       "      <td>14.0</td>\n",
       "      <td>198.0</td>\n",
       "      <td>69.0</td>\n",
       "      <td>12.0</td>\n",
       "      <td>368.0</td>\n",
       "      <td>131.0</td>\n",
       "      <td>380.0</td>\n",
       "      <td>1.0</td>\n",
       "      <td>247.0</td>\n",
       "      <td>180.0</td>\n",
       "      <td>86.0</td>\n",
       "      <td>564.0</td>\n",
       "      <td>150.0</td>\n",
       "      <td>1020.0</td>\n",
       "    </tr>\n",
       "    <tr>\n",
       "      <th>마포구</th>\n",
       "      <td>21.0</td>\n",
       "      <td>253.0</td>\n",
       "      <td>121.0</td>\n",
       "      <td>22.0</td>\n",
       "      <td>484.0</td>\n",
       "      <td>422.0</td>\n",
       "      <td>841.0</td>\n",
       "      <td>6.0</td>\n",
       "      <td>455.0</td>\n",
       "      <td>291.0</td>\n",
       "      <td>160.0</td>\n",
       "      <td>1488.0</td>\n",
       "      <td>249.0</td>\n",
       "      <td>2962.0</td>\n",
       "    </tr>\n",
       "    <tr>\n",
       "      <th>서대문구</th>\n",
       "      <td>28.0</td>\n",
       "      <td>213.0</td>\n",
       "      <td>87.0</td>\n",
       "      <td>12.0</td>\n",
       "      <td>464.0</td>\n",
       "      <td>281.0</td>\n",
       "      <td>476.0</td>\n",
       "      <td>2.0</td>\n",
       "      <td>242.0</td>\n",
       "      <td>221.0</td>\n",
       "      <td>94.0</td>\n",
       "      <td>814.0</td>\n",
       "      <td>215.0</td>\n",
       "      <td>1402.0</td>\n",
       "    </tr>\n",
       "    <tr>\n",
       "      <th>서초구</th>\n",
       "      <td>27.0</td>\n",
       "      <td>266.0</td>\n",
       "      <td>173.0</td>\n",
       "      <td>23.0</td>\n",
       "      <td>688.0</td>\n",
       "      <td>526.0</td>\n",
       "      <td>764.0</td>\n",
       "      <td>4.0</td>\n",
       "      <td>505.0</td>\n",
       "      <td>299.0</td>\n",
       "      <td>183.0</td>\n",
       "      <td>1469.0</td>\n",
       "      <td>304.0</td>\n",
       "      <td>2311.0</td>\n",
       "    </tr>\n",
       "    <tr>\n",
       "      <th>성동구</th>\n",
       "      <td>26.0</td>\n",
       "      <td>158.0</td>\n",
       "      <td>73.0</td>\n",
       "      <td>9.0</td>\n",
       "      <td>324.0</td>\n",
       "      <td>241.0</td>\n",
       "      <td>337.0</td>\n",
       "      <td>3.0</td>\n",
       "      <td>251.0</td>\n",
       "      <td>154.0</td>\n",
       "      <td>104.0</td>\n",
       "      <td>693.0</td>\n",
       "      <td>136.0</td>\n",
       "      <td>1398.0</td>\n",
       "    </tr>\n",
       "    <tr>\n",
       "      <th>성북구</th>\n",
       "      <td>19.0</td>\n",
       "      <td>261.0</td>\n",
       "      <td>85.0</td>\n",
       "      <td>9.0</td>\n",
       "      <td>461.0</td>\n",
       "      <td>197.0</td>\n",
       "      <td>417.0</td>\n",
       "      <td>4.0</td>\n",
       "      <td>237.0</td>\n",
       "      <td>218.0</td>\n",
       "      <td>97.0</td>\n",
       "      <td>681.0</td>\n",
       "      <td>213.0</td>\n",
       "      <td>1499.0</td>\n",
       "    </tr>\n",
       "    <tr>\n",
       "      <th>송파구</th>\n",
       "      <td>21.0</td>\n",
       "      <td>321.0</td>\n",
       "      <td>137.0</td>\n",
       "      <td>34.0</td>\n",
       "      <td>746.0</td>\n",
       "      <td>308.0</td>\n",
       "      <td>652.0</td>\n",
       "      <td>10.0</td>\n",
       "      <td>560.0</td>\n",
       "      <td>313.0</td>\n",
       "      <td>176.0</td>\n",
       "      <td>1125.0</td>\n",
       "      <td>325.0</td>\n",
       "      <td>2842.0</td>\n",
       "    </tr>\n",
       "    <tr>\n",
       "      <th>양천구</th>\n",
       "      <td>10.0</td>\n",
       "      <td>205.0</td>\n",
       "      <td>77.0</td>\n",
       "      <td>20.0</td>\n",
       "      <td>380.0</td>\n",
       "      <td>104.0</td>\n",
       "      <td>455.0</td>\n",
       "      <td>1.0</td>\n",
       "      <td>270.0</td>\n",
       "      <td>173.0</td>\n",
       "      <td>92.0</td>\n",
       "      <td>577.0</td>\n",
       "      <td>181.0</td>\n",
       "      <td>1114.0</td>\n",
       "    </tr>\n",
       "    <tr>\n",
       "      <th>영등포구</th>\n",
       "      <td>15.0</td>\n",
       "      <td>266.0</td>\n",
       "      <td>132.0</td>\n",
       "      <td>49.0</td>\n",
       "      <td>548.0</td>\n",
       "      <td>269.0</td>\n",
       "      <td>822.0</td>\n",
       "      <td>3.0</td>\n",
       "      <td>439.0</td>\n",
       "      <td>220.0</td>\n",
       "      <td>320.0</td>\n",
       "      <td>1109.0</td>\n",
       "      <td>215.0</td>\n",
       "      <td>2127.0</td>\n",
       "    </tr>\n",
       "    <tr>\n",
       "      <th>용산구</th>\n",
       "      <td>13.0</td>\n",
       "      <td>134.0</td>\n",
       "      <td>90.0</td>\n",
       "      <td>9.0</td>\n",
       "      <td>347.0</td>\n",
       "      <td>661.0</td>\n",
       "      <td>522.0</td>\n",
       "      <td>8.0</td>\n",
       "      <td>262.0</td>\n",
       "      <td>208.0</td>\n",
       "      <td>104.0</td>\n",
       "      <td>824.0</td>\n",
       "      <td>179.0</td>\n",
       "      <td>1589.0</td>\n",
       "    </tr>\n",
       "    <tr>\n",
       "      <th>은평구</th>\n",
       "      <td>5.0</td>\n",
       "      <td>322.0</td>\n",
       "      <td>95.0</td>\n",
       "      <td>21.0</td>\n",
       "      <td>545.0</td>\n",
       "      <td>174.0</td>\n",
       "      <td>632.0</td>\n",
       "      <td>NaN</td>\n",
       "      <td>332.0</td>\n",
       "      <td>242.0</td>\n",
       "      <td>120.0</td>\n",
       "      <td>666.0</td>\n",
       "      <td>182.0</td>\n",
       "      <td>1854.0</td>\n",
       "    </tr>\n",
       "    <tr>\n",
       "      <th>종로구</th>\n",
       "      <td>18.0</td>\n",
       "      <td>164.0</td>\n",
       "      <td>99.0</td>\n",
       "      <td>16.0</td>\n",
       "      <td>476.0</td>\n",
       "      <td>551.0</td>\n",
       "      <td>420.0</td>\n",
       "      <td>4.0</td>\n",
       "      <td>283.0</td>\n",
       "      <td>153.0</td>\n",
       "      <td>115.0</td>\n",
       "      <td>1165.0</td>\n",
       "      <td>176.0</td>\n",
       "      <td>1828.0</td>\n",
       "    </tr>\n",
       "    <tr>\n",
       "      <th>중구</th>\n",
       "      <td>25.0</td>\n",
       "      <td>203.0</td>\n",
       "      <td>119.0</td>\n",
       "      <td>43.0</td>\n",
       "      <td>488.0</td>\n",
       "      <td>318.0</td>\n",
       "      <td>493.0</td>\n",
       "      <td>5.0</td>\n",
       "      <td>335.0</td>\n",
       "      <td>210.0</td>\n",
       "      <td>140.0</td>\n",
       "      <td>995.0</td>\n",
       "      <td>212.0</td>\n",
       "      <td>1675.0</td>\n",
       "    </tr>\n",
       "    <tr>\n",
       "      <th>중랑구</th>\n",
       "      <td>4.0</td>\n",
       "      <td>236.0</td>\n",
       "      <td>88.0</td>\n",
       "      <td>13.0</td>\n",
       "      <td>392.0</td>\n",
       "      <td>80.0</td>\n",
       "      <td>526.0</td>\n",
       "      <td>2.0</td>\n",
       "      <td>227.0</td>\n",
       "      <td>158.0</td>\n",
       "      <td>75.0</td>\n",
       "      <td>468.0</td>\n",
       "      <td>131.0</td>\n",
       "      <td>1334.0</td>\n",
       "    </tr>\n",
       "  </tbody>\n",
       "</table>\n",
       "</div>"
      ],
      "text/plain": [
       "상권업종중분류명  기타음식업  닭/오리요리  별식/퓨전요리    부페      분식      양식    유흥주점  음식배달서비스  \\\n",
       "시군구명                                                                      \n",
       "강남구        47.0   462.0    262.0  65.0  1114.0  1644.0  1373.0     11.0   \n",
       "강동구         5.0   303.0    120.0  28.0   532.0   175.0   672.0      4.0   \n",
       "강북구         3.0   196.0     73.0   6.0   327.0    74.0   411.0      5.0   \n",
       "강서구        20.0   345.0    136.0  29.0   604.0   389.0   847.0      3.0   \n",
       "관악구        12.0   320.0     98.0  13.0   556.0   302.0   786.0      4.0   \n",
       "광진구        10.0   339.0    125.0  22.0   576.0   284.0   733.0      2.0   \n",
       "구로구         8.0   286.0    100.0  21.0   447.0   112.0   672.0      5.0   \n",
       "금천구         9.0   188.0     87.0  13.0   301.0    85.0   405.0      1.0   \n",
       "노원구        11.0   333.0     84.0  13.0   457.0   146.0   453.0      6.0   \n",
       "도봉구         4.0   207.0     52.0  11.0   323.0    94.0   302.0      3.0   \n",
       "동대문구       10.0   279.0    112.0  21.0   494.0   161.0   625.0      4.0   \n",
       "동작구        14.0   198.0     69.0  12.0   368.0   131.0   380.0      1.0   \n",
       "마포구        21.0   253.0    121.0  22.0   484.0   422.0   841.0      6.0   \n",
       "서대문구       28.0   213.0     87.0  12.0   464.0   281.0   476.0      2.0   \n",
       "서초구        27.0   266.0    173.0  23.0   688.0   526.0   764.0      4.0   \n",
       "성동구        26.0   158.0     73.0   9.0   324.0   241.0   337.0      3.0   \n",
       "성북구        19.0   261.0     85.0   9.0   461.0   197.0   417.0      4.0   \n",
       "송파구        21.0   321.0    137.0  34.0   746.0   308.0   652.0     10.0   \n",
       "양천구        10.0   205.0     77.0  20.0   380.0   104.0   455.0      1.0   \n",
       "영등포구       15.0   266.0    132.0  49.0   548.0   269.0   822.0      3.0   \n",
       "용산구        13.0   134.0     90.0   9.0   347.0   661.0   522.0      8.0   \n",
       "은평구         5.0   322.0     95.0  21.0   545.0   174.0   632.0      NaN   \n",
       "종로구        18.0   164.0     99.0  16.0   476.0   551.0   420.0      4.0   \n",
       "중구         25.0   203.0    119.0  43.0   488.0   318.0   493.0      5.0   \n",
       "중랑구         4.0   236.0     88.0  13.0   392.0    80.0   526.0      2.0   \n",
       "\n",
       "상권업종중분류명  일식/수산물  제과제빵떡케익     중식  커피점/카페  패스트푸드      한식  \n",
       "시군구명                                                     \n",
       "강남구       1226.0    637.0  400.0  2951.0  679.0  4594.0  \n",
       "강동구        380.0    254.0  121.0   829.0  250.0  1852.0  \n",
       "강북구        177.0    122.0   61.0   334.0  127.0  1262.0  \n",
       "강서구        482.0    284.0  174.0  1107.0  279.0  2182.0  \n",
       "관악구        354.0    192.0  139.0   748.0  212.0  1631.0  \n",
       "광진구        407.0    230.0  180.0   909.0  241.0  1719.0  \n",
       "구로구        266.0    164.0  248.0   642.0  189.0  1463.0  \n",
       "금천구        190.0    117.0  111.0   501.0  107.0  1065.0  \n",
       "노원구        260.0    226.0  118.0   632.0  244.0  1268.0  \n",
       "도봉구        188.0    138.0   68.0   379.0  111.0   910.0  \n",
       "동대문구       292.0    162.0  138.0   569.0  177.0  1769.0  \n",
       "동작구        247.0    180.0   86.0   564.0  150.0  1020.0  \n",
       "마포구        455.0    291.0  160.0  1488.0  249.0  2962.0  \n",
       "서대문구       242.0    221.0   94.0   814.0  215.0  1402.0  \n",
       "서초구        505.0    299.0  183.0  1469.0  304.0  2311.0  \n",
       "성동구        251.0    154.0  104.0   693.0  136.0  1398.0  \n",
       "성북구        237.0    218.0   97.0   681.0  213.0  1499.0  \n",
       "송파구        560.0    313.0  176.0  1125.0  325.0  2842.0  \n",
       "양천구        270.0    173.0   92.0   577.0  181.0  1114.0  \n",
       "영등포구       439.0    220.0  320.0  1109.0  215.0  2127.0  \n",
       "용산구        262.0    208.0  104.0   824.0  179.0  1589.0  \n",
       "은평구        332.0    242.0  120.0   666.0  182.0  1854.0  \n",
       "종로구        283.0    153.0  115.0  1165.0  176.0  1828.0  \n",
       "중구         335.0    210.0  140.0   995.0  212.0  1675.0  \n",
       "중랑구        227.0    158.0   75.0   468.0  131.0  1334.0  "
      ]
     },
     "execution_count": 68,
     "metadata": {},
     "output_type": "execute_result"
    }
   ],
   "source": [
    "df_seoul_food.pivot_table(index='시군구명', values='상호명', columns='상권업종중분류명', aggfunc='count')"
   ]
  },
  {
   "cell_type": "markdown",
   "metadata": {},
   "source": [
    "⑤\t3번의 결과 중 강남구 데이터만 뽑아 barplot으로 시각화(판다스 plot이용)"
   ]
  },
  {
   "cell_type": "code",
   "execution_count": 73,
   "metadata": {},
   "outputs": [
    {
     "data": {
      "image/png": "[encoded data removed]",
      "text/plain": [
       "<Figure size 432x288 with 1 Axes>"
      ]
     },
     "metadata": {
      "image/png": {
       "height": 338,
       "width": 378
      },
      "needs_background": "light"
     },
     "output_type": "display_data"
    }
   ],
   "source": [
    "food_gu_temp.loc['강남구'].plot(kind='bar').set_title(\"강남구 상권업종중분류명별 음식점 수\")\n",
    "plt.show()"
   ]
  },
  {
   "cell_type": "markdown",
   "metadata": {},
   "source": [
    "⑥\t3번의 결과를 seaborn을 이용하여 구별 음식점 상호 개수를 시각화"
   ]
  },
  {
   "cell_type": "code",
   "execution_count": 79,
   "metadata": {},
   "outputs": [
    {
     "data": {
      "image/png": "[encoded data removed]",
      "text/plain": [
       "<Figure size 1080x288 with 1 Axes>"
      ]
     },
     "metadata": {
      "image/png": {
       "height": 279,
       "width": 894
      },
      "needs_background": "light"
     },
     "output_type": "display_data"
    }
   ],
   "source": [
    "plt.figure(figsize=(15,4))\n",
    "sns.barplot(data=food_gu_temp.T).set_title(\"구별 음식점 상호 개수\")\n",
    "plt.ylabel(\"상호 수\")\n",
    "plt.savefig('data/ch13_example2-2.png')"
   ]
  },
  {
   "cell_type": "markdown",
   "metadata": {},
   "source": [
    "⑦\t상권업종중분류명별 음식점 상호갯수"
   ]
  },
  {
   "cell_type": "code",
   "execution_count": 81,
   "metadata": {},
   "outputs": [
    {
     "data": {
      "image/png": "[encoded data removed]",
      "text/plain": [
       "<Figure size 1080x216 with 1 Axes>"
      ]
     },
     "metadata": {
      "image/png": {
       "height": 224,
       "width": 894
      },
      "needs_background": "light"
     },
     "output_type": "display_data"
    }
   ],
   "source": [
    "plt.figure(figsize=(15,3))\n",
    "sns.barplot(data=food_gu_temp).set_title(\"상권업종중분류명별 음식점 상호 개수\")\n",
    "plt.ylabel(\"상호 수\")\n",
    "plt.savefig('data/ch13_example2-3.png')"
   ]
  },
  {
   "cell_type": "markdown",
   "metadata": {},
   "source": [
    "⑧\tSeaborn의 catplot을 이용하여 상권업종중분류별 음식점을 구별로 시각화(서브플롯으로 시각화)"
   ]
  },
  {
   "cell_type": "code",
   "execution_count": 84,
   "metadata": {},
   "outputs": [],
   "source": [
    "food_gu2 = food_gu_temp.reset_index()"
   ]
  },
  {
   "cell_type": "code",
   "execution_count": 86,
   "metadata": {},
   "outputs": [
    {
     "data": {
      "text/plain": [
       "<Figure size 2160x2160 with 0 Axes>"
      ]
     },
     "metadata": {},
     "output_type": "display_data"
    },
    {
     "data": {
      "image/png": "[encoded data removed]",
      "text/plain": [
       "<Figure size 1800x1800 with 25 Axes>"
      ]
     },
     "metadata": {
      "image/png": {
       "height": 1853,
       "width": 1792
      },
      "needs_background": "light"
     },
     "output_type": "display_data"
    }
   ],
   "source": [
    "plt.figure(figsize=(30,30))\n",
    "sns.catplot(data=food_gu2, col='시군구명', col_wrap=5, kind='bar').set_xticklabels(rotation=45)\n",
    "plt.savefig('data/ch13_example2-4.png')"
   ]
  },
  {
   "cell_type": "markdown",
   "metadata": {},
   "source": [
    "⑨\tSeaborn의 catplot을 이용하여 구별 음식점을 상권업종중분류명별로 서브 플롯으로 시각화"
   ]
  },
  {
   "cell_type": "code",
   "execution_count": 94,
   "metadata": {},
   "outputs": [],
   "source": [
    "food_gu3 = food_gu_temp.T"
   ]
  },
  {
   "cell_type": "code",
   "execution_count": 95,
   "metadata": {},
   "outputs": [],
   "source": [
    "food_gu3 = food_gu3.reset_index()"
   ]
  },
  {
   "cell_type": "code",
   "execution_count": 99,
   "metadata": {},
   "outputs": [
    {
     "data": {
      "text/plain": [
       "<Figure size 1800x1080 with 0 Axes>"
      ]
     },
     "metadata": {},
     "output_type": "display_data"
    },
    {
     "data": {
      "image/png": "[encoded data removed]",
      "text/plain": [
       "<Figure size 1080x1800 with 14 Axes>"
      ]
     },
     "metadata": {
      "image/png": {
       "height": 1836,
       "width": 1069
      },
      "needs_background": "light"
     },
     "output_type": "display_data"
    }
   ],
   "source": [
    "plt.figure(figsize=(25,15))\n",
    "sns.catplot(data=food_gu3, kind='bar', ci=None, col='상권업종중분류명', col_wrap=3).set_xticklabels(rotation=60)\n",
    "plt.savefig('data/ch13_example2-5.png')"
   ]
  },
  {
   "cell_type": "markdown",
   "metadata": {},
   "source": [
    "### 13.\t구별로 학원수 비교 : 서울 대치동이나 목동에 사교육이 발달되었다는 가설을 뒷받침할 수 있는 분석\n",
    "①\t서울시 학원(상권업종대분류명 이용) 데이터를 df_academy 변수에 할당하고 확인"
   ]
  },
  {
   "cell_type": "code",
   "execution_count": null,
   "metadata": {},
   "outputs": [],
   "source": []
  },
  {
   "cell_type": "code",
   "execution_count": null,
   "metadata": {},
   "outputs": [],
   "source": []
  },
  {
   "cell_type": "code",
   "execution_count": null,
   "metadata": {},
   "outputs": [],
   "source": []
  },
  {
   "cell_type": "markdown",
   "metadata": {},
   "source": [
    "②\tdf_academy 데이터 셋을 상호명별로 빈도수 출력(value_counts()함수 이용하거나 groupby이용)"
   ]
  },
  {
   "cell_type": "code",
   "execution_count": null,
   "metadata": {},
   "outputs": [],
   "source": []
  },
  {
   "cell_type": "markdown",
   "metadata": {},
   "source": [
    "③\tdf_academy 데이터 셋을 상호명별로 빈도수 상위 10개 출력"
   ]
  },
  {
   "cell_type": "code",
   "execution_count": null,
   "metadata": {},
   "outputs": [],
   "source": []
  },
  {
   "cell_type": "markdown",
   "metadata": {},
   "source": [
    "④\tdf_academy 데이터 셋을 시군구명 별로 빈도수 출력(학원이 가장 많은 구부터 출력)"
   ]
  },
  {
   "cell_type": "code",
   "execution_count": null,
   "metadata": {},
   "outputs": [],
   "source": []
  },
  {
   "cell_type": "markdown",
   "metadata": {},
   "source": [
    "⑤\tdf_academy 데이터 셋에서 어떤 종류의 학원들이 많은지 상위 30개만 academ_count변수에 할당하고 출력(상권업종소분류명 컬럼 이용)"
   ]
  },
  {
   "cell_type": "code",
   "execution_count": null,
   "metadata": {},
   "outputs": [],
   "source": []
  },
  {
   "cell_type": "markdown",
   "metadata": {},
   "source": [
    "⑥\tdf_academy 데이터셋에서 상권업종소분류명별로 빈도수를 구했을 때 빈도가 1000이상인 데이터만 따로 academy_count_1000변수에 할당"
   ]
  },
  {
   "cell_type": "code",
   "execution_count": null,
   "metadata": {},
   "outputs": [],
   "source": []
  },
  {
   "cell_type": "markdown",
   "metadata": {},
   "source": [
    "⑦\tdf_academy 데이터셋을 “시군구명”, \"상권업종소분류명” 별 상호명 빈도수를 academy_group 변수에 할당 출력"
   ]
  },
  {
   "cell_type": "code",
   "execution_count": null,
   "metadata": {},
   "outputs": [],
   "source": []
  },
  {
   "cell_type": "markdown",
   "metadata": {},
   "source": [
    "⑧\tacademy_group 데이터셋에서 강남구 데이터만 출력 및 시각화(barplot)"
   ]
  },
  {
   "cell_type": "code",
   "execution_count": null,
   "metadata": {},
   "outputs": [],
   "source": []
  },
  {
   "cell_type": "code",
   "execution_count": null,
   "metadata": {},
   "outputs": [],
   "source": []
  },
  {
   "cell_type": "code",
   "execution_count": null,
   "metadata": {},
   "outputs": [],
   "source": []
  },
  {
   "cell_type": "code",
   "execution_count": null,
   "metadata": {},
   "outputs": [],
   "source": []
  },
  {
   "cell_type": "markdown",
   "metadata": {},
   "source": [
    "⑨\tdf_academy데이터 중 “법정동명”컬럼이 “대치동”과 “목동”인 데이터만 가져와 상권업종소분류명별 빈도수 출력"
   ]
  },
  {
   "cell_type": "code",
   "execution_count": null,
   "metadata": {},
   "outputs": [],
   "source": []
  },
  {
   "cell_type": "markdown",
   "metadata": {},
   "source": [
    "⑩\t“상권업종소분류명”별 \"시군구명” 별 상호명 빈도수를 g변수에 할당하고 출력"
   ]
  },
  {
   "cell_type": "code",
   "execution_count": null,
   "metadata": {},
   "outputs": [],
   "source": []
  },
  {
   "cell_type": "markdown",
   "metadata": {},
   "source": [
    "⑪\tg변수의 내용중 \"상권업종소분류명” 컬럼이 “학원-입시”데이터만 시각화(pandas의 plot.bar, pandas의 barh,seaborn의 barplot –seaborn으로 barplot을 그릴 경우 g 변수의 내용을 reset_index()하여야 합니다)"
   ]
  },
  {
   "cell_type": "code",
   "execution_count": null,
   "metadata": {},
   "outputs": [],
   "source": []
  },
  {
   "cell_type": "code",
   "execution_count": null,
   "metadata": {},
   "outputs": [],
   "source": []
  },
  {
   "cell_type": "code",
   "execution_count": null,
   "metadata": {},
   "outputs": [],
   "source": []
  },
  {
   "cell_type": "code",
   "execution_count": null,
   "metadata": {},
   "outputs": [],
   "source": []
  },
  {
   "cell_type": "code",
   "execution_count": null,
   "metadata": {},
   "outputs": [],
   "source": []
  },
  {
   "cell_type": "markdown",
   "metadata": {},
   "source": [
    "### 14.\t서울시 데이터만 경도와 위도를 산점도로 시각화\n",
    "①\tdf_academy 데이터셋의 경도와 위도를 “시군구명”별로 색상을 다르게 scatterplot으로 시각화"
   ]
  },
  {
   "cell_type": "code",
   "execution_count": null,
   "metadata": {},
   "outputs": [],
   "source": []
  },
  {
   "cell_type": "markdown",
   "metadata": {},
   "source": [
    "②\tdf_academy 데이터셋의 경도와 위도를 “상권업종소분류명”별로 색상을 다르게 scatterplot으로 시각화"
   ]
  },
  {
   "cell_type": "code",
   "execution_count": null,
   "metadata": {},
   "outputs": [],
   "source": []
  },
  {
   "cell_type": "markdown",
   "metadata": {},
   "source": [
    "③\tdf_academy 데이터셋 중 “학원-입시” 데이터만, 경도와 위도를 “시군구명”별로 색상을 다르게 scatterplot으로 시각화"
   ]
  },
  {
   "cell_type": "code",
   "execution_count": null,
   "metadata": {},
   "outputs": [],
   "source": []
  },
  {
   "cell_type": "code",
   "execution_count": null,
   "metadata": {},
   "outputs": [],
   "source": []
  },
  {
   "cell_type": "markdown",
   "metadata": {},
   "source": [
    "④\tdf_academy 데이터셋 중 “어린이집” 데이터만, 경도와 위도를 “시군구명”별로 색상을 다르게 scatterplot으로 시각화"
   ]
  },
  {
   "cell_type": "code",
   "execution_count": null,
   "metadata": {},
   "outputs": [],
   "source": []
  },
  {
   "cell_type": "code",
   "execution_count": null,
   "metadata": {},
   "outputs": [],
   "source": []
  },
  {
   "cell_type": "markdown",
   "metadata": {},
   "source": [
    "⑤ df_academy 데이터셋 중 “학원-입시”데이터와 \"어린이집\" 데이터만, 경도와 위도를 “상권업종소분류명”별로 색상을 다르게 scatterplot으로 시각화"
   ]
  },
  {
   "cell_type": "code",
   "execution_count": null,
   "metadata": {},
   "outputs": [],
   "source": []
  },
  {
   "cell_type": "code",
   "execution_count": null,
   "metadata": {},
   "outputs": [],
   "source": []
  }
 ],
 "metadata": {
  "kernelspec": {
   "display_name": "Python 3",
   "language": "python",
   "name": "python3"
  },
  "language_info": {
   "codemirror_mode": {
    "name": "ipython",
    "version": 3
   },
   "file_extension": ".py",
   "mimetype": "text/x-python",
   "name": "python",
   "nbconvert_exporter": "python",
   "pygments_lexer": "ipython3",
   "version": "3.8.5"
  },
  "toc": {
   "base_numbering": 1,
   "nav_menu": {},
   "number_sections": false,
   "sideBar": true,
   "skip_h1_title": false,
   "title_cell": "Table of Contents",
   "title_sidebar": "Contents",
   "toc_cell": false,
   "toc_position": {},
   "toc_section_display": true,
   "toc_window_display": false
  },
  "varInspector": {
   "cols": {
    "lenName": 16,
    "lenType": 16,
    "lenVar": 40
   },
   "kernels_config": {
    "python": {
     "delete_cmd_postfix": "",
     "delete_cmd_prefix": "del ",
     "library": "var_list.py",
     "varRefreshCmd": "print(var_dic_list())"
    },
    "r": {
     "delete_cmd_postfix": ") ",
     "delete_cmd_prefix": "rm(",
     "library": "var_list.r",
     "varRefreshCmd": "cat(var_dic_list()) "
    }
   },
   "types_to_exclude": [
    "module",
    "function",
    "builtin_function_or_method",
    "instance",
    "_Feature"
   ],
   "window_display": false
  }
 },
 "nbformat": 4,
 "nbformat_minor": 4
}
