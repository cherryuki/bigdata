{
 "cells": [
  {
   "cell_type": "markdown",
   "metadata": {},
   "source": [
    "**21-03-26 자연어처리 03_연관분석 (c)cherryuki (ji)**"
   ]
  },
  {
   "cell_type": "markdown",
   "metadata": {},
   "source": [
    "# Ch03. 연관분석\n",
    "## 1. 연관분석 개요\n",
    "- 데이터들 사이에서 '자주 발생하는 속성'을 찾는 것\n",
    "- 활용분야: 상품진열, 사기보험 적발, 카탈로그 디자인, 신상품 카테고리 구성, ...\n",
    "- 연관성 분석 관련 지표: 지지도, 신뢰도, 향상도\n",
    "  - 지지도(Support): 조건 결과 항목 / 전체\n",
    "  - 신뢰도(Confidence): 조건 결과 항목 / 조건 항목\n",
    "  - 향상도(Lift): 우연히 발생한 규칙 여부(상관관계)\n",
    "    - 향상도 = 조건결과 신뢰도 / 결과 지지도\n",
    "    - 향상도<1: 음의 상관관계, 향상도=1: 상관관계 없음, 향상도>1: 양의 상관관계\n",
    "<pre>\n",
    "[조건] => [결과]　지지도　신뢰도　향상도\n",
    "주스  =>  콜라     0.4       1      1/1 -> 상관X\n",
    "</pre>"
   ]
  },
  {
   "cell_type": "code",
   "execution_count": 1,
   "metadata": {},
   "outputs": [],
   "source": [
    "#트랜잭션 데이터 가져오기\n",
    "import csv\n",
    "transaction = []\n",
    "with open('data/cf_basket.csv', 'r', encoding='utf8') as cf:\n",
    "    csvdata = csv.reader(cf)\n",
    "    transaction = list(csvdata)"
   ]
  },
  {
   "cell_type": "code",
   "execution_count": 2,
   "metadata": {},
   "outputs": [
    {
     "data": {
      "text/plain": [
       "[['소주', '콜라', '와인'],\n",
       " ['소주', '오렌지주스', '콜라'],\n",
       " ['콜라', '맥주', '와인'],\n",
       " ['소주', '콜라', '맥주'],\n",
       " ['오렌지주스', '와인', '콜라']]"
      ]
     },
     "execution_count": 2,
     "metadata": {},
     "output_type": "execute_result"
    }
   ],
   "source": [
    "transaction"
   ]
  },
  {
   "cell_type": "markdown",
   "metadata": {},
   "source": [
    "## 2. 연관분석\n",
    "- 아나콘다에서 pip install apyori\n",
    "\n",
    "### 2.1 연관 규칙 조회"
   ]
  },
  {
   "cell_type": "code",
   "execution_count": 4,
   "metadata": {},
   "outputs": [
    {
     "data": {
      "text/plain": [
       "19"
      ]
     },
     "execution_count": 4,
     "metadata": {},
     "output_type": "execute_result"
    }
   ],
   "source": [
    "from apyori import apriori\n",
    "rules = apriori(transaction, min_support=0.2, min_confidence=0.1)\n",
    "rules = list(rules)\n",
    "len(rules)"
   ]
  },
  {
   "cell_type": "code",
   "execution_count": 5,
   "metadata": {},
   "outputs": [
    {
     "data": {
      "text/plain": [
       "RelationRecord(items=frozenset({'와인', '콜라', '소주'}), support=0.2, ordered_statistics=[OrderedStatistic(items_base=frozenset(), items_add=frozenset({'와인', '콜라', '소주'}), confidence=0.2, lift=1.0), OrderedStatistic(items_base=frozenset({'소주'}), items_add=frozenset({'와인', '콜라'}), confidence=0.33333333333333337, lift=0.5555555555555557), OrderedStatistic(items_base=frozenset({'와인'}), items_add=frozenset({'콜라', '소주'}), confidence=0.33333333333333337, lift=0.5555555555555557), OrderedStatistic(items_base=frozenset({'콜라'}), items_add=frozenset({'와인', '소주'}), confidence=0.2, lift=1.0), OrderedStatistic(items_base=frozenset({'와인', '소주'}), items_add=frozenset({'콜라'}), confidence=1.0, lift=1.0), OrderedStatistic(items_base=frozenset({'콜라', '소주'}), items_add=frozenset({'와인'}), confidence=0.33333333333333337, lift=0.5555555555555557), OrderedStatistic(items_base=frozenset({'와인', '콜라'}), items_add=frozenset({'소주'}), confidence=0.33333333333333337, lift=0.5555555555555557)])"
      ]
     },
     "execution_count": 5,
     "metadata": {},
     "output_type": "execute_result"
    }
   ],
   "source": [
    "rules[17]"
   ]
  },
  {
   "cell_type": "code",
   "execution_count": 6,
   "metadata": {},
   "outputs": [
    {
     "data": {
      "text/plain": [
       "RelationRecord(items=frozenset({'맥주'}), support=0.4, ordered_statistics=[OrderedStatistic(items_base=frozenset(), items_add=frozenset({'맥주'}), confidence=0.4, lift=1.0)])"
      ]
     },
     "execution_count": 6,
     "metadata": {},
     "output_type": "execute_result"
    }
   ],
   "source": [
    "rules[0]"
   ]
  },
  {
   "cell_type": "markdown",
   "metadata": {},
   "source": [
    "### 2.2 연관 규칙 평가"
   ]
  },
  {
   "cell_type": "code",
   "execution_count": 7,
   "metadata": {},
   "outputs": [
    {
     "name": "stdout",
     "output_type": "stream",
     "text": [
      "조건 \t => \t 결과 \t\t지지도 \t신뢰도 \t향상도\n",
      "['맥주'] => ['소주'] \t0.200\t0.500\t0.833\n",
      "['소주'] => ['맥주'] \t0.200\t0.333\t0.833\n",
      "['맥주'] => ['와인'] \t0.200\t0.500\t0.833\n",
      "['와인'] => ['맥주'] \t0.200\t0.333\t0.833\n",
      "['소주'] => ['오렌지주스'] \t0.200\t0.333\t0.833\n",
      "['오렌지주스'] => ['소주'] \t0.200\t0.500\t0.833\n",
      "['소주'] => ['와인'] \t0.200\t0.333\t0.556\n",
      "['와인'] => ['소주'] \t0.200\t0.333\t0.556\n",
      "['오렌지주스'] => ['와인'] \t0.200\t0.500\t0.833\n",
      "['와인'] => ['오렌지주스'] \t0.200\t0.333\t0.833\n",
      "['맥주'] => ['콜라', '소주'] \t0.200\t0.500\t0.833\n",
      "['소주'] => ['콜라', '맥주'] \t0.200\t0.333\t0.833\n",
      "['콜라', '맥주'] => ['소주'] \t0.200\t0.500\t0.833\n",
      "['콜라', '소주'] => ['맥주'] \t0.200\t0.333\t0.833\n",
      "['맥주'] => ['와인', '콜라'] \t0.200\t0.500\t0.833\n",
      "['와인'] => ['콜라', '맥주'] \t0.200\t0.333\t0.833\n",
      "['콜라', '맥주'] => ['와인'] \t0.200\t0.500\t0.833\n",
      "['와인', '콜라'] => ['맥주'] \t0.200\t0.333\t0.833\n",
      "['소주'] => ['오렌지주스', '콜라'] \t0.200\t0.333\t0.833\n",
      "['오렌지주스'] => ['콜라', '소주'] \t0.200\t0.500\t0.833\n",
      "['콜라', '소주'] => ['오렌지주스'] \t0.200\t0.333\t0.833\n",
      "['오렌지주스', '콜라'] => ['소주'] \t0.200\t0.500\t0.833\n",
      "['소주'] => ['와인', '콜라'] \t0.200\t0.333\t0.556\n",
      "['와인'] => ['콜라', '소주'] \t0.200\t0.333\t0.556\n",
      "['콜라', '소주'] => ['와인'] \t0.200\t0.333\t0.556\n",
      "['와인', '콜라'] => ['소주'] \t0.200\t0.333\t0.556\n",
      "['오렌지주스'] => ['콜라', '와인'] \t0.200\t0.500\t0.833\n",
      "['와인'] => ['오렌지주스', '콜라'] \t0.200\t0.333\t0.833\n",
      "['오렌지주스', '콜라'] => ['와인'] \t0.200\t0.500\t0.833\n",
      "['와인', '콜라'] => ['오렌지주스'] \t0.200\t0.333\t0.833\n"
     ]
    }
   ],
   "source": [
    "print('조건 \\t => \\t 결과 \\t\\t지지도 \\t신뢰도 \\t향상도')\n",
    "for row in rules:\n",
    "    support = row[1]\n",
    "    ordered_st = row[2]\n",
    "    for item in ordered_st:\n",
    "        #lhs = ', '.join(x for in item[0])\n",
    "        lhs = [x for x in item[0]]\n",
    "        #rhs = ', 'join(x for x in item[1])\n",
    "        rhs = [x for x in item[1]]\n",
    "        confidence = item[2]\n",
    "        lift = item[3]\n",
    "        lift = item[3]\n",
    "        if lift !=1:\n",
    "            print(lhs, '=>', rhs, '\\t{:5.3f}\\t{:5.3f}\\t{:5.3f}'.format(support, confidence, lift) )\n",
    "        "
   ]
  },
  {
   "cell_type": "markdown",
   "metadata": {},
   "source": [
    "## 3. 뉴스기사 연관 분석 실습\n",
    "### 3.1 뉴스 RSS 이용해서 기사 검색후 연관분석"
   ]
  },
  {
   "cell_type": "code",
   "execution_count": 2,
   "metadata": {},
   "outputs": [
    {
     "data": {
      "text/plain": [
       "30"
      ]
     },
     "execution_count": 2,
     "metadata": {},
     "output_type": "execute_result"
    }
   ],
   "source": [
    "import requests\n",
    "from bs4 import BeautifulSoup\n",
    "rss_url = 'https://rss.joins.com/joins_money_list.xml'\n",
    "money_response = requests.get(rss_url)\n",
    "money_soup = BeautifulSoup(money_response.content, 'xml')\n",
    "link_list = money_soup.select('item > link')\n",
    "# link_list = [l.text for l in link_list]\n",
    "len(link_list)"
   ]
  },
  {
   "cell_type": "code",
   "execution_count": 4,
   "metadata": {},
   "outputs": [],
   "source": [
    "from konlpy.tag import Kkma\n",
    "kkma = Kkma()\n",
    "news = []\n",
    "for link in link_list:\n",
    "    news_response = requests.get(link.text)\n",
    "    news_soup = BeautifulSoup(news_response.content, 'html.parser')\n",
    "    content = news_soup.select_one('div#article_body').text\n",
    "    nouns_list = list(filter(lambda word: len(word)>1, kkma.nouns(content)))\n",
    "    news.append(nouns_list)"
   ]
  },
  {
   "cell_type": "code",
   "execution_count": 5,
   "metadata": {},
   "outputs": [
    {
     "data": {
      "text/plain": [
       "30"
      ]
     },
     "execution_count": 5,
     "metadata": {},
     "output_type": "execute_result"
    }
   ],
   "source": [
    "len(news)"
   ]
  },
  {
   "cell_type": "code",
   "execution_count": 6,
   "metadata": {},
   "outputs": [],
   "source": [
    "from apyori import apriori\n",
    "rules = apriori(news, min_support=0.3, min_confidence=0.2)\n",
    "result = list(rules)"
   ]
  },
  {
   "cell_type": "code",
   "execution_count": 7,
   "metadata": {},
   "outputs": [
    {
     "data": {
      "text/plain": [
       "RelationRecord(items=frozenset({'10'}), support=0.3, ordered_statistics=[OrderedStatistic(items_base=frozenset(), items_add=frozenset({'10'}), confidence=0.3, lift=1.0)])"
      ]
     },
     "execution_count": 7,
     "metadata": {},
     "output_type": "execute_result"
    }
   ],
   "source": [
    "result[0]"
   ]
  },
  {
   "cell_type": "code",
   "execution_count": 8,
   "metadata": {},
   "outputs": [],
   "source": [
    "import pandas as pd\n",
    "result_df = pd.DataFrame(None,\n",
    "                        columns = ['lhs', 'rhs', 'support', 'confidence', 'lift'])\n",
    "index = 0\n",
    "for row in result:\n",
    "    support = row[1]\n",
    "    ordered_st = row[2]\n",
    "    for item in ordered_st:\n",
    "        lhs = ', '.join(x for x in item[0])\n",
    "        rhs = ', '.join(x for x in item[1])\n",
    "        confidence = item[2]\n",
    "        lift = item[3]\n",
    "        result_df.loc[index] = [lhs, rhs, support, confidence, lift]\n",
    "        index += 1"
   ]
  },
  {
   "cell_type": "code",
   "execution_count": 50,
   "metadata": {},
   "outputs": [
    {
     "data": {
      "text/html": [
       "<div>\n",
       "<style scoped>\n",
       "    .dataframe tbody tr th:only-of-type {\n",
       "        vertical-align: middle;\n",
       "    }\n",
       "\n",
       "    .dataframe tbody tr th {\n",
       "        vertical-align: top;\n",
       "    }\n",
       "\n",
       "    .dataframe thead th {\n",
       "        text-align: right;\n",
       "    }\n",
       "</style>\n",
       "<table border=\"1\" class=\"dataframe\">\n",
       "  <thead>\n",
       "    <tr style=\"text-align: right;\">\n",
       "      <th></th>\n",
       "      <th>lhs</th>\n",
       "      <th>rhs</th>\n",
       "      <th>support</th>\n",
       "      <th>confidence</th>\n",
       "      <th>lift</th>\n",
       "    </tr>\n",
       "  </thead>\n",
       "  <tbody>\n",
       "    <tr>\n",
       "      <th>0</th>\n",
       "      <td></td>\n",
       "      <td>10</td>\n",
       "      <td>0.300000</td>\n",
       "      <td>0.300000</td>\n",
       "      <td>1.000000</td>\n",
       "    </tr>\n",
       "    <tr>\n",
       "      <th>1</th>\n",
       "      <td></td>\n",
       "      <td>26</td>\n",
       "      <td>0.733333</td>\n",
       "      <td>0.733333</td>\n",
       "      <td>1.000000</td>\n",
       "    </tr>\n",
       "    <tr>\n",
       "      <th>2</th>\n",
       "      <td></td>\n",
       "      <td>26일</td>\n",
       "      <td>0.700000</td>\n",
       "      <td>0.700000</td>\n",
       "      <td>1.000000</td>\n",
       "    </tr>\n",
       "    <tr>\n",
       "      <th>3</th>\n",
       "      <td></td>\n",
       "      <td>강화</td>\n",
       "      <td>0.300000</td>\n",
       "      <td>0.300000</td>\n",
       "      <td>1.000000</td>\n",
       "    </tr>\n",
       "    <tr>\n",
       "      <th>4</th>\n",
       "      <td></td>\n",
       "      <td>결과</td>\n",
       "      <td>0.300000</td>\n",
       "      <td>0.300000</td>\n",
       "      <td>1.000000</td>\n",
       "    </tr>\n",
       "    <tr>\n",
       "      <th>...</th>\n",
       "      <td>...</td>\n",
       "      <td>...</td>\n",
       "      <td>...</td>\n",
       "      <td>...</td>\n",
       "      <td>...</td>\n",
       "    </tr>\n",
       "    <tr>\n",
       "      <th>720</th>\n",
       "      <td>26, 26일, 관련, 기자</td>\n",
       "      <td>이날</td>\n",
       "      <td>0.300000</td>\n",
       "      <td>0.600000</td>\n",
       "      <td>1.500000</td>\n",
       "    </tr>\n",
       "    <tr>\n",
       "      <th>721</th>\n",
       "      <td>이날, 26, 26일, 관련</td>\n",
       "      <td>기자</td>\n",
       "      <td>0.300000</td>\n",
       "      <td>1.000000</td>\n",
       "      <td>1.363636</td>\n",
       "    </tr>\n",
       "    <tr>\n",
       "      <th>722</th>\n",
       "      <td>이날, 26, 26일, 기자</td>\n",
       "      <td>관련</td>\n",
       "      <td>0.300000</td>\n",
       "      <td>0.750000</td>\n",
       "      <td>1.022727</td>\n",
       "    </tr>\n",
       "    <tr>\n",
       "      <th>723</th>\n",
       "      <td>이날, 26, 관련, 기자</td>\n",
       "      <td>26일</td>\n",
       "      <td>0.300000</td>\n",
       "      <td>1.000000</td>\n",
       "      <td>1.428571</td>\n",
       "    </tr>\n",
       "    <tr>\n",
       "      <th>724</th>\n",
       "      <td>이날, 26일, 관련, 기자</td>\n",
       "      <td>26</td>\n",
       "      <td>0.300000</td>\n",
       "      <td>1.000000</td>\n",
       "      <td>1.363636</td>\n",
       "    </tr>\n",
       "  </tbody>\n",
       "</table>\n",
       "<p>725 rows × 5 columns</p>\n",
       "</div>"
      ],
      "text/plain": [
       "                 lhs  rhs   support  confidence      lift\n",
       "0                      10  0.300000    0.300000  1.000000\n",
       "1                      26  0.733333    0.733333  1.000000\n",
       "2                     26일  0.700000    0.700000  1.000000\n",
       "3                      강화  0.300000    0.300000  1.000000\n",
       "4                      결과  0.300000    0.300000  1.000000\n",
       "..               ...  ...       ...         ...       ...\n",
       "720  26, 26일, 관련, 기자   이날  0.300000    0.600000  1.500000\n",
       "721  이날, 26, 26일, 관련   기자  0.300000    1.000000  1.363636\n",
       "722  이날, 26, 26일, 기자   관련  0.300000    0.750000  1.022727\n",
       "723   이날, 26, 관련, 기자  26일  0.300000    1.000000  1.428571\n",
       "724  이날, 26일, 관련, 기자   26  0.300000    1.000000  1.363636\n",
       "\n",
       "[725 rows x 5 columns]"
      ]
     },
     "execution_count": 50,
     "metadata": {},
     "output_type": "execute_result"
    }
   ],
   "source": [
    "result_df"
   ]
  },
  {
   "cell_type": "code",
   "execution_count": 56,
   "metadata": {},
   "outputs": [
    {
     "data": {
      "text/html": [
       "<div>\n",
       "<style scoped>\n",
       "    .dataframe tbody tr th:only-of-type {\n",
       "        vertical-align: middle;\n",
       "    }\n",
       "\n",
       "    .dataframe tbody tr th {\n",
       "        vertical-align: top;\n",
       "    }\n",
       "\n",
       "    .dataframe thead th {\n",
       "        text-align: right;\n",
       "    }\n",
       "</style>\n",
       "<table border=\"1\" class=\"dataframe\">\n",
       "  <thead>\n",
       "    <tr style=\"text-align: right;\">\n",
       "      <th></th>\n",
       "      <th>lhs</th>\n",
       "      <th>rhs</th>\n",
       "      <th>support</th>\n",
       "      <th>confidence</th>\n",
       "      <th>lift</th>\n",
       "    </tr>\n",
       "  </thead>\n",
       "  <tbody>\n",
       "    <tr>\n",
       "      <th>178</th>\n",
       "      <td>한국</td>\n",
       "      <td>전망</td>\n",
       "      <td>0.3</td>\n",
       "      <td>0.692308</td>\n",
       "      <td>1.597633</td>\n",
       "    </tr>\n",
       "  </tbody>\n",
       "</table>\n",
       "</div>"
      ],
      "text/plain": [
       "    lhs rhs  support  confidence      lift\n",
       "178  한국  전망      0.3    0.692308  1.597633"
      ]
     },
     "execution_count": 56,
     "metadata": {},
     "output_type": "execute_result"
    }
   ],
   "source": [
    "result_df[(result_df.lhs.str.contains('한국')) &\n",
    "          (result_df.rhs.str.contains('전망'))].sort_values(by=['lift'], \n",
    "                                                        ascending=False)"
   ]
  },
  {
   "cell_type": "code",
   "execution_count": null,
   "metadata": {},
   "outputs": [],
   "source": []
  }
 ],
 "metadata": {
  "kernelspec": {
   "display_name": "Python 3",
   "language": "python",
   "name": "python3"
  },
  "language_info": {
   "codemirror_mode": {
    "name": "ipython",
    "version": 3
   },
   "file_extension": ".py",
   "mimetype": "text/x-python",
   "name": "python",
   "nbconvert_exporter": "python",
   "pygments_lexer": "ipython3",
   "version": "3.8.5"
  }
 },
 "nbformat": 4,
 "nbformat_minor": 4
}
